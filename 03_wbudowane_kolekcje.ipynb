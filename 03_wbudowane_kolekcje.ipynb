{
 "cells": [
  {
   "cell_type": "code",
   "execution_count": 1,
   "id": "88f2619b",
   "metadata": {},
   "outputs": [
    {
     "data": {
      "text/latex": [
       "\\tableofcontents\n"
      ],
      "text/plain": [
       "<IPython.core.display.Latex object>"
      ]
     },
     "metadata": {},
     "output_type": "display_data"
    }
   ],
   "source": [
    "%%latex\n",
    "\\tableofcontents"
   ]
  },
  {
   "cell_type": "markdown",
   "id": "c78e0b7e",
   "metadata": {},
   "source": [
    "# Podstawy\n",
    "\n",
    "[link](01_interpreter_slowa_kluczowe_operatory.ipynb)\n",
    "\n",
    "# Wbudowane typy\n",
    "\n",
    "[link](02_wbudowane_kolekcje.ipynb)\n",
    "\n",
    "\n",
    "# Wbudowane kolekcje"
   ]
  },
  {
   "cell_type": "markdown",
   "id": "a09e6c54-34a3-463d-af51-e8f70bcb6638",
   "metadata": {},
   "source": [
    "## Tuple w Pythonie\n",
    "\n",
    "\n",
    "Tuple, nazywane również krotkami, są jednym z podstawowych typów sekwencyjnych w Pythonie. Podobnie jak listy, tuple pozwalają przechowywać różnorodne elementy w jednej strukturze. Najważniejsza różnica polega jednak na tym, że tuple są niemutowalne, co oznacza, że raz utworzone, ich zawartość nie może być modyfikowana.\n",
    "\n",
    "### Definiowanie tuple\n",
    "\n",
    "Tuple definiuje się, umieszczając elementy w nawiasach okrągłych `( )`:\n",
    "\n",
    "```python\n",
    "my_tuple = (1, 2, 3)\n",
    "print(my_tuple)  # Wynik: (1, 2, 3)\n",
    "```\n",
    "\n",
    "Można również zdefiniować tuple bez nawiasów:\n",
    "\n",
    "```python\n",
    "another_tuple = 4, 5, 6\n",
    "print(another_tuple)  # Wynik: (4, 5, 6)\n",
    "```\n",
    "\n",
    "Aby zdefiniować tuple z jednym elementem, konieczne jest dodanie przecinka po tym elemencie:\n",
    "\n",
    "```python\n",
    "single_element_tuple = (7,)\n",
    "print(single_element_tuple)  # Wynik: (7,)\n",
    "```\n",
    "### Długość tupli\n",
    "\n",
    "```python\n",
    "len(my_tuple)\n",
    "```\n",
    "\n",
    "### Dostęp do elementów tuple\n",
    "\n",
    "Podobnie jak w listach, do elementów tuple dostęp uzyskujemy za pomocą indeksu:\n",
    "\n",
    "```python\n",
    "my_tuple = (1, 2, 3, 4, 5)\n",
    "print(my_tuple[2])  # Wynik: 3\n",
    "```\n",
    "\n",
    "### Niemutowalność tuple\n",
    "\n",
    "Próba modyfikacji zawartości tuple skończy się błędem:\n",
    "\n",
    "```python\n",
    "my_tuple = (1, 2, 3)\n",
    "my_tuple[1] = 4  # TypeError: 'tuple' object does not support item assignment\n",
    "```\n",
    "\n",
    "Niemniej jednak, jeśli tuple zawiera obiekt mutowalny, jak lista, możemy modyfikować ten obiekt:\n",
    "\n",
    "```python\n",
    "complex_tuple = (1, [2, 3], 4)\n",
    "complex_tuple[1][0] = 10\n",
    "print(complex_tuple)  # Wynik: (1, [10, 3], 4)\n",
    "```\n",
    "\n",
    "### Zastosowanie tuple\n",
    "\n",
    "Dzięki niemutowalności tuple są idealne do przechowywania danych, które nie powinny być modyfikowane. Są one także często używane w funkcjach, które zwracają wiele wartości.\n",
    "\n",
    "```python\n",
    "def multiple_values():\n",
    "    return 1, 2, 3\n",
    "\n",
    "result = multiple_values()\n",
    "print(result)  # Wynik: (1, 2, 3)\n",
    "```\n",
    "\n",
    "### Działanie operatorów\n",
    "\n",
    "Tupla (tuple) to kolekcja uporządkowanych elementów, która jest niemodyfikowalna (immutable). Oto operatory, które działają na typie `tuple`:\n",
    "\n",
    "1. **Konkatenacja (`+`)**: Łączy dwie tuple w jedną.\n",
    "    ```python\n",
    "    t1 = (1, 2, 3)\n",
    "    t2 = (4, 5, 6)\n",
    "    t3 = t1 + t2  # (1, 2, 3, 4, 5, 6)\n",
    "    ```\n",
    "\n",
    "2. **Mnożenie (`*`)**: Powiela tuple określoną liczbę razy.\n",
    "    ```python\n",
    "    t1 = (1, 2, 3)\n",
    "    t2 = t1 * 3  # (1, 2, 3, 1, 2, 3, 1, 2, 3)\n",
    "    ```\n",
    "\n",
    "3. **Operatory porównania**: Takie jak `==`, `!=`, `<`, `<=`, `>`, `>=` działają na tuplach, porównując je element po elemencie.\n",
    "    ```python\n",
    "    t1 = (1, 2, 3)\n",
    "    t2 = (1, 2, 4)\n",
    "    print(t1 < t2)  # True, ponieważ 3 < 4\n",
    "    ```\n",
    "\n",
    "4. **Operator przynależności (`in`)**: Sprawdza, czy dany element jest w tupli.\n",
    "    ```python\n",
    "    t = (1, 2, 3, 4, 5)\n",
    "    print(3 in t)  # True\n",
    "    ```\n",
    "\n",
    "5. **Indeksowanie (`[]`)**: Umożliwia dostęp do elementu tuple na podstawie jego indeksu.\n",
    "    ```python\n",
    "    t = (1, 2, 3, 4, 5)\n",
    "    print(t[2])  # 3\n",
    "    ```\n",
    "\n",
    "6. **Wycinanie (`[:]`)**: Umożliwia uzyskanie podtuple na podstawie zakresu indeksów.\n",
    "    ```python\n",
    "    t = (1, 2, 3, 4, 5)\n",
    "    print(t[1:4])  # (2, 3, 4)\n",
    "    ```\n",
    "\n",
    "7. **Rozpakowywanie**: Możemy przypisać wartości z tuple do odpowiednich zmiennych.\n",
    "    ```python\n",
    "    t = (1, 2, 3)\n",
    "    a, b, c = t\n",
    "    print(a)  # 1\n",
    "    print(b)  # 2\n",
    "    ```\n",
    "\n",
    "Warto również pamiętać, że ponieważ tuple są niemodyfikowalne, nie ma operatorów, które by modyfikowały ich zawartość (takich jak dodawanie elementu czy usuwanie elementu)."
   ]
  },
  {
   "cell_type": "markdown",
   "id": "ac69397b-8423-4246-b4e6-519985851cc9",
   "metadata": {},
   "source": [
    "### metody krotek\n",
    "\n",
    "* **`count()`**: Zwraca liczbę wystąpień danego elementu na liście.\n",
    "\n",
    "    ```python\n",
    "    tuple1 = (1, 2, 3, 2, 4, 2)\n",
    "    count_of_2 = tuple1.count(2)\n",
    "    print(count_of_2)  # 3\n",
    "    ```\n",
    "\n",
    "* **`index()`**: Zwraca indeks pierwszego wystąpienia określonego elementu. Jeśli elementu nie ma na krotce, zostanie zgłoszony wyjątek `ValueError`.\n",
    "\n",
    "Przykład:\n",
    "\n",
    "```python\n",
    "tuple1 = (1, 2, 3, 2, 4, 2)\n",
    "index_of_3 = tuple1.index(3)\n",
    "print(index_of_3)  # 2\n",
    "\n",
    "index_of_2 = tuple1.index(2)\n",
    "print(index_of_2)  # 1\n",
    "```\n",
    "\n",
    "Możesz również określić indeks początkowy i końcowy, między którymi chcesz szukać.\n",
    "```python\n",
    "index_of_2_after_3 = tuple1.index(2, 3)  # szukaj 2 po indeksie 3\n",
    "print(index_of_2_after_3)  # 3\n",
    "```\n",
    "\n",
    "Jeśli próbujesz znaleźć element, który nie istnieje w tupli, otrzymasz błąd:\n",
    "\n",
    "```python\n",
    "# tuple1.index(5)  # zgłosi ValueError: 5 is not in list\n",
    "```\n",
    "\n",
    "Metoda `index()` jest bardzo przydatna, gdy chcesz dowiedzieć się, gdzie dokładnie w tupli znajduje się określony element."
   ]
  },
  {
   "cell_type": "markdown",
   "id": "4062519e-efd0-4c08-8c6d-ef23c91e1e63",
   "metadata": {},
   "source": [
    "### Cwiczenie\n",
    "Zwroc indexy zadanej wartosc w zadanej liscie\n",
    "\n",
    "```\n",
    "lista = (2, 3, 1, 25, 6, 1, 232, 34, 1, 232)\n",
    "```\n",
    "napisz funkcję, która przyjmie dwa arg\n",
    "\n",
    "```\n",
    "assert znajdz_pozycje(lista, 1) == (2, 5, 8)\n",
    "```\n",
    "wykorzystaj do tego .index"
   ]
  },
  {
   "cell_type": "code",
   "execution_count": 13,
   "id": "7ab643aa-ec65-42b8-b908-a2bd9f7b353e",
   "metadata": {},
   "outputs": [],
   "source": [
    "# def find_indexes(collection: List[int] | Tuple[int]) -> Tuple[int]:"
   ]
  },
  {
   "cell_type": "code",
   "execution_count": null,
   "id": "edac4e8f-0866-44c3-864d-38ada7059334",
   "metadata": {},
   "outputs": [],
   "source": []
  },
  {
   "cell_type": "markdown",
   "id": "89597bbe-fcbb-4b10-9dd6-08e08a73c8da",
   "metadata": {},
   "source": [
    "### Podsumowanie\n",
    "\n",
    "Tuple są wszechstronnym i niezmiennym typem danych w Pythonie, który znajduje zastosowanie w wielu sytuacjach. Choć na pierwszy rzut oka mogą wydawać się podobne do list, ich niemutowalność nadaje im unikalnych właściwości i czyni je niezbędnym narzędziem w arsenale programisty Pythona."
   ]
  },
  {
   "cell_type": "code",
   "execution_count": 5,
   "id": "79ff92a6-7ea7-4592-8560-dfd811e930f0",
   "metadata": {},
   "outputs": [],
   "source": [
    "a, b, c = 1, 2, 3"
   ]
  },
  {
   "cell_type": "code",
   "execution_count": 11,
   "id": "e3ec1bd4-f897-469f-95b5-c38081310f3c",
   "metadata": {},
   "outputs": [],
   "source": [
    "a, *b, c= 1, 2, 3, 4"
   ]
  },
  {
   "cell_type": "code",
   "execution_count": 12,
   "id": "38a28af6-c7a0-423f-8eb8-4c29e93069cb",
   "metadata": {},
   "outputs": [
    {
     "data": {
      "text/plain": [
       "(1, [2, 3], 4)"
      ]
     },
     "execution_count": 12,
     "metadata": {},
     "output_type": "execute_result"
    }
   ],
   "source": [
    "a, b, c"
   ]
  },
  {
   "cell_type": "code",
   "execution_count": 18,
   "id": "b21820da-7974-4a94-920c-a0cacd87fb63",
   "metadata": {},
   "outputs": [
    {
     "name": "stdout",
     "output_type": "stream",
     "text": [
      "<class 'tuple'>\n"
     ]
    }
   ],
   "source": [
    "x = (1,)\n",
    "\n",
    "print(type(x))"
   ]
  },
  {
   "cell_type": "code",
   "execution_count": 19,
   "id": "9e25fe7f-45a3-402b-8ee7-79cf91c5efc5",
   "metadata": {},
   "outputs": [
    {
     "data": {
      "text/plain": [
       "()"
      ]
     },
     "execution_count": 19,
     "metadata": {},
     "output_type": "execute_result"
    }
   ],
   "source": [
    "tuple()"
   ]
  },
  {
   "cell_type": "code",
   "execution_count": null,
   "id": "52b26b91-1598-4e6a-9a45-ffb2c6fc23d2",
   "metadata": {},
   "outputs": [],
   "source": []
  },
  {
   "cell_type": "code",
   "execution_count": null,
   "id": "53ede04a-6cc0-4c0e-8146-2ccc62d43f0a",
   "metadata": {},
   "outputs": [],
   "source": []
  },
  {
   "cell_type": "markdown",
   "id": "e2eb7683-0fb1-4b50-a7b8-954a5a1d6d9a",
   "metadata": {},
   "source": [
    "## Typ `list` w Pythonie\n",
    "\n",
    "\n",
    "W Pythonie `list` to kolekcja uporządkowanych elementów, które można modyfikować. Lista jest bardzo podobna do tupli (`tuple`), ale z jedną istotną różnicą: listy są modyfikowalne (mutable), podczas gdy tuple są niemodyfikowalne (immutable).\n",
    "\n",
    "### Tworzenie list\n",
    "\n",
    "Listę tworzymy, umieszczając elementy w nawiasach kwadratowych `[]`, oddzielając je przecinkami:\n",
    "```python\n",
    "my_list = [1, 2, 3, 4, 5]\n",
    "\n",
    "\n",
    "```"
   ]
  },
  {
   "cell_type": "code",
   "execution_count": 20,
   "id": "3454c4bd-8a3d-4625-99f7-ba0f39c09f0d",
   "metadata": {},
   "outputs": [
    {
     "data": {
      "text/plain": [
       "['a', 'a', 'a', 'a']"
      ]
     },
     "execution_count": 20,
     "metadata": {},
     "output_type": "execute_result"
    }
   ],
   "source": [
    "list(\"aaaa\")"
   ]
  },
  {
   "cell_type": "code",
   "execution_count": null,
   "id": "c3604b69-94b9-4b4c-8418-7ce714ec0b2c",
   "metadata": {},
   "outputs": [],
   "source": []
  },
  {
   "cell_type": "code",
   "execution_count": null,
   "id": "c245bc56-e472-4219-a003-f0f71017dd50",
   "metadata": {},
   "outputs": [],
   "source": []
  },
  {
   "cell_type": "markdown",
   "id": "f9fb9b27-a5fb-4d7a-bb01-762b627293e2",
   "metadata": {},
   "source": [
    "### Różnice między `list` a `tuple`\n",
    "\n",
    "Główna różnica polega na tym, że elementy listy można modyfikować, a tupli nie. Oznacza to, że można dodawać, usuwać i zmieniać elementy listy po jej utworzeniu.\n",
    "\n",
    "### Wzajemne przekształcenia\n",
    "\n",
    "Aby przekształcić listę w tuplę lub odwrotnie, użyj funkcji `list()` lub `tuple()`:\n",
    "```python\n",
    "my_tuple = (1, 2, 3)\n",
    "list_from_tuple = list(my_tuple)\n",
    "\n",
    "my_list = [4, 5, 6]\n",
    "tuple_from_list = tuple(my_list)\n",
    "```"
   ]
  },
  {
   "cell_type": "markdown",
   "id": "7dfe880f-4bf5-4930-bd12-3e9349adfc2f",
   "metadata": {},
   "source": [
    "### Płytkie vs głębokie kopie\n",
    "\n",
    "Kiedy kopiujemy listę, możemy stworzyć albo płytką kopię, albo głęboką kopię:\n",
    "\n",
    "1. **Płytkie kopie** - kopiuje się tylko nadrzędny obiekt, nie jego wewnętrzne obiekty (np. listy zagnieżdżone). Zmiana zagnieżdżonej listy w kopii wpłynie również na oryginał. Możemy stworzyć płytką kopię używając metody `copy()` lub wycinania `[:]`.\n",
    "    ```python\n",
    "    original = [1, 2, [3, 4]]\n",
    "    shallow_copy = original.copy()\n",
    "\n",
    "    shallow_copy[2][0] = 99\n",
    "    print(original)  # [1, 2, [99, 4]]\n",
    "    ```\n",
    "\n",
    "2. **Głębokie kopie** - kopiuje się nadrzędny obiekt oraz wszystkie wewnętrzne obiekty. Zmiany w kopii nie wpłyną na oryginał. Aby stworzyć głęboką kopię, użyj modułu `copy` i funkcji `deepcopy`.\n",
    "    ```python\n",
    "    from copy import deepcopy\n",
    "\n",
    "    original = [1, 2, [3, 4]]\n",
    "    deep_copy = deepcopy(original)\n",
    "\n",
    "    deep_copy[2][0] = 99\n",
    "    print(original)  # [1, 2, [3, 4]]\n",
    "    ```"
   ]
  },
  {
   "cell_type": "code",
   "execution_count": 28,
   "id": "e06b9b45-c861-46ac-99c3-1a5e9ba0e652",
   "metadata": {},
   "outputs": [],
   "source": [
    "x1 = [1, 2, 3]"
   ]
  },
  {
   "cell_type": "code",
   "execution_count": 30,
   "id": "7e01557e-f7dc-4ec5-8b6c-430a7cca889c",
   "metadata": {},
   "outputs": [
    {
     "data": {
      "text/plain": [
       "(1861115068032, 1861120887744)"
      ]
     },
     "execution_count": 30,
     "metadata": {},
     "output_type": "execute_result"
    }
   ],
   "source": [
    "id(x1[:]), id(x1)"
   ]
  },
  {
   "cell_type": "code",
   "execution_count": null,
   "id": "44b3cf15-5463-4682-b06d-3b6fc8a1733f",
   "metadata": {},
   "outputs": [],
   "source": [
    "y1 = x1[]\n",
    "\n",
    "x1.append(30)\n",
    "\n",
    "y1"
   ]
  },
  {
   "cell_type": "code",
   "execution_count": 36,
   "id": "322a440a-b024-405d-a715-f270a41f6276",
   "metadata": {},
   "outputs": [
    {
     "data": {
      "text/plain": [
       "[1, 2, 3, [1, 2, 3]]"
      ]
     },
     "execution_count": 36,
     "metadata": {},
     "output_type": "execute_result"
    }
   ],
   "source": [
    "import copy\n",
    "\n",
    "\n",
    "x1 = [1, 2, 3]\n",
    "x2 = [1, 2, 3, x1]\n",
    "y2 = x2[:]\n",
    "y3 = copy.deepcopy(x2)\n",
    "\n",
    "x1.append(10)\n",
    "y3"
   ]
  },
  {
   "cell_type": "code",
   "execution_count": 37,
   "id": "38719121-c1f4-4bfb-a106-920ceec93127",
   "metadata": {},
   "outputs": [
    {
     "data": {
      "text/plain": [
       "[1, 2, 3, [1, 2, 3, 10]]"
      ]
     },
     "execution_count": 37,
     "metadata": {},
     "output_type": "execute_result"
    }
   ],
   "source": [
    "y2"
   ]
  },
  {
   "cell_type": "code",
   "execution_count": 44,
   "id": "6d22f38d-a830-4fc7-8dde-ea9ab8c6a86f",
   "metadata": {},
   "outputs": [
    {
     "name": "stdout",
     "output_type": "stream",
     "text": [
      "(None,)\n"
     ]
    }
   ],
   "source": [
    "from typing import Any, Optional\n",
    "def append(value: Any, collection: Optional[list] = None) -> list:\n",
    "    if collection is None:\n",
    "        collection = []\n",
    "    collection.append(value)\n",
    "\n",
    "    return collection\n",
    "\n",
    "append(1)\n",
    "x = append(1)\n",
    "x\n",
    "\n",
    "print(append.__defaults__)\n",
    "assert append(19) == [19]\n",
    "assert append(19) == [19]\n",
    "assert append(10, [1, 2, 3]) == [1, 2, 3, 10]"
   ]
  },
  {
   "cell_type": "markdown",
   "id": "f7d5b668-2b6d-40a1-9812-529ec1f90b69",
   "metadata": {},
   "source": [
    "### cwiczenie\n",
    "\n",
    "mamy jakas liste\n",
    "\n",
    "lista = [1,2 ,3, 4, 5, 6, 7]\n",
    "\n",
    "napisz funkcje, ktora usunie parzyste wartosci z tej listy\n",
    "\n",
    "```\n",
    "lista = [1, 2 ,3, 4, 5, 6, 7]\n",
    "assert usun_parzyste(lista) is None\n",
    "assert lista == [1, 3, 5, 7]\n",
    "```\n"
   ]
  },
  {
   "cell_type": "code",
   "execution_count": 49,
   "id": "5217fbfd-fb1e-48c7-9a46-1eb963c25f30",
   "metadata": {},
   "outputs": [
    {
     "name": "stdout",
     "output_type": "stream",
     "text": [
      "[1, 2, 3, 4, 5, 6, 7, 8] 1\n",
      "[1, 3, 4, 5, 6, 7, 8] 2\n",
      "[1, 3, 5, 6, 7, 8] 3\n",
      "[1, 3, 5, 7, 8] 4\n"
     ]
    },
    {
     "data": {
      "text/plain": [
       "[1, 3, 5, 7]"
      ]
     },
     "execution_count": 49,
     "metadata": {},
     "output_type": "execute_result"
    }
   ],
   "source": [
    "lista = [1, 2, 3, 4, 5, 6, 7, 8]\n",
    "\n",
    "for i, el in enumerate(lista):\n",
    "    if el % 2 == 0:\n",
    "        print(lista, i)\n",
    "        del lista[i]\n",
    "        \n",
    "lista"
   ]
  },
  {
   "cell_type": "code",
   "execution_count": null,
   "id": "7694ea2a-aa79-4dac-8d41-17827ac6b897",
   "metadata": {},
   "outputs": [],
   "source": []
  },
  {
   "cell_type": "code",
   "execution_count": null,
   "id": "795a1183-d7ce-4a89-935c-97da8cac5567",
   "metadata": {},
   "outputs": [],
   "source": []
  },
  {
   "cell_type": "code",
   "execution_count": null,
   "id": "4576b156-8777-42bd-bdd1-72bc78c90f0a",
   "metadata": {},
   "outputs": [],
   "source": []
  },
  {
   "cell_type": "code",
   "execution_count": null,
   "id": "e9486267-b7bb-495d-a499-610147c4ad6e",
   "metadata": {},
   "outputs": [],
   "source": []
  },
  {
   "cell_type": "markdown",
   "id": "f4aa621f-2a76-47cb-8ac1-f5f3a4a17a62",
   "metadata": {},
   "source": [
    "### Operacje na listach\n",
    "\n",
    "Listy w Pythonie obsługują różne operatory. Oto przegląd najczęściej używanych operatorów wraz z przykładami ich użycia:\n",
    "\n",
    "1. **Konkatenacja (`+`)**: Łączy dwie listy w jedną.\n",
    "    ```python\n",
    "    list1 = [1, 2, 3]\n",
    "    list2 = [4, 5, 6]\n",
    "    combined = list1 + list2\n",
    "    print(combined)  # [1, 2, 3, 4, 5, 6]\n",
    "    ```\n",
    "\n",
    "2. **Powtórzenie (`*`)**: Powtarza listę określoną liczbę razy.\n",
    "    ```python\n",
    "    list1 = [1, 2, 3]\n",
    "    repeated = list1 * 3\n",
    "    print(repeated)  # [1, 2, 3, 1, 2, 3, 1, 2, 3]\n",
    "    ```\n",
    "\n",
    "3. **Członkostwo (`in`)**: Sprawdza, czy dany element występuje w liście.\n",
    "    ```python\n",
    "    list1 = [1, 2, 3, 4, 5]\n",
    "    print(3 in list1)  # True\n",
    "    print(6 in list1)  # False\n",
    "    ```\n",
    "\n",
    "4. **Długość (`len`)**: Zwraca liczbę elementów w liście.\n",
    "    ```python\n",
    "    list1 = [1, 2, 3, 4, 5]\n",
    "    print(len(list1))  # 5\n",
    "    ```\n",
    "\n",
    "5. **Indeksowanie**: Pobiera element z listy na określonej pozycji.\n",
    "    ```python\n",
    "    list1 = [1, 2, 3, 4, 5]\n",
    "    print(list1[0])  # 1\n",
    "    print(list1[-1]) # 5\n",
    "    ```\n",
    "\n",
    "6. **Wycinanie**: Pobiera podlistę od określonej pozycji do innej pozycji.\n",
    "    ```python\n",
    "    list1 = [1, 2, 3, 4, 5]\n",
    "    print(list1[1:4])  # [2, 3, 4]\n",
    "    ```\n",
    "\n",
    "7. **Modyfikacja przez indeks**: Przypisuje wartość do określonego indeksu.\n",
    "    ```python\n",
    "    list1 = [1, 2, 3, 4, 5]\n",
    "    list1[2] = 99\n",
    "    print(list1)  # [1, 2, 99, 4, 5]\n",
    "    ```\n",
    "\n",
    "8. **Modyfikacja przez wycinanie**: Przypisuje wartości do wycinka listy.\n",
    "    ```python\n",
    "    list1 = [1, 2, 3, 4, 5]\n",
    "    list1[1:3] = [77, 88]\n",
    "    print(list1)  # [1, 77, 88, 4, 5]\n",
    "    ```\n",
    "\n",
    "9. **Usuwanie elementu (`del`)**: Usuwa element o określonym indeksie.\n",
    "    ```python\n",
    "    list1 = [1, 2, 3, 4, 5]\n",
    "    del list1[1]\n",
    "    print(list1)  # [1, 3, 4, 5]\n",
    "    ```\n",
    "\n",
    "10. **Równość (`==`)**: Sprawdza, czy dwie listy mają te same elementy w tej samej kolejności.\n",
    "    ```python\n",
    "    list1 = [1, 2, 3]\n",
    "    list2 = [1, 2, 3]\n",
    "    print(list1 == list2)  # True\n",
    "    ```\n",
    "\n",
    "11. **Różność (`!=`)**: Sprawdza, czy dwie listy są różne.\n",
    "    ```python\n",
    "    list1 = [1, 2, 3]\n",
    "    list2 = [4, 5, 6]\n",
    "    print(list1 != list2)  # True\n",
    "    ```\n",
    "\n",
    "Oprócz powyższych operatorów, listy posiadają również szereg wbudowanych metod, takich jak `append()`, `extend()`, `remove()`, `sort()` i wiele innych, które umożliwiają manipulowanie nimi."
   ]
  },
  {
   "cell_type": "code",
   "execution_count": null,
   "id": "16a5863e-bc81-421d-b120-bd1bf62e71f8",
   "metadata": {},
   "outputs": [],
   "source": []
  },
  {
   "cell_type": "markdown",
   "id": "245c3f72-f2f2-4e08-8bc6-4fe8bb8cf61d",
   "metadata": {},
   "source": [
    "### Metody list\n",
    "\n",
    "Oczywiście, oto przykłady działania kilku najczęściej używanych metod listy (metoda index i count działają tak samo jak tupli):\n",
    "\n",
    "1. **`append()`**: Dodaje element na końcu listy.\n",
    "    ```python\n",
    "    list1 = [1, 2, 3]\n",
    "    list1.append(4)\n",
    "    print(list1)  # [1, 2, 3, 4]\n",
    "    ```\n",
    "\n",
    "2. **`extend()`**: Dodaje elementy z innej listy (lub innego obiektu iterowalnego) do istniejącej listy.\n",
    "    ```python\n",
    "    list1 = [1, 2, 3]\n",
    "    list2 = [4, 5, 6]\n",
    "    list1.extend(list2)\n",
    "    print(list1)  # [1, 2, 3, 4, 5, 6]\n",
    "    ```\n",
    "\n",
    "3. **`insert()`**: Dodaje element na określonej pozycji.\n",
    "    ```python\n",
    "    list1 = [1, 3, 4]\n",
    "    list1.insert(1, 2)  # wstaw 2 na pozycję 1\n",
    "    print(list1)  # [1, 2, 3, 4]\n",
    "    ```\n",
    "\n",
    "4. **`remove()`**: Usuwa pierwszy napotkany element o określonej wartości.\n",
    "    ```python\n",
    "    list1 = [1, 2, 3, 2, 4]\n",
    "    list1.remove(2)\n",
    "    print(list1)  # [1, 3, 2, 4]\n",
    "    ```\n",
    "\n",
    "5. **`pop()`**: Usuwa element o określonym indeksie i zwraca go. Jeśli nie podano indeksu, usuwa i zwraca ostatni element.\n",
    "    ```python\n",
    "    list1 = [1, 2, 3, 4, 5]\n",
    "    removed = list1.pop(2)\n",
    "    print(removed)  # 3\n",
    "    print(list1)    # [1, 2, 4, 5]\n",
    "    ```\n",
    "\n",
    "6. **`sort()`**: Sortuje listę w miejscu.\n",
    "    ```python\n",
    "    list1 = [3, 1, 4, 2]\n",
    "    list1.sort()\n",
    "    print(list1)  # [1, 2, 3, 4]\n",
    "    ```\n",
    "\n",
    "7. **`reverse()`**: Odwraca kolejność elementów na liście w miejscu.\n",
    "    ```python\n",
    "    list1 = [1, 2, 3, 4]\n",
    "    list1.reverse()\n",
    "    print(list1)  # [4, 3, 2, 1]\n",
    "    ```\n",
    "\n",
    "\n",
    "8. **`clear()`**: Usuwa wszystkie elementy z listy.\n",
    "    ```python\n",
    "    list1 = [1, 2, 3, 4, 5]\n",
    "    list1.clear()\n",
    "    print(list1)  # []\n",
    "    ```\n",
    "\n",
    "Te metody są przydatne do codziennego manipulowania listami w Pythonie i stanowią podstawę operacji na listach.\n",
    "\n",
    "### Podsumowanie\n",
    "\n",
    "Listy to podstawowe, modyfikowalne kolekcje w Pythonie, które służą do przechowywania uporządkowanych sekwencji elementów. Różnią się od tupli tym, że są modyfikowalne. Ważne jest również zrozumienie różnicy między płytkimi a głębokimi kopiemi, aby uniknąć nieoczekiwanych zachowań podczas kopiowania złożonych struktur danych."
   ]
  },
  {
   "cell_type": "code",
   "execution_count": 1,
   "id": "68758eaf-716d-41cd-9770-33172153adf2",
   "metadata": {},
   "outputs": [
    {
     "name": "stdout",
     "output_type": "stream",
     "text": [
      "None\n"
     ]
    }
   ],
   "source": [
    "lista = [10, 7, 54]\n",
    "lista = sorted(lista)\n",
    "print(lista.sort())"
   ]
  },
  {
   "cell_type": "code",
   "execution_count": 51,
   "id": "b3bd6023-ab44-4ef4-a295-a0af7d0f1e2d",
   "metadata": {},
   "outputs": [
    {
     "data": {
      "text/plain": [
       "[7, 10, 54]"
      ]
     },
     "execution_count": 51,
     "metadata": {},
     "output_type": "execute_result"
    }
   ],
   "source": [
    "lista"
   ]
  },
  {
   "cell_type": "code",
   "execution_count": 5,
   "id": "11c15dfd-fb3f-4be4-9da2-85ed5ab96c36",
   "metadata": {},
   "outputs": [
    {
     "name": "stdout",
     "output_type": "stream",
     "text": [
      "[1, 3, 11, 22]\n"
     ]
    }
   ],
   "source": [
    "lista = [3 ,11, 1, 22]\n",
    "lista_sort = sorted(lista)\n",
    "print(lista_sort)"
   ]
  },
  {
   "cell_type": "code",
   "execution_count": null,
   "id": "2ebdafd7-7b88-4d75-960f-72a55994870f",
   "metadata": {},
   "outputs": [],
   "source": []
  },
  {
   "cell_type": "markdown",
   "id": "11c315b0-5542-44c5-8ab8-2f245281b45d",
   "metadata": {},
   "source": [
    "## Typ `dict` w Pythonie\n",
    "\n",
    "W języku Python, `dict` to typ danych służący do przechowywania kolekcji elementów w formie pary klucz-wartość. Dicts są nieuporządkowane (co oznacza, że nie mają określonego porządku) i elementy są przechowywane na podstawie unikalnego klucza."
   ]
  },
  {
   "cell_type": "markdown",
   "id": "0ad52d17-237f-4a2f-862e-36a4af2152f4",
   "metadata": {},
   "source": [
    "### Tworzenie słowników\n",
    "\n",
    "Możesz tworzyć słowniki używając nawiasów klamrowych `{}` oraz par klucz-wartość:\n",
    "\n",
    "```python\n",
    "osoba = {\n",
    "    \"imie\": \"Jan\",\n",
    "    \"nazwisko\": \"Kowalski\",\n",
    "    \"wiek\": 30\n",
    "}\n",
    "```"
   ]
  },
  {
   "cell_type": "code",
   "execution_count": 52,
   "id": "a8a3abf2-fab9-406e-80a7-e58cf24c9417",
   "metadata": {},
   "outputs": [
    {
     "ename": "TypeError",
     "evalue": "unhashable type: 'list'",
     "output_type": "error",
     "traceback": [
      "\u001b[1;31m---------------------------------------------------------------------------\u001b[0m",
      "\u001b[1;31mTypeError\u001b[0m                                 Traceback (most recent call last)",
      "Cell \u001b[1;32mIn[52], line 1\u001b[0m\n\u001b[1;32m----> 1\u001b[0m {[\u001b[38;5;241m1\u001b[39m, \u001b[38;5;241m2\u001b[39m]: \u001b[38;5;124m\"\u001b[39m\u001b[38;5;124ma\u001b[39m\u001b[38;5;124m\"\u001b[39m}\n",
      "\u001b[1;31mTypeError\u001b[0m: unhashable type: 'list'"
     ]
    }
   ],
   "source": [
    "{[1, 2]: \"a\"}"
   ]
  },
  {
   "cell_type": "code",
   "execution_count": 55,
   "id": "13cb37fd-99b0-40db-8f39-90fde9e63557",
   "metadata": {},
   "outputs": [
    {
     "data": {
      "text/plain": [
       "False"
      ]
     },
     "execution_count": 55,
     "metadata": {},
     "output_type": "execute_result"
    }
   ],
   "source": [
    "x = (1, 2, 3)\n",
    "y = (1, 2, 3)\n",
    "\n",
    "x is y"
   ]
  },
  {
   "cell_type": "code",
   "execution_count": 58,
   "id": "2865dbe1-c36e-45bb-81c9-bbfe0bd7100e",
   "metadata": {},
   "outputs": [
    {
     "data": {
      "text/plain": [
       "(1861121875008, 1861122002432)"
      ]
     },
     "execution_count": 58,
     "metadata": {},
     "output_type": "execute_result"
    }
   ],
   "source": [
    "id(x), id(y)"
   ]
  },
  {
   "cell_type": "code",
   "execution_count": 57,
   "id": "95574e8e-f460-4187-8bde-26edabe86657",
   "metadata": {},
   "outputs": [
    {
     "data": {
      "text/plain": [
       "(529344067295497451, 529344067295497451)"
      ]
     },
     "execution_count": 57,
     "metadata": {},
     "output_type": "execute_result"
    }
   ],
   "source": [
    "hash(x), hash(y)"
   ]
  },
  {
   "cell_type": "code",
   "execution_count": 59,
   "id": "c90747f5-43f8-43ca-afe0-1ddfe04694d5",
   "metadata": {},
   "outputs": [
    {
     "ename": "TypeError",
     "evalue": "unhashable type: 'list'",
     "output_type": "error",
     "traceback": [
      "\u001b[1;31m---------------------------------------------------------------------------\u001b[0m",
      "\u001b[1;31mTypeError\u001b[0m                                 Traceback (most recent call last)",
      "Cell \u001b[1;32mIn[59], line 3\u001b[0m\n\u001b[0;32m      1\u001b[0m x \u001b[38;5;241m=\u001b[39m (\u001b[38;5;241m1\u001b[39m, \u001b[38;5;241m2\u001b[39m, \u001b[38;5;241m3\u001b[39m, [\u001b[38;5;241m4\u001b[39m, \u001b[38;5;241m5\u001b[39m])\n\u001b[0;32m      2\u001b[0m y \u001b[38;5;241m=\u001b[39m (\u001b[38;5;241m1\u001b[39m, \u001b[38;5;241m2\u001b[39m, \u001b[38;5;241m3\u001b[39m, [\u001b[38;5;241m4\u001b[39m, \u001b[38;5;241m5\u001b[39m])\n\u001b[1;32m----> 3\u001b[0m \u001b[38;5;28;43mhash\u001b[39;49m\u001b[43m(\u001b[49m\u001b[43mx\u001b[49m\u001b[43m)\u001b[49m\n",
      "\u001b[1;31mTypeError\u001b[0m: unhashable type: 'list'"
     ]
    }
   ],
   "source": [
    "x = (1, 2, 3, [4, 5])\n",
    "y = (1, 2, 3, [4, 5])\n",
    "hash(x)"
   ]
  },
  {
   "cell_type": "code",
   "execution_count": 61,
   "id": "3f06cb98-5553-49a2-915b-44cba21ad576",
   "metadata": {},
   "outputs": [
    {
     "ename": "TypeError",
     "evalue": "unhashable type: 'list'",
     "output_type": "error",
     "traceback": [
      "\u001b[1;31m---------------------------------------------------------------------------\u001b[0m",
      "\u001b[1;31mTypeError\u001b[0m                                 Traceback (most recent call last)",
      "Cell \u001b[1;32mIn[61], line 1\u001b[0m\n\u001b[1;32m----> 1\u001b[0m {x}\n",
      "\u001b[1;31mTypeError\u001b[0m: unhashable type: 'list'"
     ]
    }
   ],
   "source": [
    "{x}"
   ]
  },
  {
   "cell_type": "code",
   "execution_count": 62,
   "id": "c461c8fa-a26b-42f5-a51b-028492df3d67",
   "metadata": {},
   "outputs": [
    {
     "data": {
      "text/plain": [
       "-8694796527294601987"
      ]
     },
     "execution_count": 62,
     "metadata": {},
     "output_type": "execute_result"
    }
   ],
   "source": [
    "hash(\"aaa\")"
   ]
  },
  {
   "cell_type": "code",
   "execution_count": 64,
   "id": "8d4c1358-db4a-41c9-a902-5800c9eb074a",
   "metadata": {},
   "outputs": [
    {
     "data": {
      "text/plain": [
       "1152921504606846978"
      ]
     },
     "execution_count": 64,
     "metadata": {},
     "output_type": "execute_result"
    }
   ],
   "source": [
    "hash(2.5)"
   ]
  },
  {
   "cell_type": "code",
   "execution_count": 65,
   "id": "09c5f568-8af8-4ad6-877e-c4a98d902f43",
   "metadata": {},
   "outputs": [
    {
     "ename": "TypeError",
     "evalue": "'int' object is not iterable",
     "output_type": "error",
     "traceback": [
      "\u001b[1;31m---------------------------------------------------------------------------\u001b[0m",
      "\u001b[1;31mTypeError\u001b[0m                                 Traceback (most recent call last)",
      "Cell \u001b[1;32mIn[65], line 1\u001b[0m\n\u001b[1;32m----> 1\u001b[0m \u001b[38;5;28;43;01mfor\u001b[39;49;00m\u001b[43m \u001b[49m\u001b[43mi\u001b[49m\u001b[43m \u001b[49m\u001b[38;5;129;43;01min\u001b[39;49;00m\u001b[43m \u001b[49m\u001b[38;5;241;43m100\u001b[39;49m\u001b[43m:\u001b[49m\n\u001b[0;32m      2\u001b[0m \u001b[43m    \u001b[49m\u001b[38;5;28;43mprint\u001b[39;49m\u001b[43m(\u001b[49m\u001b[43mi\u001b[49m\u001b[43m)\u001b[49m\n",
      "\u001b[1;31mTypeError\u001b[0m: 'int' object is not iterable"
     ]
    }
   ],
   "source": [
    "for i in 100:\n",
    "    print(i)"
   ]
  },
  {
   "cell_type": "code",
   "execution_count": null,
   "id": "c27f8d02-ba92-424c-aa27-d35602b0ade7",
   "metadata": {},
   "outputs": [],
   "source": []
  },
  {
   "cell_type": "code",
   "execution_count": 60,
   "id": "44530f7b-2ac1-4b3a-a728-136071134cf8",
   "metadata": {},
   "outputs": [
    {
     "ename": "TypeError",
     "evalue": "unhashable type: 'list'",
     "output_type": "error",
     "traceback": [
      "\u001b[1;31m---------------------------------------------------------------------------\u001b[0m",
      "\u001b[1;31mTypeError\u001b[0m                                 Traceback (most recent call last)",
      "Cell \u001b[1;32mIn[60], line 1\u001b[0m\n\u001b[1;32m----> 1\u001b[0m {x: \u001b[38;5;241m1\u001b[39m}\n",
      "\u001b[1;31mTypeError\u001b[0m: unhashable type: 'list'"
     ]
    }
   ],
   "source": [
    "{x: 1}"
   ]
  },
  {
   "cell_type": "markdown",
   "id": "1c428884-077b-49d5-87e7-a8ee6e50ac37",
   "metadata": {},
   "source": [
    "### Inne metody tworzenia słowników\n",
    "\n",
    "\n",
    "1. Używając metody `dict()`\n",
    "\n",
    "Możesz tworzyć słowniki za pomocą wbudowanej funkcji `dict()`, przekazując parę klucz-wartość jako argumenty:\n",
    "\n",
    "```python\n",
    "osoba = dict(imie=\"Jan\", nazwisko=\"Kowalski\")\n",
    "print(osoba)  # {'imie': 'Jan', 'nazwisko': 'Kowalski'}\n",
    "```\n",
    "\n",
    "2. Słowniki z list\n",
    "\n",
    "```python\n",
    "klucze = [\"jeden\", \"dwa\", \"trzy\"]\n",
    "wartosci = [1, 2, 3]\n",
    "\n",
    "slownik = {klucze[i]: wartosci[i] for i in range(len(klucze))}\n",
    "print(slownik)  # {'jeden': 1, 'dwa': 2, 'trzy': 3}\n",
    "```\n",
    "\n",
    "3. Słowniki z par klucz-wartość\n",
    "\n",
    "Można również tworzyć słowniki z listy krotek:\n",
    "\n",
    "```python\n",
    "para = [(\"imie\", \"Jan\"), (\"nazwisko\", \"Kowalski\")]\n",
    "osoba = dict(para)\n",
    "print(osoba)  # {'imie': 'Jan', 'nazwisko': 'Kowalski'}\n",
    "```\n",
    "\n",
    "4. Używając metody `setdefault`\n",
    "\n",
    "Metoda `setdefault` pozwala na dodawanie kluczy do słownika z domyślną wartością, jeśli klucz nie istnieje:\n",
    "\n",
    "```python\n",
    "slownik = {}\n",
    "slownik.setdefault(\"klucz\", \"domyślna wartość\")\n",
    "print(slownik)  # {'klucz': 'domyślna wartość'}\n",
    "```\n",
    "\n",
    "5. Używając metody `fromkeys`\n",
    "\n",
    "Metoda `fromkeys` tworzy nowy słownik z podanych kluczy z domyślną wartością:\n",
    "\n",
    "```python\n",
    "klucze = [\"jeden\", \"dwa\", \"trzy\"]\n",
    "slownik = dict.fromkeys(klucze, 0)\n",
    "print(slownik)  # {'jeden': 0, 'dwa': 0, 'trzy': 0}\n",
    "```\n",
    "---\n",
    "\n",
    "Python oferuje wiele elastycznych metod tworzenia i manipulacji słownikami, dzięki czemu możesz wybrać tę, która najlepiej pasuje do Twojego konkretnego przypadku użycia."
   ]
  },
  {
   "cell_type": "code",
   "execution_count": 9,
   "id": "097b74a9-07b8-41d0-8d84-d9586e45d8fe",
   "metadata": {},
   "outputs": [
    {
     "name": "stdout",
     "output_type": "stream",
     "text": [
      "{'Marek': 0, 'Darek': 0, 'Janek': 0}\n"
     ]
    }
   ],
   "source": [
    "klucze = ['Marek','Darek','Janek']\n",
    "slownik = dict.fromkeys(klucze,0)\n",
    "print(slownik)"
   ]
  },
  {
   "cell_type": "code",
   "execution_count": 8,
   "id": "7cf8dbb7-69fb-4d77-a273-e65296932fb8",
   "metadata": {},
   "outputs": [
    {
     "name": "stdout",
     "output_type": "stream",
     "text": [
      "{'klucz': 'wartosc'}\n"
     ]
    }
   ],
   "source": [
    "slownik = {}\n",
    "slownik.setdefault('klucz','domyslna_wartosc')\n",
    "slownik['klucz']='wartosc'\n",
    "print(slownik)"
   ]
  },
  {
   "cell_type": "markdown",
   "id": "567aecf0-9902-401a-a937-193faa7e5784",
   "metadata": {},
   "source": [
    "### Dostęp do wartości w słowniku\n",
    "\n",
    "Aby uzyskać dostęp do wartości w słowniku, użyj klucza w nawiasach kwadratowych:\n",
    "\n",
    "```python\n",
    "print(osoba[\"imie\"])  # Wyświetli: Jan\n",
    "```\n",
    "\n",
    "### Modyfikacja słowników\n",
    "\n",
    "Możesz modyfikować wartości w słowniku poprzez przypisanie nowej wartości do istniejącego klucza:\n",
    "\n",
    "```python\n",
    "osoba[\"wiek\"] = 31\n",
    "```\n",
    "\n",
    "### Dodawanie nowych par klucz-wartość\n",
    "\n",
    "Aby dodać nową parę klucz-wartość, po prostu przypisz wartość do nowego klucza:\n",
    "\n",
    "```python\n",
    "osoba[\"zawod\"] = \"programista\"\n",
    "```\n",
    "\n",
    "### Różnice między `dict` a `list`:\n",
    "\n",
    "- `dict` przechowuje dane w parach klucz-wartość, podczas gdy `list` przechowuje elementy w porządku sekwencyjnym.\n",
    "- W `dict` klucze muszą być unikalne, w przeciwieństwie do list, które może zawierać duplikaty.\n",
    "\n",
    "### Płytkie i głębokie kopie\n",
    "\n",
    "Podobnie jak w przypadku list, kopie słowników mogą być płytkie lub głębokie. Płytkie kopie (stworzone np. za pomocą metody `copy()` słownika) tworzą nowy słownik, ale odnoszą się do tych samych obiektów co oryginał. Głębokie kopie (stworzone za pomocą modułu `copy`) tworzą nowy słownik wraz z nowymi obiektami.\n",
    "\n",
    "### Metody słownika\n",
    "\n",
    "## Metody słownika w Pythonie\n",
    "\n",
    "Słowniki w Pythonie są jednym z najbardziej elastycznych typów danych. Mają wiele wbudowanych metod, które pozwalają na łatwe manipulowanie danymi. Poniżej przedstawiam najczęściej używane metody słowników wraz z ich opisami i przykładami.\n",
    "\n",
    "1. `clear()`\n",
    "Usuwa wszystkie elementy ze słownika.\n",
    "```python\n",
    "d = {'a': 1, 'b': 2}\n",
    "d.clear()\n",
    "print(d)  # {}\n",
    "```\n",
    "\n",
    "2. `copy()`\n",
    "Zwraca kopię słownika.\n",
    "```python\n",
    "d = {'a': 1, 'b': 2}\n",
    "c = d.copy()\n",
    "print(c)  # {'a': 1, 'b': 2}\n",
    "```\n",
    "\n",
    "3. `fromkeys(seq[, value])`\n",
    "Zwraca nowy słownik z kluczami z `seq` i wartością równą `value`.\n",
    "```python\n",
    "keys = ['a', 'b', 'c']\n",
    "d = dict.fromkeys(keys, 0)\n",
    "print(d)  # {'a': 0, 'b': 0, 'c': 0}\n",
    "```\n",
    "\n",
    "4. `get(key[, default])`\n",
    "Zwraca wartość dla klucza, jeśli klucz jest w słowniku, w przeciwnym razie zwraca wartość domyślną.\n",
    "```python\n",
    "d = {'a': 1, 'b': 2}\n",
    "print(d.get('a', 0))  # 1\n",
    "print(d.get('c', 0))  # 0\n",
    "```"
   ]
  },
  {
   "cell_type": "code",
   "execution_count": 13,
   "id": "4170a58a-91c8-4a04-910d-d30bbe40c281",
   "metadata": {},
   "outputs": [
    {
     "name": "stdout",
     "output_type": "stream",
     "text": [
      "0\n"
     ]
    }
   ],
   "source": [
    "moj_slownik ={'karol':33,'tomasz':22,'janek':43}\n",
    "print(moj_slownik.get('karol1',0))"
   ]
  },
  {
   "cell_type": "code",
   "execution_count": 14,
   "id": "df2e13c6-496a-446a-af8a-277594a8b389",
   "metadata": {},
   "outputs": [],
   "source": [
    "slownik = {2: \"A\", 3: \"B\"}"
   ]
  },
  {
   "cell_type": "code",
   "execution_count": 15,
   "id": "a8355fa1-0c53-462e-8aef-d702be40809d",
   "metadata": {},
   "outputs": [],
   "source": [
    "if 1 in slownik: \n",
    "    print(slownik[1])"
   ]
  },
  {
   "cell_type": "code",
   "execution_count": 16,
   "id": "00f1f477-fc61-48f7-bcd9-a2016f3fad44",
   "metadata": {},
   "outputs": [
    {
     "name": "stdout",
     "output_type": "stream",
     "text": [
      "sss\n"
     ]
    }
   ],
   "source": [
    "print(slownik.get(1, \"sss\"))"
   ]
  },
  {
   "cell_type": "code",
   "execution_count": 17,
   "id": "f2d7528c-10f8-48c1-b4c7-8beab61c589a",
   "metadata": {},
   "outputs": [
    {
     "name": "stdout",
     "output_type": "stream",
     "text": [
      "2\n",
      "3\n"
     ]
    }
   ],
   "source": [
    "for klucz in slownik: print(klucz)"
   ]
  },
  {
   "cell_type": "code",
   "execution_count": 74,
   "id": "9b0ebc1a-997c-476f-bcd6-100f0f5643df",
   "metadata": {},
   "outputs": [
    {
     "name": "stdout",
     "output_type": "stream",
     "text": [
      "2\n",
      "3\n"
     ]
    }
   ],
   "source": [
    "for klucz in slownik.keys(): print(klucz)"
   ]
  },
  {
   "cell_type": "code",
   "execution_count": 75,
   "id": "d4c43a34-db3f-4ce6-b234-5c5e628d6234",
   "metadata": {},
   "outputs": [
    {
     "name": "stdout",
     "output_type": "stream",
     "text": [
      "A\n",
      "B\n"
     ]
    }
   ],
   "source": [
    "for klucz in slownik.values(): print(klucz)"
   ]
  },
  {
   "cell_type": "code",
   "execution_count": 76,
   "id": "8069fa16-7ef3-406d-b240-df043142d210",
   "metadata": {},
   "outputs": [
    {
     "data": {
      "text/plain": [
       "dict_values(['A', 'B'])"
      ]
     },
     "execution_count": 76,
     "metadata": {},
     "output_type": "execute_result"
    }
   ],
   "source": [
    "slownik.values()"
   ]
  },
  {
   "cell_type": "code",
   "execution_count": 77,
   "id": "33641ad1-a6de-4cf5-9851-c05b02746f97",
   "metadata": {},
   "outputs": [
    {
     "data": {
      "text/plain": [
       "dict_items([(2, 'A'), (3, 'B')])"
      ]
     },
     "execution_count": 77,
     "metadata": {},
     "output_type": "execute_result"
    }
   ],
   "source": [
    "slownik.items()"
   ]
  },
  {
   "cell_type": "code",
   "execution_count": 78,
   "id": "f54b1d98-6aa1-4ddb-950c-48c91ebb8c87",
   "metadata": {},
   "outputs": [
    {
     "name": "stdout",
     "output_type": "stream",
     "text": [
      "2 A\n",
      "3 B\n"
     ]
    }
   ],
   "source": [
    "for k, v in slownik.items():\n",
    "    print(k, v)"
   ]
  },
  {
   "cell_type": "code",
   "execution_count": 81,
   "id": "bd0adab1-63cd-41d9-bb9d-bfb9bea880b4",
   "metadata": {},
   "outputs": [
    {
     "data": {
      "text/plain": [
       "'A'"
      ]
     },
     "execution_count": 81,
     "metadata": {},
     "output_type": "execute_result"
    }
   ],
   "source": [
    "slownik.pop(2)"
   ]
  },
  {
   "cell_type": "code",
   "execution_count": 87,
   "id": "5a7b2797-e6ac-47ee-84f2-c3d7ea0f5124",
   "metadata": {},
   "outputs": [
    {
     "data": {
      "text/plain": [
       "(2, 'A')"
      ]
     },
     "execution_count": 87,
     "metadata": {},
     "output_type": "execute_result"
    }
   ],
   "source": [
    "slownik.popitem()"
   ]
  },
  {
   "cell_type": "code",
   "execution_count": 19,
   "id": "94d4065d-de93-4ca1-9319-02a55e617325",
   "metadata": {},
   "outputs": [
    {
     "name": "stdout",
     "output_type": "stream",
     "text": [
      "('c', 3)\n",
      "{'a': 1, 'b': 2}\n"
     ]
    }
   ],
   "source": [
    "d = {'a': 1, 'b': 2, 'c':3}\n",
    "print(d.popitem())  # ('b', 2)\n",
    "print(d)  # {'a': 1}"
   ]
  },
  {
   "cell_type": "code",
   "execution_count": 20,
   "id": "02bb1428-cd82-43ee-b23d-1718eaa7e386",
   "metadata": {},
   "outputs": [
    {
     "name": "stdout",
     "output_type": "stream",
     "text": [
      "1\n",
      "3\n",
      "{'a': 1, 'b': 2, 'c': 3}\n"
     ]
    }
   ],
   "source": [
    "d = {'a': 1, 'b': 2}\n",
    "print(d.setdefault('a', 0))  # 1\n",
    "print(d.setdefault('c', 3))  # 3\n",
    "print(d)  # {'a': 1, 'b': 2, 'c': 3}"
   ]
  },
  {
   "cell_type": "code",
   "execution_count": null,
   "id": "18871724-59d7-42d2-95dc-4b95b329e18f",
   "metadata": {},
   "outputs": [],
   "source": []
  },
  {
   "cell_type": "code",
   "execution_count": 82,
   "id": "8a54daf3-4862-4498-9903-1fc3e729973b",
   "metadata": {},
   "outputs": [
    {
     "data": {
      "text/plain": [
       "{3: 'B'}"
      ]
     },
     "execution_count": 82,
     "metadata": {},
     "output_type": "execute_result"
    }
   ],
   "source": [
    "slownik"
   ]
  },
  {
   "cell_type": "markdown",
   "id": "0eacdcc6-7273-4bb0-b90a-5a3b3a51cdf3",
   "metadata": {},
   "source": [
    "5. `items()`\n",
    "Zwraca parę klucz-wartość dla słownika, jako krotki w liście.\n",
    "```python\n",
    "d = {'a': 1, 'b': 2}\n",
    "print(list(d.items()))  # [('a', 1), ('b', 2)]\n",
    "```\n",
    "\n",
    "6. `keys()`\n",
    "Zwraca klucze ze słownika jako listę.\n",
    "```python\n",
    "d = {'a': 1, 'b': 2}\n",
    "print(list(d.keys()))  # ['a', 'b']\n",
    "```\n",
    "\n",
    "7. `pop(key[, default])`\n",
    "Usuwa i zwraca element ze słownika o podanym kluczu. Jeśli klucz nie istnieje i nie jest podana wartość domyślna, podnosi wyjątek.\n",
    "```python\n",
    "d = {'a': 1, 'b': 2}\n",
    "print(d.pop('a'))  # 1\n",
    "print(d)  # {'b': 2}\n",
    "```\n",
    "\n",
    "8. `popitem()`\n",
    "Usuwa i zwraca parę klucz-wartość jako krotkę.\n",
    "```python\n",
    "d = {'a': 1, 'b': 2}\n",
    "print(d.popitem())  # ('b', 2)\n",
    "print(d)  # {'a': 1}\n",
    "```\n",
    "\n",
    "9. `setdefault(key[, default])`\n",
    "Zwraca wartość dla klucza, jeśli istnieje. W przeciwnym razie ustawia klucz z domyślną wartością i zwraca tę wartość.\n",
    "```python\n",
    "d = {'a': 1, 'b': 2}\n",
    "print(d.setdefault('a', 0))  # 1\n",
    "print(d.setdefault('c', 3))  # 3\n",
    "print(d)  # {'a': 1, 'b': 2, 'c': 3}\n",
    "```"
   ]
  },
  {
   "cell_type": "code",
   "execution_count": 92,
   "id": "167ce4b9-6797-4785-9570-f3211a186fe6",
   "metadata": {},
   "outputs": [
    {
     "data": {
      "text/plain": [
       "1"
      ]
     },
     "execution_count": 92,
     "metadata": {},
     "output_type": "execute_result"
    }
   ],
   "source": [
    "counter = dict()\n",
    "counter.setdefault(1, 1)"
   ]
  },
  {
   "cell_type": "code",
   "execution_count": 94,
   "id": "d3ee79d6-9a39-46f6-9299-16c0aca94bad",
   "metadata": {},
   "outputs": [
    {
     "data": {
      "text/plain": [
       "1"
      ]
     },
     "execution_count": 94,
     "metadata": {},
     "output_type": "execute_result"
    }
   ],
   "source": [
    "counter.setdefault(1, 2)"
   ]
  },
  {
   "cell_type": "code",
   "execution_count": 95,
   "id": "d647d7e1-74ac-45e8-aa3d-8643ada92a94",
   "metadata": {},
   "outputs": [
    {
     "data": {
      "text/plain": [
       "{1: 1}"
      ]
     },
     "execution_count": 95,
     "metadata": {},
     "output_type": "execute_result"
    }
   ],
   "source": [
    "counter"
   ]
  },
  {
   "cell_type": "code",
   "execution_count": 96,
   "id": "d713f1f6-e7b2-40ce-a618-3c606a049e11",
   "metadata": {},
   "outputs": [
    {
     "ename": "KeyError",
     "evalue": "'a'",
     "output_type": "error",
     "traceback": [
      "\u001b[1;31m---------------------------------------------------------------------------\u001b[0m",
      "\u001b[1;31mKeyError\u001b[0m                                  Traceback (most recent call last)",
      "Cell \u001b[1;32mIn[96], line 1\u001b[0m\n\u001b[1;32m----> 1\u001b[0m \u001b[43mcounter\u001b[49m\u001b[43m[\u001b[49m\u001b[38;5;124;43m\"\u001b[39;49m\u001b[38;5;124;43ma\u001b[39;49m\u001b[38;5;124;43m\"\u001b[39;49m\u001b[43m]\u001b[49m \u001b[38;5;241m+\u001b[39m\u001b[38;5;241m=\u001b[39m \u001b[38;5;241m1\u001b[39m\n",
      "\u001b[1;31mKeyError\u001b[0m: 'a'"
     ]
    }
   ],
   "source": [
    "counter[\"a\"] += 1"
   ]
  },
  {
   "cell_type": "code",
   "execution_count": 101,
   "id": "d64c8000-217f-4b86-a975-f9a79b5e6237",
   "metadata": {},
   "outputs": [
    {
     "data": {
      "text/plain": [
       "defaultdict(int, {})"
      ]
     },
     "execution_count": 101,
     "metadata": {},
     "output_type": "execute_result"
    }
   ],
   "source": [
    "from collections import defaultdict, OrderedDict\n",
    "\n",
    "counter = defaultdict(int)\n",
    "\n",
    "counter"
   ]
  },
  {
   "cell_type": "code",
   "execution_count": 99,
   "id": "596348c3-6947-4b5b-9306-1fd6e2e6b632",
   "metadata": {},
   "outputs": [
    {
     "data": {
      "text/plain": [
       "0"
      ]
     },
     "execution_count": 99,
     "metadata": {},
     "output_type": "execute_result"
    }
   ],
   "source": [
    "counter[\"a\"]"
   ]
  },
  {
   "cell_type": "code",
   "execution_count": 100,
   "id": "ba7b6926-f41f-4b4b-8db3-6793212910f2",
   "metadata": {},
   "outputs": [
    {
     "data": {
      "text/plain": [
       "{'a': 1, 'b': 3, 'c': 4}"
      ]
     },
     "execution_count": 100,
     "metadata": {},
     "output_type": "execute_result"
    }
   ],
   "source": [
    "d = {'a': 1, 'b': 2}\n",
    "d.update({'b': 3, 'c': 4})\n",
    "d"
   ]
  },
  {
   "cell_type": "code",
   "execution_count": 102,
   "id": "f61c07ed-742c-4d84-bf13-5e4472bddc86",
   "metadata": {},
   "outputs": [],
   "source": [
    "d1 = {}\n",
    "d2 = OrderedDict()"
   ]
  },
  {
   "cell_type": "code",
   "execution_count": 106,
   "id": "d81b0949-652d-4e8e-bdcf-970da0f88fea",
   "metadata": {},
   "outputs": [
    {
     "data": {
      "text/plain": [
       "['clear',\n",
       " 'copy',\n",
       " 'fromkeys',\n",
       " 'get',\n",
       " 'items',\n",
       " 'keys',\n",
       " 'pop',\n",
       " 'popitem',\n",
       " 'setdefault',\n",
       " 'update',\n",
       " 'values']"
      ]
     },
     "execution_count": 106,
     "metadata": {},
     "output_type": "execute_result"
    }
   ],
   "source": [
    "[x for x in dir(d1) if not x.startswith(\"__\")]"
   ]
  },
  {
   "cell_type": "code",
   "execution_count": 107,
   "id": "913b3fcf-2b0c-4acb-bd42-68179ad9921b",
   "metadata": {},
   "outputs": [
    {
     "data": {
      "text/plain": [
       "['clear',\n",
       " 'copy',\n",
       " 'fromkeys',\n",
       " 'get',\n",
       " 'items',\n",
       " 'keys',\n",
       " 'move_to_end',\n",
       " 'pop',\n",
       " 'popitem',\n",
       " 'setdefault',\n",
       " 'update',\n",
       " 'values']"
      ]
     },
     "execution_count": 107,
     "metadata": {},
     "output_type": "execute_result"
    }
   ],
   "source": [
    "[x for x in dir(d2) if not x.startswith(\"__\")]"
   ]
  },
  {
   "cell_type": "code",
   "execution_count": null,
   "id": "7434fda8-87ee-4a0b-9613-cc05cded6ba8",
   "metadata": {},
   "outputs": [],
   "source": []
  },
  {
   "cell_type": "code",
   "execution_count": null,
   "id": "07c2382f-d6ce-453b-9643-943c1bb90e5e",
   "metadata": {},
   "outputs": [],
   "source": []
  },
  {
   "cell_type": "markdown",
   "id": "5457cb88-42c2-4845-bec5-f4edc242c1dc",
   "metadata": {},
   "source": [
    "10. `update([other])`\n",
    "Aktualizuje słownik za pomocą słownika `other`, pary klucz-wartość lub iterowalnego obiektu.\n",
    "```python\n",
    "d = {'a': 1, 'b': 2}\n",
    "d.update({'b': 3, 'c': 4})\n",
    "print(d)  # {'a': 1, 'b': 3, 'c': 4}\n",
    "```\n",
    "\n",
    "11. `values()`\n",
    "Zwraca wartości ze słownika jako listę.\n",
    "```python\n",
    "d = {'a': 1, 'b': 2}\n",
    "print(list(d.values()))  # [1, 2]\n",
    "```"
   ]
  },
  {
   "cell_type": "markdown",
   "id": "935236d0-d5f5-4a26-b778-7adc99a1fc7e",
   "metadata": {},
   "source": [
    "### Podsumowanie\n",
    "\n",
    "Typ `dict` w Pythonie jest niezwykle elastyczny i potężny, pozwalając na przechowywanie złożonych struktur danych w wygodnej i czytelnej formie. Dzięki temu jest jednym z najczęściej używanych typów danych w Pythonie, szczególnie w przypadku operacji związanych z przechowywaniem i manipulacją danymi."
   ]
  },
  {
   "cell_type": "markdown",
   "id": "60197292",
   "metadata": {},
   "source": [
    "## Zbiory w Pythonie\n",
    "\n",
    "Zbiór, znany w Pythonie jako `set`, to nieuporządkowana kolekcja unikalnych elementów. Zbiory są bardzo przydatne do usuwania zduplikowanych wartości lub sprawdzania członkostwa. Ze względu na ich unikalność i sposoby działania, zbiory oferują specyficzne cechy i operacje, które różnią je od innych kolekcji w Pythonie, takich jak listy czy słowniki.\n",
    "\n",
    "### Podstawy\n",
    "\n",
    "Zbiory można tworzyć na dwa sposoby:\n",
    "\n",
    "1. Używając nawiasów klamrowych:m\n",
    "```python\n",
    "my_set = {1, 2, 3, 4}\n",
    "```\n",
    "\n",
    "2. Używając funkcji wbudowanej `set()`:\n",
    "```python\n",
    "another_set = set([1, 2, 3, 4])\n",
    "```\n",
    "\n",
    "### Hashowalność obiektów\n",
    "\n",
    "Kluczową cechą zbiorów jest to, że przechowują tylko elementy, które są \"hashowalne\". Oznacza to, że obiekt musi mieć stałą wartość hasha przez cały czas jego istnienia. W praktyce oznacza to, że nie możemy przechowywać w zbiorach obiektów zmiennych, takich jak listy czy słowniki. Możemy natomiast przechowywać krotki, liczby, napisy i inne hashowalne typy.\n",
    "\n",
    "Dlaczego ta właściwość jest ważna? Gwarantuje to, że każdy element w zbiorze jest unikalny. Jeśli dwa obiekty mają ten sam hash, to są traktowane jako identyczne.\n",
    "\n",
    "### Operacje na zbiorach\n",
    "\n",
    "Zbiory w Pythonie oferują szereg przydatnych operacji:\n",
    "\n",
    "1. **Unia** - zwraca zbiór zawierający wszystkie elementy z obu zbiorów.\n",
    "```python\n",
    "a = {1, 2, 3}\n",
    "b = {3, 4, 5}\n",
    "print(a | b)  # {1, 2, 3, 4, 5}\n",
    "```\n",
    "\n",
    "2. **Przecięcie** - zwraca zbiór zawierający wspólne elementy obu zbiorów.\n",
    "```python\n",
    "print(a & b)  # {3}\n",
    "```\n",
    "\n",
    "3. **Różnica** - zwraca zbiór zawierający elementy tylko z pierwszego zbioru, ale nie z drugiego.\n",
    "```python\n",
    "print(a - b)  # {1, 2}\n",
    "```\n",
    "\n",
    "4. **Różnica symetryczna** - zwraca zbiór zawierający elementy, które są w jednym zbiorze, ale nie w obu.\n",
    "```python\n",
    "print(a ^ b)  # {1, 2, 4, 5}\n",
    "```\n",
    "\n",
    "### Metody `set`\n",
    "\n",
    "Zbiory (`set`) w Pythonie nie tylko oferują operacje typowe dla teorii mnogości (takie jak unie, przecięcia itp.), ale także posiadają zestaw wbudowanych metod, które pozwalają na bardziej zaawansowaną manipulację i dostęp do danych.\n",
    "\n",
    "1. `add(element)`\n",
    "\n",
    "Dodaje element do zbioru. Jeśli element już istnieje, nie zostanie dodana żadna kopia.\n",
    "```python\n",
    "s = {1, 2, 3}\n",
    "s.add(4)\n",
    "print(s)  # {1, 2, 3, 4}\n",
    "```\n",
    "\n",
    "2. `remove(element)`\n",
    "\n",
    "Usuwa element ze zbioru. Jeśli element nie istnieje, podnosi `KeyError`.\n",
    "```python\n",
    "s = {1, 2, 3}\n",
    "s.remove(3)\n",
    "print(s)  # {1, 2}\n",
    "```\n",
    "\n",
    "3. `discard(element)`\n",
    "\n",
    "Usuwa element ze zbioru, jeśli istnieje. Jeśli nie, nie robi nic (nie podnosi błędu).\n",
    "```python\n",
    "s = {1, 2, 3}\n",
    "s.discard(4)\n",
    "print(s)  # {1, 2, 3}\n",
    "```\n",
    "\n",
    "4. `pop()`\n",
    "\n",
    "Usuwa i zwraca arbitralny (losowy) element ze zbioru. Jeśli zbiór jest pusty, podnosi `KeyError`.\n",
    "```python\n",
    "s = {1, 2, 3}\n",
    "print(s.pop())  # Może wyświetlić 1, 2 lub 3\n",
    "```\n",
    "\n",
    "5. `clear()`\n",
    "\n",
    "Usuwa wszystkie elementy ze zbioru.\n",
    "```python\n",
    "s = {1, 2, 3}\n",
    "s.clear()\n",
    "print(s)  # set()\n",
    "```\n",
    "\n",
    "6. `union(*others)`\n",
    "\n",
    "Zwraca nowy zbiór z elementami ze zbioru i wszystkich innych zbiorów.\n",
    "```python\n",
    "a = {1, 2}\n",
    "b = {2, 3}\n",
    "print(a.union(b))  # {1, 2, 3}\n",
    "```\n",
    "\n",
    "7. `intersection(*others)`\n",
    "\n",
    "Zwraca nowy zbiór z elementami wspólnymi dla zbioru i wszystkich innych zbiorów.\n",
    "```python\n",
    "a = {1, 2, 3}\n",
    "b = {2, 3, 4}\n",
    "print(a.intersection(b))  # {2, 3}\n",
    "```\n",
    "\n",
    "8. `difference(*others)`\n",
    "\n",
    "Zwraca nowy zbiór z elementami ze zbioru, które nie występują w innych zbiorach.\n",
    "```python\n",
    "a = {1, 2, 3}\n",
    "b = {3, 4, 5}\n",
    "print(a.difference(b))  # {1, 2}\n",
    "```\n",
    "\n",
    "9. `symmetric_difference(other)`\n",
    "\n",
    "Zwraca nowy zbiór z elementami, które występują tylko w jednym z dwóch zbiorów (ale nie w obu).\n",
    "```python\n",
    "a = {1, 2, 3}\n",
    "b = {2, 3, 4}\n",
    "print(a.symmetric_difference(b))  # {1, 4}\n",
    "```\n",
    "\n",
    "10. `update(*others)`\n",
    "\n",
    "Aktualizuje zbiór, dodając elementy z innych zbiorów.\n",
    "```python\n",
    "a = {1, 2}\n",
    "b = {2, 3}\n",
    "a.update(b)\n",
    "print(a)  # {1, 2, 3}\n",
    "```\n",
    "\n",
    "11. `intersection_update(*others)`\n",
    "\n",
    "Aktualizuje zbiór, pozostawiając tylko elementy wspólne dla zbioru i wszystkich innych zbiorów.\n",
    "```python\n",
    "a = {1, 2, 3}\n",
    "b = {2, 3, 4}\n",
    "a.intersection_update(b)\n",
    "print(a)  # {2, 3}\n",
    "```\n",
    "\n",
    "12. `difference_update(*others)`\n",
    "\n",
    "Aktualizuje zbiór, usuwając wszystkie elementy występujące w innych zbiorach.\n",
    "```python\n",
    "a = {1, 2, 3}\n",
    "b = {3, 4, 5}\n",
    "a.difference_update(b)\n",
    "print(a)  # {1, 2}\n",
    "```\n",
    "\n",
    "13. `symmetric_difference_update(other)`\n",
    "\n",
    "Aktualizuje zbiór, zastępując jego elementy różnicą symetryczną z innym zbiorem.\n",
    "```python\n",
    "a = {1, 2, 3}\n",
    "b = {2, 3, 4}\n",
    "a.symmetric_difference_update(b)\n",
    "print(a)  # {1, 4}\n",
    "```\n",
    "\n",
    "14. `issubset(other)`\n",
    "\n",
    "Sprawdza, czy inny zbiór zawiera ten zbiór.\n",
    "\n",
    "```python\n",
    "\n",
    "a = {1, 2}\n",
    "b = {1, 2, 3}\n",
    "print(a.issubset(b))  # True\n",
    "```\n",
    "\n",
    "15. `issuperset(other)`\n",
    "\n",
    "Sprawdza, czy zbiór zawiera inny zbiór.\n",
    "\n",
    "```python\n",
    "\n",
    "a = {1, 2, 3}\n",
    "b = {1, 2}\n",
    "print(a.issuperset(b))  # True\n",
    "```\n",
    "\n",
    "16. `isdisjoint(other)`\n",
    "\n",
    "Sprawdza, czy zbiór i inny zbiór mają elementy wspólne.\n",
    "\n",
    "```python\n",
    "\n",
    "a = {1, 2}\n",
    "b = {3, 4}\n",
    "print(a.isdisjoint(b))  # True\n",
    "```\n",
    "\n",
    "### Podsumowanie\n",
    "\n",
    "Zbiory w Pythonie są potężnym narzędziem, które pozwala na wykonywanie unikalnych operacji na danych, zapewniając jednocześnie pewność, że wszystkie elementy są unikalne. Jednak warto pamiętać o ograniczeniu dotyczącym hashowalności obiektów, aby uniknąć potencjalnych problemów podczas korzystania z tej struktury danych.m"
   ]
  },
  {
   "cell_type": "markdown",
   "id": "d063b2c6-fe46-4ce6-bc3c-92a338c7b75c",
   "metadata": {},
   "source": [
    "## Frozenset w Pythonie\n",
    "\n",
    "`frozenset` to wbudowany typ w Pythonie reprezentujący niemodyfikowalny zbiór. Jest to wersja \"zamrożona\" standardowego zbioru (`set`), co oznacza, że po jego utworzeniu nie można już modyfikować jego zawartości (dodawanie, usuwanie elementów itp.). Dzięki tej niemutowalności, `frozenset` może być używany jako klucz w słownikach (`dict`) lub jako element innych zbiorów, podczas gdy zwykłe zbiory nie mogą pełnić tej roli z powodu swojej mutowalności.\n",
    "\n",
    "### Tworzenie frozensetu:\n",
    "\n",
    "```python\n",
    "fs = frozenset([1, 2, 3, 3, 4])\n",
    "print(fs)  # frozenset({1, 2, 3, 4})\n",
    "```"
   ]
  },
  {
   "cell_type": "code",
   "execution_count": 108,
   "id": "9641cfba-c174-4702-bea0-7a0170ce907c",
   "metadata": {},
   "outputs": [
    {
     "data": {
      "text/plain": [
       "['__and__',\n",
       " '__class__',\n",
       " '__class_getitem__',\n",
       " '__contains__',\n",
       " '__delattr__',\n",
       " '__dir__',\n",
       " '__doc__',\n",
       " '__eq__',\n",
       " '__format__',\n",
       " '__ge__',\n",
       " '__getattribute__',\n",
       " '__getstate__',\n",
       " '__gt__',\n",
       " '__hash__',\n",
       " '__init__',\n",
       " '__init_subclass__',\n",
       " '__iter__',\n",
       " '__le__',\n",
       " '__len__',\n",
       " '__lt__',\n",
       " '__ne__',\n",
       " '__new__',\n",
       " '__or__',\n",
       " '__rand__',\n",
       " '__reduce__',\n",
       " '__reduce_ex__',\n",
       " '__repr__',\n",
       " '__ror__',\n",
       " '__rsub__',\n",
       " '__rxor__',\n",
       " '__setattr__',\n",
       " '__sizeof__',\n",
       " '__str__',\n",
       " '__sub__',\n",
       " '__subclasshook__',\n",
       " '__xor__',\n",
       " 'copy',\n",
       " 'difference',\n",
       " 'intersection',\n",
       " 'isdisjoint',\n",
       " 'issubset',\n",
       " 'issuperset',\n",
       " 'symmetric_difference',\n",
       " 'union']"
      ]
     },
     "execution_count": 108,
     "metadata": {},
     "output_type": "execute_result"
    }
   ],
   "source": [
    "dir(frozenset)"
   ]
  },
  {
   "cell_type": "code",
   "execution_count": null,
   "id": "e99703b8-c186-42c5-ad83-afd570b5e794",
   "metadata": {},
   "outputs": [],
   "source": []
  },
  {
   "cell_type": "code",
   "execution_count": null,
   "id": "cb22981d-ed1d-4490-b017-75a9d7c72139",
   "metadata": {},
   "outputs": [],
   "source": []
  },
  {
   "cell_type": "code",
   "execution_count": null,
   "id": "dcf30154-3362-4dfc-9e1c-498b7ed03f2b",
   "metadata": {},
   "outputs": [],
   "source": []
  },
  {
   "cell_type": "code",
   "execution_count": null,
   "id": "1438849a-fb98-4b23-852b-50483931db38",
   "metadata": {},
   "outputs": [],
   "source": []
  },
  {
   "cell_type": "markdown",
   "id": "a2062b24-e56f-4d36-9ffd-b6ecfb50a7c4",
   "metadata": {},
   "source": [
    "### Dlaczego używać frozensetu?\n",
    "\n",
    "Najczęstszym zastosowaniem `frozenset` jest potrzeba stworzenia zbioru, który ma służyć jako klucz w słowniku lub kiedy chcemy mieć pewność, że zawartość zbioru nie zostanie przypadkowo zmieniona.\n",
    "\n",
    "### Operacje na frozenset:\n",
    "\n",
    "Ponieważ `frozenset` jest niemutowalny, nie obsługuje metod modyfikujących zawartość, takich jak `add` czy `remove`. Jednakże wszystkie operacje, które nie modyfikują zbioru (takie jak unie, przecięcia, różnice) są dostępne:\n",
    "\n",
    "```python\n",
    "fs1 = frozenset([1, 2, 3])\n",
    "fs2 = frozenset([3, 4, 5])\n",
    "\n",
    "print(fs1.union(fs2))          # frozenset({1, 2, 3, 4, 5})\n",
    "print(fs1.intersection(fs2))  # frozenset({3})\n",
    "```\n",
    "\n",
    "### Podsumowanie:\n",
    "\n",
    "`frozenset` to przydatny typ danych w Pythonie, kiedy potrzebujemy niemutowalnego zbioru. Jego główne zastosowanie to sytuacje, gdy chcemy używać zbiorów jako klucze w słownikach lub kiedy chcemy zapewnić niemutowalność zbioru w naszym kodzie."
   ]
  },
  {
   "cell_type": "markdown",
   "id": "c781ba8f",
   "metadata": {},
   "source": [
    "## `bytearray` \n",
    "\n",
    "`bytearray` to wbudowany typ w języku Python służący do reprezentowania tablic bajtów. Jest to sekwencja bajtów, która jest mutowalna, w przeciwieństwie do niemutowalnych ciągów bajtów (`bytes`). Jest szczególnie przydatny w sytuacjach, gdy musimy modyfikować bajty, np. podczas obróbki plików binarnych czy komunikacji przez sieć.\n",
    "\n",
    "### Tworzenie bytearray:\n",
    "\n",
    "1. **Z listy wartości:**\n",
    "```python\n",
    "ba = bytearray([65, 66, 67])\n",
    "print(ba)  # bytearray(b'ABC')\n",
    "```\n",
    "\n",
    "2. **Z ciągu bajtów:**\n",
    "```python\n",
    "ba = bytearray(b\"ABC\")\n",
    "print(ba)  # bytearray(b'ABC')\n",
    "```\n",
    "\n",
    "3. **Używając funkcji `bytearray()` z określoną długością:**\n",
    "```python\n",
    "ba = bytearray(5)\n",
    "print(ba)  # bytearray(b'\\x00\\x00\\x00\\x00\\x00')\n",
    "```\n",
    "\n",
    "### Operacje na bytearray:\n",
    "\n",
    "1. **Modyfikacja wartości:**\n",
    "```python\n",
    "ba = bytearray(b'ABC')\n",
    "ba[1] = 68\n",
    "print(ba)  # bytearray(b'ADC')\n",
    "```\n",
    "\n",
    "2. **Dodawanie i usuwanie elementów:**\n",
    "```python\n",
    "ba = bytearray(b'ABC')\n",
    "ba.append(69)\n",
    "print(ba)  # bytearray(b'ABCE')\n",
    "\n",
    "ba.extend([70, 71])\n",
    "print(ba)  # bytearray(b'ABCEFG')\n",
    "\n",
    "del ba[3]\n",
    "print(ba)  # bytearray(b'ABCFG')\n",
    "```\n",
    "\n",
    "3. **Inne metody jak `find`, `replace`, `count`, etc. działają podobnie jak dla typu `str`.**\n",
    "\n",
    "### Różnica między `bytes` a `bytearray`:\n",
    "\n",
    "Główną różnicą między `bytes` a `bytearray` jest mutowalność. `bytes` to niemutowalny typ, podczas gdy `bytearray` można modyfikować. Oznacza to, że gdy raz utworzymy obiekt typu `bytes`, jego zawartość pozostaje niezmieniona, podczas gdy obiekt `bytearray` można modyfikować tak, jak listę.\n",
    "\n",
    "### Zastosowania:\n",
    "\n",
    "`bytearray` jest często używany w aplikacjach, które wymagają obróbki danych binarnych, takich jak pliki obrazów, audio czy komunikacja sieciowa. Dzięki mutowalności jest bardziej elastyczny w wielu zastosowaniach niż `bytes`.\n",
    "\n",
    "### Podsumowanie:\n",
    "\n",
    "`bytearray` jest potężnym narzędziem w arsenale programisty Pythona, umożliwiającym manipulację danymi binarnymi. Jego mutowalność czyni go idealnym wyborem w sytuacjach, gdy potrzebujemy modyfikować dane bajtowe. Jednak zawsze warto pamiętać o różnicach między `bytes` a `bytearray` i wybierać odpowiedni typ w zależności od potrzeb."
   ]
  },
  {
   "cell_type": "markdown",
   "id": "9a0cb032",
   "metadata": {},
   "source": [
    "%%writefile cwiczenia/cwiczenie_3_7_6.md\n",
    "\n",
    "### 📝 Ćwiczenie: Połączenie list i słowników\n",
    "\n",
    "[Cwiczenie_3_7_6](cwiczenia/cwiczenie_3_7_6.md)\n",
    "\n",
    "\n",
    "\n",
    "Masz daną listę `osoby` składającą się z słowników reprezentujących osoby:\n",
    "\n",
    "```python\n",
    "osoby = [\n",
    "    {'imie': 'Anna', 'wiek': 28, 'zawod': 'inżynier'},\n",
    "    {'imie': 'Tomasz', 'wiek': 35, 'zawod': 'lekarz'},\n",
    "    {'imie': 'Karolina', 'wiek': 40, 'zawod': 'nauczyciel'},\n",
    "    {'imie': 'Piotr', 'wiek': 32, 'zawod': 'programista'}\n",
    "]\n",
    "```\n",
    "\n",
    "Napisz funkcję, która przyjmie listę `osoby` i zwróci słownik, gdzie kluczem będzie zawód, a wartością lista osób o danym zawodzie."
   ]
  },
  {
   "cell_type": "code",
   "execution_count": 21,
   "id": "5fc5ddb2-692c-469d-81ae-453bd636e583",
   "metadata": {},
   "outputs": [
    {
     "name": "stdout",
     "output_type": "stream",
     "text": [
      "Counter({'a': 4, ' ': 2, 'l': 1, 'm': 1, 'k': 1, 'o': 1, 't': 1})\n"
     ]
    }
   ],
   "source": [
    "text = \"ala ma kota\"\n",
    "from collections import defaultdict, Counter\n",
    "\n",
    "def counter(text: str) -> dict[str, int]:\n",
    "    signs_counter = defaultdict(int)\n",
    "    for s in text:\n",
    "        signs_counter[s] += 1\n",
    "    return signs_counter\n",
    "\n",
    "\n",
    "counter(text)\n",
    "print(Counter(text))\n",
    "\n"
   ]
  },
  {
   "cell_type": "markdown",
   "id": "60c27862",
   "metadata": {},
   "source": [
    "%%writefile cwiczenia/cwiczenie_3_7_7.md\n",
    "\n",
    "### 📝 Ćwiczenie: Analiza listy zakupów\n",
    "\n",
    "[Cwiczenie_3_7_7](cwiczenia/cwiczenie_3_7_7.md)\n",
    "\n",
    "\n",
    "Masz daną listę zakupów:\n",
    "\n",
    "```python\n",
    "zakupy = [\"jajka\", \"mleko\", \"masło\", \"jajka\", \"chleb\", \"masło\", \"ser\", \"jajka\"]\n",
    "```\n",
    "\n",
    "Napisz funkcję, która:\n",
    "\n",
    "1. Zwróci zbiór wszystkich unikalnych produktów na liście.\n",
    "2. Zwróci słownik, gdzie kluczem jest nazwa produktu, a wartością ilość wystąpień na liście zakupów."
   ]
  },
  {
   "cell_type": "markdown",
   "id": "fc996248",
   "metadata": {},
   "source": [
    "%%writefile cwiczenia/cwiczenie_3_7_8.md\n",
    "\n",
    "### 📝 Ćwiczenie: Konwersja danych\n",
    "\n",
    "[Cwiczenie_3_7_7](cwiczenia/cwiczenie_3_7_8.md)\n",
    "\n",
    "Masz dane:\n",
    "\n",
    "```python\n",
    "dane = \"Anna 25, Tomasz 30, Ewa 28, Jan 35\"\n",
    "```\n",
    "\n",
    "Napisz funkcję, która przekształci ten tekst w słownik, gdzie kluczem będzie imię, a wartością wiek. Następnie, na podstawie tego słownika, utwórz listę tylko tych osób, które mają więcej niż 30 lat."
   ]
  },
  {
   "cell_type": "markdown",
   "id": "ee504dc1-ef97-41a4-bffe-65e0a9712ca3",
   "metadata": {},
   "source": [
    "# Wyrażenia (Comprehensions) i Generatory w Pythonie\n",
    "\n",
    "Comprehensions to skrótowe i wyraźne metody tworzenia kolekcji w Pythonie, takich jak listy, zbiory i słowniki. Pozwalają na generowanie tych kolekcji w jednej linii kodu, co czyni je bardziej zwięzłymi niż tradycyjne pętle. Comprehensions są często używane w Pythonie ze względu na swoją elegancję i czytelność.\n",
    "\n",
    "Istnieją trzy główne rodzaje comprehensions w Pythonie:\n",
    "\n",
    "1. **List Comprehensions**:\n",
    "   List comprehensions pozwalają na tworzenie listy na podstawie innego obiektu iterowalnego, na przykład listy, zbioru czy krotki. Oto prosty przykład:\n",
    "\n",
    "   ```python\n",
    "   numbers = [1, 2, 3, 4, 5]\n",
    "   squared_numbers = [x**2 for x in numbers]\n",
    "   ```\n",
    "\n",
    "   W tym przypadku `squared_numbers` będzie zawierać kwadraty liczb z listy `numbers`."
   ]
  },
  {
   "cell_type": "code",
   "execution_count": 114,
   "id": "edaf0844-2e5f-49ec-b284-bcfa84b543b3",
   "metadata": {},
   "outputs": [
    {
     "data": {
      "text/plain": [
       "<generator object <genexpr> at 0x000001B1538BAC20>"
      ]
     },
     "execution_count": 114,
     "metadata": {},
     "output_type": "execute_result"
    }
   ],
   "source": [
    "numbers = [1, 2, 3, 4, 5]\n",
    "squared_numbers = (x**2 for x in numbers if x % 2 == 0 )\n",
    "squared_numbers"
   ]
  },
  {
   "cell_type": "markdown",
   "id": "cd602759-f428-4990-9866-4e4457e8728a",
   "metadata": {},
   "source": [
    "2. **Set Comprehensions**:\n",
    "   Set comprehensions działają podobnie do list comprehensions, ale tworzą zbiór zamiast listy. Dzięki temu można łatwo pozbyć się duplikatów. Przykład:\n",
    "\n",
    "   ```python\n",
    "   numbers = [1, 2, 2, 3, 4, 4, 5]\n",
    "   unique_numbers: set = {x for x in numbers}\n",
    "   ```\n",
    "\n",
    "   W rezultacie `unique_numbers` będzie zawierać tylko unikalne wartości.\n",
    "\n",
    "3. **Dictionary Comprehensions**:\n",
    "   Dictionary comprehensions pozwalają na tworzenie słowników w sposób zrozumiały i kompaktowy. Przykład:\n",
    "\n",
    "   ```python\n",
    "   names = [\"Alice\", \"Bob\", \"Charlie\"]\n",
    "   name_lengths = {name: len(name) for name in names}\n",
    "   ```\n",
    "\n",
    "   Tutaj `name_lengths` będzie zawierać długości imion jako wartości i same imiona jako klucze."
   ]
  },
  {
   "cell_type": "markdown",
   "id": "97668baf-4c16-4ff4-86b3-214062eb9fbe",
   "metadata": {},
   "source": [
    "## Czym są Generatory?"
   ]
  },
  {
   "cell_type": "code",
   "execution_count": 119,
   "id": "62eb58e1-9ae9-4caa-bf67-f04f1e2234bc",
   "metadata": {},
   "outputs": [
    {
     "data": {
      "text/plain": [
       "2"
      ]
     },
     "execution_count": 119,
     "metadata": {},
     "output_type": "execute_result"
    }
   ],
   "source": [
    "lista = [1, 2, 3]\n",
    "\n",
    "list_iterator = iter(lista)\n",
    "next(list_iterator)\n",
    "next(list_iterator)\n"
   ]
  },
  {
   "cell_type": "code",
   "execution_count": 122,
   "id": "818874e0-f324-43d6-81e0-111af72b7d91",
   "metadata": {},
   "outputs": [
    {
     "ename": "StopIteration",
     "evalue": "",
     "output_type": "error",
     "traceback": [
      "\u001b[1;31m---------------------------------------------------------------------------\u001b[0m",
      "\u001b[1;31mStopIteration\u001b[0m                             Traceback (most recent call last)",
      "Cell \u001b[1;32mIn[122], line 1\u001b[0m\n\u001b[1;32m----> 1\u001b[0m \u001b[38;5;28;43mnext\u001b[39;49m\u001b[43m(\u001b[49m\u001b[43mlist_iterator\u001b[49m\u001b[43m)\u001b[49m\n",
      "\u001b[1;31mStopIteration\u001b[0m: "
     ]
    }
   ],
   "source": [
    "next(list_iterator)"
   ]
  },
  {
   "cell_type": "code",
   "execution_count": 124,
   "id": "05a1040b-5482-4bfe-ae12-dd5a9ec71f3c",
   "metadata": {},
   "outputs": [
    {
     "name": "stdout",
     "output_type": "stream",
     "text": [
      "1\n",
      "2\n",
      "3\n",
      "1\n",
      "2\n",
      "3\n"
     ]
    }
   ],
   "source": [
    "for el in lista:\n",
    "    print(el)\n",
    "\n",
    "i = iter(lista)\n",
    "while True:\n",
    "    try:\n",
    "        print(next(i))\n",
    "    except StopIteration:\n",
    "        break"
   ]
  },
  {
   "cell_type": "markdown",
   "id": "a195cb27-d2e1-43b5-812d-d0a3d77a59a6",
   "metadata": {},
   "source": [
    "Generatory to specjalny rodzaj sekwencji w Pythonie, które generują wartości na żądanie (lazy evaluation). Generatory nie przechowują wszystkich wygenerowanych danych w pamięci, co jest szczególnie przydatne w przypadku dużych zbiorów danych, ponieważ oszczędzają pamięć.\n",
    "\n",
    "Generatory definiuje się za pomocą funkcji z użyciem słowa kluczowego `yield`. Gdy funkcja zawiera `yield`, staje się generatorem. Generatory można iterować, używając pętli `for`, a wartości są generowane w miarę potrzeby.\n",
    "\n",
    "Oto przykład prostego generatora:\n",
    "\n",
    "```python\n",
    "def simple_generator():\n",
    "    yield 1\n",
    "    yield 2\n",
    "    yield 3\n",
    "\n",
    "gen = simple_generator()\n",
    "\n",
    "for value in gen:\n",
    "    print(value)\n",
    "```\n",
    "\n",
    "Ten kod wypisze liczby od 1 do 3, generując je na żądanie."
   ]
  },
  {
   "cell_type": "code",
   "execution_count": 22,
   "id": "9da0fc40-90d0-4b01-ba8d-5607c44c980b",
   "metadata": {},
   "outputs": [
    {
     "data": {
      "text/plain": [
       "1"
      ]
     },
     "execution_count": 22,
     "metadata": {},
     "output_type": "execute_result"
    }
   ],
   "source": [
    "def simple_generator():\n",
    "    yield 1\n",
    "    yield 2\n",
    "    yield 3\n",
    "\n",
    "gen = simple_generator()\n",
    "\n",
    "next(gen)"
   ]
  },
  {
   "cell_type": "code",
   "execution_count": 27,
   "id": "645fe25d-fa82-4aff-b9fe-e4c0037d4707",
   "metadata": {},
   "outputs": [
    {
     "ename": "StopIteration",
     "evalue": "",
     "output_type": "error",
     "traceback": [
      "\u001b[1;31m---------------------------------------------------------------------------\u001b[0m",
      "\u001b[1;31mStopIteration\u001b[0m                             Traceback (most recent call last)",
      "Cell \u001b[1;32mIn[27], line 1\u001b[0m\n\u001b[1;32m----> 1\u001b[0m \u001b[38;5;28;43mnext\u001b[39;49m\u001b[43m(\u001b[49m\u001b[43mgen\u001b[49m\u001b[43m)\u001b[49m\n",
      "\u001b[1;31mStopIteration\u001b[0m: "
     ]
    }
   ],
   "source": [
    "next(gen)"
   ]
  },
  {
   "cell_type": "code",
   "execution_count": 30,
   "id": "947316a7-0b0a-43ea-8455-96490cf874ba",
   "metadata": {},
   "outputs": [],
   "source": [
    "def odd_generator(start=1):\n",
    "    while True:\n",
    "        yield start\n",
    "        start += 2\n",
    "\n",
    "odd = odd_generator()"
   ]
  },
  {
   "cell_type": "code",
   "execution_count": 33,
   "id": "55fbe46b-92bc-47c2-9c30-2f23a361a527",
   "metadata": {},
   "outputs": [
    {
     "data": {
      "text/plain": [
       "5"
      ]
     },
     "execution_count": 33,
     "metadata": {},
     "output_type": "execute_result"
    }
   ],
   "source": [
    "next(odd)"
   ]
  },
  {
   "cell_type": "code",
   "execution_count": 34,
   "id": "ec96eb52-9249-4913-831d-08ee9bee2e36",
   "metadata": {},
   "outputs": [
    {
     "data": {
      "text/plain": [
       "0"
      ]
     },
     "execution_count": 34,
     "metadata": {},
     "output_type": "execute_result"
    }
   ],
   "source": [
    "def odd_generator(start=1):\n",
    "    for i in range(3):\n",
    "        yield i\n",
    "\n",
    "\n",
    "odd = odd_generator()\n",
    "\n",
    "next(odd)"
   ]
  },
  {
   "cell_type": "markdown",
   "id": "702500de-1eec-4bd1-8278-1dd28bbaf74e",
   "metadata": {},
   "source": [
    "Cwiczenie - zrob generattor, który bedzie zwracac na przemian 1 i 2 "
   ]
  },
  {
   "cell_type": "code",
   "execution_count": 35,
   "id": "dc28898a-2b86-438c-824a-3139b97848ac",
   "metadata": {},
   "outputs": [
    {
     "name": "stdout",
     "output_type": "stream",
     "text": [
      "1\n",
      "2\n",
      "1\n",
      "2\n",
      "1\n",
      "2\n",
      "1\n",
      "2\n",
      "1\n",
      "2\n"
     ]
    }
   ],
   "source": [
    "def generator(start=1):\n",
    "    while True:\n",
    "        yield 1\n",
    "        yield 2\n",
    "\n",
    "odd = generator()\n",
    "for i in range(10):\n",
    "    print(next(odd))"
   ]
  },
  {
   "cell_type": "code",
   "execution_count": 134,
   "id": "f48bbc8f-5851-4872-a485-c1eeb1ac1a17",
   "metadata": {},
   "outputs": [
    {
     "ename": "StopIteration",
     "evalue": "",
     "output_type": "error",
     "traceback": [
      "\u001b[1;31m---------------------------------------------------------------------------\u001b[0m",
      "\u001b[1;31mStopIteration\u001b[0m                             Traceback (most recent call last)",
      "Cell \u001b[1;32mIn[134], line 1\u001b[0m\n\u001b[1;32m----> 1\u001b[0m \u001b[38;5;28;43mnext\u001b[39;49m\u001b[43m(\u001b[49m\u001b[43modd\u001b[49m\u001b[43m)\u001b[49m\n",
      "\u001b[1;31mStopIteration\u001b[0m: "
     ]
    }
   ],
   "source": [
    "next(odd)"
   ]
  },
  {
   "cell_type": "code",
   "execution_count": 153,
   "id": "2541df45-a126-40c3-abd8-edea35c277f3",
   "metadata": {},
   "outputs": [],
   "source": [
    "def jeden_dwa(i=1):\n",
    "    while True:\n",
    "        yield i\n",
    "        if i == 1:\n",
    "            i = 2\n",
    "        else:\n",
    "            i = 1\n",
    "\n",
    "jd = jeden_dwa()\n",
    "\n"
   ]
  },
  {
   "cell_type": "code",
   "execution_count": null,
   "id": "04f7931b-54af-497c-84ae-7c3739af0739",
   "metadata": {},
   "outputs": [],
   "source": []
  },
  {
   "cell_type": "code",
   "execution_count": 161,
   "id": "8e2222a6-e395-49ff-a24a-a527dd922773",
   "metadata": {},
   "outputs": [
    {
     "data": {
      "text/plain": [
       "2"
      ]
     },
     "execution_count": 161,
     "metadata": {},
     "output_type": "execute_result"
    }
   ],
   "source": [
    "next(jd)"
   ]
  },
  {
   "cell_type": "markdown",
   "id": "8bcdd21e-5830-4074-950b-41e0007e54d5",
   "metadata": {},
   "source": [
    "## Wyrażenia Generatorowe\n",
    "\n",
    "Podobnie jak comprehensions pozwalają na tworzenie list, zbiorów i słowników, wyrażenia generatorowe pozwalają na tworzenie generatorów w sposób zrozumiały i kompaktowy. Wyrażenia te są podobne do list comprehensions, ale zamiast tworzyć listę, generują wartości jedną po drugiej.\n",
    "\n",
    "Oto przykład wyrażenia generatorowego:\n",
    "\n",
    "```python\n",
    "numbers = [1, 2, 3, 4, 5]\n",
    "squared_generator = (x**2 for x in numbers)\n",
    "\n",
    "for value in squared_generator:\n",
    "    print(value)\n",
    "```\n",
    "\n",
    "To wyrażenie generatorowe generuje kwadraty liczb z listy `numbers` na żądanie i wypisuje je."
   ]
  },
  {
   "cell_type": "markdown",
   "id": "19be6867-e355-4270-8b4d-f78f2e94f9e2",
   "metadata": {},
   "source": [
    "## Korzyści z Wykorzystania Comprehensions i Generators\n",
    "\n",
    "Wyrażenia zrozumiałe i generatory mają wiele zalet:\n",
    "\n",
    "1. **Czytelność kodu**: Comprehensions i wyrażenia generatorowe sprawiają, że kod jest bardziej zrozumiały i czytelny, ponieważ zawiera mniej zbędnego \"szumu\" w postaci pętli i warunków.\n",
    "\n",
    "2. **Krótszy kod**: Comprehensions i wyrażenia generatorowe pozwalają na zapisanie operacji w jednej linii kodu, co oznacza, że można osiągnąć to samo za pomocą mniej znaków.\n",
    "\n",
    "3. **Oszczędność pamięci**: Generatory pozwalają na leniwe generowanie danych, co oszczędza pamięć, szczególnie przy dużych zbiorach danych.\n",
    "\n",
    "4. **Szybkość**: Comprehensions i generatory są często szybsze od tradycyjnych pętli, ponieważ są zoptymalizowane wewnętrznie przez interpreter Pythona."
   ]
  },
  {
   "cell_type": "markdown",
   "id": "e6f1c808-8443-4e39-a1c7-25c067dce9f4",
   "metadata": {},
   "source": [
    "## Przykłady Zastosowań\n",
    "\n",
    "Comprehensions i generatory znajdują szerokie zastosowanie w rzeczywistych projektach Pythona. Oto kilka przykładów, gdzie mogą być używane:\n",
    "\n",
    "### Przetwarzanie i Analiza Danych\n",
    "\n",
    "Generatory są szczególnie przydatne do przetwarzania dużych zbiorów danych, takich jak logi serwerów, pliki CSV lub dane z bazy danych. Generowanie danych na żądanie pozwala na efektywne przetwarzanie i analizę danych bez konieczności wczytywania ich wszystkich do pamięci.\n",
    "\n",
    "### Tworzenie Strumieni Danych\n",
    "\n",
    "Generatory są często używane do tworzenia strumieni danych, na przykład podczas czytania i przetwarzania plików w trybie strumieniowym.\n",
    "\n",
    "### Optymalizacja Obliczeń\n",
    "\n",
    "Comprehensions i generatory pozwalają na zoptymalizowanie obliczeń, zwłaszcza w przypadku operacji na dużych ilościach danych, poprzez leniwe generowanie i przetwarzanie danych.\n",
    "\n",
    "### Podsumowanie\n",
    "\n",
    "Wyrażenia zrozumiałe (comprehensions) i generatory są potężnymi narzędziami w Pythonie, które pozwalają na zwięzłe i czytelne tworzenie kolekcji i generowanie danych na żądanie. Są często używane w praktyce programistycznej, aby zwiększyć czytelność, skrócić kod oraz zoptymalizować przetwarzanie danych. Zrozumienie ich działania i umiejętność ich wykorzystania może znacząco poprawić jakość i wydajność kodu w języku Python."
   ]
  },
  {
   "cell_type": "code",
   "execution_count": 163,
   "id": "1f3f2be6-af83-49dd-b1ab-2a255d4497aa",
   "metadata": {},
   "outputs": [],
   "source": [
    "x = [1,2,3]\n",
    "\n",
    "with open(\"plik.txt\", \"w\") as f:\n",
    "    for el in x:\n",
    "        f.write(f\"{el}\\n\")"
   ]
  },
  {
   "cell_type": "code",
   "execution_count": 164,
   "id": "465a7ec7-e4b2-4b25-9ea7-1f37b577b775",
   "metadata": {},
   "outputs": [
    {
     "name": "stdout",
     "output_type": "stream",
     "text": [
      "1\n",
      "2\n",
      "3\n"
     ]
    }
   ],
   "source": [
    "!type plik.txt"
   ]
  },
  {
   "cell_type": "markdown",
   "id": "9242b10d-5e07-42e4-a255-5f8ab26c37a8",
   "metadata": {},
   "source": [
    "%%writefile cwiczenia/cwiczenie_4_4_5.md\n",
    "\n",
    "### 📝 Ćwiczenie: Analiza Danych z pliku CSV\n",
    "\n",
    "[Cwiczenie_4_4_5](cwiczenia/cwiczenie_4_4_5.md)\n",
    "\n",
    "\n",
    "\n",
    "**Opis zadania:**\n",
    "\n",
    "Twoim zadaniem jest przetworzenie danych z pliku CSV zawierającego informacje o produktach w sklepie spożywczym. Plik CSV ma następującą strukturę:\n",
    "\n",
    "```\n",
    "Produkt,Kategoria,Cena,Ilość\n",
    "Chleb,Pieczywo,2.50,10\n",
    "Mleko,Nabiał,1.20,20\n",
    "Jajka,Nabiał,1.80,30\n",
    "Pomarańcze,Owoce,2.00,15\n",
    "...\n",
    "```\n",
    "\n",
    "Twoje zadanie składa się z trzech części:\n",
    "\n",
    "#### Przygotowanie - zapis danych do pliku\n",
    "\n",
    "#### Część 1\n",
    "\n",
    "Napisz skrypt w Pythonie, który wczytuje dane z pliku CSV i używa dict comprehebsion do stworzenia słownika, gdzie kluczem jest nazwa kategorii, a wartością jest lista produktów należących do tej kategorii. Na przykład:\n",
    "\n",
    "```python\n",
    "{\n",
    "    'Pieczywo': ['Chleb'],\n",
    "    'Nabiał': ['Mleko', 'Jajka'],\n",
    "    'Owoce': ['Pomarańcze'],\n",
    "    ...\n",
    "}\n",
    "```\n",
    "\n",
    "#### **Część 2:**\n",
    "\n",
    "Napisz generator, który generuje informacje o produktach, których cena przekracza określoną wartość. Generator powinien generować te informacje na żądanie, aby uniknąć wczytywania wszystkich danych do pamięci naraz.\n",
    "\n",
    "Po zakończeniu zadania, skrypt powinien wypisać informacje o produktach, których cena przekracza 2.00 złotych.\n",
    "\n",
    "**Wskazówki:**\n",
    "\n",
    "1. Możesz użyć modułu `csv` w Pythonie do wczytania danych z pliku CSV.\n",
    "\n",
    "2. Wyrażenie zrozumiałe może pomóc w grupowaniu produktów według kategorii.\n",
    "\n",
    "3. Generatory pozwalają na leniwe przetwarzanie danych, co jest przydatne przy dużych zbiorach danych.\n",
    "\n",
    "4. Przemyśl, jak przechowywać dane w słowniku w taki sposób, aby były łatwo dostępne w części 2 zadania.\n",
    "\n",
    "To zadanie pozwoli Ci praktycznie wykorzystać wyrażenia zrozumiałe do grupowania danych i generatory do przetwarzania dużych zbiorów danych w sposób efektywny."
   ]
  },
  {
   "cell_type": "code",
   "execution_count": 2,
   "id": "d8d8e352-fba2-4bd9-8ed9-9e8bf88fc12b",
   "metadata": {},
   "outputs": [],
   "source": [
    "with open(\"products.csv\", \"w\") as f:\n",
    "    f.write(\"\"\"Produkt,Kategoria,Cena,Ilość\n",
    "Chleb,Pieczywo,2.50,10\n",
    "Mleko,Nabiał,1.20,20\n",
    "Jajka,Nabiał,1.80,30\n",
    "Pomarańcze,Owoce,2.00,15\"\"\")"
   ]
  },
  {
   "cell_type": "code",
   "execution_count": 3,
   "id": "6882214e-8ea0-472a-bdf6-5459c10452c4",
   "metadata": {},
   "outputs": [
    {
     "name": "stdout",
     "output_type": "stream",
     "text": [
      "Produkty według kategorii:\n",
      "Pieczywo: Chleb\n",
      "Nabiał: Jajka\n",
      "Owoce: Pomarańcze\n",
      "\n",
      "Produkty o cenie powyżej 2.0 zł:\n",
      "Produkt: Chleb, Cena: 2.50 zł\n"
     ]
    }
   ],
   "source": [
    "import csv\n",
    "\n",
    "# Część 1: Wyrażenie zrozumiałe typu słownikowego do grupowania produktów według kategorii\n",
    "def group_products_by_category(csv_file):\n",
    "    with open(csv_file, 'r', newline='') as file:\n",
    "        reader = csv.DictReader(file)\n",
    "        return {row['Kategoria']: [row['Produkt']] for row in reader}\n",
    "\n",
    "csv_file = 'products.csv'\n",
    "category_product_dict = group_products_by_category(csv_file)\n",
    "print(\"Produkty według kategorii:\")\n",
    "for category, products in category_product_dict.items():\n",
    "    print(f\"{category}: {', '.join(products)}\")\n",
    "\n",
    "# Część 2: Generator produktów o wybranej cenie\n",
    "def filter_products_by_price(csv_file, price_threshold):\n",
    "    with open(csv_file, 'r', newline='') as file:\n",
    "        reader = csv.DictReader(file)\n",
    "        for row in reader:\n",
    "            product = row['Produkt']\n",
    "            price = float(row['Cena'])\n",
    "            if price > price_threshold:\n",
    "                yield f\"Produkt: {product}, Cena: {price:.2f} zł\"\n",
    "\n",
    "price_threshold = 2.00  # Próg ceny\n",
    "print(f\"\\nProdukty o cenie powyżej {price_threshold} zł:\")\n",
    "product_generator = filter_products_by_price(csv_file, price_threshold)\n",
    "for product_info in product_generator:\n",
    "    print(product_info)\n"
   ]
  },
  {
   "cell_type": "code",
   "execution_count": null,
   "id": "88072cb2-71bb-46ec-99ec-a63930d54b89",
   "metadata": {},
   "outputs": [],
   "source": []
  }
 ],
 "metadata": {
  "authors": [
   {
    "name": "Rafał Korzeniewski"
   }
  ],
  "kernelspec": {
   "display_name": "Python 3 (ipykernel)",
   "language": "python",
   "name": "python3"
  },
  "language_info": {
   "codemirror_mode": {
    "name": "ipython",
    "version": 3
   },
   "file_extension": ".py",
   "mimetype": "text/x-python",
   "name": "python",
   "nbconvert_exporter": "python",
   "pygments_lexer": "ipython3",
   "version": "3.9.7"
  },
  "title": "Kurs Python Średniozaawansowany - 03 - wbudowane kolekcje",
  "toc": {
   "base_numbering": 1,
   "nav_menu": {},
   "number_sections": true,
   "sideBar": true,
   "skip_h1_title": false,
   "title_cell": "Table of Contents",
   "title_sidebar": "Contents",
   "toc_cell": false,
   "toc_position": {
    "height": "calc(100% - 180px)",
    "left": "10px",
    "top": "150px",
    "width": "410.867px"
   },
   "toc_section_display": true,
   "toc_window_display": true
  }
 },
 "nbformat": 4,
 "nbformat_minor": 5
}
