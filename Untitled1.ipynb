{
 "cells": [
  {
   "cell_type": "code",
   "execution_count": 2,
   "id": "6e017212-7357-4fe4-83ef-8e0143a047a6",
   "metadata": {},
   "outputs": [
    {
     "data": {
      "text/plain": [
       "False"
      ]
     },
     "execution_count": 2,
     "metadata": {},
     "output_type": "execute_result"
    }
   ],
   "source": [
    "x = [1,2,3]\n",
    "isinstance(x,str)"
   ]
  },
  {
   "cell_type": "code",
   "execution_count": 3,
   "id": "2857c2b2-0e3d-417a-b13a-fefe0affc4f8",
   "metadata": {},
   "outputs": [
    {
     "data": {
      "text/plain": [
       "True"
      ]
     },
     "execution_count": 3,
     "metadata": {},
     "output_type": "execute_result"
    }
   ],
   "source": [
    "x = [1,2,3]\n",
    "isinstance(x,list)"
   ]
  },
  {
   "cell_type": "code",
   "execution_count": 6,
   "id": "bda897c2-3f12-46c6-b57f-61bec1f7b517",
   "metadata": {},
   "outputs": [
    {
     "data": {
      "text/plain": [
       "2295637693504"
      ]
     },
     "execution_count": 6,
     "metadata": {},
     "output_type": "execute_result"
    }
   ],
   "source": [
    "id(x)"
   ]
  },
  {
   "cell_type": "code",
   "execution_count": 8,
   "id": "ef1a8617-9535-4115-9609-134e59b87643",
   "metadata": {},
   "outputs": [
    {
     "data": {
      "text/plain": [
       "2295637693504"
      ]
     },
     "execution_count": 8,
     "metadata": {},
     "output_type": "execute_result"
    }
   ],
   "source": [
    "y=x\n",
    "id(y)"
   ]
  },
  {
   "cell_type": "code",
   "execution_count": 11,
   "id": "f22b2a32-7e74-4236-946e-fb894c46e5c5",
   "metadata": {},
   "outputs": [
    {
     "name": "stdout",
     "output_type": "stream",
     "text": [
      "Hello---World!"
     ]
    }
   ],
   "source": [
    "print(\"Hello\", \"World\", sep=\"---\", end=\"!\")  # Hello-World!"
   ]
  },
  {
   "cell_type": "code",
   "execution_count": 12,
   "id": "a5ec224d-425c-400e-b62d-4a07c6d82bbc",
   "metadata": {},
   "outputs": [
    {
     "data": {
      "text/plain": [
       "{'__name__': '__main__',\n",
       " '__doc__': 'Automatically created module for IPython interactive environment',\n",
       " '__package__': None,\n",
       " '__loader__': None,\n",
       " '__spec__': None,\n",
       " '__builtin__': <module 'builtins' (built-in)>,\n",
       " '__builtins__': <module 'builtins' (built-in)>,\n",
       " '_ih': ['',\n",
       "  'x = [1,2,3]\\nisinstance(x,list)',\n",
       "  'x = [1,2,3]\\nisinstance(x,str)',\n",
       "  'x = [1,2,3]\\nisinstance(x,list)',\n",
       "  'id(x)',\n",
       "  'y=x\\nid(y)',\n",
       "  'id(x)',\n",
       "  'y=x.copy()\\nid(y)',\n",
       "  'y=x\\nid(y)',\n",
       "  'print(\"Hello\", \"World\", sep=\"-\", end=\"!\")  # Hello-World!',\n",
       "  'print(\"Hello\", \"World\", sep=\"#######\", end=\"!\")  # Hello-World!',\n",
       "  'print(\"Hello\", \"World\", sep=\"---\", end=\"!\")  # Hello-World!',\n",
       "  'globals()'],\n",
       " '_oh': {1: True,\n",
       "  2: False,\n",
       "  3: True,\n",
       "  4: 2295637693504,\n",
       "  5: 2295637693504,\n",
       "  6: 2295637693504,\n",
       "  7: 2295638429888,\n",
       "  8: 2295637693504},\n",
       " '_dh': [WindowsPath('C:/Users/TO68PR/OneDrive - ING/Documenten/Automation/Python-Backend-axl/k-python-2-14-10-2023')],\n",
       " 'In': ['',\n",
       "  'x = [1,2,3]\\nisinstance(x,list)',\n",
       "  'x = [1,2,3]\\nisinstance(x,str)',\n",
       "  'x = [1,2,3]\\nisinstance(x,list)',\n",
       "  'id(x)',\n",
       "  'y=x\\nid(y)',\n",
       "  'id(x)',\n",
       "  'y=x.copy()\\nid(y)',\n",
       "  'y=x\\nid(y)',\n",
       "  'print(\"Hello\", \"World\", sep=\"-\", end=\"!\")  # Hello-World!',\n",
       "  'print(\"Hello\", \"World\", sep=\"#######\", end=\"!\")  # Hello-World!',\n",
       "  'print(\"Hello\", \"World\", sep=\"---\", end=\"!\")  # Hello-World!',\n",
       "  'globals()'],\n",
       " 'Out': {1: True,\n",
       "  2: False,\n",
       "  3: True,\n",
       "  4: 2295637693504,\n",
       "  5: 2295637693504,\n",
       "  6: 2295637693504,\n",
       "  7: 2295638429888,\n",
       "  8: 2295637693504},\n",
       " 'get_ipython': <bound method InteractiveShell.get_ipython of <ipykernel.zmqshell.ZMQInteractiveShell object at 0x000002167EB26F70>>,\n",
       " 'exit': <IPython.core.autocall.ZMQExitAutocall at 0x2167eb39b50>,\n",
       " 'quit': <IPython.core.autocall.ZMQExitAutocall at 0x2167eb39b50>,\n",
       " 'open': <function io.open(file, mode='r', buffering=-1, encoding=None, errors=None, newline=None, closefd=True, opener=None)>,\n",
       " '_': 2295637693504,\n",
       " '__': 2295638429888,\n",
       " '___': 2295637693504,\n",
       " '__session__': 'C:\\\\Users\\\\TO68PR\\\\OneDrive - ING\\\\Documenten\\\\Automation\\\\Python-Backend-axl\\\\k-python-2-14-10-2023\\\\Untitled1.ipynb',\n",
       " '_i': 'print(\"Hello\", \"World\", sep=\"---\", end=\"!\")  # Hello-World!',\n",
       " '_ii': 'print(\"Hello\", \"World\", sep=\"#######\", end=\"!\")  # Hello-World!',\n",
       " '_iii': 'print(\"Hello\", \"World\", sep=\"-\", end=\"!\")  # Hello-World!',\n",
       " '_i1': 'x = [1,2,3]\\nisinstance(x,list)',\n",
       " 'x': [1, 2, 3],\n",
       " '_1': True,\n",
       " '_i2': 'x = [1,2,3]\\nisinstance(x,str)',\n",
       " '_2': False,\n",
       " '_i3': 'x = [1,2,3]\\nisinstance(x,list)',\n",
       " '_3': True,\n",
       " '_i4': 'id(x)',\n",
       " '_4': 2295637693504,\n",
       " '_i5': 'y=x\\nid(y)',\n",
       " 'y': [1, 2, 3],\n",
       " '_5': 2295637693504,\n",
       " '_i6': 'id(x)',\n",
       " '_6': 2295637693504,\n",
       " '_i7': 'y=x.copy()\\nid(y)',\n",
       " '_7': 2295638429888,\n",
       " '_i8': 'y=x\\nid(y)',\n",
       " '_8': 2295637693504,\n",
       " '_i9': 'print(\"Hello\", \"World\", sep=\"-\", end=\"!\")  # Hello-World!',\n",
       " '_i10': 'print(\"Hello\", \"World\", sep=\"#######\", end=\"!\")  # Hello-World!',\n",
       " '_i11': 'print(\"Hello\", \"World\", sep=\"---\", end=\"!\")  # Hello-World!',\n",
       " '_i12': 'globals()'}"
      ]
     },
     "execution_count": 12,
     "metadata": {},
     "output_type": "execute_result"
    }
   ],
   "source": [
    "globals()"
   ]
  },
  {
   "cell_type": "code",
   "execution_count": 13,
   "id": "aaf96e4d-f2a5-46bb-b7bf-3b8714233098",
   "metadata": {},
   "outputs": [
    {
     "data": {
      "text/plain": [
       "{'__name__': '__main__',\n",
       " '__doc__': 'Automatically created module for IPython interactive environment',\n",
       " '__package__': None,\n",
       " '__loader__': None,\n",
       " '__spec__': None,\n",
       " '__builtin__': <module 'builtins' (built-in)>,\n",
       " '__builtins__': <module 'builtins' (built-in)>,\n",
       " '_ih': ['',\n",
       "  'x = [1,2,3]\\nisinstance(x,list)',\n",
       "  'x = [1,2,3]\\nisinstance(x,str)',\n",
       "  'x = [1,2,3]\\nisinstance(x,list)',\n",
       "  'id(x)',\n",
       "  'y=x\\nid(y)',\n",
       "  'id(x)',\n",
       "  'y=x.copy()\\nid(y)',\n",
       "  'y=x\\nid(y)',\n",
       "  'print(\"Hello\", \"World\", sep=\"-\", end=\"!\")  # Hello-World!',\n",
       "  'print(\"Hello\", \"World\", sep=\"#######\", end=\"!\")  # Hello-World!',\n",
       "  'print(\"Hello\", \"World\", sep=\"---\", end=\"!\")  # Hello-World!',\n",
       "  'globals()',\n",
       "  'locals()'],\n",
       " '_oh': {1: True,\n",
       "  2: False,\n",
       "  3: True,\n",
       "  4: 2295637693504,\n",
       "  5: 2295637693504,\n",
       "  6: 2295637693504,\n",
       "  7: 2295638429888,\n",
       "  8: 2295637693504,\n",
       "  12: {...}},\n",
       " '_dh': [WindowsPath('C:/Users/TO68PR/OneDrive - ING/Documenten/Automation/Python-Backend-axl/k-python-2-14-10-2023')],\n",
       " 'In': ['',\n",
       "  'x = [1,2,3]\\nisinstance(x,list)',\n",
       "  'x = [1,2,3]\\nisinstance(x,str)',\n",
       "  'x = [1,2,3]\\nisinstance(x,list)',\n",
       "  'id(x)',\n",
       "  'y=x\\nid(y)',\n",
       "  'id(x)',\n",
       "  'y=x.copy()\\nid(y)',\n",
       "  'y=x\\nid(y)',\n",
       "  'print(\"Hello\", \"World\", sep=\"-\", end=\"!\")  # Hello-World!',\n",
       "  'print(\"Hello\", \"World\", sep=\"#######\", end=\"!\")  # Hello-World!',\n",
       "  'print(\"Hello\", \"World\", sep=\"---\", end=\"!\")  # Hello-World!',\n",
       "  'globals()',\n",
       "  'locals()'],\n",
       " 'Out': {1: True,\n",
       "  2: False,\n",
       "  3: True,\n",
       "  4: 2295637693504,\n",
       "  5: 2295637693504,\n",
       "  6: 2295637693504,\n",
       "  7: 2295638429888,\n",
       "  8: 2295637693504,\n",
       "  12: {...}},\n",
       " 'get_ipython': <bound method InteractiveShell.get_ipython of <ipykernel.zmqshell.ZMQInteractiveShell object at 0x000002167EB26F70>>,\n",
       " 'exit': <IPython.core.autocall.ZMQExitAutocall at 0x2167eb39b50>,\n",
       " 'quit': <IPython.core.autocall.ZMQExitAutocall at 0x2167eb39b50>,\n",
       " 'open': <function io.open(file, mode='r', buffering=-1, encoding=None, errors=None, newline=None, closefd=True, opener=None)>,\n",
       " '_': {...},\n",
       " '__': 2295637693504,\n",
       " '___': 2295638429888,\n",
       " '__session__': 'C:\\\\Users\\\\TO68PR\\\\OneDrive - ING\\\\Documenten\\\\Automation\\\\Python-Backend-axl\\\\k-python-2-14-10-2023\\\\Untitled1.ipynb',\n",
       " '_i': 'globals()',\n",
       " '_ii': 'print(\"Hello\", \"World\", sep=\"---\", end=\"!\")  # Hello-World!',\n",
       " '_iii': 'print(\"Hello\", \"World\", sep=\"#######\", end=\"!\")  # Hello-World!',\n",
       " '_i1': 'x = [1,2,3]\\nisinstance(x,list)',\n",
       " 'x': [1, 2, 3],\n",
       " '_1': True,\n",
       " '_i2': 'x = [1,2,3]\\nisinstance(x,str)',\n",
       " '_2': False,\n",
       " '_i3': 'x = [1,2,3]\\nisinstance(x,list)',\n",
       " '_3': True,\n",
       " '_i4': 'id(x)',\n",
       " '_4': 2295637693504,\n",
       " '_i5': 'y=x\\nid(y)',\n",
       " 'y': [1, 2, 3],\n",
       " '_5': 2295637693504,\n",
       " '_i6': 'id(x)',\n",
       " '_6': 2295637693504,\n",
       " '_i7': 'y=x.copy()\\nid(y)',\n",
       " '_7': 2295638429888,\n",
       " '_i8': 'y=x\\nid(y)',\n",
       " '_8': 2295637693504,\n",
       " '_i9': 'print(\"Hello\", \"World\", sep=\"-\", end=\"!\")  # Hello-World!',\n",
       " '_i10': 'print(\"Hello\", \"World\", sep=\"#######\", end=\"!\")  # Hello-World!',\n",
       " '_i11': 'print(\"Hello\", \"World\", sep=\"---\", end=\"!\")  # Hello-World!',\n",
       " '_i12': 'globals()',\n",
       " '_12': {...},\n",
       " '_i13': 'locals()'}"
      ]
     },
     "execution_count": 13,
     "metadata": {},
     "output_type": "execute_result"
    }
   ],
   "source": [
    "locals()"
   ]
  },
  {
   "cell_type": "code",
   "execution_count": 16,
   "id": "476fe0f0-8a1d-40ea-8681-661e232726cf",
   "metadata": {},
   "outputs": [
    {
     "name": "stdout",
     "output_type": "stream",
     "text": [
      "{'__name__': '__main__', '__doc__': 'Automatically created module for IPython interactive environment', '__package__': None, '__loader__': None, '__spec__': None, '__builtin__': <module 'builtins' (built-in)>, '__builtins__': <module 'builtins' (built-in)>, '_ih': ['', 'x = [1,2,3]\\nisinstance(x,list)', 'x = [1,2,3]\\nisinstance(x,str)', 'x = [1,2,3]\\nisinstance(x,list)', 'id(x)', 'y=x\\nid(y)', 'id(x)', 'y=x.copy()\\nid(y)', 'y=x\\nid(y)', 'print(\"Hello\", \"World\", sep=\"-\", end=\"!\")  # Hello-World!', 'print(\"Hello\", \"World\", sep=\"#######\", end=\"!\")  # Hello-World!', 'print(\"Hello\", \"World\", sep=\"---\", end=\"!\")  # Hello-World!', 'globals()', 'locals()', 'def foo():\\n    a = 1\\n    print(locals())\\n    print(globals())\\n\\nfoo()', 'def foo():\\n    a = 1\\n    print(locals())\\n\\n\\nfoo()', 'def foo():\\n    a = 1\\n   # print(locals())\\n    print(globals())\\n\\nfoo()'], '_oh': {1: True, 2: False, 3: True, 4: 2295637693504, 5: 2295637693504, 6: 2295637693504, 7: 2295638429888, 8: 2295637693504, 12: {...}, 13: {...}}, '_dh': [WindowsPath('C:/Users/TO68PR/OneDrive - ING/Documenten/Automation/Python-Backend-axl/k-python-2-14-10-2023')], 'In': ['', 'x = [1,2,3]\\nisinstance(x,list)', 'x = [1,2,3]\\nisinstance(x,str)', 'x = [1,2,3]\\nisinstance(x,list)', 'id(x)', 'y=x\\nid(y)', 'id(x)', 'y=x.copy()\\nid(y)', 'y=x\\nid(y)', 'print(\"Hello\", \"World\", sep=\"-\", end=\"!\")  # Hello-World!', 'print(\"Hello\", \"World\", sep=\"#######\", end=\"!\")  # Hello-World!', 'print(\"Hello\", \"World\", sep=\"---\", end=\"!\")  # Hello-World!', 'globals()', 'locals()', 'def foo():\\n    a = 1\\n    print(locals())\\n    print(globals())\\n\\nfoo()', 'def foo():\\n    a = 1\\n    print(locals())\\n\\n\\nfoo()', 'def foo():\\n    a = 1\\n   # print(locals())\\n    print(globals())\\n\\nfoo()'], 'Out': {1: True, 2: False, 3: True, 4: 2295637693504, 5: 2295637693504, 6: 2295637693504, 7: 2295638429888, 8: 2295637693504, 12: {...}, 13: {...}}, 'get_ipython': <bound method InteractiveShell.get_ipython of <ipykernel.zmqshell.ZMQInteractiveShell object at 0x000002167EB26F70>>, 'exit': <IPython.core.autocall.ZMQExitAutocall object at 0x000002167EB39B50>, 'quit': <IPython.core.autocall.ZMQExitAutocall object at 0x000002167EB39B50>, 'open': <function open at 0x000002167D4B7EE0>, '_': {...}, '__': {...}, '___': 2295637693504, '__session__': 'C:\\\\Users\\\\TO68PR\\\\OneDrive - ING\\\\Documenten\\\\Automation\\\\Python-Backend-axl\\\\k-python-2-14-10-2023\\\\Untitled1.ipynb', '_i': 'def foo():\\n    a = 1\\n    print(locals())\\n\\n\\nfoo()', '_ii': 'def foo():\\n    a = 1\\n    print(locals())\\n    print(globals())\\n\\nfoo()', '_iii': 'locals()', '_i1': 'x = [1,2,3]\\nisinstance(x,list)', 'x': [1, 2, 3], '_1': True, '_i2': 'x = [1,2,3]\\nisinstance(x,str)', '_2': False, '_i3': 'x = [1,2,3]\\nisinstance(x,list)', '_3': True, '_i4': 'id(x)', '_4': 2295637693504, '_i5': 'y=x\\nid(y)', 'y': [1, 2, 3], '_5': 2295637693504, '_i6': 'id(x)', '_6': 2295637693504, '_i7': 'y=x.copy()\\nid(y)', '_7': 2295638429888, '_i8': 'y=x\\nid(y)', '_8': 2295637693504, '_i9': 'print(\"Hello\", \"World\", sep=\"-\", end=\"!\")  # Hello-World!', '_i10': 'print(\"Hello\", \"World\", sep=\"#######\", end=\"!\")  # Hello-World!', '_i11': 'print(\"Hello\", \"World\", sep=\"---\", end=\"!\")  # Hello-World!', '_i12': 'globals()', '_12': {...}, '_i13': 'locals()', '_13': {...}, '_i14': 'def foo():\\n    a = 1\\n    print(locals())\\n    print(globals())\\n\\nfoo()', 'foo': <function foo at 0x000002167EB74940>, '_i15': 'def foo():\\n    a = 1\\n    print(locals())\\n\\n\\nfoo()', '_i16': 'def foo():\\n    a = 1\\n   # print(locals())\\n    print(globals())\\n\\nfoo()'}\n"
     ]
    }
   ],
   "source": [
    "def foo():\n",
    "    a = 1\n",
    "   # print(locals())\n",
    "    print(globals())\n",
    "\n",
    "foo()"
   ]
  },
  {
   "cell_type": "code",
   "execution_count": 18,
   "id": "b466235d-f80d-4f07-999d-22e675e45a3c",
   "metadata": {},
   "outputs": [
    {
     "name": "stdout",
     "output_type": "stream",
     "text": [
      "[]\n"
     ]
    }
   ],
   "source": [
    "import math\n",
    "import inspect\n",
    "\n",
    "functions_in_math = inspect.getmembers(math, inspect.isfunction)\n",
    "print(functions_in_math)"
   ]
  },
  {
   "cell_type": "code",
   "execution_count": 46,
   "id": "c729c52e-f46b-451a-bde8-eea60531beae",
   "metadata": {},
   "outputs": [],
   "source": [
    "class Osoba:\n",
    "    def __init__(self, imie, wiek):\n",
    "        self.imie = imie\n",
    "        self.wiek = wiek\n",
    "\n",
    "    def __str__(self):\n",
    "        return self.imie + \", \" + str(self.wiek) + \" lat\"\n",
    "\n",
    "    def __repr__(self):\n",
    "        return  \"<Osoba: \"+self.imie + \", \" + str(self.wiek) + \" lat>\""
   ]
  },
  {
   "cell_type": "code",
   "execution_count": 47,
   "id": "307ecc3a-8236-4451-8a1d-3d0087ca89b3",
   "metadata": {},
   "outputs": [
    {
     "name": "stdout",
     "output_type": "stream",
     "text": [
      "Anna, 30 lat\n"
     ]
    }
   ],
   "source": [
    "os = Osoba('Anna',30)\n",
    "print(os)"
   ]
  },
  {
   "cell_type": "code",
   "execution_count": 48,
   "id": "01a0b796-6227-4aee-bdbc-0b3954a4e9bf",
   "metadata": {},
   "outputs": [
    {
     "name": "stdout",
     "output_type": "stream",
     "text": [
      "[<Osoba: Anna, 30 lat>]\n"
     ]
    }
   ],
   "source": [
    "os = Osoba('Anna',30)\n",
    "print(([os]))\n",
    "#print(os)"
   ]
  },
  {
   "cell_type": "code",
   "execution_count": 49,
   "id": "7d1f46cb-76f2-4155-993d-2f1a4853f6ca",
   "metadata": {},
   "outputs": [
    {
     "name": "stdout",
     "output_type": "stream",
     "text": [
      "a\n",
      "m\n",
      "a\n",
      "n\n",
      "a\n",
      "p\n",
      "l\n",
      "a\n",
      "n\n",
      "a\n",
      "c\n",
      "a\n",
      "n\n",
      "a\n",
      "l\n",
      "p\n",
      "a\n",
      "n\n",
      "a\n",
      "m\n",
      "a\n",
      "[None, None, None, None, None, None, None, None, None, None, None, None, None, None, None, None, None, None, None, None, None]\n"
     ]
    }
   ],
   "source": [
    "\n",
    "def czysc_napis(napis):\n",
    "    return [print(x) for x in napis.lower() if x.isalnum()]\n",
    "\n",
    "def palindrom(napis):\n",
    "    napis = czysc_napis(napis)\n",
    "    return napis == napis[::-1]\n",
    "\n",
    "print(czysc_napis(\"A man a plan a canal Panama\"))"
   ]
  },
  {
   "cell_type": "code",
   "execution_count": null,
   "id": "c170ef8d-9800-453f-8135-cd6a7ac897c9",
   "metadata": {},
   "outputs": [],
   "source": []
  }
 ],
 "metadata": {
  "kernelspec": {
   "display_name": "Python 3 (ipykernel)",
   "language": "python",
   "name": "python3"
  },
  "language_info": {
   "codemirror_mode": {
    "name": "ipython",
    "version": 3
   },
   "file_extension": ".py",
   "mimetype": "text/x-python",
   "name": "python",
   "nbconvert_exporter": "python",
   "pygments_lexer": "ipython3",
   "version": "3.9.7"
  }
 },
 "nbformat": 4,
 "nbformat_minor": 5
}
