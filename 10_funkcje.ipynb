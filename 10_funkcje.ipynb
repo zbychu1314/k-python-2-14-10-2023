{
 "cells": [
  {
   "cell_type": "markdown",
   "id": "43e9e5c0-210a-48fd-9d67-be9acbf9c73d",
   "metadata": {},
   "source": [
    "# Funkcje\n",
    "\n",
    "\n",
    "Python, jako jeden z najbardziej wszechstronnych języków programowania, oferuje różnorodne sposoby definiowania i wykorzystywania funkcji. W tym artykule przejdziemy od podstaw tworzenia funkcji po bardziej zaawansowane koncepcje, które pozwolą Ci pisać bardziej elastyczne i mocne aplikacje.\n",
    "\n",
    "## Podstawy\n",
    "\n",
    "Funkcje w Pythonie definiuje się za pomocą słowa kluczowego `def`, po którym następuje nazwa funkcji oraz nawiasy zawierające ewentualne argumenty.\n",
    "\n",
    "Przykład:"
   ]
  },
  {
   "cell_type": "code",
   "execution_count": 2,
   "id": "31b704eb-8d04-46fe-853f-95b90f35c4aa",
   "metadata": {},
   "outputs": [
    {
     "name": "stdout",
     "output_type": "stream",
     "text": [
      "Witaj w świecie Pythona!\n"
     ]
    }
   ],
   "source": [
    "\n",
    "def powitanie():\n",
    "    print(\"Witaj w świecie Pythona!\")\n",
    "\n",
    "powitanie()  # Wywołanie funkcji\n"
   ]
  },
  {
   "cell_type": "code",
   "execution_count": 3,
   "id": "c388acf8-837d-41fd-b5ff-d2d59828061e",
   "metadata": {},
   "outputs": [
    {
     "name": "stdout",
     "output_type": "stream",
     "text": [
      "Witaj w świecie Pythona!\n"
     ]
    }
   ],
   "source": [
    "x = powitanie\n",
    "x()"
   ]
  },
  {
   "cell_type": "markdown",
   "id": "4b6f3fa1-1d08-4245-8db7-d8a43e1d544f",
   "metadata": {},
   "source": [
    "### Funkcje z argumentami\n",
    "\n",
    "Argumenty funkcji pozwalają na przekazywanie informacji do wnętrza funkcji."
   ]
  },
  {
   "cell_type": "markdown",
   "id": "74854476-3485-4afe-b057-b7bae52c7311",
   "metadata": {},
   "source": [
    "Przykład:"
   ]
  },
  {
   "cell_type": "code",
   "execution_count": 2,
   "id": "a79b928e-6719-48ad-b89d-94bdb050a787",
   "metadata": {},
   "outputs": [
    {
     "name": "stdout",
     "output_type": "stream",
     "text": [
      "Witaj, Ania!\n"
     ]
    }
   ],
   "source": [
    "\n",
    "def powitanie(imie):\n",
    "    print(f\"Witaj, {imie}!\")\n",
    "\n",
    "powitanie(\"Ania\")  # Wywołanie funkcji z argumentem\n"
   ]
  },
  {
   "cell_type": "markdown",
   "id": "ad3b13f2-7d5f-460d-9eb5-b2b09b096ce8",
   "metadata": {},
   "source": [
    "### Wartości domyślne argumentów\n",
    "\n",
    "Możemy zdefiniować wartości domyślne dla argumentów, co czyni je opcjonalnymi podczas wywoływania funkcji.\n",
    "\n",
    "Przykład:"
   ]
  },
  {
   "cell_type": "code",
   "execution_count": 3,
   "id": "ae6057b3-57dc-46f3-a91c-dbb68f61ed28",
   "metadata": {},
   "outputs": [
    {
     "name": "stdout",
     "output_type": "stream",
     "text": [
      "Witaj, Przyjacielu!\n",
      "Witaj, Kasia!\n"
     ]
    }
   ],
   "source": [
    "\n",
    "def powitanie(imie=\"Przyjacielu\"):\n",
    "    print(f\"Witaj, {imie}!\")\n",
    "\n",
    "powitanie()  # Użyje wartości domyślnej\n",
    "powitanie(\"Kasia\")  # Podana wartość nadpisze wartość domyślną\n"
   ]
  },
  {
   "cell_type": "code",
   "execution_count": 8,
   "id": "e2eabf47-9ad9-4483-a4a7-516ddcf8a5fa",
   "metadata": {},
   "outputs": [
    {
     "name": "stdout",
     "output_type": "stream",
     "text": [
      "a= 2 b= 1 c= 10 d= 20\n"
     ]
    }
   ],
   "source": [
    "def dzialanie(a, b, c=10, d=20):\n",
    "    print(\"a=\",a, \"b=\",b, \"c=\",c, \"d=\",d)\n",
    "\n",
    "dzialanie(b=1, a=2)"
   ]
  },
  {
   "cell_type": "code",
   "execution_count": 9,
   "id": "1e5660a0-14df-4178-a232-ba259a24173f",
   "metadata": {},
   "outputs": [
    {
     "name": "stdout",
     "output_type": "stream",
     "text": [
      "a= 2 b= 1 c= 12 d= 24\n"
     ]
    }
   ],
   "source": [
    "dzialanie(d=24, c=12, b=1, a=2)"
   ]
  },
  {
   "cell_type": "code",
   "execution_count": 12,
   "id": "045db20b-e24c-4267-9134-a90360bc3d35",
   "metadata": {},
   "outputs": [
    {
     "name": "stdout",
     "output_type": "stream",
     "text": [
      "a= 1 b= 20 c= 2 d= 20\n"
     ]
    }
   ],
   "source": [
    "dzialanie(1,  c=2, b=20)"
   ]
  },
  {
   "cell_type": "markdown",
   "id": "54a4f32b-43e4-4e9e-8f9c-7674059573c7",
   "metadata": {},
   "source": [
    "### *args i **kwargs\n",
    "\n",
    "Python pozwala na przyjęcie zmiennej liczby argumentów za pomocą specjalnych symboli: *args dla argumentów pozycyjnych i **kwargs dla nazwanych argumentów.\n",
    "\n",
    "Przykład:"
   ]
  },
  {
   "cell_type": "code",
   "execution_count": 14,
   "id": "df63cfc3-0b33-49b0-837c-a618c33699d2",
   "metadata": {},
   "outputs": [
    {
     "name": "stdout",
     "output_type": "stream",
     "text": [
      "Arg: 1\n",
      "Arg: 2\n",
      "Arg: 3\n",
      "Key: a, Value: 4\n",
      "Key: b, Value: 5\n",
      "Arg: 1\n",
      "Arg: 2\n",
      "Arg: 3\n",
      "Arg: 4\n",
      "Arg: 5\n",
      "Arg: 6\n",
      "Arg: 6\n",
      "Key: a, Value: 4\n",
      "Key: b, Value: 5\n",
      "Key: r, Value: 1\n"
     ]
    }
   ],
   "source": [
    "\n",
    "def funkcja(*args, **kwargs):\n",
    "    for arg in args:\n",
    "        print(f\"Arg: {arg}\")\n",
    "    for key, value in kwargs.items():\n",
    "        print(f\"Key: {key}, Value: {value}\")\n",
    "\n",
    "funkcja(1, 2, 3, a=4, b=5)\n",
    "\n",
    "funkcja()\n",
    "\n",
    "funkcja(1, 2, 3, 4, 5, 6, 6, a=4, b=5, r=1)\n"
   ]
  },
  {
   "cell_type": "markdown",
   "id": "38171921-5230-46ca-9f93-bb8987f0baa5",
   "metadata": {},
   "source": [
    "### Wymuszanie nazw argumentów\n",
    "Python 3.8 wprowadził funkcję, która wymusza używanie nazw argumentów w wywołaniach funkcji, uniemożliwiając wywołanie oparte wyłącznie na pozycji. Używa się do tego operatora `*`."
   ]
  },
  {
   "cell_type": "markdown",
   "id": "5a739f89-904c-46a0-a90f-16acdf63927c",
   "metadata": {},
   "source": [
    "Przykład:"
   ]
  },
  {
   "cell_type": "code",
   "execution_count": 16,
   "id": "e03ec4e2-ebab-4403-88df-70bf6f15a8bf",
   "metadata": {},
   "outputs": [
    {
     "name": "stdout",
     "output_type": "stream",
     "text": [
      "1 2 3\n"
     ]
    },
    {
     "ename": "TypeError",
     "evalue": "funkcja() takes 2 positional arguments but 3 were given",
     "output_type": "error",
     "traceback": [
      "\u001b[1;31m---------------------------------------------------------------------------\u001b[0m",
      "\u001b[1;31mTypeError\u001b[0m                                 Traceback (most recent call last)",
      "Cell \u001b[1;32mIn[16], line 5\u001b[0m\n\u001b[0;32m      2\u001b[0m     \u001b[38;5;28mprint\u001b[39m(a, b, c)\n\u001b[0;32m      4\u001b[0m funkcja(\u001b[38;5;241m1\u001b[39m, \u001b[38;5;241m2\u001b[39m, c\u001b[38;5;241m=\u001b[39m\u001b[38;5;241m3\u001b[39m)  \u001b[38;5;66;03m# Poprawne wywołanie\u001b[39;00m\n\u001b[1;32m----> 5\u001b[0m \u001b[43mfunkcja\u001b[49m\u001b[43m(\u001b[49m\u001b[38;5;241;43m1\u001b[39;49m\u001b[43m,\u001b[49m\u001b[43m \u001b[49m\u001b[38;5;241;43m2\u001b[39;49m\u001b[43m,\u001b[49m\u001b[43m \u001b[49m\u001b[38;5;241;43m3\u001b[39;49m\u001b[43m)\u001b[49m  \u001b[38;5;66;03m# Niepoprawne wywołanie\u001b[39;00m\n",
      "\u001b[1;31mTypeError\u001b[0m: funkcja() takes 2 positional arguments but 3 were given"
     ]
    }
   ],
   "source": [
    "def funkcja(a, b, *, c):\n",
    "    print(a, b, c)\n",
    "\n",
    "funkcja(1, 2, c=3)  # Poprawne wywołanie\n",
    "funkcja(1, 2, 3)  # Niepoprawne wywołanie"
   ]
  },
  {
   "cell_type": "code",
   "execution_count": 27,
   "id": "c1449fc6-f112-4a23-b4b3-d5e55feacf77",
   "metadata": {},
   "outputs": [],
   "source": [
    "def sumator(a, b, *, to_float: bool = False):\n",
    "    result = a+ b\n",
    "    if to_float is True:\n",
    "        result = float(result)\n",
    "    return result"
   ]
  },
  {
   "cell_type": "code",
   "execution_count": 28,
   "id": "c50b78dd-78e9-4a84-af72-7389104a0f8e",
   "metadata": {},
   "outputs": [
    {
     "data": {
      "text/plain": [
       "3.0"
      ]
     },
     "execution_count": 28,
     "metadata": {},
     "output_type": "execute_result"
    }
   ],
   "source": [
    "sumator(1, 2, to_float=True)"
   ]
  },
  {
   "cell_type": "code",
   "execution_count": 29,
   "id": "cd79e815-9b6e-4797-b3cf-9b34e7a7bc47",
   "metadata": {},
   "outputs": [
    {
     "ename": "TypeError",
     "evalue": "sumator() takes 2 positional arguments but 3 were given",
     "output_type": "error",
     "traceback": [
      "\u001b[1;31m---------------------------------------------------------------------------\u001b[0m",
      "\u001b[1;31mTypeError\u001b[0m                                 Traceback (most recent call last)",
      "Cell \u001b[1;32mIn[29], line 1\u001b[0m\n\u001b[1;32m----> 1\u001b[0m \u001b[43msumator\u001b[49m\u001b[43m(\u001b[49m\u001b[38;5;241;43m1\u001b[39;49m\u001b[43m,\u001b[49m\u001b[43m \u001b[49m\u001b[38;5;241;43m2\u001b[39;49m\u001b[43m,\u001b[49m\u001b[43m \u001b[49m\u001b[38;5;28;43;01mTrue\u001b[39;49;00m\u001b[43m)\u001b[49m\n",
      "\u001b[1;31mTypeError\u001b[0m: sumator() takes 2 positional arguments but 3 were given"
     ]
    }
   ],
   "source": [
    "sumator(1, 2, True)"
   ]
  },
  {
   "cell_type": "code",
   "execution_count": 30,
   "id": "2ad244c7-a2ef-4d59-90ae-ea259e95da7a",
   "metadata": {},
   "outputs": [
    {
     "name": "stdout",
     "output_type": "stream",
     "text": [
      "('koszt cena PLN', 'kwota $cena brutto')\n",
      "{'cena': 10}\n"
     ]
    }
   ],
   "source": [
    "def foo(*args, format_prefix=\"$\", **kwargs):\n",
    "    print(args)\n",
    "    print(kwargs)\n",
    "\n",
    "\n",
    "foo('koszt ^cena PLN', 'kwota $cena brutto', format_prefix=\"^\", cena=10,)\n",
    "'koszt 10 PLN\\nkwota $cena brutto'"
   ]
  },
  {
   "cell_type": "code",
   "execution_count": 35,
   "id": "d50efa9c-e9ac-4d93-8de7-8a1a7c1deceb",
   "metadata": {},
   "outputs": [
    {
     "data": {
      "text/plain": [
       "'2 1'"
      ]
     },
     "execution_count": 35,
     "metadata": {},
     "output_type": "execute_result"
    }
   ],
   "source": [
    "\"{b} {a}\".format(a=1, b=2)"
   ]
  },
  {
   "cell_type": "code",
   "execution_count": 38,
   "id": "1e75c538-5ad2-4b9b-b800-e1dcf6742acc",
   "metadata": {},
   "outputs": [
    {
     "data": {
      "text/plain": [
       "'10 PLN'"
      ]
     },
     "execution_count": 38,
     "metadata": {},
     "output_type": "execute_result"
    }
   ],
   "source": [
    "\"$cena PLN\".replace(\"$cena\", str(10))"
   ]
  },
  {
   "cell_type": "code",
   "execution_count": 32,
   "id": "25b4e82b-6786-47a4-b3de-2036aca1f5d5",
   "metadata": {},
   "outputs": [
    {
     "name": "stdout",
     "output_type": "stream",
     "text": [
      "('$a, $A', 'B', '$a')\n",
      "{'a': 14, 'A': 20}\n"
     ]
    }
   ],
   "source": [
    "foo(\"$a, $A\", \"B\", \"$a\", a=14, A=20)"
   ]
  },
  {
   "cell_type": "markdown",
   "id": "9d22c2f6-2de7-4780-882c-d284ed6e0393",
   "metadata": {},
   "source": [
    "W tym przykładzie `c` musi być zawsze wywoływane z użyciem nazwy.\n",
    "\n",
    "Zrozumienie tych aspektów funkcji w Pythonie pozwala na bardziej efektywne i elastyczne projektowanie twojego kodu. Dzięki temu, że możesz kontrolować, jak i które informacje są przekazywane do twoich funkcji, masz możliwość tworzenia bardziej rozbudowanych, ale zarazem czytelnych i łatwych do zarządzania programów."
   ]
  },
  {
   "cell_type": "markdown",
   "id": "8977aaf2-5659-488c-803f-9369355e6cf6",
   "metadata": {},
   "source": [
    "### 📝 Ćwiczenie: *args i **kwargs\n",
    "\n",
    "Zaimplementuj funkcję formatującą podane napisy.\n",
    "\n",
    "Przykład użycia:\n",
    "\n",
    "    >>> formatuj('koszt $cena PLN', 'kwota $cena brutto', cena=10,)\n",
    "    'koszt 10 PLN\\nkwota 10 brutto'\n",
    "\n",
    "    >>> formatuj('koszt cena PLN', 'kwota $cena brutto', cena=10,)\n",
    "    'koszt cena PLN\\nkwota 10 brutto'\n",
    "\n",
    "    >>> formatuj('kwota $cena brutto', cena=10,)\n",
    "    'kwota 10 brutto'\n",
    "\n",
    "    >>> formatuj(\"$a, $A\")\n",
    "    '$a, $A'\n",
    "\n",
    "    >>> formatuj(\"$a, $A\", a=14, A=20)\n",
    "    '14, 20'\n",
    "\n",
    "    \n",
    "    >>> formatuj(\"$a, $A\", \"B\", \"$a\" a=14, A=20)\n",
    "    '14, 20\\nB\\n14'"
   ]
  },
  {
   "cell_type": "markdown",
   "id": "6a19c5df-3731-4614-a055-41db0336b207",
   "metadata": {},
   "source": [
    "## Funkcje w roli parametrów i atrybutów, atrybuty funkcji\n",
    "\n",
    "W dynamicznie typowanym języku, jakim jest Python, funkcje to obiekty pierwszej klasy. Oznacza to, że mogą być one przekazywane do innych funkcji w roli parametrów, mogą być wynikami funkcji, mogą być przechowywane jako zmienne i mają możliwość posiadania własnych atrybutów i metod. W niniejszym artykule skupimy się na dwóch aspektach: funkcji jako parametrze oraz funkcji posiadającej atrybuty.\n",
    "\n",
    "###  Funkcja jako parametr:\n",
    "\n",
    "Podejście to jest często stosowane w programowaniu funkcyjnym i pozwala na znaczne zwiększenie elastyczności kodu. Dzięki temu możliwe jest na przykład tworzenie bardziej ogólnych funkcji, które wykonują logikę zależną od przekazanych funkcji.\n",
    "\n",
    "Przykład:"
   ]
  },
  {
   "cell_type": "code",
   "execution_count": 6,
   "id": "97fe56bc-f03c-4dc3-b842-ba3e526bb8cc",
   "metadata": {},
   "outputs": [
    {
     "name": "stdout",
     "output_type": "stream",
     "text": [
      "9\n"
     ]
    }
   ],
   "source": [
    "def wykonaj_operacje(funkcja, argument):\n",
    "    return funkcja(argument)\n",
    "\n",
    "def kwadrat(x):\n",
    "    return x * x\n",
    "\n",
    "wynik = wykonaj_operacje(kwadrat, 3)\n",
    "print(wynik)  # Wynikiem będzie 9"
   ]
  },
  {
   "cell_type": "markdown",
   "id": "507a7622-585f-44e8-a277-b42befb872ac",
   "metadata": {},
   "source": [
    "W powyższym przykładzie funkcja `wykonaj_operacje` akceptuje inną funkcję jako argument, co pozwala na dynamiczne decydowanie o wykonywanej operacji.\n",
    "\n",
    "### Funkcja z atrybutami:\n",
    "\n",
    "Funkcje w Pythonie są obiektami i, jak każdy obiekt, mogą mieć atrybuty. Te atrybuty mogą przechowywać dodatkowe informacje i mogą być modyfikowane. Jest to przydatne, na przykład, do przechowywania stanu lub informacji między wywołaniami funkcji.\n",
    "\n",
    "Przykład:"
   ]
  },
  {
   "cell_type": "code",
   "execution_count": 7,
   "id": "dcf855d5-2dd4-4a60-bc7c-2df075091f4a",
   "metadata": {},
   "outputs": [
    {
     "name": "stdout",
     "output_type": "stream",
     "text": [
      "To jest wywołanie numer 1\n",
      "To jest wywołanie numer 2\n"
     ]
    }
   ],
   "source": [
    "def moja_funkcja():\n",
    "    if not hasattr(moja_funkcja, \"licznik\"):\n",
    "        moja_funkcja.licznik = 0  # Ustawienie atrybutu\n",
    "    moja_funkcja.licznik += 1\n",
    "    print(f\"To jest wywołanie numer {moja_funkcja.licznik}\")\n",
    "\n",
    "moja_funkcja()\n",
    "moja_funkcja()"
   ]
  },
  {
   "cell_type": "markdown",
   "id": "a5bb54ca-4458-4302-b593-a9e32bcfd498",
   "metadata": {},
   "source": [
    "W tym przypadku `moja_funkcja` przechowuje informację o liczbie swoich wywołań, zachowując ten stan pomiędzy wywołaniami."
   ]
  },
  {
   "cell_type": "markdown",
   "id": "c79ec0d5-d91f-4897-869c-17d1b1c52b9d",
   "metadata": {},
   "source": [
    "### Funkcja jako atrybut\n",
    "\n",
    "Funkcja nie tylko moze posiadać atrybuty ale i może też być atrybutem. Który może być ustawiony zarówno w tej funkcji jak i poza nią"
   ]
  },
  {
   "cell_type": "code",
   "execution_count": 8,
   "id": "29a45a1b-f8e2-430f-8b76-4942d824f37b",
   "metadata": {},
   "outputs": [
    {
     "name": "stdout",
     "output_type": "stream",
     "text": [
      "To jest wywołanie numer 1\n",
      "To jest wywołanie numer 2\n",
      "To jest wywołanie numer 4\n"
     ]
    }
   ],
   "source": [
    "def square_index_system(x):\n",
    "    if x <= 1:\n",
    "        x += 1\n",
    "    else:\n",
    "        x = x ** 2\n",
    "    return x\n",
    "\n",
    "def moja_funkcja():\n",
    "\n",
    "    moja_funkcja.index_function = square_index_system\n",
    "    \n",
    "    if not hasattr(moja_funkcja, \"licznik\"):\n",
    "        moja_funkcja.licznik = 0  # Ustawienie atrybutu\n",
    "    moja_funkcja.licznik = moja_funkcja.index_function(moja_funkcja.licznik)\n",
    "    print(f\"To jest wywołanie numer {moja_funkcja.licznik}\")\n",
    "\n",
    "moja_funkcja()\n",
    "moja_funkcja()\n",
    "moja_funkcja()"
   ]
  },
  {
   "cell_type": "code",
   "execution_count": 9,
   "id": "f384db63-90c7-46eb-b166-f640689c2e9f",
   "metadata": {},
   "outputs": [
    {
     "name": "stdout",
     "output_type": "stream",
     "text": [
      "To jest wywołanie numer 1\n",
      "To jest wywołanie numer 2\n",
      "To jest wywołanie numer 4\n"
     ]
    }
   ],
   "source": [
    "def square_index_system(x):\n",
    "    if x <= 1:\n",
    "        x += 1\n",
    "    else:\n",
    "        x = x ** 2\n",
    "    return x\n",
    "\n",
    "def moja_funkcja():\n",
    "    if not hasattr(moja_funkcja, \"licznik\"):\n",
    "        moja_funkcja.licznik = 0  # Ustawienie atrybutu\n",
    "    moja_funkcja.licznik = moja_funkcja.index_function(moja_funkcja.licznik)\n",
    "    print(f\"To jest wywołanie numer {moja_funkcja.licznik}\")\n",
    "\n",
    "moja_funkcja.index_function = square_index_system\n",
    "\n",
    "moja_funkcja()\n",
    "moja_funkcja()\n",
    "moja_funkcja()"
   ]
  },
  {
   "cell_type": "markdown",
   "id": "0a19676c-741d-4273-bd9f-bb093d1056f8",
   "metadata": {},
   "source": [
    "### funkcja jako `wartość`"
   ]
  },
  {
   "cell_type": "code",
   "execution_count": 10,
   "id": "36f09e81-9fe1-4493-8b15-637b3386e990",
   "metadata": {},
   "outputs": [
    {
     "name": "stdout",
     "output_type": "stream",
     "text": [
      "To jest wywołanie numer 1\n",
      "To jest wywołanie numer 2\n",
      "To jest wywołanie numer 8\n"
     ]
    }
   ],
   "source": [
    "def plus_one(x): return x + 1\n",
    "\n",
    "def square(x): return x ** 2 if x > 1 else 2\n",
    "\n",
    "def cube(x): return x ** 3  if x > 1 else 2\n",
    "\n",
    "def moja_funkcja():    \n",
    "    if not hasattr(moja_funkcja, \"licznik\"):\n",
    "        moja_funkcja.licznik = 0  # Ustawienie atrybutu\n",
    "    moja_funkcja.licznik = moja_funkcja.index_function(moja_funkcja.licznik)\n",
    "    print(f\"To jest wywołanie numer {moja_funkcja.licznik}\")\n",
    "\n",
    "\n",
    "indexers = plus_one, square, cube\n",
    "\n",
    "for indexer in indexers:\n",
    "    \n",
    "    moja_funkcja.index_function = indexer\n",
    "    moja_funkcja()"
   ]
  },
  {
   "cell_type": "markdown",
   "id": "893d6af6-9972-401b-855f-fd9e2b048f91",
   "metadata": {},
   "source": [
    "W powyższym przykładzie funkcja przechowywana jest więc w tupli `indexers` po której następnie iterujemy"
   ]
  },
  {
   "cell_type": "markdown",
   "id": "5e94016f-829e-4eee-8a29-13994677fb27",
   "metadata": {},
   "source": [
    "### Podsumowanie:\n",
    "\n",
    "Wykorzystanie funkcji jako parametrów i dodawanie do nich atrybutów otwiera przed programistami szerokie możliwości w zakresie tworzenia bardziej modularnego, reużywalnego i eleganckiego kodu. Takie techniki są fundamentami w konstrukcji wyrafinowanych abstrakcji oraz w praktykach programowania funkcyjnego, które mogą przyczynić się do zwiększenia klarowności i elastyczności kodu."
   ]
  },
  {
   "cell_type": "markdown",
   "id": "25db6592-12be-4d0f-9045-e13c2517c2ea",
   "metadata": {},
   "source": [
    "### 📝 Ćwiczenie\n",
    "\n",
    "0. Utwórz lub wylosuj jeśli potrafisz listę zawierającą 20 liczb naturalnych z przedziału od 1 do 100\n",
    "1. Napisz funkcję, która zwróci True jeśli liczba jest większa lub równa 5\n",
    "2. Napisz funkcję, która zwróci True jeśli liczba jest większa niż 70\n",
    "3. Napisz funkcję, która przyjmie jako argument listę oraz te dwie funkcje odpowiednio jako wartości start i stop. Wymuś użycie nazwy parametru w wywołaniu. Funkcja ta ma zwrócić wycinek oryginalnej listy powstały poprzez zastosowanie warunków opisanych wyżej\n",
    "4. Funkcja ma działać dla dowolnej listy liczb i funkcji start i stop, które zwrócą True/False w zależności od liczby podanej na wejściu\n",
    "\n",
    "    wytnij([1, 5, 10, 90], start=start, stop=stop) == [5, 10]\n",
    "\n",
    "5. Jeśli nie wiesz co masz zrobić, to pomęcz o to trenera. :)\n",
    "6. spróbuj wykorzystać to rozwiązanie na wybranie fragmentu napisu, który będzie się mieścił między cyframi 3 i 7 (musisz dopisac odpowiednie funkcje start i stop\n",
    "\n",
    "    wytnij([\"12312456078\", start=start, stop=stop) == \"31245607\"\n",
    "   \n"
   ]
  },
  {
   "cell_type": "markdown",
   "id": "afd6acfc-cd5b-4677-bc16-db0c9f987fdb",
   "metadata": {},
   "source": [
    "## Funkcje Lambda w Pythonie\n",
    "\n",
    "W świecie Pythona, funkcje lambda, znane również jako anonimowe funkcje, to jeden z najbardziej unikalnych aspektów języka. Pozwalają one na tworzenie funkcji w locie, bez konieczności stosowania standardowej składni definiowania funkcji. W tym artykule zgłębimy różne zastosowania funkcji lambda, począwszy od najprostszych form, a skończywszy na bardziej zaawansowanych przypadkach użycia.\n",
    "\n",
    "### Podstawowe użycie:\n",
    "\n",
    "Na samym początku, funkcje lambda często stosuje się do wykonywania prostych operacji. Na przykład:"
   ]
  },
  {
   "cell_type": "code",
   "execution_count": null,
   "id": "2bc1586e-f848-4cc5-a5fe-74568c5089d7",
   "metadata": {},
   "outputs": [],
   "source": [
    "podnies_do_kwadratu = lambda x: x * x\n",
    "print(podnies_do_kwadratu(4))  # Wynik: 16"
   ]
  },
  {
   "cell_type": "markdown",
   "id": "c2f9c069-0275-41cd-9eb3-414486df4969",
   "metadata": {},
   "source": [
    "W powyższym kodzie tworzymy funkcję, która podnosi liczbę do kwadratu, a następnie używamy jej do obliczenia kwadratu liczby 4.\n",
    "\n",
    "### Lambdy w funkcjach wyższego rzędu:\n",
    "\n",
    "Funkcje lambda są często używane w połączeniu z funkcjami wyższego rzędu (takimi jak `map`, `filter`, i `sorted`), które przyjmują inną funkcję jako argument."
   ]
  },
  {
   "cell_type": "code",
   "execution_count": 11,
   "id": "d1c93541-48a6-44c4-ab26-49432210774c",
   "metadata": {},
   "outputs": [
    {
     "name": "stdout",
     "output_type": "stream",
     "text": [
      "[2, 4, 6, 8, 10]\n"
     ]
    }
   ],
   "source": [
    "liczby = [1, 2, 3, 4, 5]\n",
    "wynik = list(map(lambda x: x * 2, liczby))\n",
    "print(wynik)  # Wynik: [2, 4, 6, 8, 10]"
   ]
  },
  {
   "cell_type": "markdown",
   "id": "0c14ebe0-f900-4511-a746-09db01126015",
   "metadata": {},
   "source": [
    "W tym przypadku używamy `map` do podwojenia każdego elementu w liście."
   ]
  },
  {
   "cell_type": "markdown",
   "id": "f501f3ce-133e-45ec-b648-aaf9a93bf03c",
   "metadata": {},
   "source": [
    "### Lambdy wieloargumentowe:\n",
    "\n",
    "Funkcje lambda nie są ograniczone do jednego argumentu. Mogą przyjmować wiele argumentów, podobnie jak standardowe funkcje"
   ]
  },
  {
   "cell_type": "code",
   "execution_count": 12,
   "id": "4d414b39-c830-4a0b-8ebe-99017d4f5a1b",
   "metadata": {},
   "outputs": [
    {
     "name": "stdout",
     "output_type": "stream",
     "text": [
      "5\n"
     ]
    }
   ],
   "source": [
    "dodaj = lambda x, y: x + y\n",
    "print(dodaj(2, 3))  # Wynik: 5\n"
   ]
  },
  {
   "cell_type": "markdown",
   "id": "2fdc1f64-4f99-4e49-8d02-06498786eed9",
   "metadata": {},
   "source": [
    "### Lambdy z wyrażeniami warunkowymi:\n",
    "\n",
    "Funkcje lambda mogą również zawierać wyrażenia warunkowe, co pozwala na bardziej skomplikowane operacje."
   ]
  },
  {
   "cell_type": "code",
   "execution_count": 13,
   "id": "8db26a23-9475-42da-8dd1-4cc8d65eecdd",
   "metadata": {},
   "outputs": [
    {
     "name": "stdout",
     "output_type": "stream",
     "text": [
      "nie\n"
     ]
    }
   ],
   "source": [
    "warunkowe = lambda x: 'tak' if x % 2 == 0 else 'nie'\n",
    "print(warunkowe(3))  # Wynik: 'nie'"
   ]
  },
  {
   "cell_type": "markdown",
   "id": "7d1086b3-0748-4248-931a-d00746f37046",
   "metadata": {},
   "source": [
    "W powyższym przykładzie funkcja lambda sprawdza, czy liczba jest parzysta."
   ]
  },
  {
   "cell_type": "markdown",
   "id": "4ac23622-8c80-4531-b358-d1ff3575684a",
   "metadata": {},
   "source": [
    "### Podsumowanie:\n",
    "\n",
    "Funkcje lambda w Pythonie oferują wygodny sposób na pisanie czystego i skondensowanego kodu, który jest zarazem wydajny i czytelny. Chociaż ich użycie powinno być ograniczone do prostych operacji (ze względu na ograniczenia, takie jak brak wielu wyrażeń i nazwanych argumentów), w wielu przypadkach są one niezastąpionym narzędziem, które ułatwia szybkie i eleganckie rozwiązywanie problemów programistycznych."
   ]
  },
  {
   "cell_type": "markdown",
   "id": "90b25dc5-6d67-4c24-86de-68b45c8bb470",
   "metadata": {},
   "source": [
    "### 📝 Ćwiczenie\n",
    "\n",
    "Użyj funkcji lambda w poprzednim ćwiczeniu. Chodzi o zdefiniowane funkcji w miejscu uzycia - czuli tam gdzie wywołujemy nasza funkcję wytnij"
   ]
  },
  {
   "cell_type": "markdown",
   "id": "da202e7e-a056-4567-9fdc-e0e8d06bbc88",
   "metadata": {},
   "source": [
    "## Domknięcia (clojures)\n",
    "\n",
    "W programowaniu funkcjonalnym, koncepcja domknięć (ang. closures) odgrywa kluczową rolę. Domknięcia to nic innego jak funkcje, które dynamicznie generują inne funkcje, zapamiętując i zachowując informacje ze swojej włąsnej przestrzeni nazw, nawet po zakończeniu wykonania. W Pythonie domknięcia oferują potężne możliwości. \n",
    "\n",
    "### Czym są domknięcia?\n",
    "\n",
    "Pierwszym krokiem w zrozumieniu domknięć jest zrozumienie zasięgu leksykalnego. Zasięg leksykalny to region kodu, z którego zmienne są dostępne.\n",
    "\n",
    "Przykład:"
   ]
  },
  {
   "cell_type": "code",
   "execution_count": 17,
   "id": "587d7c64-b539-4be3-afe3-b363f2128fc7",
   "metadata": {},
   "outputs": [
    {
     "name": "stdout",
     "output_type": "stream",
     "text": [
      "15\n"
     ]
    }
   ],
   "source": [
    "def zewnetrzna(x):\n",
    "    def wewnetrzna(y):\n",
    "        return x + y\n",
    "    return wewnetrzna\n",
    "\n",
    "moja_funkcja = zewnetrzna(10)\n",
    "\n",
    "print(moja_funkcja(5))  # wynik: 15"
   ]
  },
  {
   "cell_type": "markdown",
   "id": "90a3f72d-ff86-4ad2-915c-7f994397d600",
   "metadata": {},
   "source": [
    "W powyższym kodzie `wewnetrzna` jest domknięciem, które \"pamięta\" otoczenie, w którym zostało utworzone, tj. wartość `x`.\n",
    "\n",
    "**2. Dlaczego używać domknięć?**\n",
    "\n",
    "Domknięcia są szczególnie przydatne, gdy chcemy ukryć stan wewnątrz funkcji, zamiast używać obiektów opartych na klasach. Są one naturalnym sposobem enkapsulacji informacji i idealnie nadają się do implementacji wzorców projektowych, takich jak dekoratory.\n",
    "\n",
    "**3. Przykłady domknięć**\n",
    "\n",
    "*Logowanie działań w aplikacji:*"
   ]
  },
  {
   "cell_type": "code",
   "execution_count": 20,
   "id": "a7323e13-871b-4577-aa95-78e65c2bd348",
   "metadata": {},
   "outputs": [
    {
     "name": "stdout",
     "output_type": "stream",
     "text": [
      "ZDARZENIE: Użytkownik się zalogował\n"
     ]
    }
   ],
   "source": [
    "def stworz_logger(prefix):\n",
    "    def logger(wiadomosc):\n",
    "        print(f\"{prefix}: {wiadomosc}\")\n",
    "    return logger\n",
    "\n",
    "loguj_zdarzenie = stworz_logger(\"ZDARZENIE\")\n",
    "loguj_zdarzenie(\"Użytkownik się zalogował\")  # wynik: \"ZDARZENIE: Użytkownik się zalogował\"\n"
   ]
  },
  {
   "cell_type": "markdown",
   "id": "b027a91c-d02a-4a84-87ab-bcc460d8c5b6",
   "metadata": {},
   "source": [
    "W powyższym przykładzie funkcja `stworz_logger` tworzy funkcję `logger`, która zachowuje stan `prefix`.\n",
    "\n",
    "**4. Funkcje partial**\n",
    "\n",
    "Funkcje partial to kolejny sposób na przechowywanie stanu. Moduł `functools` w Pythonie oferuje funkcję `partial`, która pozwala na częściowe stosowanie argumentów funkcji.\n",
    "\n",
    "Przykład użycia funkcji partial:"
   ]
  },
  {
   "cell_type": "code",
   "execution_count": 19,
   "id": "0dcc061e-7bd6-4846-9b51-a2d4bc5ca914",
   "metadata": {},
   "outputs": [
    {
     "name": "stdout",
     "output_type": "stream",
     "text": [
      "x:2, y:4\n",
      "8\n"
     ]
    }
   ],
   "source": [
    "from functools import partial\n",
    "\n",
    "def mnozenie(x, y):\n",
    "    print(f\"x:{x}, y:{y}\")\n",
    "    return x * y\n",
    "\n",
    "podwojenie = partial(mnozenie, 2)\n",
    "print(podwojenie(4))  # wynik: 8"
   ]
  },
  {
   "cell_type": "markdown",
   "id": "508424fc-aa67-4743-924e-8c6863986242",
   "metadata": {},
   "source": [
    "W tym kodzie funkcja `partial` tworzy nową funkcję, która \"pamięta\" niektóre z argumentów funkcji, której używamy."
   ]
  },
  {
   "cell_type": "markdown",
   "id": "e4bccc79-0580-4d2f-a8d6-98d689fd5903",
   "metadata": {},
   "source": [
    "**Podsumowanie:**\n",
    "\n",
    "Domknięcia i funkcje partial są potężnymi narzędziami w Pythonie, które pozwalają programistom na zachowanie stanu i enkapsulację informacji w sposób, który jest naturalny dla funkcjonalnego stylu programowania. Te techniki mogą przyczynić się do pisania czystszego, bardziej modularnego kodu, który jest łatwiejszy do czytania i utrzymania."
   ]
  },
  {
   "cell_type": "markdown",
   "id": "b875c22c-4769-46dc-acc3-ef25c2e3b8f3",
   "metadata": {},
   "source": [
    "### 📝 Ćwiczenie \n",
    "\n",
    "\n",
    "**Cel:**\n",
    "\n",
    "Celem tego zadania jest zrozumienie, jak można dynamicznie tworzyć i modyfikować funkcje w Pythonie za pomocą koncepcji, takich jak domknięcia, generatory i funkcje lambda. Uczestnicy będą musieli napisać kod, który generuje sekwencje funkcji, każda z różnym działaniem, i zastosować je w praktyce.\n",
    "\n",
    "**Opis zadania:**\n",
    "\n",
    "Napisz funkcję o nazwie `power_factory`, która działa jako generator, tworząc ciąg anonimowych funkcji (lambd), gdzie każda kolejna funkcja z sekwencji wykonuje operację potęgowania z kolejno rosnącym wykładnikiem.\n",
    "\n",
    "**Wymagania:**\n",
    "\n",
    "1. Twoja funkcja `power_factory` powinna zaczynać od domyślnego wykładnika równego 1, chyba że podano inny początkowy wykładnik.\n",
    "2. Funkcja ta powinna używać konstrukcji `yield` do generowania kolejnych funkcji potęgujących.\n",
    "3. Każda wygenerowana funkcja lambda powinna przyjmować jeden argument i podnosić go do aktualnej wartości wykładnika, który rośnie z każdym kolejnym wywołaniem `yield`.\n",
    "4. Napisz pętlę, która użyje tego generatora do pobrania i zastosowania trzech kolejnych funkcji potęgujących do pewnej początkowej wartości.\n",
    "\n",
    "**Przykład działania:**\n",
    "Po zaimplementowaniu funkcji, następujący kod powinien działać poprawnie:"
   ]
  },
  {
   "cell_type": "markdown",
   "id": "d84d90a9-8f0e-4861-882b-668ffb7704af",
   "metadata": {},
   "source": [
    "```python\n",
    "f = power_factory()\n",
    "\n",
    "z = 2\n",
    "for i in range(3):\n",
    "    z = next(f)(z)\n",
    "    print(\"z=\", z)\n",
    "```\n",
    "\n",
    "    \n",
    "    z= 2\n",
    "    z= 4\n",
    "    z= 64\n",
    "\n",
    "Oczekiwane wyniki to sekwencja wartości `z`, gdzie każda jest wynikiem działania kolejnej funkcji lambda z rosnącym wykładnikiem.\n",
    "\n",
    "**Podpowiedzi:**\n",
    "\n",
    "- Pamiętaj o wykorzystaniu konstrukcji `lambda` do tworzenia anonimowych funkcji.\n",
    "- Wykorzystaj pętlę `while True` w ciele twojego generatora, aby nieustannie generować nowe funkcje.\n",
    "- Zastosuj konstrukcję `yield` do \"wysyłania\" kolejnych funkcji do zewnętrznego kodu.\n",
    "\n",
    "**Ocenianie:**\n",
    "Rozwiązania będą oceniane na podstawie poprawności działania, zrozumienia koncepcji generatorów i domknięć oraz czytelności i efektywności kodu. Uczestnicy powinni także zadbać o właściwe zarządzanie stanem w swoim generatorze.\n",
    "\n",
    "**Rozszerzenie zadania:**\n",
    "Dla bardziej zaawansowanych uczestników: rozważ dodanie możliwości \"resetowania\" generatora lub umożliwienie użytkownikowi zdefiniowania własnego kroku zwiększania wykładnika. Możesz także eksplorować inne operacje arytmetyczne lub logikę zmiany sekwencji funkcji."
   ]
  },
  {
   "cell_type": "markdown",
   "id": "8cce62b2-a341-4d67-92c2-d135340a2f4b",
   "metadata": {},
   "source": [
    "## Dekoratory\n",
    "\n",
    "\n",
    "W świecie Pythona dekoratory to potężne narzędzie, które umożliwia programistom modyfikowanie lub rozszerzanie zachowania funkcji lub metod bez ingerencji w ich kod. Ten artykuł wprowadzi Cię w świat dekoratorów, zaczynając od podstaw i stopniowo przechodząc do bardziej złożonych koncepcji.\n",
    "\n",
    "### Co to jest dekorator?\n",
    "\n",
    "Dekorator to, w najprostszych słowach, funkcja, która zmienia zachowanie innej funkcji. Robi to, \"opakowując\" oryginalną funkcję w dodatkową logikę przed lub po jej wykonaniu, bez zmiany jej samej.\n",
    "\n",
    "def simple_decorator(function):\n",
    "    def wrapper():\n",
    "        print(\"Coś się dzieje przed wywołaniem funkcji.\")\n",
    "        function()\n",
    "        print(\"Coś się dzieje po wywołaniu funkcji.\")\n",
    "    return wrapper\n",
    "\n",
    "Aby użyć dekoratora, stosuje się składnię `@`, umieszczając ją przed definicją funkcji:"
   ]
  },
  {
   "cell_type": "code",
   "execution_count": null,
   "id": "e6cff8e9-9bb3-4cf5-ad77-3a07c9d9d052",
   "metadata": {},
   "outputs": [],
   "source": [
    "@simple_decorator\n",
    "def hello():\n",
    "    print(\"Hello, World!\")"
   ]
  },
  {
   "cell_type": "markdown",
   "id": "9de18f94-632f-46aa-8499-0fca8203f2fe",
   "metadata": {},
   "source": [
    "### Dekoratory z parametrami\n",
    "Dekoratory mogą także przyjmować parametry, co czyni je jeszcze bardziej elastycznymi. Dekorator przyjmujący argumenty jest w rzeczywistości funkcją zwracającą dekorator."
   ]
  },
  {
   "cell_type": "code",
   "execution_count": 43,
   "id": "e59bce1b-22e0-4f5e-bd69-1d034819ae04",
   "metadata": {},
   "outputs": [],
   "source": [
    "def repeat(num_times):\n",
    "    def decorator_repeat(function):\n",
    "        def wrapper(*args, **kwargs):\n",
    "            for _ in range(num_times):\n",
    "                result = function(*args, **kwargs)\n",
    "            return result\n",
    "        return wrapper\n",
    "    return decorator_repeat"
   ]
  },
  {
   "cell_type": "markdown",
   "id": "deeb2f0f-8803-40a8-a5d7-f758b258bfc2",
   "metadata": {},
   "source": [
    "Użycie dekoratora z parametrami wymaga dodatkowych nawiasów:"
   ]
  },
  {
   "cell_type": "code",
   "execution_count": 44,
   "id": "e37f76e0-8eb6-43fb-bc39-f1b66cb4987e",
   "metadata": {},
   "outputs": [],
   "source": [
    "@repeat(num_times=4)\n",
    "def greet(name):\n",
    "    print(f\"Hello {name}\")"
   ]
  },
  {
   "cell_type": "code",
   "execution_count": 45,
   "id": "ef7f853b-9fce-436a-aefa-c0e5006aa681",
   "metadata": {},
   "outputs": [
    {
     "name": "stdout",
     "output_type": "stream",
     "text": [
      "Hello ALX\n",
      "Hello ALX\n",
      "Hello ALX\n",
      "Hello ALX\n"
     ]
    }
   ],
   "source": [
    "greet(\"ALX\")"
   ]
  },
  {
   "cell_type": "markdown",
   "id": "af2e185d-c939-4859-aa1b-0d24e83a9b02",
   "metadata": {},
   "source": [
    "### Zastosowania dekoratorów\n",
    "Istnieje wiele praktycznych zastosowań dekoratorów w rzeczywistych projektach programistycznych. Oto kilka przykładów:\n",
    "\n",
    "    - Logowanie i audyt: Dekoratory mogą automatycznie rejestrować szczegóły wywołania funkcji i jej wyniki.\n",
    "    - Kontrola dostępu i autoryzacja: Mogą być używane do sprawdzania uprawnień użytkownika przed wykonaniem określonych funkcji.\n",
    "    - Caching i memoization: Dekoratory mogą przechowywać wyniki kosztownych obliczeń i zapobiegać ich niepotrzebnemu powtarzaniu.\n",
    "    - Monitoring i telemetria: Ułatwiają zbieranie danych o wydajności różnych części kodu."
   ]
  },
  {
   "cell_type": "markdown",
   "id": "7b546733-21e3-451a-806f-35dcce511c2a",
   "metadata": {},
   "source": [
    "### Zachowanie informacji o funkcji: functools.wraps\n",
    "Podczas korzystania z dekoratorów ważne jest, aby zachować metadane oryginalnej funkcji, takie jak jej nazwa czy dokumentacja. Moduł `functools` w Pythonie dostarcza dekorator `wraps`, który pomaga w tej kwestii."
   ]
  },
  {
   "cell_type": "code",
   "execution_count": 46,
   "id": "63024efa-1ac2-4021-8e07-879de25ab6b5",
   "metadata": {},
   "outputs": [],
   "source": [
    "from functools import wraps\n",
    "\n",
    "def my_decorator(f):\n",
    "    @wraps(f)\n",
    "    def wrapper(*args, **kwargs):\n",
    "        # ... (logika dekoratora)\n",
    "        return f(*args, **kwargs)\n",
    "    return wrapper"
   ]
  },
  {
   "cell_type": "code",
   "execution_count": 49,
   "id": "2f0def79-30aa-41b7-9427-cbf1699b1d69",
   "metadata": {},
   "outputs": [],
   "source": [
    "# to mniej więcej robi to:\n",
    "\n",
    "def my_decorator(f):\n",
    "\n",
    "    def wrapper(*args, **kwargs):\n",
    "        # ... (logika dekoratora)\n",
    "        return f(*args, **kwargs)\n",
    "\n",
    "    wrapper.__module__ = '__module__'\n",
    "    wrapper.__name__ = '__name__'\n",
    "    wrapper.__qualname__ = '__qualname__'\n",
    "    wrapper.__doc__ = '__doc__'\n",
    "    wrapper.__annotations__ = '__annotations__'\n",
    "    \n",
    "    return wrapper"
   ]
  },
  {
   "cell_type": "code",
   "execution_count": 50,
   "id": "da84e714-d316-4175-a62c-aaa6c651dcbe",
   "metadata": {},
   "outputs": [
    {
     "data": {
      "text/plain": [
       "\u001b[0;31mSignature:\u001b[0m\n",
       "\u001b[0mwraps\u001b[0m\u001b[0;34m(\u001b[0m\u001b[0;34m\u001b[0m\n",
       "\u001b[0;34m\u001b[0m    \u001b[0mwrapped\u001b[0m\u001b[0;34m,\u001b[0m\u001b[0;34m\u001b[0m\n",
       "\u001b[0;34m\u001b[0m    \u001b[0massigned\u001b[0m\u001b[0;34m=\u001b[0m\u001b[0;34m(\u001b[0m\u001b[0;34m'__module__'\u001b[0m\u001b[0;34m,\u001b[0m \u001b[0;34m'__name__'\u001b[0m\u001b[0;34m,\u001b[0m \u001b[0;34m'__qualname__'\u001b[0m\u001b[0;34m,\u001b[0m \u001b[0;34m'__doc__'\u001b[0m\u001b[0;34m,\u001b[0m \u001b[0;34m'__annotations__'\u001b[0m\u001b[0;34m)\u001b[0m\u001b[0;34m,\u001b[0m\u001b[0;34m\u001b[0m\n",
       "\u001b[0;34m\u001b[0m    \u001b[0mupdated\u001b[0m\u001b[0;34m=\u001b[0m\u001b[0;34m(\u001b[0m\u001b[0;34m'__dict__'\u001b[0m\u001b[0;34m,\u001b[0m\u001b[0;34m)\u001b[0m\u001b[0;34m,\u001b[0m\u001b[0;34m\u001b[0m\n",
       "\u001b[0;34m\u001b[0m\u001b[0;34m)\u001b[0m\u001b[0;34m\u001b[0m\u001b[0;34m\u001b[0m\u001b[0m\n",
       "\u001b[0;31mSource:\u001b[0m   \n",
       "\u001b[0;32mdef\u001b[0m \u001b[0mwraps\u001b[0m\u001b[0;34m(\u001b[0m\u001b[0mwrapped\u001b[0m\u001b[0;34m,\u001b[0m\u001b[0;34m\u001b[0m\n",
       "\u001b[0;34m\u001b[0m          \u001b[0massigned\u001b[0m \u001b[0;34m=\u001b[0m \u001b[0mWRAPPER_ASSIGNMENTS\u001b[0m\u001b[0;34m,\u001b[0m\u001b[0;34m\u001b[0m\n",
       "\u001b[0;34m\u001b[0m          \u001b[0mupdated\u001b[0m \u001b[0;34m=\u001b[0m \u001b[0mWRAPPER_UPDATES\u001b[0m\u001b[0;34m)\u001b[0m\u001b[0;34m:\u001b[0m\u001b[0;34m\u001b[0m\n",
       "\u001b[0;34m\u001b[0m    \u001b[0;34m\"\"\"Decorator factory to apply update_wrapper() to a wrapper function\u001b[0m\n",
       "\u001b[0;34m\u001b[0m\n",
       "\u001b[0;34m       Returns a decorator that invokes update_wrapper() with the decorated\u001b[0m\n",
       "\u001b[0;34m       function as the wrapper argument and the arguments to wraps() as the\u001b[0m\n",
       "\u001b[0;34m       remaining arguments. Default arguments are as for update_wrapper().\u001b[0m\n",
       "\u001b[0;34m       This is a convenience function to simplify applying partial() to\u001b[0m\n",
       "\u001b[0;34m       update_wrapper().\u001b[0m\n",
       "\u001b[0;34m    \"\"\"\u001b[0m\u001b[0;34m\u001b[0m\n",
       "\u001b[0;34m\u001b[0m    \u001b[0;32mreturn\u001b[0m \u001b[0mpartial\u001b[0m\u001b[0;34m(\u001b[0m\u001b[0mupdate_wrapper\u001b[0m\u001b[0;34m,\u001b[0m \u001b[0mwrapped\u001b[0m\u001b[0;34m=\u001b[0m\u001b[0mwrapped\u001b[0m\u001b[0;34m,\u001b[0m\u001b[0;34m\u001b[0m\n",
       "\u001b[0;34m\u001b[0m                   \u001b[0massigned\u001b[0m\u001b[0;34m=\u001b[0m\u001b[0massigned\u001b[0m\u001b[0;34m,\u001b[0m \u001b[0mupdated\u001b[0m\u001b[0;34m=\u001b[0m\u001b[0mupdated\u001b[0m\u001b[0;34m)\u001b[0m\u001b[0;34m\u001b[0m\u001b[0;34m\u001b[0m\u001b[0m\n",
       "\u001b[0;31mFile:\u001b[0m      /Library/Frameworks/Python.framework/Versions/3.10/lib/python3.10/functools.py\n",
       "\u001b[0;31mType:\u001b[0m      function"
      ]
     },
     "metadata": {},
     "output_type": "display_data"
    }
   ],
   "source": [
    "wraps??"
   ]
  },
  {
   "cell_type": "markdown",
   "id": "6a952cdd-8373-48fd-b8c9-eb463d04e288",
   "metadata": {},
   "source": [
    "### Podsumowanie:\n",
    "Dekoratory oferują elegancki i potężny sposób na dynamiczne modyfikowanie zachowania funkcji w Pythonie. Od prostych ulepszeń po skomplikowane logiki, dekoratory są nieocenione w tworzeniu czystego, DRY (Don't Repeat Yourself) i wydajnego kodu. Ważne jest jednak, aby używać ich świadomie, ponieważ nadmierne ich stosowanie może prowadzić do kodu, który jest trudny do zrozumienia i debugowania."
   ]
  },
  {
   "cell_type": "markdown",
   "id": "fe08f475-98f7-47c8-bf54-d095fa5df215",
   "metadata": {},
   "source": [
    "### Bonus - dekorator jako klasa:\n",
    "\n",
    "Tworzenie dekoratorów przy użyciu klas w Pythonie polega na zdefiniowaniu klasy z metodą `__call__`, co pozwala jej instancjom zachowywać się jak funkcje. Poniżej znajduje się przykład, jak można przekształcić dekorator \"repeat\" w dekorator oparty na klasie:"
   ]
  },
  {
   "cell_type": "code",
   "execution_count": 51,
   "id": "79606d6d-1371-4888-9e2f-09ea8c58f51c",
   "metadata": {},
   "outputs": [
    {
     "name": "stdout",
     "output_type": "stream",
     "text": [
      "Hello, World!\n",
      "Hello, World!\n",
      "Hello, World!\n"
     ]
    }
   ],
   "source": [
    "class Repeat:\n",
    "    def __init__(self, num_times):\n",
    "        self.num_times = num_times\n",
    "\n",
    "    def __call__(self, function):\n",
    "        # Ta funkcja zostanie wywołana, gdy użyjemy instancji klasy jako dekoratora.\n",
    "        # Zwraca funkcję 'wrapper', która opakowuje oryginalną funkcję.\n",
    "        def wrapper(*args, **kwargs):\n",
    "            for _ in range(self.num_times):\n",
    "                result = function(*args, **kwargs)\n",
    "            return result\n",
    "        return wrapper\n",
    "\n",
    "# Użycie dekoratora opartego na klasie:\n",
    "@Repeat(num_times=3)\n",
    "def say_hello(name):\n",
    "    print(f\"Hello, {name}!\")\n",
    "\n",
    "say_hello(\"World\")"
   ]
  },
  {
   "cell_type": "markdown",
   "id": "664f5c5f-0cb1-4c9d-bf97-cd389a3bf35f",
   "metadata": {},
   "source": []
  },
  {
   "cell_type": "markdown",
   "id": "19ce7a7e-7f12-4505-9b8b-dbb0cd0d9524",
   "metadata": {},
   "source": [
    "Gdy dekorator `@Repeat` jest stosowany do funkcji, konstruktor klasy `Repeat` (`__init__`) jest wywoływany, a następnie metoda `__call__` klasy jest używana jako właściwy dekorator dla funkcji `say_hello`. Metoda `__call__` opakowuje oryginalną funkcję w funkcję `wrapper`, zachowując standardowe zachowanie dekoratorów.\n",
    "\n",
    "Dekoratory oparte na klasach mogą być szczególnie użyteczne, gdy jest potrzeba przechowywania stanu między wywołaniami dekorowanej funkcji lub gdy dekorator musi mieć swoje metody oprócz `__call__`. Powyższy przykład ilustruje, jak dekorator oparty na klasie może łatwo przechowywać stan (w tym przypadku liczbę powtórzeń) między wywołaniami."
   ]
  },
  {
   "cell_type": "markdown",
   "id": "c541a558-f99e-4502-8b27-a3bd72724732",
   "metadata": {},
   "source": [
    "## Ćwiczenie\n",
    "\n",
    "zaimplementuj dekoratory bold i italic, które tekst zwracany przez inne funkcje będą otaczać znacznikami - odpowiednio `<b>Oryginalny tekst</b>` i `<i>Oryginalny tekst</i>`\n",
    "\n",
    "    \n",
    "    @bold\n",
    "    def zlacz_teksty(*args, sep=\"\\n\"):\n",
    "        return \"\\n\".join(args)\n",
    "    \n",
    "    zlacz_teksty(\"A\", \"B\") == \"<b>A\\nB</b>"
   ]
  },
  {
   "cell_type": "code",
   "execution_count": null,
   "id": "93782a17-a3e9-4c8d-bad3-ccbc09d192c8",
   "metadata": {},
   "outputs": [],
   "source": []
  }
 ],
 "metadata": {
  "kernelspec": {
   "display_name": "Python 3 (ipykernel)",
   "language": "python",
   "name": "python3"
  },
  "language_info": {
   "codemirror_mode": {
    "name": "ipython",
    "version": 3
   },
   "file_extension": ".py",
   "mimetype": "text/x-python",
   "name": "python",
   "nbconvert_exporter": "python",
   "pygments_lexer": "ipython3",
   "version": "3.9.7"
  }
 },
 "nbformat": 4,
 "nbformat_minor": 5
}
