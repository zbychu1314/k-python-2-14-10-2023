{
 "cells": [
  {
   "cell_type": "markdown",
   "id": "3ce15c9c-7471-4120-90b7-6d39dc86673a",
   "metadata": {},
   "source": [
    "# Podstawy [link](01_interpreter_slowa_kluczowe_operatory.ipynb)\n",
    "# Wbudowane typy [link](02_wbudowane_kolekcje.ipynb)\n",
    "# Wbudowane kolekcje [link](03_wbudowane_kolekcje.ipynb)\n",
    "# Wyrażenia (Comprehensions) i Generatory w Pythonie [link](04_wyrazenia_i_generatory.ipynb)\n",
    "# Obsługa błędów [link](05_try_except_finally.ipynb)"
   ]
  },
  {
   "cell_type": "markdown",
   "id": "c198e2c5-6d45-4e93-a59e-921c328e70a7",
   "metadata": {},
   "source": [
    "# Wyrażenia warunkowe\n",
    "\n",
    "Wyrażenia warunkowe, znane również jako instrukcje warunkowe, są fundamentalnym aspektem większości języków programowania, w tym Pythona. Umożliwiają one programowi podejmowanie decyzji, co do wykonania pewnego kodu w zależności od spełnienia określonych warunków. W Pythonie, jak i innych językach, wyrażenia warunkowe są często używane w połączeniu z operatorami boolowskimi, takimi jak `and` i `or`, aby tworzyć bardziej złożone warunki logiczne.\n",
    "\n",
    "## Podstawy Wyrażeń Warunkowych\n",
    "\n",
    "W Pythonie najbardziej podstawową formą wyrażenia warunkowego jest instrukcja `if`. Instrukcje `elif` i `else` są opcjonalne i używane do obsługi dodatkowych warunków.\n",
    "\n",
    "### Instrukcja `if`:\n",
    "\n",
    "```python\n",
    "x = 10\n",
    "if x > 0:\n",
    "    print(\"x jest liczbą dodatnią\")\n",
    "```\n",
    "\n",
    "W tym przykładzie, jeśli warunek (x > 0) jest prawdziwy, wtedy kod w bloku `if` zostanie wykonany."
   ]
  },
  {
   "cell_type": "code",
   "execution_count": null,
   "id": "78775e8b-864d-4371-b830-021d17892f49",
   "metadata": {},
   "outputs": [],
   "source": []
  },
  {
   "cell_type": "markdown",
   "id": "aab167d8-f068-41e0-9ace-a51ccd5c1fe7",
   "metadata": {},
   "source": [
    "### Instrukcja `elif` i `else`:\n",
    "\n",
    "```python\n",
    "x = -10\n",
    "if x > 0:\n",
    "    print(\"x jest liczbą dodatnią\")\n",
    "elif x == 0:\n",
    "    print(\"x jest równy zero\")\n",
    "else:\n",
    "    print(\"x jest liczbą ujemną\")\n",
    "```\n",
    "\n",
    "Tutaj, jeśli `x` jest większe niż 0, wykonany zostanie pierwszy blok kodu. Jeśli `x` jest równe 0, zostanie wykonany drugi blok kodu, a jeśli żaden z warunków nie jest spełniony, zostanie wykonany kod w bloku `else`."
   ]
  },
  {
   "cell_type": "markdown",
   "id": "e051fd60-52ea-4484-bd11-500d4f8a758c",
   "metadata": {},
   "source": [
    "## Operatory Logiczne: `and`, `or`, `not`\n",
    "\n",
    "Operatory te pozwalają na budowanie bardziej złożonych wyrażeń warunkowych przez łączenie prostych warunków w większe, złożone warunki.\n",
    "\n",
    "### Operator `and`:\n",
    "\n",
    "Operator `and` zwraca `True` tylko wtedy, gdy oba wyrażenia są prawdziwe.\n",
    "\n",
    "```python\n",
    "x = 10\n",
    "y = 20\n",
    "if x > 0 and y > 0:\n",
    "    print(\"Zarówno x, jak i y są dodatnie\")\n",
    "```\n",
    "\n",
    "W powyższym przykładzie, ponieważ `x` jest większe niż 0 i `y` jest większe niż 0, całe wyrażenie jest prawdziwe, więc kod w bloku `if` zostanie wykonany."
   ]
  },
  {
   "cell_type": "markdown",
   "id": "17137fb3-c8f2-40df-8837-f2211f48f767",
   "metadata": {},
   "source": [
    "### Operator `or`:\n",
    "\n",
    "Operator `or` zwraca `True`, gdy przynajmniej jedno z wyrażeń jest prawdziwe.\n",
    "\n",
    "```python\n",
    "x = -10\n",
    "y = 20\n",
    "if x > 0 or y > 0:\n",
    "    print(\"Przynajmniej jedna z liczb (x, y) jest dodatnia\")\n",
    "```\n",
    "\n",
    "W tym przypadku, mimo że `x` jest mniejsze niż 0, `y` jest większe niż 0, co sprawia, że całe wyrażenie jest prawdziwe, więc odpowiedni blok kodu zostanie wykonany."
   ]
  },
  {
   "cell_type": "markdown",
   "id": "24d8b197-2545-4fa8-b0b6-5da3e39be0cf",
   "metadata": {},
   "source": [
    "### Operator `not`:\n",
    "\n",
    "Operator `not` zwraca przeciwieństwo danego warunku. Jeśli warunek jest prawdziwy, `not` sprawi, że stanie się fałszywy i odwrotnie.\n",
    "\n",
    "```python\n",
    "x = -10\n",
    "if not x > 0:\n",
    "    print(\"x nie jest liczbą dodatnią\")\n",
    "```\n",
    "\n",
    "W tym przykładzie, ponieważ `x` nie jest większe niż 0, wyrażenie \"`not x > 0`\" jest prawdziwe, więc blok `if` zostanie wykonany."
   ]
  },
  {
   "cell_type": "markdown",
   "id": "c862ecb1-7928-4978-99c7-5fb2ab08ff4f",
   "metadata": {},
   "source": [
    "## Złożone Wyrażenia Warunkowe\n",
    "\n",
    "Możesz łączyć operatory, aby tworzyć złożone wyrażenia warunkowe, które obejmują wiele różnych warunków.\n",
    "\n",
    "```python\n",
    "x = 10\n",
    "y = 20\n",
    "if (x > 0 and y > x) or (x > 0 and y == x):\n",
    "    print(\"x jest dodatnie oraz y jest większe lub równe x\")\n",
    "```\n",
    "\n",
    "W powyższym przykładzie, kod w bloku `if` zostanie wykonany, ponieważ `x` jest dodatnie, a `y` jest większe niż `x`, co sprawia, że pierwsza część połączonego warunku \"(x > 0 and y > x)\" jest prawdziwa.\n",
    "\n",
    "Podczas pracy z wyrażeniami warunkowymi w Pythonie, programiści mogą napotkać kilka niespodziewanych zachowań lub błędów, które wynikają z niezrozumienia szczegółów języka, specyficznych cech, lub subtelnych błędów w logice. Oto kilka przykładów:"
   ]
  },
  {
   "cell_type": "markdown",
   "id": "d90b6c24-791a-4135-9f05-ff398aac0c50",
   "metadata": {},
   "source": [
    "## Potencjalnie zaskakujące zachowania\n",
    "\n",
    "1. **Błąd z wartościami \"truthy\" i \"falsy\"**: W Pythonie wartości takie jak 0, pusty ciąg znaków, pusta lista lub `None` są oceniane jako fałszywe (ang. \"falsy\") w kontekście warunkowym. Może to prowadzić do niespodziewanych wyników, jeśli programista tego nie uwzględni.\n",
    "\n",
    "    ```python\n",
    "    # Przykład niespodziewanego zachowania\n",
    "    my_list = []\n",
    "    if my_list:\n",
    "        print(\"To się nie wydrukuje, ponieważ pusta lista jest 'falsy'\")\n",
    "    ```"
   ]
  },
  {
   "cell_type": "code",
   "execution_count": 2,
   "id": "3ab0a326-1b88-4088-8671-43fa3412933a",
   "metadata": {},
   "outputs": [
    {
     "name": "stdout",
     "output_type": "stream",
     "text": [
      "To się nie wydrukuje, ponieważ pusta lista jest 'falsy'\n"
     ]
    }
   ],
   "source": [
    "my_list = [1]\n",
    "if my_list:\n",
    "    print(\"To się nie wydrukuje, ponieważ pusta lista jest 'falsy'\")"
   ]
  },
  {
   "cell_type": "markdown",
   "id": "160024a3-4352-403d-bce3-a893d34f14f6",
   "metadata": {},
   "source": [
    "2. **Operator 'is' kontra '=='**: Operator `is` w Pythonie sprawdza, czy dwie zmienne wskazują na ten sam obiekt, a nie czy są równe. To może prowadzić do niespodziewanych wyników, szczególnie z niemutowalnymi typami, takimi jak krotki, ciągi znaków lub liczby.\n",
    "\n",
    "    ```python\n",
    "    # Przykład niespodziewanego zachowania\n",
    "    x = [1, 2, 3]\n",
    "    y = [1, 2, 3]\n",
    "    if x is y:\n",
    "        print(\"To się nie wydrukuje, ponieważ x i y nie są tym samym obiektem\")\n",
    "    if x == y:\n",
    "        print(\"To się wydrukuje, ponieważ x i y są równoważne\")\n",
    "    ```"
   ]
  },
  {
   "cell_type": "markdown",
   "id": "2a96bcdc-d7d8-420b-aa8b-593e080ea2b1",
   "metadata": {},
   "source": [
    "3. **Krótko-członowe wyrażenia logiczne**: Python ocenia wyrażenia logiczne od lewej do prawej i zatrzymuje się, gdy wynik jest już znany, co jest nazywane \"short-circuiting\". Może to prowadzić do niespodziewanych efektów, jeśli drugi warunek zawiera wywołanie funkcji lub inne działanie z efektem ubocznym.\n",
    "\n",
    "    ```python\n",
    "    x = 15\n",
    "    if x > 10 and some_function():\n",
    "        # some_function() nigdy nie zostanie wywołane, jeśli x jest mniejsze niż 10\n",
    "        pass\n",
    "    ```"
   ]
  },
  {
   "cell_type": "code",
   "execution_count": 11,
   "id": "2514dc33-5ae1-412c-a888-e07a85d47563",
   "metadata": {},
   "outputs": [
    {
     "name": "stdout",
     "output_type": "stream",
     "text": [
      "Wszystko ok\n"
     ]
    }
   ],
   "source": [
    "def some_function():\n",
    "    print(\"Wszystko ok\")\n",
    "    return \"\"\n",
    "x = 15\n",
    "if x > 10 and some_function():\n",
    "    print(\"warunek spełniony\")"
   ]
  },
  {
   "cell_type": "markdown",
   "id": "55b33945-183e-492d-837e-4994a0e105fc",
   "metadata": {},
   "source": [
    "4. **Porównania wielokrotne**: W Pythonie można wykonać porównanie wielokrotne w jednym wyrażeniu, co może prowadzić do niespodziewanych wyników, jeśli nie jest używane ostrożnie.\n",
    "\n",
    "    ```python\n",
    "    # Przykład niejasnego warunku\n",
    "    x = 5\n",
    "    y = 10\n",
    "    z = 5\n",
    "    if 0 <= x <= y <= z:\n",
    "        # Warunek jest fałszywy, ale może wydawać się nieintuicyjny na pierwszy rzut oka\n",
    "        pass\n",
    "    ```"
   ]
  },
  {
   "cell_type": "code",
   "execution_count": 15,
   "id": "fa8557b8-0587-462f-840d-effde4130016",
   "metadata": {},
   "outputs": [
    {
     "name": "stdout",
     "output_type": "stream",
     "text": [
      "OK\n"
     ]
    }
   ],
   "source": [
    "x = 5\n",
    "y = 10\n",
    "z = 15\n",
    "if 0 <= x <= y <= z:\n",
    "    # Warunek jest fałszywy, ale może wydawać się nieintuicyjny na pierwszy rzut oka\n",
    "    print(\"OK\")"
   ]
  },
  {
   "cell_type": "markdown",
   "id": "ebc1c68b-f5ec-4e0d-a58d-8337d00da3ba",
   "metadata": {},
   "source": [
    "5. **Domyślny zwrot wartości**: W Pythonie, brakujące wartości zwracane w funkcjach domyślnie są `None`. Jeśli taka funkcja jest używana w wyrażeniu warunkowym, może to prowadzić do niespodziewanego zachowania.\n",
    "\n",
    "    ```python\n",
    "    def my_function():\n",
    "        # brak return, więc zwraca None\n",
    "        ...\n",
    "\n",
    "    if my_function():\n",
    "        # Ten kod nie zostanie wykonany, chociaż może nie być oczywiste, dlaczego\n",
    "        pass\n",
    "    ```"
   ]
  },
  {
   "cell_type": "markdown",
   "id": "886c87ab-40a1-4c14-bba6-38273da81d89",
   "metadata": {},
   "source": [
    "## Wyrażenie trójargumentowe\n",
    "\n",
    "Jednolinijkowe wyrażenia warunkowe, nazywane także operatorem trójargumentowym lub warunkowym, są sposobem na uproszczenie decyzji `if-else` w Pythonie. Pozwalają one na szybkie określenie wartości zmiennej lub wyrażenia w zależności od wartości logicznej (prawda/fałsz) pewnego warunku, wszystko w jednej linii kodu.\n",
    "\n",
    "### Składnia\n",
    "\n",
    "Podstawowa składnia jednolinijkowego wyrażenia warunkowego wygląda następująco:\n",
    "\n",
    "```python\n",
    "wynik = wartosc_jezeli_prawda if warunek else wartosc_jezeli_falsz\n",
    "```\n",
    "\n",
    "- `warunek` - to wyrażenie, które jest oceniane jako prawdziwe lub fałszywe.\n",
    "- `wartosc_jezeli_prawda` - wartość zwracana, jeśli warunek jest prawdziwy.\n",
    "- `wartosc_jezeli_falsz` - wartość zwracana, jeśli warunek jest fałszywy.\n",
    "\n",
    "### Przykład Użycia\n",
    "\n",
    "Rozważmy scenariusz, w którym chcemy przypisać wartość zmiennej w zależności od tego, czy inna zmienna jest większa od 10. W standardowej formie `if-else` wyglądałoby to tak:\n",
    "\n",
    "```python\n",
    "x = 15\n",
    "if x > 10:\n",
    "    message = \"x jest większe od 10\"\n",
    "else:\n",
    "    message = \"x nie jest większe od 10\"\n",
    "```\n",
    "\n",
    "To samo można osiągnąć znacznie szybciej, używając jednolinijkowego wyrażenia warunkowego:\n",
    "\n",
    "```python\n",
    "x = 15\n",
    "message = \"x jest większe od 10\" if x > 10 else \"x nie jest większe od 10\"\n",
    "```\n",
    "\n",
    "W tym jednolinijkowym przykładzie, zmienna `message` zostanie ustawiona na `\"x jest większe od 10\"` jeśli `x` jest większe od 10; w przeciwnym razie, otrzyma wartość `\"x nie jest większe od 10\"`."
   ]
  },
  {
   "cell_type": "code",
   "execution_count": 18,
   "id": "d406d6dc-10f2-4e82-beae-dd257d9fc10a",
   "metadata": {},
   "outputs": [
    {
     "data": {
      "text/plain": [
       "'x nie jest większe od 10'"
      ]
     },
     "execution_count": 18,
     "metadata": {},
     "output_type": "execute_result"
    }
   ],
   "source": [
    "x = 5\n",
    "message = \"x jest większe od 10\" if x > 10 else \"x nie jest większe od 10\"\n",
    "message"
   ]
  },
  {
   "cell_type": "markdown",
   "id": "c256642c-401b-45d6-9b43-bd1d5a29f578",
   "metadata": {},
   "source": [
    "### Kiedy Używać\n",
    "\n",
    "Jednolinijkowe wyrażenia warunkowe są szczególnie przydatne, gdy chcemy uprościć bardzo proste instrukcje `if-else`. Umożliwiają one kod bardziej zwięzły i często łatwiejszy do zrozumienia, o ile nie są nadużywane. \n",
    "\n",
    "Jednakże dla złożonych warunków lub wielu zagnieżdżonych decyzji, standardowa forma `if-else` jest preferowana dla lepszej czytelności. Ponadto, nadmierne skracanie kodu może czasem prowadzić do pisania mniej czytelnego, trudniejszego do debugowania kodu, co może być problematyczne dla innych programistów lub nawet dla Ciebie w przyszłości.\n",
    " "
   ]
  },
  {
   "cell_type": "markdown",
   "id": "7a45b401-94e1-4f2f-83c5-bb8bafdf801c",
   "metadata": {},
   "source": [
    "## Wyrażenie warunkowe w wyrażeniach listowych, słownikowych itd..\n",
    "\n",
    "\"Comprehensions\" w Pythonie to potężne narzędzie, które pozwala na tworzenie nowych sekwencji opartych na istniejących sekwencjach w zwięzły i intuicyjny sposób. Wyrażenia warunkowe często są używane w połączeniu z \"comprehensions\", aby umożliwić bardziej złożoną logikę filtracji lub przekształcania elementów.\n",
    "\n",
    "Poniżej opisano, jak używać wyrażenia warunkowego w różnych typach \"comprehensions\" w Pythonie."
   ]
  },
  {
   "cell_type": "markdown",
   "id": "1bd62a9d-5bb0-4353-bec6-45414ae579e6",
   "metadata": {},
   "source": [
    "### List Comprehensions\n",
    "\n",
    "List comprehensions to sposób na generowanie list w jednym, zwięzłym wierszu. Jeśli chcesz włączyć logikę warunkową, możesz to zrobić w jednym z następujących sposobów:\n",
    "\n",
    "1. **Filtrowanie elementów**: Dodając warunek na końcu \"comprehension\", możesz wybierać, które elementy powinny być uwzględnione w nowej liście.\n",
    "\n",
    "    ```python\n",
    "    # Przykład: Tworzenie listy zawierającej tylko parzyste liczby z istniejącej listy\n",
    "    liczby = [1, 2, 3, 4, 5, 6]\n",
    "    parzyste_liczby = [x for x in liczby if x % 2 == 0]\n",
    "    ```\n",
    "\n",
    "    W tym przypadku `if x % 2 == 0` jest warunkiem, który filtruje listę, zachowując tylko elementy, które spełniają ten warunek (parzyste liczby)."
   ]
  },
  {
   "cell_type": "code",
   "execution_count": 19,
   "id": "24bc7804-2adc-4720-ab39-8fa24c492e1b",
   "metadata": {},
   "outputs": [
    {
     "data": {
      "text/plain": [
       "[2, 4, 6]"
      ]
     },
     "execution_count": 19,
     "metadata": {},
     "output_type": "execute_result"
    }
   ],
   "source": [
    "liczby = [1, 2, 3, 4, 5, 6]\n",
    "parzyste_liczby = [x for x in liczby if x % 2 == 0]\n",
    "parzyste_liczby"
   ]
  },
  {
   "cell_type": "markdown",
   "id": "e526d084-7eb6-4f9b-bb88-0fd2d5f3eaac",
   "metadata": {},
   "source": [
    "2. **Warunkowe przekształcanie elementów**: Możesz także zmienić, jak elementy są przekształcane, używając pełnego wyrażenia warunkowego.\n",
    "\n",
    "    ```python\n",
    "    # Przykład: Przypisywanie wartości w oparciu o warunek\n",
    "    wynik = [x if x % 2 == 0 else x * -1 for x in liczby]\n",
    "    ```\n",
    "\n",
    "    W tym przykładzie każda liczba na liście jest sprawdzana, czy jest parzysta. Jeśli jest, pozostaje niezmieniona; jeśli nie, jest mnożona przez -1."
   ]
  },
  {
   "cell_type": "code",
   "execution_count": 20,
   "id": "624932dc-65bf-41b4-9c0a-f1ff8dfdfeb8",
   "metadata": {},
   "outputs": [
    {
     "data": {
      "text/plain": [
       "[-1, 2, -3, 4, -5, 6]"
      ]
     },
     "execution_count": 20,
     "metadata": {},
     "output_type": "execute_result"
    }
   ],
   "source": [
    "wynik = [x if x % 2 == 0 else x * -1 for x in liczby]\n",
    "wynik"
   ]
  },
  {
   "cell_type": "code",
   "execution_count": 21,
   "id": "d2c326b8-6872-4bcf-b744-91c3b59fc064",
   "metadata": {},
   "outputs": [
    {
     "ename": "SyntaxError",
     "evalue": "expected 'else' after 'if' expression (2495001502.py, line 1)",
     "output_type": "error",
     "traceback": [
      "\u001b[1;36m  Cell \u001b[1;32mIn[21], line 1\u001b[1;36m\u001b[0m\n\u001b[1;33m    wynik = [x if x % 2 == 0 for x in liczby]\u001b[0m\n\u001b[1;37m             ^\u001b[0m\n\u001b[1;31mSyntaxError\u001b[0m\u001b[1;31m:\u001b[0m expected 'else' after 'if' expression\n"
     ]
    }
   ],
   "source": [
    "# wynik = [x if x % 2 == 0 for x in liczby]\n",
    "# wynik"
   ]
  },
  {
   "cell_type": "markdown",
   "id": "b7dacc3f-afd3-4ff7-ad87-041dcaa626a4",
   "metadata": {},
   "source": [
    "### Dictionary Comprehensions\n",
    "\n",
    "Podobnie jak list comprehensions, możesz używać wyrażeń warunkowych, aby filtrować lub przekształcać elementy w słownikach.\n",
    "\n",
    "```python\n",
    "# Przykład: Budowanie słownika z parzystymi liczbami jako kluczami\n",
    "liczby = [1, 2, 3, 4, 5, 6]\n",
    "parzyste_kwadraty = {x: x*x for x in liczby if x % 2 == 0}\n",
    "```\n",
    "\n",
    "W tym przypadku tworzysz nowy słownik, gdzie klucze i wartości są generowane tylko dla liczb parzystych."
   ]
  },
  {
   "cell_type": "markdown",
   "id": "10c4e0fa-a2a2-45b6-91ef-1f1f113de19c",
   "metadata": {},
   "source": [
    "### Set Comprehensions\n",
    "\n",
    "Set comprehensions działają również podobnie, z możliwością włączenia warunków.\n",
    "\n",
    "```python\n",
    "# Przykład: Tworzenie zbioru z parzystych liczb z listy\n",
    "liczby = [1, 2, 3, 4, 5, 6, 4, 4]  # Zwróć uwagę, że '4' się powtarza\n",
    "parzyste_liczby = {x for x in liczby if x % 2 == 0}\n",
    "```\n",
    "\n",
    "Jako że zbiory (sets) są kolekcjami unikalnymi, nawet jeśli '4' pojawia się wielokrotnie w oryginalnej liście, będzie miało tylko jedno wystąpienie w zbiorze `parzyste_liczby`."
   ]
  },
  {
   "cell_type": "markdown",
   "id": "dbdd2c59-4ae0-4655-9a9b-5c12869ab686",
   "metadata": {},
   "source": [
    "### Uwaga o czytelności\n",
    "\n",
    "Podczas gdy \"comprehensions\" z warunkami mogą być bardzo potężne, ważne jest, aby używać ich roztropnie. Zbyt złożone użycie może prowadzić do kodu, który jest trudny do zrozumienia. Dla bardziej skomplikowanych operacji lub wielu zagnieżdżonych warunków, lepiej może być użyć tradycyjnych pętli i instrukcji warunkowych, które są bardziej czytelne dla innych programistów.\n",
    "\n",
    "## Podsumowanie:\n",
    "\n",
    "Wyrażenia warunkowe stanowią nieodłączną część programowania w Pythonie, umożliwiając skryptom podejmowanie decyzji na podstawie spełnienia określonych kryteriów. Poprzez efektywne wykorzystanie instrukcji `if`, `elif` i `else`, programiści mogą kontrolować przepływ wykonania programu, reagując na różnorodne scenariusze i zmienne warunki.\n",
    "\n",
    "Kluczowe jest również zrozumienie roli operatorów logicznych (`and`, `or`, `not`), które pozwalają na tworzenie bardziej złożonych warunków przez łączenie prostych stwierdzeń. Ich prawidłowe stosowanie jest istotne dla zapewnienia spójności i czytelności kodu.\n",
    "\n",
    "Jednak wyrażenia warunkowe mogą prowadzić do niespodziewanych i niepożądanych wyników, jeśli nie są stosowane ostrożnie. Subtelności, takie jak różnica między `is` a `==`, zachowanie wartości \"truthy\" i \"falsy\", czy specyfika krótko-członowych ocen warunków, mogą znacząco wpłynąć na działanie programu. Dlatego też, ważne jest, aby programiści byli świadomi tych pułapek, regularnie testowali swój kod i pozostawali na bieżąco z najlepszymi praktykami w Pythonie.\n",
    "\n",
    "W rezultacie, biegłość w używaniu wyrażenia warunkowego w Pythonie nie tylko zwiększa wydajność kodu, ale także pomaga w unikaniu błędów, które mogą pojawić się w trakcie procesu tworzenia oprogramowania. Staranne planowanie, zrozumienie kontekstu i celów, a także umiejętne stosowanie tej elastycznej funkcji języka Python, będą służyły jako solidne fundamenty dla każdego, kto dąży do mistrzostwa w programowaniu."
   ]
  },
  {
   "cell_type": "markdown",
   "id": "b02ebd86-c507-4751-a76f-3b09ce99551e",
   "metadata": {},
   "source": [
    "##  Ćwiczenia"
   ]
  },
  {
   "cell_type": "markdown",
   "id": "62be9b13-6948-4c36-93c9-24d248c4337a",
   "metadata": {},
   "source": [
    "### 📝 Ćwiczenie: Kalkulator Oceny Warunkowej\n",
    "\n",
    "**Zadanie:**\n",
    "Napisz skrypt, który działa jak kalkulator ocen. Użytkownik wprowadza ocenę punktową (np. 85, 70, 98.5) i skrypt konwertuje ją na ocenę literową (np. A, B, C) w oparciu o określone progi. Progi ocen są następujące: A: 90-100, B: 80-89, C: 70-79, D: 60-69, F: <60.\n",
    "\n",
    "1. Skrypt powinien najpierw sprawdzić, czy wprowadzona wartość jest liczbą oraz czy mieści się w zakresie 0-100. Jeśli nie, powinien zostać wyświetlony odpowiedni komunikat o błędzie.\n",
    "2. Następnie, używając zagnieżdżonych wyrażeń warunkowych, skrypt powinien określić odpowiednią literę odpowiadającą ocenie i wyświetlić ją użytkownikowi.\n",
    "3. Dozwolone jest użycie pętli, aby umożliwić użytkownikowi wielokrotne wprowadzanie danych bez konieczności ponownego uruchamiania skryptu."
   ]
  },
  {
   "cell_type": "markdown",
   "id": "a653463c-59ff-4673-bd20-1107eca52c42",
   "metadata": {},
   "source": [
    "**Przykład rozwiązanie:**"
   ]
  },
  {
   "cell_type": "markdown",
   "id": "84ed9f0e-e227-42ae-8511-61d582c86618",
   "metadata": {},
   "source": [
    "### 📝 Ćwiczenie: pozycja na planszy\n",
    "\n",
    "Napisz program, który na podstawie pozycji gracza (x, y) na planszy w przedziale od 0 do 100 wyświetli jego przybliżone położenie (centrum, prawy górny róg, górna krawędź, . . . ) lub informację o pozycji poza planszą. Przyjmij wartość 10 jako margines krawędzi.\n",
    "\n",
    "Przykładowy komunikat programu:\n",
    "\n",
    "    Podaj pozycję gracza X: 95\n",
    "    Podaj pozycję gracza Y: 95\n",
    "    Gracz znajduje się w prawym górnym rogu."
   ]
  },
  {
   "cell_type": "code",
   "execution_count": null,
   "id": "9605d7d2-6e29-496b-b643-ad0fb16f5f23",
   "metadata": {},
   "outputs": [],
   "source": []
  }
 ],
 "metadata": {
  "kernelspec": {
   "display_name": "Python 3 (ipykernel)",
   "language": "python",
   "name": "python3"
  },
  "language_info": {
   "codemirror_mode": {
    "name": "ipython",
    "version": 3
   },
   "file_extension": ".py",
   "mimetype": "text/x-python",
   "name": "python",
   "nbconvert_exporter": "python",
   "pygments_lexer": "ipython3",
   "version": "3.11.5"
  }
 },
 "nbformat": 4,
 "nbformat_minor": 5
}
