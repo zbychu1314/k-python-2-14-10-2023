{
 "cells": [
  {
   "cell_type": "code",
   "execution_count": 1,
   "id": "88f2619b",
   "metadata": {},
   "outputs": [
    {
     "data": {
      "text/latex": [
       "\\tableofcontents\n"
      ],
      "text/plain": [
       "<IPython.core.display.Latex object>"
      ]
     },
     "metadata": {},
     "output_type": "display_data"
    }
   ],
   "source": [
    "%%latex\n",
    "\\tableofcontents"
   ]
  },
  {
   "cell_type": "markdown",
   "id": "cb48a67c-e7a3-4dba-bac5-bc0ca835494f",
   "metadata": {},
   "source": [
    "# Podstawy\n",
    "\n",
    "[link](01_interpreter_slowa_kluczowe_operatory)\n",
    "\n",
    "# Wbudowane typy\n",
    "\n",
    "## Napisy - str\n",
    "\n",
    "\n",
    "Napisy są jednym z najbardziej powszechnych typów danych w Pythonie. Służą do reprezentowania tekstów i składają się z sekwencji znaków.\n",
    "\n",
    "Dzięki zdolności Pythona do reprezentowania wszystkiego jako napis, możemy łatwo interaktywować z różnymi obiektami w kontekście tekstowym, co sprawia, że język ten jest niezwykle elastyczny i przyjazny dla użytkownika.\n",
    "\n",
    "Napisy tworzy się, umieszczając tekst w pojedynczych (`'napis'`) lub podwójnych (`\"napis\"`) cudzysłowach.\n",
    "\n",
    "Wieloliniowe napisy można tworzyć przy użyciu potrójnych cudzysłowów (`'''napis'''` lub `\"\"\"napis\"\"\"`).\n",
    "\n",
    "Napisy są niemutowalne, co oznacza, że nie można zmienić ich zawartości po utworzeniu.\n",
    "\n",
    "Każdy obiekt w Pythonie, niezależnie od jego typu, ma pewną reprezentację napisową, która pozwala na jego opisanie jako ciąg znaków. Dzięki temu można łatwo wydrukować lub zarejestrować różne obiekty w formie tekstowej.\n",
    "\n",
    "### Reprezentacja napisowa obiektów:\n",
    "\n",
    "Funkcja wbudowana `str()` jest używana do konwersji danego obiektu na jego reprezentację napisową. Jest to szczególnie przydatne, gdy chcemy połączyć wartości różnych typów w jednym napisie lub chcemy wydrukować obiekt w czytelnej formie.\n",
    "\n",
    "* Przykłady:\n",
    "\n",
    "1. **Liczby**:\n",
    "    ```python\n",
    "    x = 123\n",
    "    print(\"Moja liczba to: \" + str(x))\n",
    "    ```\n",
    "\n",
    "2. **Listy**:\n",
    "    ```python\n",
    "    lista = [1, 2, 3]\n",
    "    print(\"Moja lista: \" + str(lista))\n",
    "    ```\n",
    "\n",
    "3. **Własne obiekty**:\n",
    "    \n",
    "    Jeśli zdefiniujesz własną klasę, możesz dostarczyć jej metodę `__str__()`, aby kontrolować, jak obiekty tej klasy są reprezentowane jako napisy.\n",
    "    \n",
    "    ```python\n",
    "    class Osoba:\n",
    "        def __init__(self, imie, wiek):\n",
    "            self.imie = imie\n",
    "            self.wiek = wiek\n",
    "\n",
    "        def __str__(self):\n",
    "            return self.imie + \", \" + str(self.wiek) + \" lat\"\n",
    "\n",
    "    osoba = Osoba(\"Anna\", 30)\n",
    "    print(str(osoba))  # Wypisze \"Anna, 30 lat\"\n",
    "    ```"
   ]
  },
  {
   "cell_type": "code",
   "execution_count": 2,
   "id": "78b33810-70e0-45b8-a7ba-149dce4e57dd",
   "metadata": {},
   "outputs": [
    {
     "name": "stdout",
     "output_type": "stream",
     "text": [
      "<Osoba: Anna, 30 lat>\n",
      "[<Osoba: Anna, 30 lat>]\n"
     ]
    }
   ],
   "source": [
    "class Osoba:\n",
    "    def __init__(self, imie, wiek):\n",
    "        self.imie = imie\n",
    "        self.wiek = wiek\n",
    "\n",
    "    # def __str__(self):\n",
    "    #     return self.imie + \", \" + str(self.wiek) + \" lat\"\n",
    "\n",
    "    def __repr__(self):\n",
    "        return  \"<Osoba: \"+self.imie + \", \" + str(self.wiek) + \" lat>\"\n",
    "    \n",
    "osoba = Osoba(\"Anna\", 30)\n",
    "print(str(osoba))  # Wypisze \"Anna, 30 lat\"\n",
    "print(str([osoba]))"
   ]
  },
  {
   "cell_type": "code",
   "execution_count": 3,
   "id": "17fa22bf-5caf-45ec-a563-55c91645ec6c",
   "metadata": {},
   "outputs": [
    {
     "data": {
      "text/plain": [
       "'<Osoba: Anna, 30 lat>'"
      ]
     },
     "execution_count": 3,
     "metadata": {},
     "output_type": "execute_result"
    }
   ],
   "source": [
    "repr(osoba)"
   ]
  },
  {
   "cell_type": "code",
   "execution_count": null,
   "id": "a3894b21-07a4-4a85-a470-8d903c2338e8",
   "metadata": {},
   "outputs": [],
   "source": []
  },
  {
   "cell_type": "code",
   "execution_count": null,
   "id": "aa5a3698-6d21-46e1-a5a5-113ee5c2afe2",
   "metadata": {},
   "outputs": [],
   "source": []
  },
  {
   "cell_type": "markdown",
   "id": "09b5a94d-d32e-4814-983a-45e8d6400c0e",
   "metadata": {},
   "source": [
    "### Przykładowe operacje na napisach\n",
    "\n",
    "1. **Konkatenacja**: Połącz dwa napisy.\n",
    "    ```python\n",
    "    a = \"Hello\"\n",
    "    b = \"World\"\n",
    "    c = a + \" \" + b\n",
    "    print(c)  # Wypisze \"Hello World\"\n",
    "    ```\n",
    "\n",
    "2. **Indeksowanie**: Pobierz znak z określonego indeksu.\n",
    "    ```python\n",
    "    txt = \"Python\"\n",
    "    print(txt[0])  # Wypisze \"P\"\n",
    "    ```\n",
    "\n",
    "3. **Wycinki**: Pobierz podciąg znaków z napisu.\n",
    "    ```python\n",
    "    txt = \"Python\"\n",
    "    print(txt[1:4])  # Wypisze \"yth\"\n",
    "    ```\n",
    "\n",
    "4. **Metody napisów**: Napisy mają wiele wbudowanych metod, takich jak `lower()`, `upper()`, `split()` i wiele innych.\n",
    "    ```python\n",
    "    txt = \"Hello World\"\n",
    "    print(txt.lower())  # Wypisze \"hello world\"\n",
    "    ```\n",
    "    \n",
    "### Operatory stosowane na napisach\n",
    "\n",
    "W programowaniu operatory używane są do manipulowania różnymi typami danych, w tym napisami. W zależności od języka programowania, dostępne operatory mogą się różnić, ale niektóre z nich są powszechne w wielu językach. Poniżej przedstawiam kilka podstawowych operatorów, które są często stosowane do manipulowania napisami, wraz z przykładami:\n",
    "\n",
    "1. **Operator konkatenacji (`+`)**:\n",
    "Umożliwia łączenie dwóch napisów w jeden.\n",
    "\n",
    "    ```python\n",
    "    napis1 = \"Witaj\"\n",
    "    napis2 = \"świecie!\"\n",
    "    wynik = napis1 + \" \" + napis2  # Wynik: \"Witaj świecie!\"\n",
    "    ```\n",
    "\n",
    "2. **Operator mnożenia (`*`)**:\n",
    "Umożliwia powielenie napisu określoną liczbę razy.\n",
    "\n",
    "    ```python\n",
    "    napis = \"hej! \"\n",
    "    wynik = napis * 3  # Wynik: \"hej! hej! hej! \"\n",
    "    ```\n",
    "\n",
    "3. **Operator porównania (`==`, `!=`)**:\n",
    "Umożliwia porównanie, czy dwa napisy są takie same lub różne.\n",
    "\n",
    "    ```python\n",
    "    napis1 = \"kot\"\n",
    "    napis2 = \"pies\"\n",
    "    czy_rowne = napis1 == napis2  # Wynik: False\n",
    "    czy_rozne = napis1 != napis2  # Wynik: True\n",
    "    ```\n",
    "\n",
    "4. **Operatory logiczne (`and`, `or`)**:\n",
    "Choć nie są one bezpośrednio stosowane do manipulacji napisami, mogą być używane w instrukcjach warunkowych w kontekście napisów.\n",
    "\n",
    "    ```python\n",
    "    napis = \"programowanie\"\n",
    "    czy_dlugi = len(napis) > 10\n",
    "    czy_zawiera_o = \"o\" in napis\n",
    "    \n",
    "    if czy_dlugi and czy_zawiera_o:\n",
    "        print(\"Napis jest długi i zawiera literę 'o'.\")\n",
    "    ```\n",
    "\n",
    "To tylko kilka podstawowych operatorów, które można stosować do manipulowania napisami w programowaniu. W zależności od języka programowania i potrzeb, dostępne mogą być również inne operatory i funkcje służące do zaawansowanej manipulacji napisami."
   ]
  },
  {
   "cell_type": "markdown",
   "id": "6cbcaf86",
   "metadata": {},
   "source": [
    "%%writefile cwiczenia/cwiczenie_2_1_4.md\n",
    "\n",
    "### 📝 Ćwiczenie - truthy/falsy w przypadku stringa\n",
    "\n",
    "[Cwiczenie 2_1_4](cwiczenia/cwiczenie_2_1_4.md)\n",
    "\n",
    "Jakie będą wyniki następujących operacji:\n",
    "\n",
    "    \"1\" and \"2\"\n",
    "    \n",
    "    \"\" and \"2\"\n",
    "    \n",
    "    \"1\" or \"2\"\n",
    "    \n",
    "    \"\" or \"2\""
   ]
  },
  {
   "cell_type": "markdown",
   "id": "65baa1ca",
   "metadata": {},
   "source": [
    "#### Wytłumaczenie:\n",
    "\n",
    "Powyższe zachowanie jest związane z tym, jak operator and działa w Pythonie. Gdy używamy operatora and, obie wartości są oceniane w kontekście prawdy/fałszu (ang. truthiness/falsiness).\n",
    "\n",
    "W przypadku napisów (stringów) w Pythonie:\n",
    "\n",
    "Pusty napis (\"\") jest uważany za fałszywy (ang. falsy).\n",
    "\n",
    "Napis, który nie jest pusty (np. \"1\", \"2\", \"abc\" itd.) jest uważany za prawdziwy (ang. truthy).\n",
    "\n",
    "Zasady działania operatora and są następujące:\n",
    "\n",
    "Jeśli pierwsza wartość jest fałszywa, zwraca ją (bo nie ma potrzeby oceniania drugiej wartości).\n",
    "Jeśli pierwsza wartość jest prawdziwa, zwraca drugą wartość.\n",
    "\n",
    "Dlatego:\n",
    "\n",
    "Dla \"1\" and \"2\", ponieważ \"1\" jest prawdziwy (ang. truthy), zwracane jest \"2\".\n",
    "Dla \"\" and \"2\", ponieważ \"\" jest fałszywy (ang. falsy), zwracane jest \"\".\n",
    "\n",
    "To jest szczególna cecha języka Python i nie jest ona typowa dla wszystkich języków programowania.\n"
   ]
  },
  {
   "cell_type": "markdown",
   "id": "669cf841-4aca-487b-96a3-fb7f9962e342",
   "metadata": {},
   "source": [
    "%%writefile cwiczenia/cwiczenia_2_1_5.md\n",
    "\n",
    "### 📝 Ćwiczenie - metody, iterowanie, operacje na napisach:\n",
    "\n",
    "[Cwiczenie 2_1_5](cwiczenia/cwiczenie_2_1_5.md)\n",
    "\n",
    "\n",
    "Stwórz funkcję o nazwie `palindrom`, która przyjmuje napis jako argument i zwraca `True`, jeśli napis jest palindromem, oraz `False` w przeciwnym przypadku. Napis jest palindromem, jeśli czyta się go tak samo od przodu, jak i od tyłu. Funkcja powinna ignorować wielkość liter, spacje, oraz wszelkie inne znaki nie będące literą bądź liczbą\n",
    "\n",
    "Przykład:\n",
    "\n",
    "```python\n",
    "print(palindrom(\"A man a plan a canal Panama\"))  # Powinno zwrócić True\n",
    "print(palindrom(\"Python\"))  # Powinno zwrócić False\n",
    "```\n",
    "\n"
   ]
  },
  {
   "cell_type": "code",
   "execution_count": 4,
   "id": "978f035d-6f05-4132-b6ca-6431f76558a5",
   "metadata": {},
   "outputs": [],
   "source": [
    "\n",
    "def czysc_napis(napis):\n",
    "    return [x for x in napis.lower() if x.isalnum()]\n",
    "\n",
    "def palindrom(napis):\n",
    "    napis = czysc_napis(napis)\n",
    "    return napis == napis[::-1]\n",
    "\n",
    "\n",
    "assert palindrom(\"A\") is True\n",
    "assert palindrom(\"AB\") is False\n",
    "assert palindrom(\"abA\") is True\n",
    "assert palindrom(\"kobyła ma mały bok\") is True\n",
    "assert palindrom(\"kobyła!? ma - mały, bok$\") is True"
   ]
  },
  {
   "cell_type": "code",
   "execution_count": 5,
   "id": "09263c0c-110a-4eb3-91b0-1c08c7294d8d",
   "metadata": {},
   "outputs": [
    {
     "data": {
      "text/plain": [
       "['a', 'l', 'a']"
      ]
     },
     "execution_count": 5,
     "metadata": {},
     "output_type": "execute_result"
    }
   ],
   "source": [
    "napis = \"ala\"\n",
    "[x for x in napis.lower() if x.isalnum()]\n",
    "\n"
   ]
  },
  {
   "cell_type": "code",
   "execution_count": 6,
   "id": "8e2232a0-cfac-475f-8913-2f8d67b6a377",
   "metadata": {},
   "outputs": [
    {
     "data": {
      "text/plain": [
       "['a', 'l', 'a']"
      ]
     },
     "execution_count": 6,
     "metadata": {},
     "output_type": "execute_result"
    }
   ],
   "source": [
    "result = []\n",
    "for x in napis.lower():\n",
    "    if x.isalnum():\n",
    "        result.append(x)\n",
    "result\n",
    "# dir(\"a\")"
   ]
  },
  {
   "cell_type": "code",
   "execution_count": 7,
   "id": "eafd2ccc-1a4d-4210-824f-0d234ceacceb",
   "metadata": {},
   "outputs": [
    {
     "data": {
      "text/plain": [
       "\u001b[1;31mSignature:\u001b[0m \u001b[0mstr\u001b[0m\u001b[1;33m.\u001b[0m\u001b[0misalnum\u001b[0m\u001b[1;33m(\u001b[0m\u001b[0mself\u001b[0m\u001b[1;33m,\u001b[0m \u001b[1;33m/\u001b[0m\u001b[1;33m)\u001b[0m\u001b[1;33m\u001b[0m\u001b[1;33m\u001b[0m\u001b[0m\n",
       "\u001b[1;31mDocstring:\u001b[0m\n",
       "Return True if the string is an alpha-numeric string, False otherwise.\n",
       "\n",
       "A string is alpha-numeric if all characters in the string are alpha-numeric and\n",
       "there is at least one character in the string.\n",
       "\u001b[1;31mType:\u001b[0m      method_descriptor"
      ]
     },
     "metadata": {},
     "output_type": "display_data"
    }
   ],
   "source": [
    "str.isalnum?"
   ]
  },
  {
   "cell_type": "code",
   "execution_count": null,
   "id": "fdc04fcb-fe5d-4659-9cb4-1918fcafc845",
   "metadata": {},
   "outputs": [],
   "source": []
  },
  {
   "cell_type": "markdown",
   "id": "0cb4a992-9f78-4964-8755-6f55576be468",
   "metadata": {},
   "source": [
    "### Formatowanie napisów w Pythonie\n",
    "\n",
    "Formatowanie napisów w Pythonie jest niezbędnym narzędziem dla każdego programisty, umożliwiającym efektywne manipulowanie i prezentowanie danych tekstowych. W ciągu lat Python wprowadził różne metody formatowania napisów, z których każda ma swoje unikalne cechy. Poniżej przedstawiamy trzy główne sposoby formatowania w Pythonie wraz z przykładami.\n",
    "\n",
    "#### formatowanie z %\n",
    "\n",
    "**Prosty przykład:**\n",
    "```python\n",
    "imie = \"Anna\"\n",
    "napis = \"Mam na imię %s.\" % imie\n",
    "print(napis)  # Wynik: \"Mam na imię Anna.\"\n",
    "```\n",
    "\n",
    "**Bardziej skomplikowany przykład:**\n",
    "```python\n",
    "imie = \"Anna\"\n",
    "wiek = 30\n",
    "waga = 60.5\n",
    "napis = \"Mam na imię %s, mam %d lat i ważę %.2f kg.\" % (imie, wiek, waga)\n",
    "print(napis)  # Wynik: \"Mam na imię Anna, mam 30 lat i ważę 60.50 kg.\"\n",
    "```"
   ]
  },
  {
   "cell_type": "code",
   "execution_count": 8,
   "id": "4155262a-d44c-40ea-af7c-d0b2805f2c00",
   "metadata": {},
   "outputs": [
    {
     "data": {
      "text/plain": [
       "'Mam na imię Anna i mam 20.0 lat.'"
      ]
     },
     "execution_count": 8,
     "metadata": {},
     "output_type": "execute_result"
    }
   ],
   "source": [
    "imie = \"Anna\"\n",
    "wiek = 20\n",
    "napis = \"Mam na imię %s i mam %.1f lat.\" % (imie, wiek)\n",
    "napis"
   ]
  },
  {
   "cell_type": "markdown",
   "id": "aa47e247-4d7b-4a7f-b8bd-0ee71a375194",
   "metadata": {},
   "source": [
    "####  Metoda `format()`\n",
    "\n",
    "**Prosty przykład:**\n",
    "```python\n",
    "imie = \"Anna\"\n",
    "napis = \"Mam na imię {}.\".format(imie)\n",
    "print(napis)  # Wynik: \"Mam na imię Anna.\"\n",
    "```\n",
    "\n",
    "**Bardziej skomplikowany przykład:**\n",
    "```python\n",
    "imie = \"Anna\"\n",
    "wiek = 30\n",
    "waga = 60.5\n",
    "napis = \"Mam na imię {0}, mam {1} lat i ważę {2:.2f} kg.\".format(imie, wiek, waga)\n",
    "print(napis)  # Wynik: \"Mam na imię Anna, mam 30 lat i ważę 60.50 kg.\"\n",
    "```\n",
    "\n",
    "można tu też używać argumentów nazwanych\n",
    "\n",
    "```python\n",
    "imie = \"Anna\"\n",
    "wiek = 30\n",
    "waga = 60.5\n",
    "napis = \"Mam na imię {imie}, mam {wiek} lat i ważę {waga:.2f} kg.\".format(imie=imie, wiek=wiek, waga=waga)\n",
    "print(napis)  # Wynik: \"Mam na imię Anna, mam 30 lat i ważę 60.50 kg.\"\n",
    "```"
   ]
  },
  {
   "cell_type": "code",
   "execution_count": 9,
   "id": "d8ba9343-aa72-408b-ae64-72479d3c9e9f",
   "metadata": {},
   "outputs": [
    {
     "name": "stdout",
     "output_type": "stream",
     "text": [
      "Mam na imię Anna                 i mam                   20 lat\n"
     ]
    }
   ],
   "source": [
    "imie = \"Anna\"\n",
    "wiek = 20\n",
    "napis = \"Mam na imię {:20} i mam {:20d} lat\".format(imie, wiek)\n",
    "print(napis)  # Wynik: \"Mam na imię Anna.\""
   ]
  },
  {
   "cell_type": "markdown",
   "id": "60a427d5",
   "metadata": {},
   "source": [
    "#### F-stringi (Python 3.6+)\n",
    "\n",
    "**Prosty przykład:**\n",
    "```python\n",
    "imie = \"Anna\"\n",
    "napis = f\"Mam na imię {imie}.\"\n",
    "print(napis)  # Wynik: \"Mam na imię Anna.\"\n",
    "```\n",
    "\n",
    "**Bardziej skomplikowany przykład:**\n",
    "```python\n",
    "imie = \"Anna\"\n",
    "wiek = 30\n",
    "waga = 60.5\n",
    "napis = f\"Mam na imię {imie}, mam {wiek} lat i ważę {waga:.2f} kg.\"\n",
    "print(napis)  # Wynik: \"Mam na imię Anna, mam 30 lat i ważę 60.50 kg.\"\n",
    "```\n",
    "\n",
    "#### Podsumowanie\n",
    "\n",
    "Formatowanie napisów w Pythonie ewoluowało na przestrzeni lat, dostarczając programistom coraz bardziej elastycznych i intuicyjnych metod do prezentacji danych tekstowych. Wybór odpowiedniej metody zależy od wersji Pythona oraz indywidualnych preferencji programisty. Jednak dla nowych projektów zalecane jest korzystanie z f-stringów ze względu na ich czytelność i wydajność."
   ]
  },
  {
   "cell_type": "markdown",
   "id": "b6246c16",
   "metadata": {},
   "source": [
    "%%writefile cwiczenia/cwiczenie_2_1_5_5.md\n",
    "#### 📝 Ćwiczenie - formatowanie napisów\n",
    "\n",
    "[Cwiczenie 2_1_5_5](cwiczenia/cwiczenie_2_1_5_5.md)\n",
    "\n",
    "Masz zestaw produktów z podaną kalorycznością za 100 g oraz zawartością białka, tłuszczy i węglowodanów oraz ceną za kg\n",
    "\n",
    "wartości w 100 g i cena w kg:\n",
    "\n",
    "\n",
    "| nazwa | kCal | białko | tłuszcz | węglowodany | cena / kg | \n",
    "|-------|------|--------|---------|-------------|-----------|\n",
    "| pomidor | 19 | 1 |  0 | 4 |  5.7 |\n",
    "| ser mozarella | 248 | 18 | 19 | 2 | 38.32 |\n",
    "| sałata | 13 | 1 | 0 | 2 | 3.15 |\n",
    "\n",
    "\n",
    "\n",
    "Robisz sałatke w składzie 350 g pomidora, 325 g mozarella, 350 g sałaty\n",
    "Przedstaw tabelę pokazującą kalorie i składniki każdego składnika oraz cenę. Dodaj wiersz z podsumowaniem. \n",
    "Wyświetl dane w konsoli w sformatowany sposób. \n",
    "Nazwy, liczby powinny układać sie w kolumny. Podobnie jak części dziesiętne, jedności itd. \n",
    "\n",
    "Możesz posłużyć się zmiennymi. Możesz też użyć jakichś struktur danych i pętli.\n",
    "\n",
    "Oczekiwany wynik niech będzie zbliżony do tego:\n",
    "\n",
    "```\n",
    "pomidor        , kalorie:  66.50, b:  3.50, t:  0.00, w: 14.00, waga:  350 g, koszt:  2.00 PLN\n",
    "ser mozarella  , kalorie: 806.00, b: 58.50, t: 61.75, w:  6.50, waga:  325 g, koszt: 12.45 PLN\n",
    "sałata         , kalorie:  45.50, b:  3.50, t:  0.00, w:  7.00, waga:  350 g, koszt:  1.10 PLN\n",
    "================================================================================\n",
    "SUMA           , kalorie: 918.00, b: 65.50, t: 61.75, w: 27.50, waga: 1025 g, koszt: 15.55 PLN\n",
    "\n",
    "```"
   ]
  },
  {
   "cell_type": "markdown",
   "id": "8ad5cdb3",
   "metadata": {},
   "source": [
    "##### Rozwiązanie 1"
   ]
  },
  {
   "cell_type": "code",
   "execution_count": 10,
   "id": "36e81b60",
   "metadata": {},
   "outputs": [
    {
     "name": "stdout",
     "output_type": "stream",
     "text": [
      "pomidor        , kalorie:  66.50, b:  3.50, t:  0.00, w: 14.00, waga:  350 g, koszt:  2.00 PLN\n",
      "ser mozarella  , kalorie: 806.00, b: 58.50, t: 61.75, w:  6.50, waga:  325 g, koszt: 12.45 PLN\n",
      "sałata         , kalorie:  45.50, b:  3.50, t:  0.00, w:  7.00, waga:  350 g, koszt:  1.10 PLN\n",
      "================================================================================\n",
      "SUMA           , kalorie: 918.00, b: 65.50, t: 61.75, w: 27.50, waga: 1025 g, koszt: 15.55 PLN\n",
      "\n"
     ]
    }
   ],
   "source": [
    "pomidor = [\"pomidor\", 19, 1, 0, 4, 5.7, 350]\n",
    "mozarella = [\"ser mozarella\", 248, 18, 19, 2, 38.32, 325]\n",
    "salata = [\"sałata\", 13, 1, 0, 2, 3.15, 350]\n",
    "\n",
    "produkty = [pomidor, mozarella, salata]\n",
    "\n",
    "raport = \"\"\n",
    "bialko, tluszcz, wegle, kalorie, koszt, waga_calosc = 0,0,0,0,0,0\n",
    "for produkt in produkty:\n",
    "    waga = produkt[-1]\n",
    "    cena = waga * produkt[-2] / 1000\n",
    "    k = produkt[1]/100 * waga\n",
    "    b = produkt[2]/100 * waga\n",
    "    t = produkt[3]/100 * waga\n",
    "    w = produkt[4]/100 * waga\n",
    "    raport += f\"{produkt[0]:15}, kalorie: {k:>6.2f}, b: {b:>5.2f}, t: {t:>5.2f}, w: {w:>5.2f}, waga: {waga:4} g, koszt: {cena:>5.2f} PLN\\n\"\n",
    "    koszt += cena\n",
    "    kalorie += k\n",
    "    bialko += b\n",
    "    tluszcz += t\n",
    "    wegle += w\n",
    "    waga_calosc += waga\n",
    "raport += \"=\"*80 + \"\\n\"\n",
    "raport += f\"{'SUMA':15}, kalorie: {kalorie:>6.2f}, b: {bialko:>5.2f}, t: {tluszcz:>5.2f}, w: {wegle:>5.2f}, waga: {waga_calosc:4} g, koszt: {koszt:>5.2f} PLN\\n\"\n",
    "\n",
    "\n",
    "print(raport)"
   ]
  },
  {
   "cell_type": "markdown",
   "id": "1f15fcb8",
   "metadata": {},
   "source": [
    "##### Rozwiązanie 2 - wprowadzenie funkcji"
   ]
  },
  {
   "cell_type": "code",
   "execution_count": 11,
   "id": "f4e94a94",
   "metadata": {},
   "outputs": [
    {
     "name": "stdout",
     "output_type": "stream",
     "text": [
      "pomidor        , kalorie:  66.50, b:  3.50, t:  0.00, w: 14.00, waga:  350 g, koszt:  2.00 PLN\n",
      "ser mozarella  , kalorie: 806.00, b: 58.50, t: 61.75, w:  6.50, waga:  325 g, koszt: 12.45 PLN\n",
      "sałata         , kalorie:  45.50, b:  3.50, t:  0.00, w:  7.00, waga:  350 g, koszt:  1.10 PLN\n",
      "================================================================================\n",
      "SUMA           , kalorie: 918.00, b: 65.50, t: 61.75, w: 27.50, waga: 1025 g, koszt: 15.55 PLN\n",
      "\n"
     ]
    }
   ],
   "source": [
    "def oblicz_wartosci(produkt):\n",
    "    waga = produkt[-1]\n",
    "    cena = waga * produkt[-2] / 1000\n",
    "    kalorie = produkt[1]/100 * waga\n",
    "    bialko = produkt[2]/100 * waga\n",
    "    tluszcz = produkt[3]/100 * waga\n",
    "    wegle = produkt[4]/100 * waga\n",
    "\n",
    "    return waga, cena, kalorie, bialko, tluszcz, wegle\n",
    "\n",
    "def dodaj_do_raportu(produkt, waga, cena, kalorie, bialko, tluszcz, wegle):\n",
    "    return f\"{produkt[0]:15}, kalorie: {kalorie:>6.2f}, b: {bialko:>5.2f}, t: {tluszcz:>5.2f}, w: {wegle:>5.2f}, waga: {waga:4} g, koszt: {cena:>5.2f} PLN\\n\"\n",
    "\n",
    "pomidor = [\"pomidor\", 19, 1, 0, 4, 5.7, 350]\n",
    "mozarella = [\"ser mozarella\", 248, 18, 19, 2, 38.32, 325]\n",
    "salata = [\"sałata\", 13, 1, 0, 2, 3.15, 350]\n",
    "\n",
    "produkty = [pomidor, mozarella, salata]\n",
    "\n",
    "raport = \"\"\n",
    "bialko, tluszcz, wegle, kalorie, koszt, waga_calosc = 0,0,0,0,0,0\n",
    "\n",
    "for produkt in produkty:\n",
    "    waga, cena, k, b, t, w = oblicz_wartosci(produkt)\n",
    "    raport += dodaj_do_raportu(produkt, waga, cena, k, b, t, w)\n",
    "    koszt += cena\n",
    "    kalorie += k\n",
    "    bialko += b\n",
    "    tluszcz += t\n",
    "    wegle += w\n",
    "    waga_calosc += waga\n",
    "\n",
    "raport += \"=\"*80 + \"\\n\"\n",
    "raport += f\"{'SUMA':15}, kalorie: {kalorie:>6.2f}, b: {bialko:>5.2f}, t: {tluszcz:>5.2f}, w: {wegle:>5.2f}, waga: {waga_calosc:4} g, koszt: {koszt:>5.2f} PLN\\n\"\n",
    "\n",
    "print(raport)\n"
   ]
  },
  {
   "cell_type": "markdown",
   "id": "d03506e3",
   "metadata": {},
   "source": [
    "Użyłem dwóch funkcji pomocniczych: `oblicz_wartosci`, która oblicza wartości odżywcze i ekonomiczne produktu, oraz `dodaj_do_raportu`, która formatuje i dodaje informacje o produkcie do raportu."
   ]
  },
  {
   "cell_type": "markdown",
   "id": "4b4bc4ab",
   "metadata": {},
   "source": [
    "##### Rozwiązanie 3 - podejście bardziej obiektowe"
   ]
  },
  {
   "cell_type": "code",
   "execution_count": 12,
   "id": "2aa0ba18",
   "metadata": {},
   "outputs": [
    {
     "name": "stdout",
     "output_type": "stream",
     "text": [
      "pomidor        , kalorie:  66.50, b:  3.50, t:  0.00, w: 14.00, waga:  350 g, koszt:  2.00 PLN\n",
      "ser mozarella  , kalorie: 806.00, b: 58.50, t: 61.75, w:  6.50, waga:  325 g, koszt: 12.45 PLN\n",
      "sałata         , kalorie:  45.50, b:  3.50, t:  0.00, w:  7.00, waga:  350 g, koszt:  1.10 PLN\n",
      "================================================================================\n",
      "SUMA           , kalorie: 918.00, b: 65.50, t: 61.75, w: 27.50, waga: 1025 g, koszt: 15.55 PLN\n",
      "\n"
     ]
    }
   ],
   "source": [
    "class Produkt:\n",
    "    def __init__(self, nazwa, kalorie, bialko, tluszcz, wegle, cena_za_kg, waga):\n",
    "        self.nazwa = nazwa\n",
    "        self.kalorie = kalorie\n",
    "        self.bialko = bialko\n",
    "        self.tluszcz = tluszcz\n",
    "        self.wegle = wegle\n",
    "        self.cena_za_kg = cena_za_kg\n",
    "        self.waga = waga\n",
    "\n",
    "    def oblicz_wartosci(self):\n",
    "        cena = self.waga * self.cena_za_kg / 1000\n",
    "        kalorie = self.kalorie/100 * self.waga\n",
    "        bialko = self.bialko/100 * self.waga\n",
    "        tluszcz = self.tluszcz/100 * self.waga\n",
    "        wegle = self.wegle/100 * self.waga\n",
    "        return cena, kalorie, bialko, tluszcz, wegle\n",
    "\n",
    "    def __str__(self):\n",
    "        cena, kalorie, bialko, tluszcz, wegle = self.oblicz_wartosci()\n",
    "        return f\"{self.nazwa:15}, kalorie: {kalorie:>6.2f}, b: {bialko:>5.2f}, t: {tluszcz:>5.2f}, w: {wegle:>5.2f}, waga: {self.waga:4} g, koszt: {cena:>5.2f} PLN\"\n",
    "\n",
    "pomidor = Produkt(\"pomidor\", 19, 1, 0, 4, 5.7, 350)\n",
    "mozarella = Produkt(\"ser mozarella\", 248, 18, 19, 2, 38.32, 325)\n",
    "salata = Produkt(\"sałata\", 13, 1, 0, 2, 3.15, 350)\n",
    "\n",
    "produkty = [pomidor, mozarella, salata]\n",
    "\n",
    "bialko, tluszcz, wegle, kalorie, koszt, waga_calosc = 0,0,0,0,0,0\n",
    "raport = \"\"\n",
    "\n",
    "for produkt in produkty:\n",
    "    cena, k, b, t, w = produkt.oblicz_wartosci()\n",
    "    raport += str(produkt) + \"\\n\"\n",
    "    koszt += cena\n",
    "    kalorie += k\n",
    "    bialko += b\n",
    "    tluszcz += t\n",
    "    wegle += w\n",
    "    waga_calosc += produkt.waga\n",
    "\n",
    "raport += \"=\"*80 + \"\\n\"\n",
    "raport += f\"{'SUMA':15}, kalorie: {kalorie:>6.2f}, b: {bialko:>5.2f}, t: {tluszcz:>5.2f}, w: {wegle:>5.2f}, waga: {waga_calosc:4} g, koszt: {koszt:>5.2f} PLN\\n\"\n",
    "\n",
    "print(raport)\n"
   ]
  },
  {
   "cell_type": "markdown",
   "id": "ff5b5b50",
   "metadata": {},
   "source": [
    "Klasa Produkt zawiera metodę oblicz_wartosci, która oblicza wszystkie niezbędne wartości dla produktu oraz specjalną metodę `__str__`, która pozwala na łatwe formatowanie danych produktu w postaci napisu. Dzięki temu główna pętla jest bardziej przejrzysta i zwięzła."
   ]
  },
  {
   "cell_type": "markdown",
   "id": "bf575725",
   "metadata": {},
   "source": [
    "### Typ bool w Pythonie\n",
    "\n",
    "#### Wprowadzenie:\n",
    "\n",
    "`bool` to wbudowany typ danych w Pythonie, który służy do reprezentowania wartości logicznych: `True` (prawda) i `False` (fałsz).\n",
    "\n",
    "#### Wartości:\n",
    "\n",
    "W Pythonie mamy dwie wartości logiczne:\n",
    "\n",
    "- **True**: Reprezentuje wartość prawdy.\n",
    "- **False**: Reprezentuje wartość fałszu.\n",
    "\n",
    "#### Operatory działające na wartościach typu bool:\n",
    "\n",
    "1. **`and`**: Zwraca `True`, jeśli obie wartości są prawdziwe.\n",
    "2. **`or`**: Zwraca `True`, jeśli przynajmniej jedna wartość jest prawdziwa.\n",
    "3. **`not`**: Neguje wartość logiczną.\n",
    "\n",
    "Przykłady:\n",
    "```python\n",
    "print(True and False)  # Wypisze False\n",
    "print(True or False)   # Wypisze True\n",
    "print(not True)        # Wypisze False\n",
    "```\n",
    "\n",
    "#### Konwersja na typ bool:\n",
    "\n",
    "W Pythonie wiele różnych typów wartości można przekształcić na wartość logiczną. W większości przypadków, \"puste\" lub \"zerowe\" wartości są traktowane jako `False`, a wszystkie inne jako `True`.\n",
    "\n",
    "Przykłady:\n",
    "```python\n",
    "print(bool(0))         # Wypisze False\n",
    "print(bool(123))       # Wypisze True\n",
    "print(bool(\"\"))        # Wypisze False\n",
    "print(bool(\"Python\"))  # Wypisze True\n",
    "print(bool([]))        # Wypisze False\n",
    "print(bool([1, 2]))    # Wypisze True\n",
    "```\n",
    "\n",
    "\n",
    "Typ `bool` jest podstawą dla wielu operacji w programowaniu. Dzięki zrozumieniu jego działania można tworzyć skomplikowane struktury warunkowe i kontrolować przepływ programu."
   ]
  },
  {
   "cell_type": "markdown",
   "id": "81c8fdab",
   "metadata": {},
   "source": [
    "\n",
    "#### Operator `is`\n",
    "\n",
    "Python jest językiem o dynamicznej typizacji, który oferuje wiele wbudowanych typów danych. Jednym z tych typów jest `bool`, reprezentujący wartości logiczne `True` i `False`. W praktyce programistycznej często spotykamy się z sytuacją, gdzie potrzebujemy sprawdzić tożsamość obiektu, a nie tylko jego równość. Właśnie w takich przypadkach przydaje się operator `is`.\n",
    "\n",
    "##### Dlaczego używać operatora `is` z typem `bool`?\n",
    "\n",
    "1. **Unikatowość instancji**: W Pythonie istnieją tylko dwie unikatowe instancje typu `bool`: `True` i `False`. Z tego powodu, gdy porównujemy wartości logiczne, używamy operatora `is` do sprawdzenia tożsamości, a nie równości. Zapewnia to, że porównujemy dokładnie te same obiekty, a nie tylko ich wartości.\n",
    "\n",
    "   ```python\n",
    "   x = True\n",
    "   y = not False\n",
    "   \n",
    "   if x is y:\n",
    "       print(\"x i y wskazują na ten sam obiekt.\")\n",
    "   ```\n",
    "\n",
    "2. **Wyższa wydajność**: Operator `is` jest nieco szybszy niż operator `==`, ponieważ porównuje jedynie identyfikatory obiektów, a nie ich wartości.\n",
    "\n",
    "3. **Unikanie niejednoznaczności**: W pewnych sytuacjach, porównując obiekty z użyciem `==`, możemy napotkać na nieoczekiwane wyniki. Dlatego porównując wartości `True` i `False`, zaleca się używanie `is` dla pewności, że porównujemy wartości logiczne, a nie liczby całkowite.\n",
    "\n",
    "#### Bool jako podtyp `int`\n",
    "\n",
    "W Pythonie `bool` jest podtypem `int`. Oznacza to, że `True` i `False` mają wartości liczbowe odpowiednio `1` i `0`.\n",
    "\n",
    "```python\n",
    "print(isinstance(True, int))  # Wynik: True\n",
    "print(isinstance(False, int)) # Wynik: True\n",
    "\n",
    "print(int(True))  # Wynik: 1\n",
    "print(int(False)) # Wynik: 0\n",
    "```\n",
    "\n",
    "Ten fakt może prowadzić do nieoczekiwanych wyników w pewnych operacjach arytmetycznych. Na przykład:\n",
    "\n",
    "```python\n",
    "print(True + 2)  # Wynik: 3\n",
    "```\n",
    "\n",
    "Jest to jednym z powodów, dla których warto korzystać z operatora `is` podczas pracy z wartościami logicznymi, aby unikać potencjalnych nieporozumień i błędów w kodzie.\n",
    "\n",
    "Używanie operatora `is` z wartościami `bool` w Pythonie jest zalecane ze względu na pewność porównania, wydajność oraz uniknięcie niejednoznaczności. Ponadto, ze względu na to, że `bool` jest podtypem `int`, warto być ostrożnym podczas wykonywania operacji, które mogą traktować `True` i `False` jako liczby całkowite."
   ]
  },
  {
   "cell_type": "markdown",
   "id": "2f829247",
   "metadata": {},
   "source": [
    "%%writefile cwiczenia/cwiczenie_2_1_6_7.md\n",
    "\n",
    "####  📝 Ćwiczenie - zwracanie wartości logicznej\n",
    "\n",
    "\n",
    "[Cwiczenie 2_1_6_7](cwiczenia/cwiczenie_2_1_6_7.md)\n",
    "\n",
    "\n",
    "Napisz funkcję `czy_dodatnia`, która przyjmuje liczbę jako argument. Funkcja powinna zwracać `True`, jeśli liczba jest dodatnia, i `False` w przeciwnym przypadku. Użyj tej funkcji, aby sprawdzić działanie operatorów logicznych na kilku różnych liczbach.\n",
    "\n",
    "Ćwiczenie niby banalne, ale ciekaw jestem Waszych implementacji.\n",
    "\n",
    "Przykład:\n",
    "\n",
    "```python\n",
    "print(czy_dodatnia(5))        # Powinno zwrócić True\n",
    "print(czy_dodatnia(-3))       # Powinno zwrócić False\n",
    "print(czy_dodatnia(0))        # Powinno zwrócić False\n",
    "```\n",
    "Co z przypadkami wywołania niezgodnego z przeznaczeniem? np. dla obiektów innych niż liczby?"
   ]
  },
  {
   "cell_type": "markdown",
   "id": "444c4252",
   "metadata": {},
   "source": [
    "%%writefile cwiczenia/cwiczenie_2_1_6_8.md\n",
    "\n",
    "####  📝 Ćwiczenie - operator is\n",
    "\n",
    "[Cwiczenie 2_1_6_8](cwiczenia/cwiczenie_2_1_6_8.md)\n",
    "\n",
    "\n",
    "Operator `==` w Pythonie porównuje wartość obiektów, podczas gdy operator `is` porównuje ich tożsamość, tzn. czy obie zmienne wskazują na ten sam obiekt w pamięci. Ta subtelna różnica staje się szczególnie istotna przy porównywaniu wartości typu `bool`.\n",
    "\n",
    "\n",
    "1. Stwórz dwie zmienne: jedną przypisując wartość `True` i drugą jako wynik wyrażenia logicznego, które również zwraca `True`:\n",
    "   ```python\n",
    "   a = True\n",
    "   b = 1 == 1\n",
    "   ```\n",
    "\n",
    "2. Porównaj te dwie zmienne za pomocą operatora `==` oraz `is`:\n",
    "   ```python\n",
    "   print(a == b)  # Sprawdź wartość\n",
    "   print(a is b)  # Sprawdź tożsamość\n",
    "   ```\n",
    "\n",
    "3. Oczekiwany wynik:\n",
    "   - Pierwsze porównanie powinno zwrócić `True`, ponieważ obie zmienne mają wartość `True`.\n",
    "   - Drugie porównanie również powinno zwrócić `True`, ponieważ w Pythonie istnieje tylko jedna instancja `True` i obie zmienne wskazują na ten sam obiekt.\n",
    "\n",
    "4. Teraz stwórz dwie zmienne, używając wartości liczbowych tak, aby jedna z nich była traktowana jako prawda, a druga jako fałsz:\n",
    "   ```python\n",
    "   c = 1\n",
    "   d = 0\n",
    "   ```\n",
    "\n",
    "5. Porównaj wartość logiczną zmiennej `c` z wartością `True` oraz wartość logiczną zmiennej `d` z wartością `False` za pomocą obu operatorów:\n",
    "   ```python\n",
    "   print(c == True)  # Sprawdź wartość\n",
    "   print(c is True)  # Sprawdź tożsamość\n",
    "   print(d == False) # Sprawdź wartość\n",
    "   print(d is False) # Sprawdź tożsamość\n",
    "   ```\n",
    "\n",
    "6. Oczekiwany wynik:\n",
    "\n",
    "- Pierwsze i trzecie porównanie powinny zwrócić `True`, ponieważ wartość liczby `1` jest traktowana jako prawda, a wartość liczby `0` jako fałsz w kontekście logicznym.\n",
    "- Drugie i czwarte porównanie powinny zwrócić `False`, ponieważ mimo że liczby `1` i `0` są traktowane odpowiednio jako prawda i fałsz, nie są one tym samym obiektem co `True` i `False`.\n",
    "\n",
    "To ćwiczenie ilustruje, jak ważne jest zrozumienie różnicy między porównywaniem wartości a tożsamości w Pythonie, zwłaszcza gdy pracujemy z wartościami logicznymi. Dzięki temu możemy unikać subtelnych błędów w naszym kodzie."
   ]
  },
  {
   "cell_type": "markdown",
   "id": "7fbb5db1",
   "metadata": {},
   "source": [
    "%%writefile cwiczenia/cwiczenie_2_1_6_9.md\n",
    "\n",
    "####  📝 Ćwiczenie: Filtr wiadomości\n",
    "\n",
    "[Cwiczenie 2_1_6_9](cwiczenia/cwiczenie_2_1_6_9.md)\n",
    "\n",
    "Zakładając, że pracujesz nad aplikacją do filtrowania wiadomości, chcesz odfiltrować niechciane wiadomości na podstawie pewnych kryteriów. Twoim zadaniem jest napisanie funkcji, która będzie analizować wiadomość i decydować, czy jest ona pożądana, czy nie.\n",
    "\n",
    "Kryteria:\n",
    "\n",
    "1. Jeśli wiadomość zawiera słowo \"PROMOCJA\", jest to niechciana wiadomość.\n",
    "2. Jeśli wiadomość jest krótsza niż 5 znaków, jest to niechciana wiadomość.\n",
    "3. Jeśli wiadomość zawiera więcej niż 3 wykrzykniki (\"!!!\"), jest to niechciana wiadomość.\n",
    "\n",
    "Funkcja powinna zwracać wartość `True`, jeśli wiadomość jest pożądana, i `False` w przeciwnym przypadku."
   ]
  },
  {
   "cell_type": "code",
   "execution_count": null,
   "id": "7baf99ad-eee0-445f-a400-465b1b971f4e",
   "metadata": {},
   "outputs": [],
   "source": []
  },
  {
   "cell_type": "markdown",
   "id": "d870fa48",
   "metadata": {},
   "source": [
    "##### Rozwiązanie\n",
    "\n",
    "```python\n",
    "def czy_dobra_wiadomosc(wiadomosc: str) -> bool:\n",
    "    if \"PROMOCJA\" in wiadomosc:\n",
    "        return False\n",
    "    if len(wiadomosc) < 5:\n",
    "        return False\n",
    "    if wiadomosc.count(\"!\") > 3:\n",
    "        return False\n",
    "    return True\n",
    "\n",
    "# Testy\n",
    "print(czy_dobra_wiadomosc(\"Hej!\"))                              # False (za krótka)\n",
    "print(czy_dobra_wiadomosc(\"Witaj w naszym sklepie!\"))           # True\n",
    "print(czy_dobra_wiadomosc(\"PROMOCJA tylko dziś!\"))              # False (zawiera \"PROMOCJA\")\n",
    "print(czy_dobra_wiadomosc(\"Kup teraz!!! To ostatnia szansa!!!\")) # False (za dużo wykrzykników)\n",
    "```\n",
    "\n",
    "Twoim zadaniem jest nie tylko zaimplementować funkcję, ale również przetestować ją, używając różnych przykładowych wiadomości, aby upewnić się, że działa poprawnie.\n",
    "\n",
    "---"
   ]
  },
  {
   "cell_type": "code",
   "execution_count": 14,
   "id": "f354b504-48fc-406f-8a88-99550f4c8992",
   "metadata": {},
   "outputs": [
    {
     "name": "stdout",
     "output_type": "stream",
     "text": [
      "False\n",
      "True\n",
      "False\n",
      "False\n"
     ]
    }
   ],
   "source": [
    "def czy_dobra_wiadomosc(wiadomosc: str) -> bool:\n",
    "    if (\n",
    "        \"PROMOCJA\" in wiadomosc or\n",
    "        len(wiadomosc) < 5 or\n",
    "        wiadomosc.count(\"!\") > 3 \n",
    "    ):\n",
    "        return False\n",
    "    return True\n",
    "\n",
    "print(czy_dobra_wiadomosc(\"Hej!\"))                              # False (za krótka)\n",
    "print(czy_dobra_wiadomosc(\"Witaj w naszym sklepie!\"))           # True\n",
    "print(czy_dobra_wiadomosc(\"PROMOCJA tylko dziś!\"))              # False (zawiera \"PROMOCJA\")\n",
    "print(czy_dobra_wiadomosc(\"Kup teraz!!! To ostatnia szansa!!!\")) # False (za dużo wykrzykników)"
   ]
  },
  {
   "cell_type": "code",
   "execution_count": 16,
   "id": "c6bd7c43-deea-46f8-a0aa-9659f17b77c4",
   "metadata": {},
   "outputs": [
    {
     "ename": "ZeroDivisionError",
     "evalue": "division by zero",
     "output_type": "error",
     "traceback": [
      "\u001b[1;31m---------------------------------------------------------------------------\u001b[0m",
      "\u001b[1;31mZeroDivisionError\u001b[0m                         Traceback (most recent call last)",
      "Cell \u001b[1;32mIn[16], line 13\u001b[0m\n\u001b[0;32m     10\u001b[0m         \u001b[38;5;28;01mreturn\u001b[39;00m \u001b[38;5;28;01mFalse\u001b[39;00m\n\u001b[0;32m     11\u001b[0m     \u001b[38;5;28;01mreturn\u001b[39;00m \u001b[38;5;28;01mTrue\u001b[39;00m\n\u001b[1;32m---> 13\u001b[0m \u001b[38;5;28mprint\u001b[39m(\u001b[43mczy_dobra_wiadomosc\u001b[49m\u001b[43m(\u001b[49m\u001b[38;5;124;43m\"\u001b[39;49m\u001b[38;5;124;43mHej!\u001b[39;49m\u001b[38;5;124;43m\"\u001b[39;49m\u001b[43m)\u001b[49m)                              \u001b[38;5;66;03m# False (za krótka)\u001b[39;00m\n\u001b[0;32m     14\u001b[0m \u001b[38;5;28mprint\u001b[39m(czy_dobra_wiadomosc(\u001b[38;5;124m\"\u001b[39m\u001b[38;5;124mWitaj w naszym sklepie!\u001b[39m\u001b[38;5;124m\"\u001b[39m))           \u001b[38;5;66;03m# True\u001b[39;00m\n\u001b[0;32m     15\u001b[0m \u001b[38;5;28mprint\u001b[39m(czy_dobra_wiadomosc(\u001b[38;5;124m\"\u001b[39m\u001b[38;5;124mPROMOCJA tylko dziś!\u001b[39m\u001b[38;5;124m\"\u001b[39m))              \u001b[38;5;66;03m# False (zawiera \"PROMOCJA\")\u001b[39;00m\n",
      "Cell \u001b[1;32mIn[16], line 7\u001b[0m, in \u001b[0;36mczy_dobra_wiadomosc\u001b[1;34m(wiadomosc)\u001b[0m\n\u001b[0;32m      1\u001b[0m \u001b[38;5;28;01mdef\u001b[39;00m \u001b[38;5;21mczy_dobra_wiadomosc\u001b[39m(wiadomosc: \u001b[38;5;28mstr\u001b[39m) \u001b[38;5;241m-\u001b[39m\u001b[38;5;241m>\u001b[39m \u001b[38;5;28mbool\u001b[39m:\n\u001b[0;32m      2\u001b[0m     \u001b[38;5;28;01mif\u001b[39;00m \u001b[38;5;28many\u001b[39m(\n\u001b[0;32m      3\u001b[0m         [\n\u001b[0;32m      4\u001b[0m             \u001b[38;5;124m\"\u001b[39m\u001b[38;5;124mPROMOCJA\u001b[39m\u001b[38;5;124m\"\u001b[39m \u001b[38;5;129;01min\u001b[39;00m wiadomosc,\n\u001b[0;32m      5\u001b[0m             \u001b[38;5;28mlen\u001b[39m(wiadomosc) \u001b[38;5;241m<\u001b[39m \u001b[38;5;241m5\u001b[39m,\n\u001b[0;32m      6\u001b[0m             wiadomosc\u001b[38;5;241m.\u001b[39mcount(\u001b[38;5;124m\"\u001b[39m\u001b[38;5;124m!\u001b[39m\u001b[38;5;124m\"\u001b[39m) \u001b[38;5;241m>\u001b[39m \u001b[38;5;241m3\u001b[39m,\n\u001b[1;32m----> 7\u001b[0m             \u001b[38;5;241;43m1\u001b[39;49m\u001b[38;5;241;43m/\u001b[39;49m\u001b[38;5;241;43m0\u001b[39;49m,\n\u001b[0;32m      8\u001b[0m         ]\n\u001b[0;32m      9\u001b[0m     ):\n\u001b[0;32m     10\u001b[0m         \u001b[38;5;28;01mreturn\u001b[39;00m \u001b[38;5;28;01mFalse\u001b[39;00m\n\u001b[0;32m     11\u001b[0m     \u001b[38;5;28;01mreturn\u001b[39;00m \u001b[38;5;28;01mTrue\u001b[39;00m\n",
      "\u001b[1;31mZeroDivisionError\u001b[0m: division by zero"
     ]
    }
   ],
   "source": [
    "def czy_dobra_wiadomosc(wiadomosc: str) -> bool:\n",
    "    if any(\n",
    "        [\n",
    "            \"PROMOCJA\" in wiadomosc,\n",
    "            len(wiadomosc) < 5,\n",
    "            wiadomosc.count(\"!\") > 3,\n",
    "        ]\n",
    "    ):\n",
    "        return False\n",
    "    return True\n",
    "\n",
    "print(czy_dobra_wiadomosc(\"Hej!\"))                              # False (za krótka)\n",
    "print(czy_dobra_wiadomosc(\"Witaj w naszym sklepie!\"))           # True\n",
    "print(czy_dobra_wiadomosc(\"PROMOCJA tylko dziś!\"))              # False (zawiera \"PROMOCJA\")\n",
    "print(czy_dobra_wiadomosc(\"Kup teraz!!! To ostatnia szansa!!!\")) # False (za dużo wykrzykników)"
   ]
  },
  {
   "cell_type": "code",
   "execution_count": null,
   "id": "45e3fa8d-96c0-44ea-889c-3fb1f54008d1",
   "metadata": {},
   "outputs": [],
   "source": []
  },
  {
   "cell_type": "code",
   "execution_count": null,
   "id": "4c6964a8-7067-49f7-8bd4-eb7e638ed4e3",
   "metadata": {},
   "outputs": [],
   "source": []
  },
  {
   "cell_type": "code",
   "execution_count": null,
   "id": "9f5a75e4-c4d6-4bb2-86df-76a213a7d434",
   "metadata": {},
   "outputs": [],
   "source": []
  },
  {
   "cell_type": "markdown",
   "id": "788bfbf9-6b33-41bd-822a-d5b71757cfc8",
   "metadata": {},
   "source": [
    "### Typ `int` w Pythonie\n",
    "\n",
    "#### Wprowadzenie:\n",
    "\n",
    "`int` to wbudowany typ danych w Pythonie, który służy do reprezentowania liczb całkowitych. Liczby całkowite są jednym z podstawowych elementów większości programów i w Pythonie można je używać w sposób bardzo elastyczny i wygodny.\n",
    "\n",
    "#### Funkcja `int()`:\n",
    "\n",
    "Python posiada funkcję `int()`, która umożliwia tworzenie liczb całkowitych oraz konwersję innych typów danych na typ `int`. \n",
    "\n",
    "Przykłady:\n",
    "- Z napisu: `int(\"123\")` zwróci `123`.\n",
    "- Z liczby zmiennoprzecinkowej: `int(4.7)` zwróci `4` (funkcja zaokrągla w dół).\n",
    "\n",
    "Możesz również używać funkcji `int()` do konwersji napisów reprezentujących liczby w innych systemach liczbowych, podając odpowiedni argument bazowy:\n",
    "\n",
    "- System dwójkowy (binarny): `int(\"1101\", 2)` zwróci `13`.\n",
    "- System ósemkowy: `int(\"15\", 8)` zwróci `13`.\n",
    "- System szesnastkowy: `int(\"d\", 16)` zwróci `13`."
   ]
  },
  {
   "cell_type": "code",
   "execution_count": 20,
   "id": "2169d7f5-d2f3-4129-8fba-8ba5a07c4b82",
   "metadata": {},
   "outputs": [
    {
     "data": {
      "text/plain": [
       "403160526"
      ]
     },
     "execution_count": 20,
     "metadata": {},
     "output_type": "execute_result"
    }
   ],
   "source": [
    "int(\"c0ffee\", 32)"
   ]
  },
  {
   "cell_type": "code",
   "execution_count": 21,
   "id": "ffb21b74-7d60-4314-8297-b643cd69ae4e",
   "metadata": {},
   "outputs": [
    {
     "data": {
      "text/plain": [
       "1000000"
      ]
     },
     "execution_count": 21,
     "metadata": {},
     "output_type": "execute_result"
    }
   ],
   "source": [
    "1_000_000"
   ]
  },
  {
   "cell_type": "code",
   "execution_count": 23,
   "id": "9b5d0ab2-73de-4f96-8210-62e380f0ca80",
   "metadata": {},
   "outputs": [
    {
     "data": {
      "text/plain": [
       "15"
      ]
     },
     "execution_count": 23,
     "metadata": {},
     "output_type": "execute_result"
    }
   ],
   "source": [
    "0b1111"
   ]
  },
  {
   "cell_type": "code",
   "execution_count": 24,
   "id": "45e9fd2f-efd4-4ba3-9273-fc7994ea1754",
   "metadata": {},
   "outputs": [
    {
     "data": {
      "text/plain": [
       "585"
      ]
     },
     "execution_count": 24,
     "metadata": {},
     "output_type": "execute_result"
    }
   ],
   "source": [
    "0o1111"
   ]
  },
  {
   "cell_type": "code",
   "execution_count": 25,
   "id": "935fae12-89ed-4b2b-9dd6-839e5c0f7e43",
   "metadata": {},
   "outputs": [
    {
     "data": {
      "text/plain": [
       "4369"
      ]
     },
     "execution_count": 25,
     "metadata": {},
     "output_type": "execute_result"
    }
   ],
   "source": [
    "0x1111"
   ]
  },
  {
   "cell_type": "code",
   "execution_count": null,
   "id": "fc10dec0-2bcc-4994-bb56-0c7e45b3cbdf",
   "metadata": {},
   "outputs": [],
   "source": []
  },
  {
   "cell_type": "markdown",
   "id": "dfd1fed0-36d7-4dff-9f73-87456787c513",
   "metadata": {},
   "source": [
    "#### Podkreślenia jako separatory dziesiętne:\n",
    "\n",
    "W Pythonie można używać podkreślenia (_) jako wizualnych separatorów dziesiętnych w liczbach, co ułatwia odczytywanie dużych liczb:\n",
    "\n",
    "Przykład: `1_000_000` jest równy `1000000`.\n",
    "\n",
    "#### Reprezentacja liczb w innych systemach liczbowych:\n",
    "\n",
    "W Pythonie możesz reprezentować liczby w różnych systemach liczbowych:\n",
    "\n",
    "- System dwójkowy: liczby zaczynają się od `0b`, np. `0b1010` to `10` w systemie dziesiętnym.\n",
    "- System ósemkowy: liczby zaczynają się od `0o`, np. `0o12` to `10` w systemie dziesiętnym.\n",
    "- System szesnastkowy: liczby zaczynają się od `0x`, np. `0xa` to `10` w systemie dziesiętnym.\n",
    "\n",
    "---\n",
    "\n",
    "##### Konwersja liczb całkowitych na różne reprezentacje - `bin`, `oct`, `hex`\n",
    "\n",
    "Oprócz możliwości definiowania liczb w różnych systemach liczbowych, Python oferuje wbudowane funkcje do konwersji liczb całkowitych na ich reprezentacje binarne, ósemkowe i szesnastkowe."
   ]
  },
  {
   "cell_type": "code",
   "execution_count": 29,
   "id": "dabd8bcf-8345-4c26-95d5-a7715d5ac2b2",
   "metadata": {},
   "outputs": [
    {
     "data": {
      "text/plain": [
       "'0b1000100010001'"
      ]
     },
     "execution_count": 29,
     "metadata": {},
     "output_type": "execute_result"
    }
   ],
   "source": [
    "bin(4369)"
   ]
  },
  {
   "cell_type": "code",
   "execution_count": 38,
   "id": "8eacc5a3-77bb-4b42-9182-4b16e66abb79",
   "metadata": {},
   "outputs": [
    {
     "data": {
      "text/plain": [
       "b'\\xff\\xfe\\x00\\x00Z\\x00\\x00\\x00a\\x00\\x00\\x00|\\x01\\x00\\x00\\xf3\\x00\\x00\\x00B\\x01\\x00\\x00\\x07\\x01\\x00\\x00 \\x00\\x00\\x00g\\x00\\x00\\x00\\x19\\x01\\x00\\x00[\\x01\\x00\\x00l\\x00\\x00\\x00\\x05\\x01\\x00\\x00 \\x00\\x00\\x00j\\x00\\x00\\x00a\\x00\\x00\\x00z\\x01\\x00\\x00D\\x01\\x00\\x00'"
      ]
     },
     "execution_count": 38,
     "metadata": {},
     "output_type": "execute_result"
    }
   ],
   "source": [
    "napis = \"Zażółć gęślą jaźń\"\n",
    "napis.encode(\"utf-32\")\n"
   ]
  },
  {
   "cell_type": "code",
   "execution_count": 37,
   "id": "174f9a63-d331-4934-a3f8-df8a4fb6105d",
   "metadata": {},
   "outputs": [
    {
     "data": {
      "text/plain": [
       "b'Za\\xbf\\xf3\\xb3\\xe6 g\\xea\\x9cl\\xb9 ja\\x9f\\xf1'"
      ]
     },
     "execution_count": 37,
     "metadata": {},
     "output_type": "execute_result"
    }
   ],
   "source": [
    "napis.encode(\"CP1250\")"
   ]
  },
  {
   "cell_type": "markdown",
   "id": "50cf4816-9e31-4e3e-9978-5ae749c5d835",
   "metadata": {},
   "source": [
    "1. **Funkcja `bin()`:** Konwertuje liczbę całkowitą na jej binarną reprezentację jako napis.\n",
    "   - Przykład: \n",
    "     ```python\n",
    "     bin(10)\n",
    "     ```\n",
    "     Wynik: `'0b1010'`\n",
    "\n",
    "2. **Funkcja `oct()`:** Konwertuje liczbę całkowitą na jej ósemkową reprezentację jako napis.\n",
    "   - Przykład: \n",
    "     ```python\n",
    "     oct(10)\n",
    "     ```\n",
    "     Wynik: `'0o12'`\n",
    "\n",
    "3. **Funkcja `hex()`:** Konwertuje liczbę całkowitą na jej szesnastkową reprezentację jako napis.\n",
    "   - Przykład: \n",
    "     ```python\n",
    "     hex(10)\n",
    "     ```\n",
    "     Wynik: `'0xa'`\n",
    "\n",
    "\n",
    "Funkcje `bin`, `oct` i `hex` są bardzo użyteczne, gdy chcemy uzyskać reprezentację liczby w odpowiednim systemie liczbowym jako napis. Możemy je również wykorzystać do sprawdzenia wyników naszych obliczeń lub do analizy reprezentacji bitowej danych.\n",
    "\n",
    "\n",
    "#### Podsumowanie:\n",
    "\n",
    "Typ `int` jest jednym z kluczowych typów danych w Pythonie, który umożliwia reprezentację liczb całkowitych. Dzięki funkcji `int()` oraz różnorodnym sposobom reprezentacji liczbowej, praca z liczbami całkowitymi w Pythonie jest bardzo wydajna i intuicyjna."
   ]
  },
  {
   "cell_type": "markdown",
   "id": "be11d4b1",
   "metadata": {},
   "source": [
    "%%writefile cwiczenia/cwiczenie_2_1_7_6.md\n",
    "\n",
    "####  📝 Ćwiczenie: Filtr wiadomości\n",
    "\n",
    "[Cwiczenie 2_1_7_6](cwiczenia/cwiczenie_2_1_7_6.md)\n",
    "\n",
    "\n",
    "- Jaką wartość w systemie 10-tnym ma liczba binarna 101010101\n",
    "- Jaką wartosć w systemie 10-tnym ma liczba szesnastkowa 12345\n",
    "- Jaką wartość w systemie binarnym ma liczba 125.\n",
    "- Jaką wartość w systemie dziesiętnym ma liczba ffffff"
   ]
  },
  {
   "cell_type": "markdown",
   "id": "c0579e9e-06dd-4d59-a9c6-d7be5b13155f",
   "metadata": {},
   "source": [
    "### Typ `float` w Pythonie\n",
    "\n",
    "Typ `float` w Pythonie służy do reprezentowania liczb zmiennoprzecinkowych. Lecz zanim zagłębimy się w jego właściwości, warto poznać nieco teorii.\n",
    "\n",
    "`float` w Pythonie (i w wielu innych językach programowania) bazuje na standardzie IEEE 754 dotyczącym reprezentacji liczb zmiennoprzecinkowych. Standard ten definiuje formaty zmiennoprzecinkowe o różnej precyzji oraz operacje na nich. \n",
    "\n",
    "#### Funkcja `float()`\n",
    "\n",
    "Funkcja `float()` jest używana do konwersji danych na liczbę zmiennoprzecinkową. Przyjmuje jako argument różne typy danych, takie jak łańcuchy znaków czy liczby całkowite.\n",
    "\n",
    "Przykład:\n",
    "```python\n",
    "float(7)       # 7.0\n",
    "float(\"3.14\")  # 3.14\n",
    "```\n",
    "\n",
    "#### Specjalne wartości: `inf` i `nan`\n",
    "\n",
    "Python oferuje również specjalne wartości dla liczb zmiennoprzecinkowych:\n",
    "- `inf` (nieskończoność): Pozytywna nieskończoność.\n",
    "- `-inf`: Negatywna nieskończoność.\n",
    "- `nan` (Not a Number): Reprezentuje wartość, która nie jest liczbą.\n",
    "\n",
    "Przykład:\n",
    "```python\n",
    "x = float(\"inf\")\n",
    "y = float(\"-inf\")\n",
    "z = float(\"nan\")\n",
    "```"
   ]
  },
  {
   "cell_type": "code",
   "execution_count": 39,
   "id": "3d30fd0c-cf61-4f1b-af34-98a9c78def7e",
   "metadata": {},
   "outputs": [],
   "source": [
    "x = float(\"inf\")\n",
    "y = float(\"-inf\")\n",
    "z = float(\"nan\")"
   ]
  },
  {
   "cell_type": "code",
   "execution_count": 43,
   "id": "cd3a283f-0b4e-49d7-8de3-14e66f619bd6",
   "metadata": {},
   "outputs": [
    {
     "data": {
      "text/plain": [
       "False"
      ]
     },
     "execution_count": 43,
     "metadata": {},
     "output_type": "execute_result"
    }
   ],
   "source": [
    "y < z < x"
   ]
  },
  {
   "cell_type": "code",
   "execution_count": 44,
   "id": "d336e540-0d4f-4684-b76a-bdf931c317a9",
   "metadata": {},
   "outputs": [
    {
     "data": {
      "text/plain": [
       "True"
      ]
     },
     "execution_count": 44,
     "metadata": {},
     "output_type": "execute_result"
    }
   ],
   "source": [
    "x ==  x"
   ]
  },
  {
   "cell_type": "code",
   "execution_count": 45,
   "id": "7433027a-cc55-449a-8327-b01fd9ba3acc",
   "metadata": {},
   "outputs": [
    {
     "data": {
      "text/plain": [
       "False"
      ]
     },
     "execution_count": 45,
     "metadata": {},
     "output_type": "execute_result"
    }
   ],
   "source": [
    "z == z"
   ]
  },
  {
   "cell_type": "code",
   "execution_count": 46,
   "id": "74d56658-6811-468e-a86d-36bd8e9b9a2c",
   "metadata": {},
   "outputs": [],
   "source": [
    "import math"
   ]
  },
  {
   "cell_type": "code",
   "execution_count": 47,
   "id": "77493120-1e13-4a95-bac1-2f366098253e",
   "metadata": {},
   "outputs": [
    {
     "data": {
      "text/plain": [
       "True"
      ]
     },
     "execution_count": 47,
     "metadata": {},
     "output_type": "execute_result"
    }
   ],
   "source": [
    "math.isnan(z)"
   ]
  },
  {
   "cell_type": "code",
   "execution_count": 48,
   "id": "43fafa7e-c9c1-4649-979b-827f775aaa61",
   "metadata": {},
   "outputs": [
    {
     "data": {
      "text/plain": [
       "False"
      ]
     },
     "execution_count": 48,
     "metadata": {},
     "output_type": "execute_result"
    }
   ],
   "source": [
    "0.1 + 0.2 == 0.3"
   ]
  },
  {
   "cell_type": "code",
   "execution_count": 49,
   "id": "c953c9c9-3748-4fd0-8d35-4c2814c36aa3",
   "metadata": {},
   "outputs": [
    {
     "data": {
      "text/plain": [
       "0.30000000000000004"
      ]
     },
     "execution_count": 49,
     "metadata": {},
     "output_type": "execute_result"
    }
   ],
   "source": [
    "0.1 + 0.2"
   ]
  },
  {
   "cell_type": "code",
   "execution_count": 52,
   "id": "2d3a194a-7434-47b0-a772-5773dbd8000c",
   "metadata": {},
   "outputs": [
    {
     "data": {
      "text/plain": [
       "1.79e+308"
      ]
     },
     "execution_count": 52,
     "metadata": {},
     "output_type": "execute_result"
    }
   ],
   "source": [
    "1.79e308"
   ]
  },
  {
   "cell_type": "code",
   "execution_count": 53,
   "id": "94855244-68fd-4952-8b8f-7197b061b872",
   "metadata": {},
   "outputs": [
    {
     "data": {
      "text/plain": [
       "inf"
      ]
     },
     "execution_count": 53,
     "metadata": {},
     "output_type": "execute_result"
    }
   ],
   "source": [
    "1.8e308"
   ]
  },
  {
   "cell_type": "markdown",
   "id": "a6225ed6-a3ef-4767-b9fe-2614cdbe2842",
   "metadata": {},
   "source": [
    "#### Ograniczenia typu `float`\n",
    "\n",
    "Chociaż liczby zmiennoprzecinkowe są niezwykle użyteczne, mają pewne ograniczenia. Z powodu ich binarnej reprezentacji nie wszystkie liczby dziesiętne mogą być dokładnie reprezentowane. To może prowadzić do błędów zaokrąglenia.\n",
    "\n",
    "Przykład:\n",
    "```python\n",
    "0.1 + 0.2 == 0.3  # W wielu przypadkach zwraca False\n",
    "```\n",
    "\n",
    "Jak duży może być float?\n",
    "\n",
    "```python\n",
    "1.79e308\n",
    "1.8e308\n",
    "```\n",
    "\n",
    "---\n",
    "\n",
    "#### Specjalny przypadek `float`: wartość `nan`\n",
    "\n",
    "`nan` (Not a Number) to specjalna wartość liczby zmiennoprzecinkowej w Pythonie. Reprezentuje ona wartość, która nie jest liczbą. Choć może wydawać się, że jest to jedna z wielu wartości typu `float`, `nan` posiada kilka niezwykłych właściwości.\n",
    "\n",
    "1. `nan` nie jest równy samemu sobie:\n",
    "\n",
    "W matematyce zakłada się, że każda wartość jest równa samej sobie. Jednak w przypadku `nan` ta zasada nie obowiązuje.\n",
    "\n",
    "```python\n",
    "nan_value = float('nan')\n",
    "print(nan_value == nan_value)  # Zwraca False\n",
    "```\n",
    "\n",
    "2. Wszelkie operacje z `nan` zwracają `nan`:\n",
    "\n",
    "Jeśli przeprowadzasz operację arytmetyczną, w której jednym z operandów jest `nan`, wynik będzie również `nan`.\n",
    "\n",
    "```python\n",
    "x = 5 + nan_value\n",
    "print(x)  # nan\n",
    "```\n",
    "\n",
    "3. Sprawdzanie czy wartość to `nan`:\n",
    "\n",
    "Aby sprawdzić, czy dana wartość to `nan`, można użyć funkcji `math.isnan()`.\n",
    "\n",
    "```python\n",
    "import math\n",
    "\n",
    "print(math.isnan(nan_value))  # True\n",
    "```\n",
    "\n",
    "\n",
    "##### Podsumowanie:\n",
    "\n",
    "`nan` to fascynująca i nieco nieintuicyjna wartość w Pythonie. Pomimo że jest to \"nie-liczba\", zajmuje ona ważne miejsce w systemie liczb zmiennoprzecinkowych, umożliwiając programistom radzenie sobie z nieokreślonymi lub niepoprawnymi wynikami operacji matematycznych.\n",
    "\n",
    "---"
   ]
  },
  {
   "cell_type": "markdown",
   "id": "2319f630",
   "metadata": {},
   "source": [
    "#### Notacja naukowa\n",
    "\n",
    "W Pythonie liczby zmiennoprzecinkowe można również przedstawiać w notacji naukowej.\n",
    "\n",
    "Przykład:\n",
    "```python\n",
    "a = 3.5e3  # 3.5 * 10^3 = 3500.0\n",
    "b = 4.2e-4  # 4.2 * 10^-4 = 0.00042\n",
    "```\n"
   ]
  },
  {
   "cell_type": "markdown",
   "id": "145d903b",
   "metadata": {},
   "source": [
    "%%writefile cwiczenia/cwiczenie_2_1_8_6.md\n",
    "\n",
    "####  📝 Ćwiczenie:  precyzja\n",
    "\n",
    "[Cwiczenie 2_1_8_6](cwiczenia/cwiczenie_2_1_8_6.md)\n",
    "\n",
    "To jak rozwiązać ten problem?\n",
    "\n",
    "0.1 + 0.1 + 0.1 == 0.3"
   ]
  },
  {
   "cell_type": "code",
   "execution_count": 58,
   "id": "7358a95a-878f-45b9-8b32-7db02eb24f57",
   "metadata": {},
   "outputs": [
    {
     "data": {
      "text/plain": [
       "True"
      ]
     },
     "execution_count": 58,
     "metadata": {},
     "output_type": "execute_result"
    }
   ],
   "source": [
    "round(0.1 + 0.1 + 0.1, 2) == round(0.3, 2)"
   ]
  },
  {
   "cell_type": "code",
   "execution_count": 59,
   "id": "a219c663-88a6-453e-a5d8-ba611770a063",
   "metadata": {},
   "outputs": [],
   "source": [
    "from decimal import Decimal"
   ]
  },
  {
   "cell_type": "code",
   "execution_count": 62,
   "id": "28355109-3df2-426c-8c7b-32d5d4306696",
   "metadata": {},
   "outputs": [
    {
     "data": {
      "text/plain": [
       "True"
      ]
     },
     "execution_count": 62,
     "metadata": {},
     "output_type": "execute_result"
    }
   ],
   "source": [
    "Decimal(\"0.1\") + Decimal(\"0.1\") + Decimal(\"0.1\") == Decimal(\"0.3\")"
   ]
  },
  {
   "cell_type": "code",
   "execution_count": null,
   "id": "b22e37fb-562f-4bb9-990e-b9a8883e0a3f",
   "metadata": {},
   "outputs": [],
   "source": []
  },
  {
   "cell_type": "code",
   "execution_count": null,
   "id": "895927da-34fb-4d5b-89aa-94d3c8044ec1",
   "metadata": {},
   "outputs": [],
   "source": []
  },
  {
   "cell_type": "code",
   "execution_count": null,
   "id": "34391067-46ee-4a85-b2a1-9ea423759939",
   "metadata": {},
   "outputs": [],
   "source": []
  },
  {
   "cell_type": "code",
   "execution_count": null,
   "id": "0b20d3b6-eced-4b21-ba97-ae0958682fe3",
   "metadata": {},
   "outputs": [],
   "source": []
  },
  {
   "cell_type": "markdown",
   "id": "fb665a9e",
   "metadata": {},
   "source": [
    "### Typ `complex` w Pythonie\n",
    "\n",
    "\n",
    "Python, jako język programowania o ogólnym przeznaczeniu, posiada wbudowane wsparcie dla liczb zespolonych poprzez typ `complex`. Lecz czym są liczby zespolone? Są to liczby, które mają zarówno część rzeczywistą, jak i urojoną, i są często używane w matematyce i inżynierii.\n",
    "\n",
    "Liczby zespolone w Pythonie składają się z części rzeczywistej i urojonej, oddzielonych literą \"j\" (lub \"J\" - wielkość liter nie ma znaczenia). Na przykład:\n",
    "\n",
    "```python\n",
    "z = 3 + 4j\n",
    "```\n",
    "\n",
    "Gdzie `3` to część rzeczywista, a `4` to część urojona.\n",
    "\n",
    "##### Właściwości i operacje\n",
    "\n",
    "* **Część rzeczywista i urojona:** Możemy uzyskać dostęp do tych części za pomocą atrybutów `.real` i `.imag`, odpowiednio.\n",
    "\n",
    "  ```python\n",
    "  z = 3 + 4j\n",
    "  print(z.real)  # 3.0\n",
    "  print(z.imag)  # 4.0\n",
    "  ```\n",
    "\n",
    "* **Operacje arytmetyczne:** Liczby zespolone mogą być dodawane, odejmowane, mnożone i dzielone, podobnie jak liczby rzeczywiste.\n",
    "\n",
    "  ```python\n",
    "  a = 3 + 4j\n",
    "  b = 1 - 2j\n",
    "  print(a + b)  # 4 + 2j\n",
    "  ```\n",
    "\n",
    "* **Moduł:** Aby obliczyć moduł liczby zespolonej, używamy funkcji wbudowanej `abs`.\n",
    "\n",
    "  ```python\n",
    "  z = 3 + 4j\n",
    "  print(abs(z))  # 5.0\n",
    "  ```\n",
    "\n",
    "##### Funkcje wbudowane i metody\n",
    "\n",
    "Python zawiera kilka wbudowanych funkcji i metod specjalnie przeznaczonych dla liczb zespolonych:\n",
    "\n",
    "* `complex()`: Tworzy liczbę zespoloną. Może przyjąć jeden lub dwa argumenty (część rzeczywista i urojona).\n",
    "\n",
    "  ```python\n",
    "  a = complex(3, 4)  # 3 + 4j\n",
    "  ```\n",
    "\n",
    "* `conjugate()`: Zwraca sprzężenie liczby zespolonej.\n",
    "\n",
    "  ```python\n",
    "  z = 3 + 4j\n",
    "  print(z.conjugate())  # 3 - 4j\n",
    "  ```\n",
    "---\n",
    "\n",
    "Liczby zespolone są używane w wielu dziedzinach, takich jak inżynieria elektryczna, fizyka czy matematyka stosowana. W Pythonie mogą być używane do rozwiązywania równań algebraicznych, analizy sygnałów czy innych specjalistycznych zastosowań."
   ]
  },
  {
   "cell_type": "markdown",
   "id": "760b3594",
   "metadata": {},
   "source": [
    "%%writefile cwiczenia/cwiczenie_2_1_8_7.md\n",
    "\n",
    "####  📝 Ćwiczenie:  liczby zespolone\n",
    "\n",
    "[Cwiczenie 2_1_8_7](cwiczenia/cwiczenie_2_1_8_7.md)\n",
    "\n",
    "\n",
    "Spróbuj napisać funkcję, która przyjmuje dwie liczby zespolone jako argumenty, a następnie zwraca ich sumę, różnicę, iloczyn, iloraz. Sprawdź swoją funkcję na kilku przykładach."
   ]
  },
  {
   "cell_type": "markdown",
   "id": "761858ed",
   "metadata": {},
   "source": [
    "### Typ `bytes` w Pythonie\n",
    "\n",
    "\n",
    "W Pythonie, `bytes` to niemutowalny (niezmienialny) sekwencyjny typ danych służący do reprezentowania ciągów bajtów. Są używane do obsługi binarnych danych, takich jak obrazy, dźwięki czy inne pliki binarne. Współczesne zastosowania to przede wszystkim przetwarzanie i przechowywanie danych w sieci oraz interakcja z systemem plików na poziomie binarnym.\n",
    "\n",
    "\n",
    "Bajty można zdefiniować kilkoma sposobami:\n",
    "\n",
    "- Bezpośrednio przy pomocy literału bajtowego, np.: `b'Hello'`\n",
    "- Przy użyciu wbudowanej funkcji `bytes()`\n",
    "\n",
    "Przykład:"
   ]
  },
  {
   "cell_type": "code",
   "execution_count": 65,
   "id": "240d53c5-c125-422c-8792-bb4a1053b129",
   "metadata": {},
   "outputs": [
    {
     "data": {
      "text/plain": [
       "98"
      ]
     },
     "execution_count": 65,
     "metadata": {},
     "output_type": "execute_result"
    }
   ],
   "source": [
    "ord(\"b\")"
   ]
  },
  {
   "cell_type": "code",
   "execution_count": 13,
   "id": "8f20ccd6",
   "metadata": {},
   "outputs": [
    {
     "name": "stdout",
     "output_type": "stream",
     "text": [
      "b'This is bytes'\n",
      "b'This is bytes'\n"
     ]
    }
   ],
   "source": [
    "b1 = b'This is bytes'\n",
    "b2 = bytes([84, 104, 105, 115, 32, 105, 115, 32, 98, 121, 116, 101, 115])\n",
    "print(b1)\n",
    "print(b2)"
   ]
  },
  {
   "cell_type": "markdown",
   "id": "a055b59f",
   "metadata": {},
   "source": [
    "Obie zmienne `b1` i `b2` reprezentują ten sam ciąg bajtów.\n",
    "\n",
    "#### Operacje na bajtach\n",
    "\n",
    "Mając obiekt typu `bytes`, można wykonywać wiele standardowych operacji sekwencyjnych, takich jak indeksowanie, wycinek czy długość:\n",
    "\n",
    "```python\n",
    "b = b'Python bytes'\n",
    "print(b[0])     # 80\n",
    "print(b[7:])    # b' bytes'\n",
    "print(len(b))   # 13\n",
    "```\n",
    "\n",
    "Jednakże, ponieważ `bytes` są niemutowalne, nie można zmieniać ich zawartości po stworzeniu.\n",
    "\n",
    "#### Konwersja między `str` a `bytes`\n",
    "\n",
    "Aby przekształcić ciąg znaków (typ `str`) na bajty, używa się metody `encode()`, a do konwersji bajtów na ciąg znaków używa się metody `decode()`:\n",
    "\n",
    "```python\n",
    "s = 'Python'\n",
    "b = s.encode('utf-8')\n",
    "print(b)        # b'Python'\n",
    "\n",
    "s2 = b.decode('utf-8')\n",
    "print(s2)       # 'Python'\n",
    "```\n",
    "\n",
    "Kodowanie `'utf-8'` to jedno z najpopularniejszych kodowań znaków, ale istnieje wiele innych dostępnych w Pythonie.\n",
    "\n",
    "#### Znaczenie w praktyce\n",
    "\n",
    "Typ `bytes` jest niezbędny podczas pracy z operacjami we/wy, szczególnie w komunikacji sieciowej czy obsłudze plików binarnych. Jest to również kluczowe przy interakcji z interfejsami API, które wymagają formatu danych w bajtach."
   ]
  },
  {
   "cell_type": "markdown",
   "id": "54735313",
   "metadata": {},
   "source": [
    "%%writefile cwiczenia/cwiczenie_2_1_10_7.md\n",
    "\n",
    "####  📝 Ćwiczenie:  bytes\n",
    "\n",
    "[Cwiczenie 2_1_10_7](cwiczenia/cwiczenie_2_1_10_7.md)\n",
    "\n",
    "\n",
    "1. Utwórz obiekt typu `bytes` zawierający dowolny tekst.\n",
    "2. Spróbuj zmodyfikować jeden z bajtów (spróbujesz, ale to się nie powiedzie ze względu na niemutowalność).\n",
    "3. Zakoduj tekst w różnych formatach (np. `'utf-8'`, `'ascii'`, `'utf-16'`) i zobacz różnicę w reprezentacji bajtowej.\n",
    "4. Odkoduj bajty z powrotem do tekstu, korzystając z odpowiedniego kodowania."
   ]
  },
  {
   "cell_type": "markdown",
   "id": "e5e7118f",
   "metadata": {},
   "source": [
    "### Typ `None` w Pythonie\n",
    "\n",
    "\n",
    "W Pythonie, `None` to specjalny typ, który reprezentuje brak wartości lub pustą referencję. W wielu językach programowania istnieje podobny koncept, taki jak `null` w Javie czy `nil` w Ruby. W Pythonie używamy wyłącznie `None` do reprezentowania tego stanu.\n",
    "\n",
    "- `None` to singleton, co oznacza, że istnieje tylko jedna instancja obiektu `None`. Dzięki temu możemy używać operatora `is` do porównywania z `None`.\n",
    "  \n",
    "  ```python\n",
    "  x = None\n",
    "  if x is None:\n",
    "      print(\"x is None!\")\n",
    "  ```\n",
    "\n",
    "- `None` jest często używany jako wartość domyślna dla argumentów funkcji, zmiennych oraz w wielu innych sytuacjach, w których chcemy wyrazić brak wartości.\n",
    "\n",
    "  ```python\n",
    "  def greet(name=None):\n",
    "      if name is None:\n",
    "          print(\"Hello, World!\")\n",
    "      else:\n",
    "          print(f\"Hello, {name}!\")\n",
    "  ```\n",
    "\n",
    "* Zastosowania\n",
    "\n",
    "1. **Wartość domyślna argumentów**: Jak wspomniano wcześniej, `None` jest często używany jako wartość domyślna dla argumentów funkcji.\n",
    "\n",
    "2. **Zmienna bez inicjalizacji**: Kiedy tworzymy zmienną, ale nie jesteśmy pewni jej wartości początkowej, możemy ją zainicjować jako `None`.\n",
    "\n",
    "3. **Oznaczenie końca**: `None` może być używany do oznaczenia końca, np. w strukturach danych jak listy czy drzewa.\n",
    "\n",
    "4. **Zwracanie z funkcji**: Jeśli funkcja nie zwraca żadnej wartości, domyślnie zwraca `None`.\n",
    "\n",
    "  ```python\n",
    "  def function_with_no_return():\n",
    "      print(\"This function returns None by default.\")\n",
    "  \n",
    "  result = function_with_no_return()\n",
    "  print(result)  # None\n",
    "  ```\n",
    "\n",
    "\n",
    "Choć `None` jest często używany w Pythonie, warto pamiętać o pewnych niuansach. W szczególności, podczas porównywania z `None`, zaleca się używanie `is` zamiast `==`, aby uniknąć nieoczekiwanych błędów."
   ]
  },
  {
   "cell_type": "markdown",
   "id": "eca80fe5",
   "metadata": {},
   "source": [
    "%%writefile cwiczenia/cwiczenie_2_1_11_1.md\n",
    "\n",
    "####  📝 Ćwiczenie:  bytes\n",
    "\n",
    "[Cwiczenie 2_1_11_1](cwiczenia/cwiczenie_2_1_11_1.md)\n",
    "\n",
    "\n",
    "1. Utwórz funkcję, która przyjmuje listę liczb jako argument. Funkcja powinna zwrócić pierwszą liczbę ujemną z listy. Jeśli lista nie zawiera liczb ujemnych, funkcja powinna zwrócić `None`.\n",
    "\n",
    "Sprawdź działanie funkcji na różnych listach liczb.\n"
   ]
  },
  {
   "cell_type": "markdown",
   "id": "a1fbe4d1",
   "metadata": {},
   "source": [
    "%%writefile cwiczenia/cwiczenie_2_1_11_2.md\n",
    "\n",
    "#### 📝 Ćwiczenie - min\n",
    "\n",
    "[Cwiczenie 2_1_11_2](cwiczenia/cwiczenie_2_1_11_2.md)\n",
    "\n",
    "Napisz funkcję, która dla zadanej listy zwróci index najmniejszej i największej wartości \n",
    "\n",
    "\n",
    "#### Ćwiczenie\n",
    "\n",
    "Zamien w liście liczb miejscami najmniejsza i najwieksza wartosc"
   ]
  },
  {
   "cell_type": "code",
   "execution_count": null,
   "id": "4226f6f5",
   "metadata": {},
   "outputs": [],
   "source": []
  }
 ],
 "metadata": {
  "authors": [
   {
    "name": "Rafał Korzeniewski"
   }
  ],
  "kernelspec": {
   "display_name": "Python 3 (ipykernel)",
   "language": "python",
   "name": "python3"
  },
  "language_info": {
   "codemirror_mode": {
    "name": "ipython",
    "version": 3
   },
   "file_extension": ".py",
   "mimetype": "text/x-python",
   "name": "python",
   "nbconvert_exporter": "python",
   "pygments_lexer": "ipython3",
   "version": "3.9.7"
  },
  "title": "Kurs Python Średniozaawansowany - 02 - wbudowane typy proste",
  "toc": {
   "base_numbering": 1,
   "nav_menu": {},
   "number_sections": true,
   "sideBar": true,
   "skip_h1_title": false,
   "title_cell": "Table of Contents",
   "title_sidebar": "Contents",
   "toc_cell": false,
   "toc_position": {
    "height": "calc(100% - 180px)",
    "left": "10px",
    "top": "150px",
    "width": "410.867px"
   },
   "toc_section_display": true,
   "toc_window_display": true
  }
 },
 "nbformat": 4,
 "nbformat_minor": 5
}
