{
 "cells": [
  {
   "cell_type": "markdown",
   "id": "d838442e-466a-44cc-8d66-bb36c6f501c9",
   "metadata": {},
   "source": [
    "# Podstawy [link](01_interpreter_slowa_kluczowe_operatory.ipynb)\n",
    "# Wbudowane typy [link](02_wbudowane_kolekcje.ipynb)\n",
    "# Wbudowane kolekcje [link](03_wbudowane_kolekcje.ipynb)\n",
    "# Wyrażenia (Comprehensions) i Generatory w Pythonie [link](04_wyrazenia_i_generatory.ipynb)\n",
    "# Obsługa błędów [link](05_try_except_finally.ipynb)\n",
    "# Wyrażenia warunkowe [link](06_wyrazenie_warunkowe.ipynb)"
   ]
  },
  {
   "cell_type": "markdown",
   "id": "81102a69-0fa0-4bec-ac04-f5d64f9cdb79",
   "metadata": {},
   "source": [
    "# `match case` w Pythonie"
   ]
  },
  {
   "cell_type": "markdown",
   "id": "76c3964d-eeb0-43f0-ae48-e36ca0ec38ab",
   "metadata": {},
   "source": [
    "Python, znany ze swojej czytelności kodu i składni, wprowadził funkcjonalność znana jako \"match-case\" w wersji 3.10. Ta nowość przypomina switch-case znany z innych języków programowania, ale oferuje znacznie więcej elastyczności i zgodności z \"Pythonic way\". W tym artykule przejdziemy od podstawowych przykładów użycia match-case, aż po bardziej skomplikowane scenariusze, aby w pełni zrozumieć tę potężną konstrukcję.\n",
    "\n",
    "## Podstawy match-case:\n",
    "\n",
    "### Najprostszy przykład:\n",
    "\n",
    "Rozważmy scenariusz, w którym chcemy porównać wartość zmiennej z określonymi stałymi. W tradycyjnym podejściu użylibyśmy serii instrukcji if-elif-else. Oto jak możemy to zrobić przy użyciu match-case:"
   ]
  },
  {
   "cell_type": "code",
   "execution_count": 1,
   "id": "35d1c9f9-923e-4b61-9566-8e95b394cbeb",
   "metadata": {},
   "outputs": [
    {
     "name": "stdout",
     "output_type": "stream",
     "text": [
      "Nie mam danych dla tej temperatury.\n"
     ]
    }
   ],
   "source": [
    "temperatura = 11\n",
    "match temperatura:\n",
    "    case 0:\n",
    "        print(\"Brrr, jest zimno!\")\n",
    "    case 20:\n",
    "        print(\"Przyjemnie.\")\n",
    "    case 30:\n",
    "        print(\"Uff, jak gorąco!\")\n",
    "    case _:\n",
    "        print(\"Nie mam danych dla tej temperatury.\")"
   ]
  },
  {
   "cell_type": "code",
   "execution_count": 2,
   "id": "2b37aaf0-3fa0-438a-b8d5-78cb05b391b2",
   "metadata": {},
   "outputs": [
    {
     "name": "stdout",
     "output_type": "stream",
     "text": [
      "Nie mam danych dla tej temperatury.\n"
     ]
    }
   ],
   "source": [
    "# to samo w ifach\n",
    "temperatura = 11\n",
    "\n",
    "if temperatura == 0:\n",
    "    print(\"Brrr, jest zimno!\")\n",
    "elif temperatura == 20:\n",
    "    print(\"Przyjemnie.\")\n",
    "elif temperatura == 30:\n",
    "    print(\"Uff, jak gorąco!\")\n",
    "else:\n",
    "    print(\"Nie mam danych dla tej temperatury.\")\n"
   ]
  },
  {
   "cell_type": "markdown",
   "id": "f391f8df-5bfb-41e4-bb92-8b539f79dc57",
   "metadata": {},
   "source": [
    "## użycie zagnieżdzonego if\n",
    "\n",
    "Możemy wprowadzić zakresy, ale wymaga to innej składni:"
   ]
  },
  {
   "cell_type": "code",
   "execution_count": 3,
   "id": "74a2356b-cd05-443d-afa9-f9cafbdb763f",
   "metadata": {},
   "outputs": [
    {
     "name": "stdout",
     "output_type": "stream",
     "text": [
      "Trochę chłodno.\n"
     ]
    }
   ],
   "source": [
    "temperatura = 11\n",
    "\n",
    "match temperatura:\n",
    "    case _ if temperatura <= 0:\n",
    "        print(\"Brrr, jest zimno!\")\n",
    "    case _ if 1 <= temperatura < 20:\n",
    "        print(\"Trochę chłodno.\")\n",
    "    case _ if 20 <= temperatura < 30:\n",
    "        print(\"Przyjemnie.\")\n",
    "    case _ if temperatura >= 30:\n",
    "        print(\"Uff, jak gorąco!\")\n",
    "    case _:\n",
    "        print(\"Nie mam danych dla tej temperatury.\")\n"
   ]
  },
  {
   "cell_type": "markdown",
   "id": "d56e7220-8e8f-4c48-a3ee-53987941f94f",
   "metadata": {},
   "source": [
    "to samo w ifach wydaje sie nawet troche prostsze:"
   ]
  },
  {
   "cell_type": "code",
   "execution_count": 4,
   "id": "02d8d8ec-cc7d-461b-8578-9a240c6a358a",
   "metadata": {},
   "outputs": [
    {
     "name": "stdout",
     "output_type": "stream",
     "text": [
      "Trochę chłodno.\n"
     ]
    }
   ],
   "source": [
    "temperatura = 11\n",
    "\n",
    "if temperatura <= 0:\n",
    "    print(\"Brrr, jest zimno!\")\n",
    "elif 1 <= temperatura < 20:\n",
    "    print(\"Trochę chłodno.\")\n",
    "elif 20 <= temperatura < 30:\n",
    "    print(\"Przyjemnie.\")\n",
    "elif temperatura >= 30:\n",
    "    print(\"Uff, jak gorąco!\")\n",
    "else:\n",
    "    print(\"Nie mam danych dla tej temperatury.\")\n"
   ]
  },
  {
   "cell_type": "markdown",
   "id": "cd4a707b-0748-4e4b-9ba9-4ef589a07db8",
   "metadata": {},
   "source": [
    "## Użycie operatora or\n",
    "Konstrukcja match-case pozwala na łatwe porównywanie różnych typów danych bez konieczności jawnego określania typów."
   ]
  },
  {
   "cell_type": "code",
   "execution_count": 7,
   "id": "dc42b510-0d9c-4360-8189-ccbbf63402fb",
   "metadata": {},
   "outputs": [
    {
     "name": "stdout",
     "output_type": "stream",
     "text": [
      "Zero jako liczba całkowita lub zmiennoprzecinkowa\n"
     ]
    }
   ],
   "source": [
    "dane = 0\n",
    "\n",
    "if dane == 0 or dane == 0.0:\n",
    "    print(\"Zero jako liczba całkowita lub zmiennoprzecinkowa\")\n",
    "elif dane == \"\" or dane is None:\n",
    "    print(\"Pusty łańcuch znaków lub None\")\n",
    "elif dane and isinstance(dane, str):\n",
    "    print(\"Niepusty napis\")\n",
    "else:\n",
    "    print(\"Inny typ danych\")"
   ]
  },
  {
   "cell_type": "code",
   "execution_count": 11,
   "id": "e00e0961-8f1e-45be-8d19-0024f74fb52a",
   "metadata": {},
   "outputs": [
    {
     "name": "stdout",
     "output_type": "stream",
     "text": [
      "Nie pusty napis\n"
     ]
    }
   ],
   "source": [
    "dane = \"123\"\n",
    "\n",
    "match dane:\n",
    "    case 0 | 0.0:\n",
    "        print(\"Zero jako liczba całkowita lub zmiennoprzecinkowa\")\n",
    "    case \"\" | None:\n",
    "        print(\"Pusty łańcuch znaków lub None\")\n",
    "    case _ if dane and isinstance(dane, str):\n",
    "        print(\"Nie pusty napis\")\n",
    "    case _:\n",
    "        print(\"Inny typ danych\")\n",
    "\n"
   ]
  },
  {
   "cell_type": "markdown",
   "id": "bef46698-b248-4031-be45-2ed60ddf3274",
   "metadata": {},
   "source": [
    "W kontekście instrukcji `match` w Pythonie, symbol `|` jest używany do reprezentowania operatora \"OR\" w dopasowywaniu wzorców. Pozwala to na dopasowanie jednego z kilku możliwych wzorców. Jeśli którykolwiek z wzorców po obu stronach `|` pasuje, cały przypadek `case` jest traktowany jako pasujący.\n",
    "\n",
    "Oto, jak to działa to w przykładzie:\n",
    "\n",
    "```python\n",
    "dane = \"123\"\n",
    "\n",
    "match dane:\n",
    "    case 0 | 0.0:\n",
    "        # Ten przypadek zostanie dopasowany, jeśli 'dane' będą równała się 0 (jako int) LUB 0.0 (jako float).\n",
    "        print(\"Zero jako liczba całkowita lub zmiennoprzecinkowa\")\n",
    "    case \"\" | None:\n",
    "        # Ten przypadek zostanie dopasowany, jeśli 'dane' będzie pustym łańcuchem (\"\") LUB None.\n",
    "        print(\"Pusty łańcuch znaków lub None\")\n",
    "    # ... (pozostałe przypadki)\n",
    "```\n",
    "\n",
    "W pierwszym przypadku `case`, `0 | 0.0` oznacza, że jeśli `dane` jest liczbą całkowitą `0` lub liczbą zmiennoprzecinkową `0.0`, ten przypadek zostanie dopasowany, a odpowiedni blok kodu zostanie wykonany. W drugim przypadku, jeśli `dane` to pusty łańcuch znaków `\"\"` lub `None`, również ten przypadek zostanie dopasowany.\n",
    "\n",
    "Podsumowując, `|` umożliwia sprawdzenie kilku różnych wzorców/wartości w ramach jednego przypadku `case`, zwiększając elastyczność dopasowywania wzorców w instrukcji `match`."
   ]
  },
  {
   "cell_type": "markdown",
   "id": "f8b20706-31e1-4273-927d-cf21a0190fd7",
   "metadata": {},
   "source": [
    "## Dopasowanie sekwencji do wzorca sekwencji\n",
    "\n",
    "\n",
    "Match-case w Pythonie umożliwia dopasowywanie sekwencji, co jest szczególnie przydatne przy pracy z krotkami lub listami."
   ]
  },
  {
   "cell_type": "code",
   "execution_count": 15,
   "id": "78660943-6786-4f41-bfd4-32216db16511",
   "metadata": {},
   "outputs": [
    {
     "name": "stdout",
     "output_type": "stream",
     "text": [
      "Punkt (1, a) leży w przestrzeni 2D\n"
     ]
    }
   ],
   "source": [
    "punkt = (1, 1)\n",
    "\n",
    "match punkt:\n",
    "    case (0, 0):\n",
    "        print(\"Początek układu współrzędnych\")\n",
    "    case (x, 0):\n",
    "        print(f\"Punkt ({x}, 0) leży na osi X\")\n",
    "    case (0, y):\n",
    "        print(f\"Punkt (0, {y}) leży na osi Y\")\n",
    "    case (x, y):\n",
    "        print(f\"Punkt ({x}, {y}) leży w przestrzeni 2D\")\n",
    "    case _:\n",
    "        print(\"Nieznany typ danych\")\n",
    "\n"
   ]
  },
  {
   "cell_type": "code",
   "execution_count": 41,
   "id": "897f05fa-8506-46c2-b660-4dd59a21d199",
   "metadata": {},
   "outputs": [
    {
     "name": "stdout",
     "output_type": "stream",
     "text": [
      "Punkt (1, 1) leży w przestrzeni 2D\n"
     ]
    }
   ],
   "source": [
    "punkt = (1, 1)\n",
    "\n",
    "if punkt == (0, 0):\n",
    "    print(\"Początek układu współrzędnych\")\n",
    "else:\n",
    "    x, y = punkt  # destrukturyzacja tupli\n",
    "    if x == 0 and y != 0:\n",
    "        print(f\"Punkt (0, {y}) leży na osi Y\")\n",
    "    elif y == 0 and x != 0:\n",
    "        print(f\"Punkt ({x}, 0) leży na osi X\")\n",
    "    elif x != 0 and y != 0:\n",
    "        print(f\"Punkt ({x}, {y}) leży w przestrzeni 2D\")\n",
    "    else:\n",
    "        print(\"Nieznany typ danych\")\n"
   ]
  },
  {
   "cell_type": "markdown",
   "id": "2938a612-9c77-4f9d-95e3-662f116843ba",
   "metadata": {},
   "source": [
    "### inny przykład operowania na strukturze"
   ]
  },
  {
   "cell_type": "code",
   "execution_count": 38,
   "id": "19fa9e12-f2f7-49c6-bc43-d68fd4b3b2cc",
   "metadata": {},
   "outputs": [
    {
     "name": "stdout",
     "output_type": "stream",
     "text": [
      "Nie można określić wieku\n"
     ]
    }
   ],
   "source": [
    "dane ={\"wiek\": 25, \"wzrost\": 180}\n",
    "\n",
    "match dane:\n",
    "    case {\"wiek\": n, \"wzrost\": y} if n < 18 and y > 150:\n",
    "        print(f\"Mniej niż 18 lat a wysoki ({y})\")\n",
    "    case {\"wiek\": n, \"waga\": z} if n >= 18:\n",
    "        print(\"18 lat lub więcej\")\n",
    "    case _:\n",
    "        print(\"Nie można określić wieku\")\n"
   ]
  },
  {
   "cell_type": "code",
   "execution_count": 30,
   "id": "263a28f7-89a8-4ed7-93ae-c8e5d0b45770",
   "metadata": {},
   "outputs": [
    {
     "name": "stdout",
     "output_type": "stream",
     "text": [
      "Mniej niż 18 lat\n"
     ]
    }
   ],
   "source": [
    "dane = {\"wiek\": 5, \"wzrost\": 180}\n",
    "\n",
    "if \"wiek\" in dane:\n",
    "    n = dane[\"wiek\"]\n",
    "    if n < 18:\n",
    "        print(\"Mniej niż 18 lat\")\n",
    "    elif n >= 18:\n",
    "        print(\"18 lat lub więcej\")\n",
    "    else:\n",
    "        # Opcjonalnie, jeśli istnieje potrzeba obsługi innych przypadków\n",
    "        print(\"Nie można określić wieku\")\n",
    "else:\n",
    "    print(\"Nie można określić wieku\")\n"
   ]
  },
  {
   "cell_type": "markdown",
   "id": "7d01b97c-0129-4af8-ad60-e6bca52a7431",
   "metadata": {},
   "source": [
    "## Zastosowanie z wyrażeniami regularnymi:\n",
    "\n",
    "Możemy również integrować \"match-case\" z wyrażeniami regularnymi, zapewniając potężne narzędzie do przetwarzania tekstów."
   ]
  },
  {
   "cell_type": "code",
   "execution_count": 17,
   "id": "d0f0d71b-80f8-4f16-a23c-45ea7d95c3fd",
   "metadata": {},
   "outputs": [
    {
     "name": "stdout",
     "output_type": "stream",
     "text": [
      "Znaleziono datę: Rok: 2023, Miesiąc: 10, Dzień: 27\n",
      "Nie pasuje do wzorca daty\n"
     ]
    }
   ],
   "source": [
    "import re\n",
    "\n",
    "def szukaj_wzorca(tekst):\n",
    "    wynik = re.match(r\"(?P<rok>\\d{4})-(?P<miesiac>\\d{2})-(?P<dzien>\\d{2})\", tekst)\n",
    "    \n",
    "    match wynik:\n",
    "        case None:\n",
    "            print(\"Nie pasuje do wzorca daty\")\n",
    "        case _:\n",
    "            rok = wynik.group('rok')\n",
    "            miesiac = wynik.group('miesiac')\n",
    "            dzien = wynik.group('dzien')\n",
    "            print(f\"Znaleziono datę: Rok: {rok}, Miesiąc: {miesiac}, Dzień: {dzien}\")\n",
    "\n",
    "szukaj_wzorca(\"2023-10-27\")  # Wydruk: \"Znaleziono datę: Rok: 2023, Miesiąc: 10, Dzień: 27\"\n",
    "szukaj_wzorca(\"20223-10-27\") \n"
   ]
  },
  {
   "cell_type": "code",
   "execution_count": 23,
   "id": "b9b03a9e-257c-4c1e-862f-4883a8c3ceac",
   "metadata": {},
   "outputs": [
    {
     "data": {
      "text/plain": [
       "('2023', '10', '27')"
      ]
     },
     "execution_count": 23,
     "metadata": {},
     "output_type": "execute_result"
    }
   ],
   "source": [
    "tekst = \"2023-10-27\"\n",
    "wynik = re.match(r\"(?P<rok>\\d{4})-(?P<miesiac>\\d{2})-(?P<dzien>\\d{2})\", tekst)\n",
    "wynik.groups()"
   ]
  },
  {
   "cell_type": "code",
   "execution_count": 27,
   "id": "824baa04-2535-45d7-905b-33fb461a9220",
   "metadata": {},
   "outputs": [
    {
     "name": "stdout",
     "output_type": "stream",
     "text": [
      "ala\\tkot\n"
     ]
    }
   ],
   "source": [
    "print(\"ala\\\\tkot\")"
   ]
  },
  {
   "cell_type": "code",
   "execution_count": 28,
   "id": "2240ae4f-789c-4a27-afc0-02a3bf34f194",
   "metadata": {},
   "outputs": [
    {
     "name": "stdout",
     "output_type": "stream",
     "text": [
      "ala\\tkot\n"
     ]
    }
   ],
   "source": [
    "print(r\"ala\\tkot\")"
   ]
  },
  {
   "cell_type": "code",
   "execution_count": 29,
   "id": "9c51ceb5-6681-4838-bebf-a7e6f3f8a5c6",
   "metadata": {},
   "outputs": [
    {
     "name": "stdout",
     "output_type": "stream",
     "text": [
      "ala\tkot\n"
     ]
    }
   ],
   "source": [
    "print(\"ala\\tkot\")"
   ]
  },
  {
   "cell_type": "markdown",
   "id": "de0ac636-2b0c-46c8-83a7-058a2a875819",
   "metadata": {},
   "source": [
    "to samo przy pomocy if"
   ]
  },
  {
   "cell_type": "code",
   "execution_count": null,
   "id": "9b391f83-0ab5-4b81-8c14-6fad5bf981f8",
   "metadata": {},
   "outputs": [],
   "source": []
  },
  {
   "cell_type": "code",
   "execution_count": 43,
   "id": "ba20addb-b75d-4099-aab2-d219989642de",
   "metadata": {},
   "outputs": [
    {
     "name": "stdout",
     "output_type": "stream",
     "text": [
      "Znaleziono datę: Rok: 2023, Miesiąc: 10, Dzień: 27\n",
      "Nie pasuje do wzorca daty\n"
     ]
    }
   ],
   "source": [
    "import re\n",
    "\n",
    "def szukaj_wzorca(tekst):\n",
    "    wynik = re.match(r\"(?P<rok>\\d{4})-(?P<miesiac>\\d{2})-(?P<dzien>\\d{2})\", tekst)\n",
    "\n",
    "    if wynik is None:\n",
    "        print(\"Nie pasuje do wzorca daty\")\n",
    "    else:\n",
    "        rok = wynik.group('rok')\n",
    "        miesiac = wynik.group('miesiac')\n",
    "        dzien = wynik.group('dzien')\n",
    "        print(f\"Znaleziono datę: Rok: {rok}, Miesiąc: {miesiac}, Dzień: {dzien}\")\n",
    "\n",
    "# Testowanie funkcji z różnymi wartościami\n",
    "szukaj_wzorca(\"2023-10-27\")  # Wydruk: \"Znaleziono datę: Rok: 2023, Miesiąc: 10, Dzień: 27\"\n",
    "szukaj_wzorca(\"20223-10-27\")  # Wydruk: \"Nie pasuje do wzorca daty\"\n"
   ]
  },
  {
   "cell_type": "markdown",
   "id": "86f822d1-ebf8-4bd4-b4ab-4a7c8d91f09e",
   "metadata": {},
   "source": [
    "## Podsumowanie\n",
    "\n",
    "Instrukcja `match` w Pythonie została wprowadzona w wersji 3.10 i wnosi kilka istotnych korzyści oraz różnic w porównaniu do tradycyjnych instrukcji `if`-`elif`-`else`. Oto niektóre z nich:\n",
    "\n",
    "1. **Dopasowanie wzorców (Pattern Matching):** Główną zaletą `match` jest zdolność do dopasowywania wzorców, co oznacza, że można dopasować typy danych, struktury, a nawet ich zawartość, a nie tylko sprawdzać wartości boolowskie lub porównania.\n",
    "\n",
    "2. **Czytelność i zwięzłość:** Instrukcje `match` mogą sprawić, że skomplikowane serie warunków `if`-`elif`-`else` są bardziej czytelne i zorganizowane. Wzorce są wymieniane w sposób uporządkowany, co jest szczególnie przydatne w przypadku wielu warunków.\n",
    "\n",
    "3. **Dekonstrukcja obiektów:** Instrukcja `match` może automatycznie \"rozbierać\" lub dekonstruować obiekty i sekwencje, umożliwiając łatwy dostęp do poszczególnych części składowych.\n",
    "\n",
    "Przykład, który ilustruje te różnice:\n",
    "\n",
    "Załóżmy, że mamy do czynienia z różnymi kształtami, które są reprezentowane jako słowniki:"
   ]
  },
  {
   "cell_type": "code",
   "execution_count": 44,
   "id": "d98a236c-4e69-4971-9f7e-e386cb193356",
   "metadata": {},
   "outputs": [],
   "source": [
    "shape = {\"type\": \"circle\", \"radius\": 1}"
   ]
  },
  {
   "cell_type": "markdown",
   "id": "7b9d60f3-01ab-4bdf-b909-fd9523957eff",
   "metadata": {},
   "source": [
    "Tradycyjne podejście przy użyciu `if`-`elif`-`else` mogłoby wyglądać następująco:"
   ]
  },
  {
   "cell_type": "code",
   "execution_count": 45,
   "id": "829dc1a8-475c-4bba-b443-a5eb60ca2ab5",
   "metadata": {},
   "outputs": [
    {
     "name": "stdout",
     "output_type": "stream",
     "text": [
      "Obszar koła: 3.14\n"
     ]
    }
   ],
   "source": [
    "if shape[\"type\"] == \"circle\":\n",
    "    radius = shape[\"radius\"]\n",
    "    print(f\"Obszar koła: {3.14 * radius * radius}\")\n",
    "elif shape[\"type\"] == \"rectangle\":\n",
    "    width = shape[\"width\"]\n",
    "    height = shape[\"height\"]\n",
    "    print(f\"Obszar prostokąta: {width * height}\")\n",
    "# ... i tak dalej dla innych typów"
   ]
  },
  {
   "cell_type": "markdown",
   "id": "c13bc3ee-800b-4ba1-9de2-65493be4134d",
   "metadata": {},
   "source": [
    "Z użyciem `match`, kod staje się bardziej zwięzły i czytelny:"
   ]
  },
  {
   "cell_type": "code",
   "execution_count": 46,
   "id": "303ad799-68b7-46a7-b241-3f471ea99970",
   "metadata": {},
   "outputs": [
    {
     "name": "stdout",
     "output_type": "stream",
     "text": [
      "Obszar koła: 3.14\n"
     ]
    }
   ],
   "source": [
    "match shape:\n",
    "    case {\"type\": \"circle\", \"radius\": radius}:\n",
    "        print(f\"Obszar koła: {3.14 * radius * radius}\")\n",
    "    case {\"type\": \"rectangle\", \"width\": width, \"height\": height}:\n",
    "        print(f\"Obszar prostokąta: {width * height}\")\n",
    "    # ... i tak dalej dla innych typów"
   ]
  },
  {
   "cell_type": "markdown",
   "id": "ca1be108-bcd2-4b5b-a903-625a95446df2",
   "metadata": {},
   "source": [
    "W wersji z `match`, Python automatycznie \"rozpakowuje\" wartości ze słownika do zmiennych, co czyni kod bardziej zwięzłym i eliminuje potrzebę manualnego przypisywania ich do zmiennych. Ponadto, zastosowanie `match` zapewnia większą czytelność, kiedy wzorce stają się bardziej złożone, co jest trudniejsze do osiągnięcia przy użyciu serii instrukcji `if`-`elif`-`else`."
   ]
  },
  {
   "cell_type": "markdown",
   "id": "575d966f-e1a0-4b01-bc30-f46170a69493",
   "metadata": {},
   "source": [
    "## 📝 Ćwiczenie: Analiza wzorców w danych wejściowych z użyciem konstrukcji `match/case` w Pythonie.\n",
    "\n",
    "**Cel:**\n",
    "Celem tego zadania jest zapoznanie się z nową konstrukcją `match/case` wprowadzoną w Pythonie 3.10. Uczestnicy nauczą się, jak analizować i dopasowywać różne wzorce danych, co jest szczególnie przydatne w przypadkach, gdy trzeba porównać wiele możliwości lub gdy struktury danych są złożone.\n",
    "\n",
    "**Opis zadania:**\n",
    "Masz zaimplementować funkcję, która analizuje różnorodne dane wejściowe reprezentujące informacje o pojazdach. Każdy pojazd jest reprezentowany jako słownik zawierający różne atrybuty, takie jak `typ`, `marka`, `model`, `rok_produkcji`, itd. Twoim zadaniem jest klasyfikacja pojazdów na podstawie tych atrybutów, a także identyfikacja wszelkich nieprawidłowych lub niekompletnych danych.\n",
    "\n",
    "**Przykładowe dane wejściowe:**\n",
    "```python\n",
    "pojazdy = [\n",
    "    {\"typ\": \"samochód\", \"marka\": \"Toyota\", \"model\": \"Corolla\", \"rok_produkcji\": 2005},\n",
    "    {\"typ\": \"motocykl\", \"marka\": \"Yamaha\", \"model\": \"YZF-R3\"},\n",
    "    {\"typ\": \"samochód\", \"marka\": \"Tesla\", \"model\": \"Model X\", \"rok_produkcji\": 2020},\n",
    "    {\"typ\": \"rower\"},\n",
    "    {\"marka\": \"Kawasaki\"},\n",
    "]\n",
    "```\n",
    "\n",
    "**Kroki:**\n",
    "1. Stwórz skrypt, w którym umieścisz listę `pojazdy` \n",
    "2. Wewnątrz skryptu użyj konstrukcji `match/case` do analizy każdego pojazdu w liście:\n",
    "   - Dopasuj pojazdy do różnych kategorii na podstawie ich `typu` (np. \"samochód\", \"motocykl\", \"rower\").\n",
    "   - Dla każdego `typu` dopasuj także dodatkowe informacje, takie jak `marka` i `model`.\n",
    "   - Zidentyfikuj pojazdy z niekompletnymi danymi i obsłuż te przypadki odpowiednio, zgłaszając brakujące informacje.\n",
    "   - Jeśli pojazd nie pasuje do żadnej znanej kategorii, oznacz go jako \"nieznany\" i wyświetl odpowiedni komunikat.\n",
    "3. Skrypt powinien wyświetlać informacje o każdym dopasowaniu, w tym kategorię i wszelkie dodatkowe szczegóły.\n",
    "\n",
    "**Oczekiwane wyjście:**\n",
    "\n",
    "Przy uruchomieniu skryptu powinniśmy zobaczyć coś takiego:\n",
    "\n",
    "    Samochód Marka: Toyota, Model: Corolla, Rok produkcji: 2005\n",
    "    Motocykl Marka: Yamaha, Model: YZF-R3\n",
    "    Samochód Marka: Tesla, Model: Model X, Rok produkcji: 2020\n",
    "    Rower - brak dodatkowych informacji.\n",
    "    Pojazd marki Kawasaki bez wystarczających informacji o typie i modelu.\n",
    "\n",
    "**Wskazówki:**\n",
    "- Używaj zmiennych do przechwytywania istotnych części danych w przypadkach `case`.\n",
    "- Pamiętaj o zastosowaniu wyrażeń `_` (underscore) dla przypadków, które nie pasują do żadnego wzorca.\n",
    "\n",
    "\n",
    "**Rozszerzenia:**\n",
    "- Po zakończeniu podstawowej wersji zadania, możesz dodać obsługę dodatkowych atrybutów (np. kolor, moc silnika) i złożonych warunków (np. pojazdy starsze niż 20 lat).\n",
    "- Można także zaimplementować funkcjonalność generowania raportu, który podsumowuje analizę, wskazując, ile pojazdów zostało sklasyfikowanych w każdej kategorii, oraz lista pojazdów z niekompletnymi danymi.\n",
    "- Jak sprawnie wygenerować dane dla takiego zadania?"
   ]
  },
  {
   "cell_type": "markdown",
   "id": "8f9249a4-ec60-4f35-bfd3-20ad14b2ce87",
   "metadata": {},
   "source": [
    "## Przykładowe rozwiazanie"
   ]
  },
  {
   "cell_type": "code",
   "execution_count": 53,
   "id": "f6a595c2-e127-4e4e-a3e2-aab387d2dcd4",
   "metadata": {},
   "outputs": [
    {
     "name": "stdout",
     "output_type": "stream",
     "text": [
      "Uwaga! Samochód jest starszy niż 20 lat\n",
      "Samochód Marka: Toyota, Model: Corolla, Rok produkcji: 1995\n",
      "Motocykl Marka: Yamaha, Model: YZF-R3 \n",
      "Samochód Marka: Tesla, Model: Model X, Rok produkcji: 2020\n",
      "Rower - brak dodatkowych informacji\n",
      "Pojazd marki Kawasaki bez wystarczającej informacji o typie i modelu\n",
      "Nieznany pojazd lub niekompletny zestaw danych\n"
     ]
    }
   ],
   "source": [
    "pojazdy = [\n",
    "    {\"typ\": \"samochód\", \"marka\": \"Toyota\", \"model\": \"Corolla\", \"rok_produkcji\": 1995},\n",
    "    {\"typ\": \"motocykl\", \"marka\": \"Yamaha\", \"model\": \"YZF-R3\"},\n",
    "    {\"typ\": \"samochód\", \"marka\": \"Tesla\", \"model\": \"Model X\", \"rok_produkcji\": 2020},\n",
    "    {\"typ\": \"rower\"},\n",
    "    {\"marka\": \"Kawasaki\"},\n",
    "    {\"model\": \"yt34312\"},\n",
    "]\n",
    "\n",
    "for pojazd in pojazdy:\n",
    "    match pojazd:\n",
    "        case {\"typ\": \"samochód\", \"marka\": marka, \"model\": model, \"rok_produkcji\": rok}:\n",
    "            if 2023 - rok > 20:\n",
    "                print(\"Uwaga! Samochód jest starszy niż 20 lat\")\n",
    "            print(f\"Samochód Marka: {marka}, Model: {model}, Rok produkcji: {rok}\")\n",
    "        case {\"typ\": \"motocykl\", \"marka\": marka,  \"model\": model}:\n",
    "            print(f\"Motocykl Marka: {marka}, Model: {model} \")\n",
    "        case {\"typ\": \"rower\"}:\n",
    "            print(\"Rower - brak dodatkowych informacji\")\n",
    "        case {\"marka\": marka}:\n",
    "            print(f\"Pojazd marki {marka} bez wystarczającej informacji o typie i modelu\")\n",
    "        case _:\n",
    "            print(\"Nieznany pojazd lub niekompletny zestaw danych\")\n"
   ]
  },
  {
   "cell_type": "markdown",
   "id": "0fd8529b-be7e-4f04-9763-455558a0db7c",
   "metadata": {},
   "source": [
    "## Bonus - faker - Tworzenie Realistycznych Danych Testowych w Pythonie\n",
    "\n",
    "\n",
    "W dzisiejszych czasach, gdzie aplikacje i systemy informatyczne są coraz bardziej skomplikowane, proces testowania oprogramowania wymaga dostępu do różnorodnych, realistycznych, a jednocześnie bezpiecznych danych. Wprowadzenie do tego procesu biblioteki \"Faker\" w języku Python znacząco upraszcza i ulepsza tworzenie realistycznych zestawów danych. W tym artykule przyjrzymy się bliżej temu, czym jest Faker, do czego służy, i jak go używać w praktyce.\n",
    "\n",
    "### Co to jest Faker?\n",
    "\n",
    "Faker jest potężną biblioteką języka Python, służącą do tworzenia fałszywych danych. Kiedy mówimy o \"fałszywych danych\", mamy na myśli dane, które nie są autentyczne, ale zachowują wszelkie cechy rzeczywistych informacji, takie jak struktura, formatowanie i spójność. Faker potrafi generować szeroki zakres danych, od prostych nazw i adresów, aż po bardziej złożone, jak numery kart kredytowych czy daty.\n",
    "\n",
    "### Dlaczego używamy Fakera?\n",
    "\n",
    "Głównym celem użycia Fakera jest umożliwienie deweloperom i testerom oprogramowania tworzenie dużych ilości realistycznych danych testowych bez naruszania prywatności i bezpieczeństwa. To szczególnie ważne w obliczu obowiązujących przepisów o ochronie danych osobowych (np. GDPR). Używanie prawdziwych danych klientów czy użytkowników do testowania jest nie tylko nieetyczne, ale i niezgodne z prawem. Faker rozwiązuje ten problem, dostarczając narzędzia do szybkiego generowania potrzebnych danych.\n",
    "\n",
    "### Jak używać Fakera?\n",
    "\n",
    "Użycie Fakera jest stosunkowo proste i można to zrobić w kilku krokach. Pierwszym krokiem jest instalacja biblioteki, którą można zrealizować za pomocą narzędzia pip, poleceniem:"
   ]
  },
  {
   "cell_type": "code",
   "execution_count": 55,
   "id": "b17cb150-13c7-4fb1-bec7-b603cc708a6c",
   "metadata": {},
   "outputs": [],
   "source": [
    "# pip install faker"
   ]
  },
  {
   "cell_type": "markdown",
   "id": "37a12b8d-25ff-4b4a-ac1f-47ee34779996",
   "metadata": {},
   "source": [
    "Po zainstalowaniu biblioteki, możemy zacząć tworzyć obiekty typu \"Faker\", które będą generować dane. Przykładowy skrypt może wyglądać następująco:"
   ]
  },
  {
   "cell_type": "code",
   "execution_count": 67,
   "id": "9f44349d-cd3e-456b-9939-e38d4d51f74c",
   "metadata": {},
   "outputs": [],
   "source": [
    "from faker import Faker\n",
    "fake = Faker(\"pl_PL\")\n",
    "fake2 = Faker()"
   ]
  },
  {
   "cell_type": "code",
   "execution_count": 65,
   "id": "49648184-cbff-4fe4-a726-b2e60f975607",
   "metadata": {},
   "outputs": [
    {
     "name": "stdout",
     "output_type": "stream",
     "text": [
      "Radosław Stawczyk\n",
      "pl. Wałowa 72/51\n",
      "01-586 Otwock\n",
      "Po Prostu czeski ja.\n"
     ]
    }
   ],
   "source": [
    "# Generowanie różnych rodzajów danych:\n",
    "print(fake.name())  # Wynik: \"Jan Kowalski\"\n",
    "print(fake.address())  # Wynik: \"ul. Jana Pawła II 10, 00-001 Warszawa\"\n",
    "print(fake.text(50))  # Wynik: \"Losowy tekst, który może być użyty jako fragment treści czy wypełnienie dokumentu.\""
   ]
  },
  {
   "cell_type": "code",
   "execution_count": 69,
   "id": "7b7cd56a-b3cd-47af-bdaa-8398200d7919",
   "metadata": {},
   "outputs": [],
   "source": [
    "f1 = dir(fake)"
   ]
  },
  {
   "cell_type": "code",
   "execution_count": 70,
   "id": "b99d76e5-895f-4f3e-9da8-201d3ef4d2d0",
   "metadata": {},
   "outputs": [],
   "source": [
    "f2 = dir(fake2)"
   ]
  },
  {
   "cell_type": "code",
   "execution_count": 71,
   "id": "ac276bd9-c50d-475d-9fa6-ce3f6c47e415",
   "metadata": {},
   "outputs": [
    {
     "data": {
      "text/plain": [
       "False"
      ]
     },
     "execution_count": 71,
     "metadata": {},
     "output_type": "execute_result"
    }
   ],
   "source": [
    "f1 == f2"
   ]
  },
  {
   "cell_type": "code",
   "execution_count": 72,
   "id": "bcdb4547-3ee1-4104-8b4e-232f2495ab66",
   "metadata": {},
   "outputs": [
    {
     "data": {
      "text/plain": [
       "{'company_prefix',\n",
       " 'company_vat',\n",
       " 'identity_card_number',\n",
       " 'license_plate_regex_formats',\n",
       " 'local_regon',\n",
       " 'nip',\n",
       " 'pesel',\n",
       " 'pesel_compute_check_digit',\n",
       " 'pwz_doctor',\n",
       " 'pwz_doctor_compute_check_digit',\n",
       " 'pwz_nurse',\n",
       " 'region',\n",
       " 'regon',\n",
       " 'street_prefix',\n",
       " 'street_prefix_short',\n",
       " 'vat_id'}"
      ]
     },
     "execution_count": 72,
     "metadata": {},
     "output_type": "execute_result"
    }
   ],
   "source": [
    "set(f1) - set(f2)"
   ]
  },
  {
   "cell_type": "code",
   "execution_count": 73,
   "id": "8dc93c6d-f88b-4210-a3f6-b30f0f8d8ccd",
   "metadata": {},
   "outputs": [
    {
     "data": {
      "text/plain": [
       "{'basic_phone_number',\n",
       " 'city_prefix',\n",
       " 'ein',\n",
       " 'invalid_ssn',\n",
       " 'itin',\n",
       " 'military_apo',\n",
       " 'military_dpo',\n",
       " 'military_ship',\n",
       " 'military_state',\n",
       " 'postalcode_in_state',\n",
       " 'postalcode_plus4',\n",
       " 'postcode_in_state',\n",
       " 'secondary_address',\n",
       " 'state',\n",
       " 'state_abbr',\n",
       " 'zipcode_in_state',\n",
       " 'zipcode_plus4'}"
      ]
     },
     "execution_count": 73,
     "metadata": {},
     "output_type": "execute_result"
    }
   ],
   "source": [
    "set(f2) - set(f1)"
   ]
  },
  {
   "cell_type": "code",
   "execution_count": 74,
   "id": "dd8c0d3b-0a1a-4152-b74e-a09e5d2daddd",
   "metadata": {},
   "outputs": [
    {
     "ename": "AttributeError",
     "evalue": "'Generator' object has no attribute 'typ'",
     "output_type": "error",
     "traceback": [
      "\u001b[1;31m---------------------------------------------------------------------------\u001b[0m",
      "\u001b[1;31mAttributeError\u001b[0m                            Traceback (most recent call last)",
      "Cell \u001b[1;32mIn[74], line 1\u001b[0m\n\u001b[1;32m----> 1\u001b[0m \u001b[43mfake\u001b[49m\u001b[38;5;241;43m.\u001b[39;49m\u001b[43mtyp\u001b[49m()\n",
      "File \u001b[1;32m~\\AppData\\Local\\Programs\\Python\\Python311\\Lib\\site-packages\\faker\\proxy.py:114\u001b[0m, in \u001b[0;36mFaker.__getattr__\u001b[1;34m(self, attr)\u001b[0m\n\u001b[0;32m    107\u001b[0m \u001b[38;5;250m\u001b[39m\u001b[38;5;124;03m\"\"\"\u001b[39;00m\n\u001b[0;32m    108\u001b[0m \u001b[38;5;124;03mHandles cache access and proxying behavior\u001b[39;00m\n\u001b[0;32m    109\u001b[0m \n\u001b[0;32m    110\u001b[0m \u001b[38;5;124;03m:param attr: attribute name\u001b[39;00m\n\u001b[0;32m    111\u001b[0m \u001b[38;5;124;03m:return: the appropriate attribute\u001b[39;00m\n\u001b[0;32m    112\u001b[0m \u001b[38;5;124;03m\"\"\"\u001b[39;00m\n\u001b[0;32m    113\u001b[0m \u001b[38;5;28;01mif\u001b[39;00m \u001b[38;5;28mlen\u001b[39m(\u001b[38;5;28mself\u001b[39m\u001b[38;5;241m.\u001b[39m_factories) \u001b[38;5;241m==\u001b[39m \u001b[38;5;241m1\u001b[39m:\n\u001b[1;32m--> 114\u001b[0m     \u001b[38;5;28;01mreturn\u001b[39;00m \u001b[38;5;28mgetattr\u001b[39m(\u001b[38;5;28mself\u001b[39m\u001b[38;5;241m.\u001b[39m_factories[\u001b[38;5;241m0\u001b[39m], attr)\n\u001b[0;32m    115\u001b[0m \u001b[38;5;28;01melif\u001b[39;00m attr \u001b[38;5;129;01min\u001b[39;00m \u001b[38;5;28mself\u001b[39m\u001b[38;5;241m.\u001b[39mgenerator_attrs:\n\u001b[0;32m    116\u001b[0m     msg \u001b[38;5;241m=\u001b[39m \u001b[38;5;124m\"\u001b[39m\u001b[38;5;124mProxying calls to `\u001b[39m\u001b[38;5;132;01m%s\u001b[39;00m\u001b[38;5;124m` is not implemented in multiple locale mode.\u001b[39m\u001b[38;5;124m\"\u001b[39m \u001b[38;5;241m%\u001b[39m attr\n",
      "\u001b[1;31mAttributeError\u001b[0m: 'Generator' object has no attribute 'typ'"
     ]
    }
   ],
   "source": [
    "typy = [\"A\", \"B\", \"C\"]\n",
    "\n",
    "fake.random.choice(t"
   ]
  },
  {
   "cell_type": "markdown",
   "id": "30cb521a-574d-404a-a857-bb071f9063e6",
   "metadata": {},
   "source": [
    "Faker jest bardzo elastyczny i pozwala na tworzenie danych odpowiadających różnym kryteriom i w różnych językach, co jest szczególnie przydatne w międzynarodowych projektach.\n",
    "\n",
    "### Zaawansowane zastosowania:\n",
    "Faker może być używany nie tylko do generowania pojedynczych danych, ale również do tworzenia skomplikowanych zestawów danych, które mogą naśladować struktury bazodanowe, pliki JSON, CSV i wiele innych. Możliwości są niemal nieograniczone, od prostych testów jednostkowych aż po zaawansowane symulacje obciążeń dla dużych baz danych.\n",
    "\n",
    "### Podsumowanie:\n",
    "Faker jest nieocenionym narzędziem dla każdego, kto potrzebuje bezpiecznego, elastycznego i mocy sposobu na generowanie danych testowych. Jego łatwość użycia, wszechstronność i ogromne możliwości sprawiają, że jest to standardowy wybór dla deweloperów i testerów na całym świecie. Bez względu na to, czy jesteś freelancerem, pracujesz w start-upie, czy w wielkiej korporacji, używanie Fakera"
   ]
  },
  {
   "cell_type": "code",
   "execution_count": 65,
   "id": "0fb7ad2a-47de-463d-9bcb-44275ce36d4e",
   "metadata": {},
   "outputs": [],
   "source": [
    "# pip install faker"
   ]
  },
  {
   "cell_type": "code",
   "execution_count": 66,
   "id": "b5ae201f-c2ec-49fb-b069-a0a9dbeb1b4b",
   "metadata": {},
   "outputs": [
    {
     "name": "stdout",
     "output_type": "stream",
     "text": [
      "{'typ': 'rower', 'marka': None, 'model': None, 'kolor': 'niebieski'}\n",
      "{'typ': 'samochód', 'marka': 'Mason-Wilson', 'model': 'day', 'kolor': 'niebieski', 'rok_produkcji': 2021}\n",
      "{'typ': 'rower', 'model': None, 'kolor': 'niebieski'}\n",
      "{'typ': 'rower', 'marka': None, 'model': None, 'kolor': 'niebieski'}\n",
      "{'typ': 'rower', 'marka': None, 'model': None, 'kolor': 'czerwony'}\n",
      "{'typ': 'rower', 'marka': None, 'model': None, 'kolor': 'zielony'}\n",
      "{'typ': 'samochód', 'marka': 'Ponce and Sons', 'model': 'radio', 'kolor': 'czarny', 'rok_produkcji': 2018, 'moc_silnika': 338}\n",
      "{'marka': None, 'model': None, 'kolor': 'żółty'}\n",
      "{'typ': 'rower', 'marka': None, 'model': None, 'kolor': 'czarny'}\n",
      "{'typ': 'motocykl', 'marka': 'Rose, Smith and Johnson', 'model': 'wind', 'kolor': 'niebieski'}\n"
     ]
    }
   ],
   "source": [
    "from faker import Faker\n",
    "import random\n",
    "\n",
    "def generuj_losowe_pojazdy(liczba_pojazdow):\n",
    "    fake = Faker()\n",
    "    pojazdy = []\n",
    "\n",
    "    typy_pojazdow = [\"samochód\", \"motocykl\", \"rower\"]\n",
    "    kolory = [\"czerwony\", \"niebieski\", \"zielony\", \"czarny\", \"biały\", \"żółty\"]  # itd.\n",
    "\n",
    "    for _ in range(liczba_pojazdow):\n",
    "        typ = random.choice(typy_pojazdow)\n",
    "\n",
    "        pojazd = {\n",
    "            \"typ\": typ,\n",
    "            \"marka\": fake.company() if typ != \"rower\" else None,  # rowery zazwyczaj nie mają 'marki' w tym samym sensie co pojazdy silnikowe\n",
    "            \"model\": fake.word() if typ != \"rower\" else None,  # podobnie jak wyżej\n",
    "            \"kolor\": random.choice(kolory),\n",
    "        }\n",
    "\n",
    "        if typ == \"samochód\":\n",
    "            pojazd[\"rok_produkcji\"] = random.randint(1990, 2022)  # losowy rok produkcji\n",
    "            pojazd[\"moc_silnika\"] = random.randint(50, 500)  # losowa moc silnika w zakresie realistycznych wartości\n",
    "\n",
    "        # Opcjonalnie możesz dodać przypadki brakujących danych:\n",
    "        if random.choice([True, False]):\n",
    "            usun_klucz = random.choice(list(pojazd.keys()))\n",
    "            del pojazd[usun_klucz]\n",
    "\n",
    "        pojazdy.append(pojazd)\n",
    "\n",
    "    return pojazdy\n",
    "\n",
    "# Użycie funkcji\n",
    "losowe_pojazdy = generuj_losowe_pojazdy(10)\n",
    "for pojazd in losowe_pojazdy:\n",
    "    print(pojazd)\n"
   ]
  },
  {
   "cell_type": "markdown",
   "id": "825ad2af-ad91-43af-af55-b5a10be28627",
   "metadata": {},
   "source": []
  },
  {
   "cell_type": "code",
   "execution_count": 67,
   "id": "2642244a-5142-433d-8b9c-74b5d52cf518",
   "metadata": {},
   "outputs": [
    {
     "name": "stdin",
     "output_type": "stream",
     "text": [
      "Czy chcesz utworzyć stos czy kolejkę? (wpisz 'stos' lub 'kolejka'):  q\n"
     ]
    },
    {
     "name": "stdout",
     "output_type": "stream",
     "text": [
      "Nieprawidłowy wybór struktury danych.\n"
     ]
    },
    {
     "ename": "SystemExit",
     "evalue": "1",
     "output_type": "error",
     "traceback": [
      "An exception has occurred, use %tb to see the full traceback.\n",
      "\u001b[0;31mSystemExit\u001b[0m\u001b[0;31m:\u001b[0m 1\n"
     ]
    },
    {
     "name": "stderr",
     "output_type": "stream",
     "text": [
      "/Users/rkorzen/PycharmProjects/szkolenia/alx/k-python-2-14-10-2023/venv/lib/python3.10/site-packages/IPython/core/interactiveshell.py:3534: UserWarning: To exit: use 'exit', 'quit', or Ctrl-D.\n",
      "  warn(\"To exit: use 'exit', 'quit', or Ctrl-D.\", stacklevel=1)\n"
     ]
    }
   ],
   "source": []
  },
  {
   "cell_type": "code",
   "execution_count": null,
   "id": "f5213a69-5c68-41d0-a2ec-e5ff75d81227",
   "metadata": {},
   "outputs": [],
   "source": []
  }
 ],
 "metadata": {
  "kernelspec": {
   "display_name": "Python 3 (ipykernel)",
   "language": "python",
   "name": "python3"
  },
  "language_info": {
   "codemirror_mode": {
    "name": "ipython",
    "version": 3
   },
   "file_extension": ".py",
   "mimetype": "text/x-python",
   "name": "python",
   "nbconvert_exporter": "python",
   "pygments_lexer": "ipython3",
   "version": "3.11.5"
  }
 },
 "nbformat": 4,
 "nbformat_minor": 5
}
