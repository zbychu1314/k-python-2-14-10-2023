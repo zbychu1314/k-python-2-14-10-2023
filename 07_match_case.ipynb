{
 "cells": [
  {
   "cell_type": "markdown",
   "id": "d838442e-466a-44cc-8d66-bb36c6f501c9",
   "metadata": {},
   "source": [
    "# Podstawy [link](01_interpreter_slowa_kluczowe_operatory.ipynb)\n",
    "# Wbudowane typy [link](02_wbudowane_kolekcje.ipynb)\n",
    "# Wbudowane kolekcje [link](03_wbudowane_kolekcje.ipynb)\n",
    "# Wyrażenia (Comprehensions) i Generatory w Pythonie [link](04_wyrazenia_i_generatory.ipynb)\n",
    "# Obsługa błędów [link](05_try_except_finally.ipynb)\n",
    "# Wyrażenia warunkowe [link](06_wyrazenie_warunkowe.ipynb)"
   ]
  },
  {
   "cell_type": "markdown",
   "id": "81102a69-0fa0-4bec-ac04-f5d64f9cdb79",
   "metadata": {},
   "source": [
    "# `match case` w Pythonie"
   ]
  },
  {
   "cell_type": "markdown",
   "id": "76c3964d-eeb0-43f0-ae48-e36ca0ec38ab",
   "metadata": {},
   "source": [
    "Python, znany ze swojej czytelności kodu i składni, wprowadził funkcjonalność znana jako \"match-case\" w wersji 3.10. Ta nowość przypomina switch-case znany z innych języków programowania, ale oferuje znacznie więcej elastyczności i zgodności z \"Pythonic way\". W tym artykule przejdziemy od podstawowych przykładów użycia match-case, aż po bardziej skomplikowane scenariusze, aby w pełni zrozumieć tę potężną konstrukcję.\n",
    "\n",
    "## Podstawy match-case:\n",
    "\n",
    "### Najprostszy przykład:\n",
    "\n",
    "Rozważmy scenariusz, w którym chcemy porównać wartość zmiennej z określonymi stałymi. W tradycyjnym podejściu użylibyśmy serii instrukcji if-elif-else. Oto jak możemy to zrobić przy użyciu match-case:"
   ]
  },
  {
   "cell_type": "code",
   "execution_count": 2,
   "id": "35d1c9f9-923e-4b61-9566-8e95b394cbeb",
   "metadata": {},
   "outputs": [
    {
     "name": "stdout",
     "output_type": "stream",
     "text": [
      "Nie mam danych dla tej temperatury.\n"
     ]
    }
   ],
   "source": [
    "temperatura = 10\n",
    "match temperatura:\n",
    "    case 0:\n",
    "        print(\"Brrr, jest zimno!\")\n",
    "    case 20:\n",
    "        print(\"Przyjemnie.\")\n",
    "    case 30:\n",
    "        print(\"Uff, jak gorąco!\")\n",
    "    case _:\n",
    "        print(\"Nie mam danych dla tej temperatury.\")"
   ]
  },
  {
   "cell_type": "code",
   "execution_count": 36,
   "id": "2b37aaf0-3fa0-438a-b8d5-78cb05b391b2",
   "metadata": {},
   "outputs": [
    {
     "name": "stdout",
     "output_type": "stream",
     "text": [
      "Nie mam danych dla tej temperatury.\n"
     ]
    }
   ],
   "source": [
    "# to samo w ifach\n",
    "temperatura = 10\n",
    "\n",
    "if temperatura == 0:\n",
    "    print(\"Brrr, jest zimno!\")\n",
    "elif temperatura == 20:\n",
    "    print(\"Przyjemnie.\")\n",
    "elif temperatura == 30:\n",
    "    print(\"Uff, jak gorąco!\")\n",
    "else:\n",
    "    print(\"Nie mam danych dla tej temperatury.\")\n"
   ]
  },
  {
   "cell_type": "markdown",
   "id": "f391f8df-5bfb-41e4-bb92-8b539f79dc57",
   "metadata": {},
   "source": [
    "## użycie zagnieżdzonego if\n",
    "\n",
    "Możemy wprowadzić zakresy, ale wymaga to innej składni:"
   ]
  },
  {
   "cell_type": "code",
   "execution_count": 16,
   "id": "74a2356b-cd05-443d-afa9-f9cafbdb763f",
   "metadata": {},
   "outputs": [
    {
     "name": "stdout",
     "output_type": "stream",
     "text": [
      "Trochę chłodno.\n"
     ]
    }
   ],
   "source": [
    "temperatura = 10\n",
    "\n",
    "match temperatura:\n",
    "    case _ if temperatura <= 0:\n",
    "        print(\"Brrr, jest zimno!\")\n",
    "    case _ if 1 <= temperatura < 20:\n",
    "        print(\"Trochę chłodno.\")\n",
    "    case _ if 20 <= temperatura < 30:\n",
    "        print(\"Przyjemnie.\")\n",
    "    case _ if temperatura >= 30:\n",
    "        print(\"Uff, jak gorąco!\")\n",
    "    case _:\n",
    "        print(\"Nie mam danych dla tej temperatury.\")\n"
   ]
  },
  {
   "cell_type": "markdown",
   "id": "d56e7220-8e8f-4c48-a3ee-53987941f94f",
   "metadata": {},
   "source": [
    "to samo w ifach wydaje sie nawet troche prostsze:"
   ]
  },
  {
   "cell_type": "code",
   "execution_count": 38,
   "id": "02d8d8ec-cc7d-461b-8578-9a240c6a358a",
   "metadata": {},
   "outputs": [
    {
     "name": "stdout",
     "output_type": "stream",
     "text": [
      "Trochę chłodno.\n"
     ]
    }
   ],
   "source": [
    "temperatura = 10\n",
    "\n",
    "if temperatura <= 0:\n",
    "    print(\"Brrr, jest zimno!\")\n",
    "elif 1 <= temperatura < 20:\n",
    "    print(\"Trochę chłodno.\")\n",
    "elif 20 <= temperatura < 30:\n",
    "    print(\"Przyjemnie.\")\n",
    "elif temperatura >= 30:\n",
    "    print(\"Uff, jak gorąco!\")\n",
    "else:\n",
    "    print(\"Nie mam danych dla tej temperatury.\")\n"
   ]
  },
  {
   "cell_type": "markdown",
   "id": "cd4a707b-0748-4e4b-9ba9-4ef589a07db8",
   "metadata": {},
   "source": [
    "## Użycie operatora or\n",
    "Konstrukcja match-case pozwala na łatwe porównywanie różnych typów danych bez konieczności jawnego określania typów."
   ]
  },
  {
   "cell_type": "code",
   "execution_count": 39,
   "id": "dc42b510-0d9c-4360-8189-ccbbf63402fb",
   "metadata": {},
   "outputs": [
    {
     "name": "stdout",
     "output_type": "stream",
     "text": [
      "Inny typ danych\n"
     ]
    }
   ],
   "source": [
    "dane = 123\n",
    "\n",
    "if dane == 0 or dane == 0.0:\n",
    "    print(\"Zero jako liczba całkowita lub zmiennoprzecinkowa\")\n",
    "elif dane == \"\" or dane is None:\n",
    "    print(\"Pusty łańcuch znaków lub None\")\n",
    "elif dane and isinstance(dane, str):\n",
    "    print(\"Niepusty napis\")\n",
    "else:\n",
    "    print(\"Inny typ danych\")"
   ]
  },
  {
   "cell_type": "code",
   "execution_count": 40,
   "id": "e00e0961-8f1e-45be-8d19-0024f74fb52a",
   "metadata": {},
   "outputs": [
    {
     "name": "stdout",
     "output_type": "stream",
     "text": [
      "Inny typ danych\n"
     ]
    }
   ],
   "source": [
    "dane = 123\n",
    "\n",
    "match dane:\n",
    "    case 0 | 0.0:\n",
    "        print(\"Zero jako liczba całkowita lub zmiennoprzecinkowa\")\n",
    "    case (\"\" | None):\n",
    "        print(\"Pusty łańcuch znaków lub None\")\n",
    "    case _ if dane and isinstance(dane, str):\n",
    "        print(\"Nie pusty napis\")\n",
    "    case _:\n",
    "        print(\"Inny typ danych\")\n",
    "\n"
   ]
  },
  {
   "cell_type": "markdown",
   "id": "bef46698-b248-4031-be45-2ed60ddf3274",
   "metadata": {},
   "source": [
    "W kontekście instrukcji `match` w Pythonie, symbol `|` jest używany do reprezentowania operatora \"OR\" w dopasowywaniu wzorców. Pozwala to na dopasowanie jednego z kilku możliwych wzorców. Jeśli którykolwiek z wzorców po obu stronach `|` pasuje, cały przypadek `case` jest traktowany jako pasujący.\n",
    "\n",
    "Oto, jak to działa to w przykładzie:\n",
    "\n",
    "```python\n",
    "dane = \"123\"\n",
    "\n",
    "match dane:\n",
    "    case 0 | 0.0:\n",
    "        # Ten przypadek zostanie dopasowany, jeśli 'dane' będą równała się 0 (jako int) LUB 0.0 (jako float).\n",
    "        print(\"Zero jako liczba całkowita lub zmiennoprzecinkowa\")\n",
    "    case \"\" | None:\n",
    "        # Ten przypadek zostanie dopasowany, jeśli 'dane' będzie pustym łańcuchem (\"\") LUB None.\n",
    "        print(\"Pusty łańcuch znaków lub None\")\n",
    "    # ... (pozostałe przypadki)\n",
    "```\n",
    "\n",
    "W pierwszym przypadku `case`, `0 | 0.0` oznacza, że jeśli `dane` jest liczbą całkowitą `0` lub liczbą zmiennoprzecinkową `0.0`, ten przypadek zostanie dopasowany, a odpowiedni blok kodu zostanie wykonany. W drugim przypadku, jeśli `dane` to pusty łańcuch znaków `\"\"` lub `None`, również ten przypadek zostanie dopasowany.\n",
    "\n",
    "Podsumowując, `|` umożliwia sprawdzenie kilku różnych wzorców/wartości w ramach jednego przypadku `case`, zwiększając elastyczność dopasowywania wzorców w instrukcji `match`."
   ]
  },
  {
   "cell_type": "markdown",
   "id": "f8b20706-31e1-4273-927d-cf21a0190fd7",
   "metadata": {},
   "source": [
    "## Dopasowanie sekwencji do wzorca sekwencji\n",
    "\n",
    "\n",
    "Match-case w Pythonie umożliwia dopasowywanie sekwencji, co jest szczególnie przydatne przy pracy z krotkami lub listami."
   ]
  },
  {
   "cell_type": "code",
   "execution_count": 31,
   "id": "78660943-6786-4f41-bfd4-32216db16511",
   "metadata": {},
   "outputs": [
    {
     "name": "stdout",
     "output_type": "stream",
     "text": [
      "Punkt (1, 1) leży w przestrzeni 2D\n"
     ]
    }
   ],
   "source": [
    "punkt = (1, 1)\n",
    "\n",
    "match punkt:\n",
    "    case (0, 0):\n",
    "        print(\"Początek układu współrzędnych\")\n",
    "    case (x, 0):\n",
    "        print(f\"Punkt ({x}, 0) leży na osi X\")\n",
    "    case (0, y):\n",
    "        print(f\"Punkt (0, {y}) leży na osi Y\")\n",
    "    case (x, y):\n",
    "        print(f\"Punkt ({x}, {y}) leży w przestrzeni 2D\")\n",
    "    case _:\n",
    "        print(\"Nieznany typ danych\")\n",
    "\n"
   ]
  },
  {
   "cell_type": "code",
   "execution_count": 41,
   "id": "897f05fa-8506-46c2-b660-4dd59a21d199",
   "metadata": {},
   "outputs": [
    {
     "name": "stdout",
     "output_type": "stream",
     "text": [
      "Punkt (1, 1) leży w przestrzeni 2D\n"
     ]
    }
   ],
   "source": [
    "punkt = (1, 1)\n",
    "\n",
    "if punkt == (0, 0):\n",
    "    print(\"Początek układu współrzędnych\")\n",
    "else:\n",
    "    x, y = punkt  # destrukturyzacja tupli\n",
    "    if x == 0 and y != 0:\n",
    "        print(f\"Punkt (0, {y}) leży na osi Y\")\n",
    "    elif y == 0 and x != 0:\n",
    "        print(f\"Punkt ({x}, 0) leży na osi X\")\n",
    "    elif x != 0 and y != 0:\n",
    "        print(f\"Punkt ({x}, {y}) leży w przestrzeni 2D\")\n",
    "    else:\n",
    "        print(\"Nieznany typ danych\")\n"
   ]
  },
  {
   "cell_type": "markdown",
   "id": "2938a612-9c77-4f9d-95e3-662f116843ba",
   "metadata": {},
   "source": [
    "### inny przykład operowania na strukturze"
   ]
  },
  {
   "cell_type": "code",
   "execution_count": 12,
   "id": "19fa9e12-f2f7-49c6-bc43-d68fd4b3b2cc",
   "metadata": {},
   "outputs": [
    {
     "name": "stdout",
     "output_type": "stream",
     "text": [
      "Mniej niż 18 lat\n"
     ]
    }
   ],
   "source": [
    "dane = {\"wiek\": 5}\n",
    "\n",
    "match dane:\n",
    "    case {\"wiek\": n} if n < 18:\n",
    "        print(\"Mniej niż 18 lat\")dd\n",
    "    case {\"wiek\": n} if n >= 18:\n",
    "        print(\"18 lat lub więcej\")\n",
    "    case _:\n",
    "        print(\"Nie można określić wieku\")\n"
   ]
  },
  {
   "cell_type": "code",
   "execution_count": 42,
   "id": "263a28f7-89a8-4ed7-93ae-c8e5d0b45770",
   "metadata": {},
   "outputs": [
    {
     "name": "stdout",
     "output_type": "stream",
     "text": [
      "Mniej niż 18 lat\n"
     ]
    }
   ],
   "source": [
    "dane = {\"wiek\": 5}\n",
    "\n",
    "if \"wiek\" in dane:\n",
    "    n = dane[\"wiek\"]\n",
    "    if n < 18:\n",
    "        print(\"Mniej niż 18 lat\")\n",
    "    elif n >= 18:\n",
    "        print(\"18 lat lub więcej\")\n",
    "    else:\n",
    "        # Opcjonalnie, jeśli istnieje potrzeba obsługi innych przypadków\n",
    "        print(\"Nie można określić wieku\")\n",
    "else:\n",
    "    print(\"Nie można określić wieku\")\n"
   ]
  },
  {
   "cell_type": "markdown",
   "id": "7d01b97c-0129-4af8-ad60-e6bca52a7431",
   "metadata": {},
   "source": [
    "## Zastosowanie z wyrażeniami regularnymi:\n",
    "\n",
    "Możemy również integrować \"match-case\" z wyrażeniami regularnymi, zapewniając potężne narzędzie do przetwarzania tekstów."
   ]
  },
  {
   "cell_type": "code",
   "execution_count": 8,
   "id": "d0f0d71b-80f8-4f16-a23c-45ea7d95c3fd",
   "metadata": {},
   "outputs": [
    {
     "name": "stdout",
     "output_type": "stream",
     "text": [
      "Znaleziono datę: Rok: 2023, Miesiąc: 10, Dzień: 27\n",
      "Nie pasuje do wzorca daty\n"
     ]
    }
   ],
   "source": [
    "import re\n",
    "\n",
    "def szukaj_wzorca(tekst):\n",
    "    wynik = re.match(r\"(?P<rok>\\d{4})-(?P<miesiac>\\d{2})-(?P<dzien>\\d{2})\", tekst)\n",
    "    \n",
    "    match wynik:\n",
    "        case None:\n",
    "            print(\"Nie pasuje do wzorca daty\")\n",
    "        case _:\n",
    "            rok = wynik.group('rok')\n",
    "            miesiac = wynik.group('miesiac')\n",
    "            dzien = wynik.group('dzien')\n",
    "            print(f\"Znaleziono datę: Rok: {rok}, Miesiąc: {miesiac}, Dzień: {dzien}\")\n",
    "\n",
    "szukaj_wzorca(\"2023-10-27\")  # Wydruk: \"Znaleziono datę: Rok: 2023, Miesiąc: 10, Dzień: 27\"\n",
    "szukaj_wzorca(\"20223-10-27\") \n"
   ]
  },
  {
   "cell_type": "markdown",
   "id": "de0ac636-2b0c-46c8-83a7-058a2a875819",
   "metadata": {},
   "source": [
    "to samo przy pomocy if"
   ]
  },
  {
   "cell_type": "code",
   "execution_count": 43,
   "id": "ba20addb-b75d-4099-aab2-d219989642de",
   "metadata": {},
   "outputs": [
    {
     "name": "stdout",
     "output_type": "stream",
     "text": [
      "Znaleziono datę: Rok: 2023, Miesiąc: 10, Dzień: 27\n",
      "Nie pasuje do wzorca daty\n"
     ]
    }
   ],
   "source": [
    "import re\n",
    "\n",
    "def szukaj_wzorca(tekst):\n",
    "    wynik = re.match(r\"(?P<rok>\\d{4})-(?P<miesiac>\\d{2})-(?P<dzien>\\d{2})\", tekst)\n",
    "\n",
    "    if wynik is None:\n",
    "        print(\"Nie pasuje do wzorca daty\")\n",
    "    else:\n",
    "        rok = wynik.group('rok')\n",
    "        miesiac = wynik.group('miesiac')\n",
    "        dzien = wynik.group('dzien')\n",
    "        print(f\"Znaleziono datę: Rok: {rok}, Miesiąc: {miesiac}, Dzień: {dzien}\")\n",
    "\n",
    "# Testowanie funkcji z różnymi wartościami\n",
    "szukaj_wzorca(\"2023-10-27\")  # Wydruk: \"Znaleziono datę: Rok: 2023, Miesiąc: 10, Dzień: 27\"\n",
    "szukaj_wzorca(\"20223-10-27\")  # Wydruk: \"Nie pasuje do wzorca daty\"\n"
   ]
  },
  {
   "cell_type": "markdown",
   "id": "86f822d1-ebf8-4bd4-b4ab-4a7c8d91f09e",
   "metadata": {},
   "source": [
    "## Podsumowanie\n",
    "\n",
    "Instrukcja `match` w Pythonie została wprowadzona w wersji 3.10 i wnosi kilka istotnych korzyści oraz różnic w porównaniu do tradycyjnych instrukcji `if`-`elif`-`else`. Oto niektóre z nich:\n",
    "\n",
    "1. **Dopasowanie wzorców (Pattern Matching):** Główną zaletą `match` jest zdolność do dopasowywania wzorców, co oznacza, że można dopasować typy danych, struktury, a nawet ich zawartość, a nie tylko sprawdzać wartości boolowskie lub porównania.\n",
    "\n",
    "2. **Czytelność i zwięzłość:** Instrukcje `match` mogą sprawić, że skomplikowane serie warunków `if`-`elif`-`else` są bardziej czytelne i zorganizowane. Wzorce są wymieniane w sposób uporządkowany, co jest szczególnie przydatne w przypadku wielu warunków.\n",
    "\n",
    "3. **Dekonstrukcja obiektów:** Instrukcja `match` może automatycznie \"rozbierać\" lub dekonstruować obiekty i sekwencje, umożliwiając łatwy dostęp do poszczególnych części składowych.\n",
    "\n",
    "Przykład, który ilustruje te różnice:\n",
    "\n",
    "Załóżmy, że mamy do czynienia z różnymi kształtami, które są reprezentowane jako słowniki:"
   ]
  },
  {
   "cell_type": "code",
   "execution_count": 44,
   "id": "d98a236c-4e69-4971-9f7e-e386cb193356",
   "metadata": {},
   "outputs": [],
   "source": [
    "shape = {\"type\": \"circle\", \"radius\": 1}"
   ]
  },
  {
   "cell_type": "markdown",
   "id": "7b9d60f3-01ab-4bdf-b909-fd9523957eff",
   "metadata": {},
   "source": [
    "Tradycyjne podejście przy użyciu `if`-`elif`-`else` mogłoby wyglądać następująco:"
   ]
  },
  {
   "cell_type": "code",
   "execution_count": 45,
   "id": "829dc1a8-475c-4bba-b443-a5eb60ca2ab5",
   "metadata": {},
   "outputs": [
    {
     "name": "stdout",
     "output_type": "stream",
     "text": [
      "Obszar koła: 3.14\n"
     ]
    }
   ],
   "source": [
    "if shape[\"type\"] == \"circle\":\n",
    "    radius = shape[\"radius\"]\n",
    "    print(f\"Obszar koła: {3.14 * radius * radius}\")\n",
    "elif shape[\"type\"] == \"rectangle\":\n",
    "    width = shape[\"width\"]\n",
    "    height = shape[\"height\"]\n",
    "    print(f\"Obszar prostokąta: {width * height}\")\n",
    "# ... i tak dalej dla innych typów"
   ]
  },
  {
   "cell_type": "markdown",
   "id": "c13bc3ee-800b-4ba1-9de2-65493be4134d",
   "metadata": {},
   "source": [
    "Z użyciem `match`, kod staje się bardziej zwięzły i czytelny:"
   ]
  },
  {
   "cell_type": "code",
   "execution_count": 46,
   "id": "303ad799-68b7-46a7-b241-3f471ea99970",
   "metadata": {},
   "outputs": [
    {
     "name": "stdout",
     "output_type": "stream",
     "text": [
      "Obszar koła: 3.14\n"
     ]
    }
   ],
   "source": [
    "match shape:\n",
    "    case {\"type\": \"circle\", \"radius\": radius}:\n",
    "        print(f\"Obszar koła: {3.14 * radius * radius}\")\n",
    "    case {\"type\": \"rectangle\", \"width\": width, \"height\": height}:\n",
    "        print(f\"Obszar prostokąta: {width * height}\")\n",
    "    # ... i tak dalej dla innych typów"
   ]
  },
  {
   "cell_type": "markdown",
   "id": "ca1be108-bcd2-4b5b-a903-625a95446df2",
   "metadata": {},
   "source": [
    "W wersji z `match`, Python automatycznie \"rozpakowuje\" wartości ze słownika do zmiennych, co czyni kod bardziej zwięzłym i eliminuje potrzebę manualnego przypisywania ich do zmiennych. Ponadto, zastosowanie `match` zapewnia większą czytelność, kiedy wzorce stają się bardziej złożone, co jest trudniejsze do osiągnięcia przy użyciu serii instrukcji `if`-`elif`-`else`."
   ]
  },
  {
   "cell_type": "markdown",
   "id": "575d966f-e1a0-4b01-bc30-f46170a69493",
   "metadata": {},
   "source": [
    "## 📝 Ćwiczenie: Analiza wzorców w danych wejściowych z użyciem konstrukcji `match/case` w Pythonie.\n",
    "\n",
    "**Cel:**\n",
    "Celem tego zadania jest zapoznanie się z nową konstrukcją `match/case` wprowadzoną w Pythonie 3.10. Uczestnicy nauczą się, jak analizować i dopasowywać różne wzorce danych, co jest szczególnie przydatne w przypadkach, gdy trzeba porównać wiele możliwości lub gdy struktury danych są złożone.\n",
    "\n",
    "**Opis zadania:**\n",
    "Masz zaimplementować funkcję, która analizuje różnorodne dane wejściowe reprezentujące informacje o pojazdach. Każdy pojazd jest reprezentowany jako słownik zawierający różne atrybuty, takie jak `typ`, `marka`, `model`, `rok_produkcji`, itd. Twoim zadaniem jest klasyfikacja pojazdów na podstawie tych atrybutów, a także identyfikacja wszelkich nieprawidłowych lub niekompletnych danych.\n",
    "\n",
    "**Przykładowe dane wejściowe:**\n",
    "```python\n",
    "pojazdy = [\n",
    "    {\"typ\": \"samochód\", \"marka\": \"Toyota\", \"model\": \"Corolla\", \"rok_produkcji\": 2005},\n",
    "    {\"typ\": \"motocykl\", \"marka\": \"Yamaha\", \"model\": \"YZF-R3\"},\n",
    "    {\"typ\": \"samochód\", \"marka\": \"Tesla\", \"model\": \"Model X\", \"rok_produkcji\": 2020},\n",
    "    {\"typ\": \"rower\"},\n",
    "    {\"marka\": \"Kawasaki\"},\n",
    "]\n",
    "```\n",
    "\n",
    "**Kroki:**\n",
    "1. Stwórz skrypt, w którym umieścisz listę `pojazdy` \n",
    "2. Wewnątrz skryptu użyj konstrukcji `match/case` do analizy każdego pojazdu w liście:\n",
    "   - Dopasuj pojazdy do różnych kategorii na podstawie ich `typu` (np. \"samochód\", \"motocykl\", \"rower\").\n",
    "   - Dla każdego `typu` dopasuj także dodatkowe informacje, takie jak `marka` i `model`.\n",
    "   - Zidentyfikuj pojazdy z niekompletnymi danymi i obsłuż te przypadki odpowiednio, zgłaszając brakujące informacje.\n",
    "   - Jeśli pojazd nie pasuje do żadnej znanej kategorii, oznacz go jako \"nieznany\" i wyświetl odpowiedni komunikat.\n",
    "3. Skrypt powinien wyświetlać informacje o każdym dopasowaniu, w tym kategorię i wszelkie dodatkowe szczegóły.\n",
    "\n",
    "**Oczekiwane wyjście:**\n",
    "\n",
    "Przy uruchomieniu skryptu powinniśmy zobaczyć coś takiego:\n",
    "\n",
    "    Samochód Marka: Toyota, Model: Corolla, Rok produkcji: 2005\n",
    "    Motocykl Marka: Yamaha, Model: YZF-R3\n",
    "    Samochód Marka: Tesla, Model: Model X, Rok produkcji: 2020\n",
    "    Rower - brak dodatkowych informacji.\n",
    "    Pojazd marki Kawasaki bez wystarczających informacji o typie i modelu.\n",
    "\n",
    "**Wskazówki:**\n",
    "- Używaj zmiennych do przechwytywania istotnych części danych w przypadkach `case`.\n",
    "- Pamiętaj o zastosowaniu wyrażeń `_` (underscore) dla przypadków, które nie pasują do żadnego wzorca.\n",
    "\n",
    "\n",
    "**Rozszerzenia:**\n",
    "- Po zakończeniu podstawowej wersji zadania, możesz dodać obsługę dodatkowych atrybutów (np. kolor, moc silnika) i złożonych warunków (np. pojazdy starsze niż 20 lat).\n",
    "- Można także zaimplementować funkcjonalność generowania raportu, który podsumowuje analizę, wskazując, ile pojazdów zostało sklasyfikowanych w każdej kategorii, oraz lista pojazdów z niekompletnymi danymi.\n",
    "- Jak sprawnie wygenerować dane dla takiego zadania?"
   ]
  },
  {
   "cell_type": "markdown",
   "id": "8f9249a4-ec60-4f35-bfd3-20ad14b2ce87",
   "metadata": {},
   "source": [
    "## Przykładowe rozwiazanie"
   ]
  },
  {
   "cell_type": "code",
   "execution_count": 61,
   "id": "1ba91d6c-f4ea-4de1-979f-7a61c59f294a",
   "metadata": {},
   "outputs": [
    {
     "name": "stdout",
     "output_type": "stream",
     "text": [
      "Samochód Marka: Toyota, Model: Corolla, Rok produkcji: 2005\n",
      "Motocykl Marka: Yamaha, Model: YZF-R3\n",
      "Samochód Marka: Tesla, Model: Model X, Rok produkcji: 2020\n",
      "Rower - brak dodatkowych informacji.\n",
      "Pojazd marki Kawasaki bez wystarczających informacji o typie i modelu.\n"
     ]
    }
   ],
   "source": [
    "pojazdy = [\n",
    "    {\"typ\": \"samochód\", \"marka\": \"Toyota\", \"model\": \"Corolla\", \"rok_produkcji\": 2005},\n",
    "    {\"typ\": \"motocykl\", \"marka\": \"Yamaha\", \"model\": \"YZF-R3\"},\n",
    "    {\"typ\": \"samochód\", \"marka\": \"Tesla\", \"model\": \"Model X\", \"rok_produkcji\": 2020},\n",
    "    {\"typ\": \"rower\"},\n",
    "    {\"marka\": \"Kawasaki\"},\n",
    "]\n",
    "\n",
    "for pojazd in pojazdy:\n",
    "    match pojazd:\n",
    "        case {\"typ\": \"samochód\", \"marka\": marka, \"model\": model, \"rok_produkcji\": rok}:\n",
    "            print(f\"Samochód Marka: {marka}, Model: {model}, Rok produkcji: {rok}\")\n",
    "        \n",
    "        case {\"typ\": \"motocykl\", \"marka\": marka, \"model\": model}:\n",
    "            print(f\"Motocykl Marka: {marka}, Model: {model}\")  # rok_produkcji nie jest tutaj obowiązkowy\n",
    "        \n",
    "        case {\"typ\": \"rower\"}:\n",
    "            print(\"Rower - brak dodatkowych informacji.\")\n",
    "        \n",
    "        case {\"typ\": typ}:\n",
    "            print(f\"Pojazd typu {typ} z niekompletnymi danymi.\")\n",
    "        \n",
    "        case {\"marka\": marka}:\n",
    "            print(f\"Pojazd marki {marka} bez wystarczających informacji o typie i modelu.\")\n",
    "        \n",
    "        case _:\n",
    "            print(\"Nieznany pojazd lub niekompletny zestaw danych.\")\n"
   ]
  },
  {
   "cell_type": "code",
   "execution_count": 62,
   "id": "72a6d2e7-8c05-4af1-86df-52f835cd1d49",
   "metadata": {},
   "outputs": [
    {
     "name": "stdout",
     "output_type": "stream",
     "text": [
      "Pojazd typu motocykl z niekompletnymi danymi.\n",
      "Nieznany pojazd lub niekompletny zestaw danych.\n",
      "Motocykl Marka: Reed Inc, Model: activity, Kolor: niebieski\n",
      "Rower - Kolor: czerwony\n",
      "Rower - Kolor: żółty\n",
      "Samochód Marka: Sparks Ltd, Model: court, Rok produkcji: 2002, Kolor: niebieski, Moc silnika: 470 KM\n",
      "   Uwaga: Samochód ma więcej niż 20 lat!\n",
      "Pojazd typu samochód z niekompletnymi danymi.\n",
      "Motocykl Marka: Holland, Wilson and Hamilton, Model: hand, Kolor: niebieski\n",
      "Pojazd typu samochód z niekompletnymi danymi.\n",
      "Rower - Kolor: biały\n",
      "Rower - Kolor: czarny\n",
      "Motocykl Marka: Bowen-Edwards, Model: world, Kolor: czarny\n",
      "Rower - Kolor: biały\n",
      "Rower - Kolor: biały\n",
      "Pojazd typu samochód z niekompletnymi danymi.\n",
      "Rower - Kolor: żółty\n",
      "Samochód Marka: Gates, Baker and Kelley, Model: there, Rok produkcji: 2020, Kolor: czarny, Moc silnika: 242 KM\n",
      "Rower - Kolor: czarny\n",
      "Rower - Kolor: żółty\n",
      "Rower - Kolor: czarny\n",
      "Rower - Kolor: czarny\n",
      "Samochód Marka: Hickman-Mahoney, Model: late, Rok produkcji: 2012, Kolor: czarny, Moc silnika: 290 KM\n",
      "Rower - Kolor: czerwony\n",
      "Nieznany pojazd lub niekompletny zestaw danych.\n",
      "Nieznany pojazd lub niekompletny zestaw danych.\n",
      "Pojazd typu motocykl z niekompletnymi danymi.\n",
      "Rower - Kolor: żółty\n",
      "Pojazd typu rower z niekompletnymi danymi.\n",
      "Motocykl Marka: Phillips and Sons, Model: top, Kolor: biały\n",
      "Rower - Kolor: czarny\n",
      "Pojazd typu samochód z niekompletnymi danymi.\n",
      "Rower - Kolor: czarny\n",
      "Nieznany pojazd lub niekompletny zestaw danych.\n",
      "Rower - Kolor: biały\n",
      "Rower - Kolor: biały\n",
      "Pojazd typu motocykl z niekompletnymi danymi.\n",
      "Nieznany pojazd lub niekompletny zestaw danych.\n",
      "Nieznany pojazd lub niekompletny zestaw danych.\n",
      "Samochód Marka: Murray Group, Model: task, Rok produkcji: 1997, Kolor: czerwony, Moc silnika: 479 KM\n",
      "   Uwaga: Samochód ma więcej niż 20 lat!\n",
      "Pojazd typu motocykl z niekompletnymi danymi.\n",
      "Rower - Kolor: zielony\n",
      "Rower - Kolor: żółty\n",
      "Rower - Kolor: czerwony\n",
      "Samochód Marka: Hernandez, Rangel and Adams, Model: fish, Rok produkcji: 1997, Kolor: biały, Moc silnika: 73 KM\n",
      "   Uwaga: Samochód ma więcej niż 20 lat!\n",
      "Samochód Marka: Sosa Inc, Model: season, Rok produkcji: 1999, Kolor: niebieski, Moc silnika: 98 KM\n",
      "   Uwaga: Samochód ma więcej niż 20 lat!\n",
      "Samochód Marka: Garrison, Holloway and Sullivan, Model: fill, Rok produkcji: 2011, Kolor: biały, Moc silnika: 324 KM\n",
      "Nieznany pojazd lub niekompletny zestaw danych.\n",
      "Nieznany pojazd lub niekompletny zestaw danych.\n",
      "Pojazd typu motocykl z niekompletnymi danymi.\n",
      "Motocykl Marka: Perez PLC, Model: day, Kolor: zielony\n",
      "Rower - Kolor: czerwony\n",
      "Pojazd typu samochód z niekompletnymi danymi.\n",
      "Samochód Marka: Spence, Dennis and Medina, Model: policy, Rok produkcji: 1990, Kolor: zielony, Moc silnika: 84 KM\n",
      "   Uwaga: Samochód ma więcej niż 20 lat!\n",
      "Pojazd typu motocykl z niekompletnymi danymi.\n",
      "Rower - Kolor: żółty\n",
      "Samochód Marka: Price and Sons, Model: accept, Rok produkcji: 2019, Kolor: żółty, Moc silnika: 120 KM\n",
      "Pojazd typu samochód z niekompletnymi danymi.\n",
      "Samochód Marka: Juarez Group, Model: network, Rok produkcji: 2019, Kolor: niebieski, Moc silnika: 299 KM\n",
      "Pojazd typu samochód z niekompletnymi danymi.\n",
      "Nieznany pojazd lub niekompletny zestaw danych.\n",
      "Rower - Kolor: czerwony\n",
      "Pojazd typu samochód z niekompletnymi danymi.\n",
      "Motocykl Marka: Roberts-Shelton, Model: take, Kolor: brak informacji\n",
      "Pojazd typu rower z niekompletnymi danymi.\n",
      "Samochód Marka: Hernandez, Wilson and Anderson, Model: lead, Rok produkcji: 2011, Kolor: zielony, Moc silnika: 125 KM\n",
      "Rower - Kolor: niebieski\n",
      "Motocykl Marka: Cook Inc, Model: culture, Kolor: żółty\n",
      "Motocykl Marka: Hoffman and Sons, Model: fund, Kolor: czarny\n",
      "Nieznany pojazd lub niekompletny zestaw danych.\n",
      "Pojazd typu samochód z niekompletnymi danymi.\n",
      "Rower - Kolor: czarny\n",
      "Motocykl Marka: Martinez Inc, Model: interview, Kolor: czerwony\n",
      "Samochód Marka: Johnson, Green and Fischer, Model: natural, Rok produkcji: 2010, Kolor: zielony, Moc silnika: 145 KM\n",
      "Pojazd typu motocykl z niekompletnymi danymi.\n",
      "Pojazd typu samochód z niekompletnymi danymi.\n",
      "Pojazd typu rower z niekompletnymi danymi.\n",
      "Nieznany pojazd lub niekompletny zestaw danych.\n",
      "Motocykl Marka: Logan, Mitchell and Oconnor, Model: sister, Kolor: czarny\n",
      "Motocykl Marka: Thomas-Thompson, Model: popular, Kolor: czerwony\n",
      "Motocykl Marka: Woods, Thompson and Marquez, Model: child, Kolor: zielony\n",
      "Samochód Marka: Ross LLC, Model: size, Rok produkcji: 2005, Kolor: czerwony, Moc silnika: 320 KM\n",
      "Motocykl Marka: Valenzuela, Morris and Green, Model: night, Kolor: czarny\n",
      "Motocykl Marka: Kennedy, White and Payne, Model: threat, Kolor: niebieski\n",
      "Motocykl Marka: Price Inc, Model: memory, Kolor: biały\n",
      "Nieznany pojazd lub niekompletny zestaw danych.\n",
      "Samochód Marka: Davis-Greene, Model: sea, Rok produkcji: 2000, Kolor: biały, Moc silnika: 257 KM\n",
      "   Uwaga: Samochód ma więcej niż 20 lat!\n",
      "Rower - Kolor: czerwony\n",
      "Rower - Kolor: zielony\n",
      "Pojazd typu samochód z niekompletnymi danymi.\n",
      "Motocykl Marka: Jordan and Sons, Model: sell, Kolor: brak informacji\n",
      "Rower - Kolor: czerwony\n",
      "Motocykl Marka: Barton, Campos and Jordan, Model: both, Kolor: niebieski\n",
      "Nieznany pojazd lub niekompletny zestaw danych.\n",
      "Rower - Kolor: niebieski\n",
      "Nieznany pojazd lub niekompletny zestaw danych.\n",
      "Pojazd typu samochód z niekompletnymi danymi.\n",
      "Nieznany pojazd lub niekompletny zestaw danych.\n",
      "Pojazd typu rower z niekompletnymi danymi.\n",
      "Pojazd typu samochód z niekompletnymi danymi.\n",
      "Rower - Kolor: zielony\n",
      "\n",
      "RAPORT KOŃCOWY:\n",
      "Samochodów: 14\n",
      "Motocykli: 17\n",
      "Rowerów: 30\n",
      "Pojazdów z nieznanym typem lub niekompletnymi danymi: 15\n",
      "\n",
      "Pojazdy z niekompletnymi danymi:\n",
      "{'typ': 'motocykl', 'model': 'than', 'kolor': 'zielony'}\n",
      "{'marka': 'Elliott-Mullen', 'model': 'role', 'kolor': 'czerwony', 'rok_produkcji': 2020, 'moc_silnika': 340}\n",
      "{'typ': 'samochód', 'marka': 'Kane Ltd', 'model': 'record', 'kolor': 'niebieski', 'moc_silnika': 380}\n",
      "{'typ': 'samochód', 'marka': 'Hill-Fletcher', 'model': 'bed', 'rok_produkcji': 1994, 'moc_silnika': 407}\n",
      "{'typ': 'samochód', 'marka': 'Vazquez, Petersen and Burke', 'model': 'field', 'kolor': 'biały', 'moc_silnika': 471}\n",
      "{'marka': 'Peterson-Garcia', 'model': 'property', 'kolor': 'czarny'}\n",
      "{'marka': 'Robbins, Gregory and Gilmore', 'model': 'option', 'kolor': 'czerwony'}\n",
      "{'typ': 'motocykl', 'model': 'thing', 'kolor': 'biały'}\n",
      "{'typ': 'rower', 'marka': None, 'model': None}\n",
      "{'typ': 'samochód', 'model': 'ever', 'kolor': 'biały', 'rok_produkcji': 1996, 'moc_silnika': 377}\n",
      "{'marka': None, 'model': None, 'kolor': 'biały'}\n",
      "{'typ': 'motocykl', 'marka': 'Kline PLC', 'kolor': 'biały'}\n",
      "{'marka': 'Murray-Garcia', 'model': 'social', 'kolor': 'czarny'}\n",
      "{'marka': 'Curtis-Rhodes', 'model': 'east', 'kolor': 'czarny', 'rok_produkcji': 2017, 'moc_silnika': 288}\n",
      "{'typ': 'motocykl', 'model': 'western', 'kolor': 'niebieski'}\n",
      "{'marka': 'Rivera-Pruitt', 'model': 'career', 'kolor': 'niebieski', 'rok_produkcji': 2018, 'moc_silnika': 390}\n",
      "{'marka': None, 'model': None, 'kolor': 'zielony'}\n",
      "{'typ': 'motocykl', 'model': 'point', 'kolor': 'niebieski'}\n",
      "{'typ': 'samochód', 'marka': 'Collins Inc', 'kolor': 'niebieski', 'rok_produkcji': 2013, 'moc_silnika': 132}\n",
      "{'typ': 'motocykl', 'marka': 'Thomas LLC', 'kolor': 'żółty'}\n",
      "{'typ': 'samochód', 'marka': 'Gibson-Banks', 'kolor': 'żółty', 'rok_produkcji': 2007, 'moc_silnika': 150}\n",
      "{'typ': 'samochód', 'marka': 'Page, White and Morris', 'model': 'make', 'kolor': 'żółty', 'moc_silnika': 167}\n",
      "{'marka': None, 'model': None, 'kolor': 'czerwony'}\n",
      "{'typ': 'samochód', 'marka': 'Contreras, Carter and Baker', 'kolor': 'biały', 'rok_produkcji': 1991, 'moc_silnika': 74}\n",
      "{'typ': 'rower', 'marka': None, 'model': None}\n",
      "{'marka': 'Norman LLC', 'model': 'alone', 'kolor': 'zielony'}\n",
      "{'typ': 'samochód', 'marka': 'Johnston PLC', 'model': 'budget', 'rok_produkcji': 2003, 'moc_silnika': 81}\n",
      "{'typ': 'motocykl', 'marka': 'Morris-Kaufman', 'kolor': 'czarny'}\n",
      "{'typ': 'samochód', 'marka': 'Soto Group', 'model': 'second', 'rok_produkcji': 2005, 'moc_silnika': 180}\n",
      "{'typ': 'rower', 'marka': None, 'model': None}\n",
      "{'marka': 'Dixon LLC', 'model': 'allow', 'kolor': 'biały', 'rok_produkcji': 2001, 'moc_silnika': 475}\n",
      "{'marka': 'Shepherd Ltd', 'model': 'blood', 'kolor': 'czerwony', 'rok_produkcji': 2016, 'moc_silnika': 108}\n",
      "{'typ': 'samochód', 'marka': 'Miller-Phillips', 'model': 'arrive', 'kolor': 'niebieski', 'moc_silnika': 101}\n",
      "{'marka': 'Smith LLC', 'model': 'health', 'kolor': 'niebieski', 'rok_produkcji': 2016, 'moc_silnika': 420}\n",
      "{'marka': 'Mcdonald, Ryan and Abbott', 'model': 'office', 'kolor': 'czarny'}\n",
      "{'typ': 'samochód', 'marka': 'Dyer, Ellis and Wang', 'model': 'agreement', 'kolor': 'zielony', 'moc_silnika': 101}\n",
      "{'marka': None, 'model': None, 'kolor': 'biały'}\n",
      "{'typ': 'rower', 'marka': None, 'model': None}\n",
      "{'typ': 'samochód', 'marka': 'Peterson Inc', 'model': 'black', 'kolor': 'zielony', 'rok_produkcji': 1992}\n"
     ]
    }
   ],
   "source": [
    "# Przykładowe dane wejściowe\n",
    "# pojazdy = [\n",
    "#     {\"typ\": \"samochód\", \"marka\": \"Toyota\", \"model\": \"Corolla\", \"rok_produkcji\": 2005, \"kolor\": \"czerwony\", \"moc_silnika\": 100},\n",
    "#     {\"typ\": \"motocykl\", \"marka\": \"Yamaha\", \"model\": \"YZF-R3\", \"kolor\": \"niebieski\"},\n",
    "#     {\"typ\": \"samochód\", \"marka\": \"Tesla\", \"model\": \"Model X\", \"rok_produkcji\": 2020, \"kolor\": \"czarny\", \"moc_silnika\": 300},\n",
    "#     {\"typ\": \"rower\", \"kolor\": \"zielony\"},\n",
    "#     {\"marka\": \"Kawasaki\"},  # brakujące dane\n",
    "#     {\"typ\": \"samochód\", \"marka\": \"Fiat\", \"model\": \"500\", \"rok_produkcji\": 1995}  # stary model, brak niektórych danych\n",
    "# ]\n",
    "\n",
    "pojazdy = generuj_losowe_pojazdy(100)\n",
    "\n",
    "statystyki = {\n",
    "    \"samochód\": 0,\n",
    "    \"motocykl\": 0,\n",
    "    \"rower\": 0,\n",
    "    \"nieznany\": 0,\n",
    "    \"niekompletne_dane\": []\n",
    "}\n",
    "\n",
    "for pojazd in pojazdy:\n",
    "    try:\n",
    "        match pojazd:\n",
    "            case {\"typ\": \"samochód\", \"marka\": marka, \"model\": model, \"rok_produkcji\": rok, \"kolor\": kolor, \"moc_silnika\": moc}:\n",
    "                print(f\"Samochód Marka: {marka}, Model: {model}, Rok produkcji: {rok}, Kolor: {kolor}, Moc silnika: {moc} KM\")\n",
    "                if 2023 - rok > 20:\n",
    "                    print(\"   Uwaga: Samochód ma więcej niż 20 lat!\")\n",
    "                statystyki[\"samochód\"] += 1\n",
    "\n",
    "            case {\"typ\": \"motocykl\", \"marka\": marka, \"model\": model, \"kolor\": kolor}:\n",
    "                print(f\"Motocykl Marka: {marka}, Model: {model}, Kolor: {kolor}\")\n",
    "                statystyki[\"motocykl\"] += 1\n",
    "                \n",
    "            case {\"typ\": \"motocykl\", \"marka\": marka, \"model\": model}:\n",
    "                print(f\"Motocykl Marka: {marka}, Model: {model}, Kolor: brak informacji\")\n",
    "                statystyki[\"motocykl\"] += 1\n",
    "\n",
    "            case {\"typ\": \"rower\", \"kolor\": kolor}:\n",
    "                print(f\"Rower - Kolor: {kolor if 'kolor' in pojazd else 'brak informacji'}\")\n",
    "                statystyki[\"rower\"] += 1\n",
    "\n",
    "            case {\"typ\": typ}:\n",
    "                print(f\"Pojazd typu {typ} z niekompletnymi danymi.\")\n",
    "                statystyki[\"niekompletne_dane\"].append(pojazd)\n",
    "\n",
    "            case _:\n",
    "                print(\"Nieznany pojazd lub niekompletny zestaw danych.\")\n",
    "                statystyki[\"nieznany\"] += 1\n",
    "                statystyki[\"niekompletne_dane\"].append(pojazd)\n",
    "    except Exception as e:\n",
    "        print(f\"Wystąpił błąd podczas analizy danych pojazdu: {e}\")\n",
    "        statystyki[\"nieznany\"] += 1  # Zakładamy, że błąd wynika z niekompletnych danych\n",
    "\n",
    "# Generowanie raportu końcowego\n",
    "print(\"\\nRAPORT KOŃCOWY:\")\n",
    "print(f\"Samochodów: {statystyki['samochód']}\")\n",
    "print(f\"Motocykli: {statystyki['motocykl']}\")\n",
    "print(f\"Rowerów: {statystyki['rower']}\")\n",
    "print(f\"Pojazdów z nieznanym typem lub niekompletnymi danymi: {statystyki['nieznany']}\")\n",
    "\n",
    "if statystyki[\"niekompletne_dane\"]:\n",
    "    print(\"\\nPojazdy z niekompletnymi danymi:\")\n",
    "    for poj in statystyki[\"niekompletne_dane\"]:\n",
    "        print(poj)\n",
    "\n"
   ]
  },
  {
   "cell_type": "markdown",
   "id": "0fd8529b-be7e-4f04-9763-455558a0db7c",
   "metadata": {},
   "source": [
    "## Bonus - faker - Tworzenie Realistycznych Danych Testowych w Pythonie\n",
    "\n",
    "\n",
    "W dzisiejszych czasach, gdzie aplikacje i systemy informatyczne są coraz bardziej skomplikowane, proces testowania oprogramowania wymaga dostępu do różnorodnych, realistycznych, a jednocześnie bezpiecznych danych. Wprowadzenie do tego procesu biblioteki \"Faker\" w języku Python znacząco upraszcza i ulepsza tworzenie realistycznych zestawów danych. W tym artykule przyjrzymy się bliżej temu, czym jest Faker, do czego służy, i jak go używać w praktyce.\n",
    "\n",
    "### Co to jest Faker?\n",
    "\n",
    "Faker jest potężną biblioteką języka Python, służącą do tworzenia fałszywych danych. Kiedy mówimy o \"fałszywych danych\", mamy na myśli dane, które nie są autentyczne, ale zachowują wszelkie cechy rzeczywistych informacji, takie jak struktura, formatowanie i spójność. Faker potrafi generować szeroki zakres danych, od prostych nazw i adresów, aż po bardziej złożone, jak numery kart kredytowych czy daty.\n",
    "\n",
    "### Dlaczego używamy Fakera?\n",
    "\n",
    "Głównym celem użycia Fakera jest umożliwienie deweloperom i testerom oprogramowania tworzenie dużych ilości realistycznych danych testowych bez naruszania prywatności i bezpieczeństwa. To szczególnie ważne w obliczu obowiązujących przepisów o ochronie danych osobowych (np. GDPR). Używanie prawdziwych danych klientów czy użytkowników do testowania jest nie tylko nieetyczne, ale i niezgodne z prawem. Faker rozwiązuje ten problem, dostarczając narzędzia do szybkiego generowania potrzebnych danych.\n",
    "\n",
    "### Jak używać Fakera?\n",
    "\n",
    "Użycie Fakera jest stosunkowo proste i można to zrobić w kilku krokach. Pierwszym krokiem jest instalacja biblioteki, którą można zrealizować za pomocą narzędzia pip, poleceniem:"
   ]
  },
  {
   "cell_type": "code",
   "execution_count": 63,
   "id": "b17cb150-13c7-4fb1-bec7-b603cc708a6c",
   "metadata": {},
   "outputs": [],
   "source": [
    "# pip install faker"
   ]
  },
  {
   "cell_type": "markdown",
   "id": "37a12b8d-25ff-4b4a-ac1f-47ee34779996",
   "metadata": {},
   "source": [
    "Po zainstalowaniu biblioteki, możemy zacząć tworzyć obiekty typu \"Faker\", które będą generować dane. Przykładowy skrypt może wyglądać następująco:"
   ]
  },
  {
   "cell_type": "code",
   "execution_count": 64,
   "id": "e915cdc1-46d8-49fb-8558-de84f48746ca",
   "metadata": {},
   "outputs": [
    {
     "name": "stdout",
     "output_type": "stream",
     "text": [
      "Andrea Powell\n",
      "7286 Smith Gateway Suite 459\n",
      "New Kathleenstad, SC 38218\n",
      "Health become door. Language hour citizen yes.\n",
      "Leader room yourself each another step.\n",
      "Person only surface method drive. Its fund dream laugh by add could. Yet director culture size.\n"
     ]
    }
   ],
   "source": [
    "from faker import Faker\n",
    "fake = Faker()\n",
    "\n",
    "# Generowanie różnych rodzajów danych:\n",
    "print(fake.name())  # Wynik: \"Jan Kowalski\"\n",
    "print(fake.address())  # Wynik: \"ul. Jana Pawła II 10, 00-001 Warszawa\"\n",
    "print(fake.text())  # Wynik: \"Losowy tekst, który może być użyty jako fragment treści czy wypełnienie dokumentu.\""
   ]
  },
  {
   "cell_type": "markdown",
   "id": "30cb521a-574d-404a-a857-bb071f9063e6",
   "metadata": {},
   "source": [
    "Faker jest bardzo elastyczny i pozwala na tworzenie danych odpowiadających różnym kryteriom i w różnych językach, co jest szczególnie przydatne w międzynarodowych projektach.\n",
    "\n",
    "### Zaawansowane zastosowania:\n",
    "Faker może być używany nie tylko do generowania pojedynczych danych, ale również do tworzenia skomplikowanych zestawów danych, które mogą naśladować struktury bazodanowe, pliki JSON, CSV i wiele innych. Możliwości są niemal nieograniczone, od prostych testów jednostkowych aż po zaawansowane symulacje obciążeń dla dużych baz danych.\n",
    "\n",
    "### Podsumowanie:\n",
    "Faker jest nieocenionym narzędziem dla każdego, kto potrzebuje bezpiecznego, elastycznego i mocy sposobu na generowanie danych testowych. Jego łatwość użycia, wszechstronność i ogromne możliwości sprawiają, że jest to standardowy wybór dla deweloperów i testerów na całym świecie. Bez względu na to, czy jesteś freelancerem, pracujesz w start-upie, czy w wielkiej korporacji, używanie Fakera"
   ]
  },
  {
   "cell_type": "code",
   "execution_count": 65,
   "id": "0fb7ad2a-47de-463d-9bcb-44275ce36d4e",
   "metadata": {},
   "outputs": [],
   "source": [
    "# pip install faker"
   ]
  },
  {
   "cell_type": "code",
   "execution_count": 66,
   "id": "b5ae201f-c2ec-49fb-b069-a0a9dbeb1b4b",
   "metadata": {},
   "outputs": [
    {
     "name": "stdout",
     "output_type": "stream",
     "text": [
      "{'typ': 'rower', 'marka': None, 'model': None, 'kolor': 'niebieski'}\n",
      "{'typ': 'samochód', 'marka': 'Mason-Wilson', 'model': 'day', 'kolor': 'niebieski', 'rok_produkcji': 2021}\n",
      "{'typ': 'rower', 'model': None, 'kolor': 'niebieski'}\n",
      "{'typ': 'rower', 'marka': None, 'model': None, 'kolor': 'niebieski'}\n",
      "{'typ': 'rower', 'marka': None, 'model': None, 'kolor': 'czerwony'}\n",
      "{'typ': 'rower', 'marka': None, 'model': None, 'kolor': 'zielony'}\n",
      "{'typ': 'samochód', 'marka': 'Ponce and Sons', 'model': 'radio', 'kolor': 'czarny', 'rok_produkcji': 2018, 'moc_silnika': 338}\n",
      "{'marka': None, 'model': None, 'kolor': 'żółty'}\n",
      "{'typ': 'rower', 'marka': None, 'model': None, 'kolor': 'czarny'}\n",
      "{'typ': 'motocykl', 'marka': 'Rose, Smith and Johnson', 'model': 'wind', 'kolor': 'niebieski'}\n"
     ]
    }
   ],
   "source": [
    "from faker import Faker\n",
    "import random\n",
    "\n",
    "def generuj_losowe_pojazdy(liczba_pojazdow):\n",
    "    fake = Faker()\n",
    "    pojazdy = []\n",
    "\n",
    "    typy_pojazdow = [\"samochód\", \"motocykl\", \"rower\"]\n",
    "    kolory = [\"czerwony\", \"niebieski\", \"zielony\", \"czarny\", \"biały\", \"żółty\"]  # itd.\n",
    "\n",
    "    for _ in range(liczba_pojazdow):\n",
    "        typ = random.choice(typy_pojazdow)\n",
    "\n",
    "        pojazd = {\n",
    "            \"typ\": typ,\n",
    "            \"marka\": fake.company() if typ != \"rower\" else None,  # rowery zazwyczaj nie mają 'marki' w tym samym sensie co pojazdy silnikowe\n",
    "            \"model\": fake.word() if typ != \"rower\" else None,  # podobnie jak wyżej\n",
    "            \"kolor\": random.choice(kolory),\n",
    "        }\n",
    "\n",
    "        if typ == \"samochód\":\n",
    "            pojazd[\"rok_produkcji\"] = random.randint(1990, 2022)  # losowy rok produkcji\n",
    "            pojazd[\"moc_silnika\"] = random.randint(50, 500)  # losowa moc silnika w zakresie realistycznych wartości\n",
    "\n",
    "        # Opcjonalnie możesz dodać przypadki brakujących danych:\n",
    "        if random.choice([True, False]):\n",
    "            usun_klucz = random.choice(list(pojazd.keys()))\n",
    "            del pojazd[usun_klucz]\n",
    "\n",
    "        pojazdy.append(pojazd)\n",
    "\n",
    "    return pojazdy\n",
    "\n",
    "# Użycie funkcji\n",
    "losowe_pojazdy = generuj_losowe_pojazdy(10)\n",
    "for pojazd in losowe_pojazdy:\n",
    "    print(pojazd)\n"
   ]
  },
  {
   "cell_type": "markdown",
   "id": "825ad2af-ad91-43af-af55-b5a10be28627",
   "metadata": {},
   "source": []
  },
  {
   "cell_type": "code",
   "execution_count": 67,
   "id": "2642244a-5142-433d-8b9c-74b5d52cf518",
   "metadata": {},
   "outputs": [
    {
     "name": "stdin",
     "output_type": "stream",
     "text": [
      "Czy chcesz utworzyć stos czy kolejkę? (wpisz 'stos' lub 'kolejka'):  q\n"
     ]
    },
    {
     "name": "stdout",
     "output_type": "stream",
     "text": [
      "Nieprawidłowy wybór struktury danych.\n"
     ]
    },
    {
     "ename": "SystemExit",
     "evalue": "1",
     "output_type": "error",
     "traceback": [
      "An exception has occurred, use %tb to see the full traceback.\n",
      "\u001b[0;31mSystemExit\u001b[0m\u001b[0;31m:\u001b[0m 1\n"
     ]
    },
    {
     "name": "stderr",
     "output_type": "stream",
     "text": [
      "/Users/rkorzen/PycharmProjects/szkolenia/alx/k-python-2-14-10-2023/venv/lib/python3.10/site-packages/IPython/core/interactiveshell.py:3534: UserWarning: To exit: use 'exit', 'quit', or Ctrl-D.\n",
      "  warn(\"To exit: use 'exit', 'quit', or Ctrl-D.\", stacklevel=1)\n"
     ]
    }
   ],
   "source": []
  },
  {
   "cell_type": "code",
   "execution_count": null,
   "id": "f5213a69-5c68-41d0-a2ec-e5ff75d81227",
   "metadata": {},
   "outputs": [],
   "source": []
  }
 ],
 "metadata": {
  "kernelspec": {
   "display_name": "Python 3 (ipykernel)",
   "language": "python",
   "name": "python3"
  },
  "language_info": {
   "codemirror_mode": {
    "name": "ipython",
    "version": 3
   },
   "file_extension": ".py",
   "mimetype": "text/x-python",
   "name": "python",
   "nbconvert_exporter": "python",
   "pygments_lexer": "ipython3",
   "version": "3.11.5"
  }
 },
 "nbformat": 4,
 "nbformat_minor": 5
}
