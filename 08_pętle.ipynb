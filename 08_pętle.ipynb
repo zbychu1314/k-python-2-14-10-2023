{
 "cells": [
  {
   "cell_type": "markdown",
   "id": "d59ce184-dd2d-4aac-b0ca-e95bdf5c46a2",
   "metadata": {},
   "source": [
    "# Podstawy [link](01_interpreter_slowa_kluczowe_operatory.ipynb)\n",
    "# Wbudowane typy [link](02_wbudowane_kolekcje.ipynb)\n",
    "# Wbudowane kolekcje [link](03_wbudowane_kolekcje.ipynb)\n",
    "# Wyrażenia (Comprehensions) i Generatory w Pythonie [link](04_wyrazenia_i_generatory.ipynb)\n",
    "# Obsługa błędów [link](05_try_except_finally.ipynb)\n",
    "# Wyrażenia warunkowe [link](06_wyrazenie_warunkowe.ipynb)\n",
    "# `match case` [link](07_match_case.ipynb)"
   ]
  },
  {
   "cell_type": "markdown",
   "id": "da5c9570-945e-492a-bba0-62b030443355",
   "metadata": {},
   "source": [
    "# Pętle w Pythonie\n",
    "\n",
    "## Pętla `while`\n",
    "\n",
    "Jednym z fundamentów każdego języka programowania jest umiejętność kontrolowania przepływu działania programu. W Pythonie, pętla while stanowi potężne narzędzie, pozwalające na wielokrotne wykonanie bloku kodu do momentu, aż określony warunek przestanie być spełniony. W tej cześci przeanalizujemy działanie pętli while, zaczynając od prostych przykładów, a kończąc na bardziej zaawansowanych konstrukcjach z użyciem 'continue', 'break', oraz 'finally'.\n",
    "\n",
    "### Podstawy pętli while:\n",
    "\n",
    "Pętla while w Pythonie działa na prostej zasadzie: wykonuje blok kodu tak długo, jak długo określony warunek jest prawdziwy. Oto podstawowy przykład:"
   ]
  },
  {
   "cell_type": "code",
   "execution_count": 1,
   "id": "26ed3a7a-cdc1-481f-a5d0-1c880db8fb99",
   "metadata": {},
   "outputs": [
    {
     "name": "stdout",
     "output_type": "stream",
     "text": [
      "Numer: 1\n",
      "Numer: 2\n",
      "Numer: 3\n",
      "Numer: 4\n",
      "Numer: 5\n"
     ]
    }
   ],
   "source": [
    "licznik = 1\n",
    "\n",
    "while licznik <= 5:\n",
    "    print(f\"Numer: {licznik}\")\n",
    "    licznik += 1"
   ]
  },
  {
   "cell_type": "markdown",
   "id": "8dab01d7-5b65-43bc-87c2-a881a792b6a7",
   "metadata": {},
   "source": [
    "W powyższym przykładzie pętla będzie kontynuować swoje działanie do momentu, gdy wartość zmiennej 'licznik' osiągnie 6, co spowoduje, że warunek przestanie być spełniony i pętla się zakończy.\n",
    "\n",
    "### Użycie 'continue' i 'break':\n",
    "W trakcie działania pętli, możemy natrafić na sytuacje, gdy chcemy przerwać jej działanie lub pominąć pewien cykl bez zatrzymywania całej pętli. Służą do tego instrukcje 'continue' i 'break'.\n",
    "\n",
    "- 'continue': Powoduje natychmiastowe przejście do kolejnej iteracji pętli, pomijając resztę kodu w bieżącym cyklu."
   ]
  },
  {
   "cell_type": "code",
   "execution_count": 3,
   "id": "0fd313c1-1a66-42af-96a9-a0d9549fc7e7",
   "metadata": {},
   "outputs": [
    {
     "name": "stdout",
     "output_type": "stream",
     "text": [
      "1\n",
      "3\n",
      "5\n",
      "7\n",
      "9\n"
     ]
    }
   ],
   "source": [
    "licznik = 0\n",
    "while licznik < 10:\n",
    "    licznik += 1\n",
    "    if licznik % 2 == 0:\n",
    "        continue\n",
    "    print(licznik)"
   ]
  },
  {
   "cell_type": "markdown",
   "id": "74f898d8-02f4-4037-b490-2cc24a18819b",
   "metadata": {},
   "source": [
    "W tym przykładzie 'continue' zostaje użyte do pominięcia wszystkich liczb parzystych w sekwencji od 1 do 10.\n",
    "\n",
    "- 'break': Natychmiast przerywa działanie pętli, niezależnie od warunku logicznego określonego w pętli while."
   ]
  },
  {
   "cell_type": "code",
   "execution_count": 3,
   "id": "9fd2f6b0-11bb-4197-927c-44af5013e926",
   "metadata": {},
   "outputs": [
    {
     "name": "stdout",
     "output_type": "stream",
     "text": [
      "Licznik: 0\n",
      "Licznik: 1\n",
      "Licznik: 2\n",
      "Licznik: 3\n",
      "Licznik: 4\n"
     ]
    }
   ],
   "source": [
    "licznik = 0\n",
    "while licznik < 10:\n",
    "    if licznik == 5:\n",
    "        break\n",
    "    print(f\"Licznik: {licznik}\")\n",
    "    licznik += 1"
   ]
  },
  {
   "cell_type": "markdown",
   "id": "52108398-57d2-4284-b7ea-66bfe0565971",
   "metadata": {},
   "source": [
    "Tutaj, gdy 'licznik' osiągnie wartość 5, instrukcja 'break' przerwie działanie pętli, nawet jeśli warunek 'licznik < 10' nadal jest spełniony.\n",
    "\n",
    "### Klauzula 'else':\n",
    "Choć 'else' jest częściej używane w obsłudze wyjątków w Pythonie, może również mieć zastosowanie w kontekście pętli, szczególnie gdy chcemy upewnić się, że pewien kod zostanie wykonany na końcu, bez względu na to, czy pętla zakończyła się naturalnie czy została przerwana."
   ]
  },
  {
   "cell_type": "code",
   "execution_count": 7,
   "id": "800fa9cf-d456-4f00-be83-42e6dd4af281",
   "metadata": {},
   "outputs": [
    {
     "name": "stdout",
     "output_type": "stream",
     "text": [
      "Licznik: 0\n",
      "Licznik: 1\n",
      "Licznik: 2\n"
     ]
    }
   ],
   "source": [
    "licznik = 0\n",
    "\n",
    "while licznik < 5:\n",
    "    print(f\"Licznik: {licznik}\")\n",
    "    licznik += 1\n",
    "    if licznik == 3:\n",
    "        break\n",
    "else:\n",
    "    print(\"Pętla została zakończona.\")"
   ]
  },
  {
   "cell_type": "markdown",
   "id": "1015bb42-35fd-43ae-860c-409d19fa3ea4",
   "metadata": {},
   "source": [
    "W powyższym kodzie, niezależnie od tego, czy pętla zakończy się naturalnie, czy zostanie przerwana przez 'break', kod w bloku 'finally' zawsze zostanie wykonany.\n",
    "\n",
    "### Podsumowanie:\n",
    "Pętla while jest podstawowym, ale niezwykle potężnym narzędziem w języku Python, pozwalającym programistom na precyzyjne sterowanie przepływem programu. Od prostego powtarzania bloku kodu, przez kontrolowanie iteracji za pomocą 'continue' i 'break', aż po zapewnienie wykonania kodu końcowego za pomocą 'finally', pętla while oferuje szeroki zakres możliwości. Praktyczne zrozumienie jej działania i właściwości może znacząco przyczynić się do umiejętności pisania efektywniejszego, czystszego i bardziej profesjonalnego kodu."
   ]
  },
  {
   "cell_type": "markdown",
   "id": "ab80eefb-fcfb-479e-b7cb-4a0f5b696cbe",
   "metadata": {},
   "source": [
    "## Pętla for\n",
    "\n",
    "Ten rodzaj pętli pozwala na iterowanie przez różnego rodzaju kolekcje danych, takie jak listy, krotki, słowniki, i ciągi znaków, w sposób zarówno prosty, jak i kontrolowany. W tym artykule przejdziemy przez podstawowe użycie pętli for, a następnie zgłębimy bardziej zaawansowane koncepty takie jak 'continue', 'break', i 'finally'.\n",
    "\n",
    "### Podstawy pętli for:\n",
    "\n",
    "Pętla for w Pythonie jest używana do iterowania przez sekwencje (takie jak listy, krotki, słowniki, zbiory, ciągi znaków) lub inne obiekty iterowalne. Oto prosty przykład:"
   ]
  },
  {
   "cell_type": "code",
   "execution_count": 9,
   "id": "4a76154e-c9d0-49fc-8473-a6490e05bda1",
   "metadata": {},
   "outputs": [
    {
     "name": "stdout",
     "output_type": "stream",
     "text": [
      "1\n",
      "2\n",
      "3\n",
      "4\n",
      "5\n"
     ]
    }
   ],
   "source": [
    "lista = [1, 2, 3, 4, 5]\n",
    "\n",
    "for liczba in lista:\n",
    "    print(liczba)"
   ]
  },
  {
   "cell_type": "code",
   "execution_count": 10,
   "id": "97fc8c94-3ce0-457d-a0a0-86198f40a772",
   "metadata": {},
   "outputs": [
    {
     "name": "stdout",
     "output_type": "stream",
     "text": [
      "1\n",
      "2\n",
      "3\n",
      "4\n",
      "5\n"
     ]
    }
   ],
   "source": [
    "i = 0\n",
    "while i < len(lista):\n",
    "    print(lista[i])\n",
    "    i += 1\n",
    "    "
   ]
  },
  {
   "cell_type": "code",
   "execution_count": 13,
   "id": "2a93e6a6-16d2-460d-a1cf-8244d35bdb14",
   "metadata": {},
   "outputs": [
    {
     "name": "stdout",
     "output_type": "stream",
     "text": [
      "0 1\n",
      "1 2\n",
      "2 3\n",
      "3 4\n",
      "4 5\n"
     ]
    }
   ],
   "source": [
    "for i, liczba in enumerate(lista):\n",
    "    print(i, liczba)"
   ]
  },
  {
   "cell_type": "markdown",
   "id": "a55d3e8a-a1b5-46e4-9e8d-4eb125056c1c",
   "metadata": {},
   "source": [
    "W tym przykładzie pętla for przejdzie przez każdy element w liście, wypisując jego wartość na ekran.\n",
    "\n",
    "### Użycie 'continue' i 'break':\n",
    "\n",
    "Podczas pracy z pętlami często spotykamy sytuacje, gdy chcemy pominąć pewną iterację lub całkowicie przerwać działanie pętli. Do tego celu służą słowa kluczowe 'continue' i 'break'.\n",
    "\n",
    "- 'continue': Kiedy Python napotka 'continue', automatycznie pomija resztę kodu w obecnej iteracji i wraca do początku pętli."
   ]
  },
  {
   "cell_type": "code",
   "execution_count": null,
   "id": "446f92fa-5486-4461-b386-39940ba8d665",
   "metadata": {},
   "outputs": [],
   "source": [
    "for liczba in range(10):\n",
    "    if liczba % 2 == 0:\n",
    "        continue\n",
    "    print(f\"Liczba nieparzysta: {liczba}\")"
   ]
  },
  {
   "cell_type": "markdown",
   "id": "97420884-d507-4dce-a16e-e6d325a44bed",
   "metadata": {},
   "source": [
    "W tym przykładzie 'continue' sprawia, że pętla pomija wszystkie liczby parzyste.\n",
    "\n",
    "- 'break': Pozwala natychmiast zakończyć działanie pętli, niezależnie od tego, w którym miejscu cyklu się znajdujemy."
   ]
  },
  {
   "cell_type": "code",
   "execution_count": null,
   "id": "5ab6540b-d1d9-4b67-96c0-ef1bc424f5c4",
   "metadata": {},
   "outputs": [],
   "source": [
    "for liczba in range(10):\n",
    "    if liczba == 5:\n",
    "        break\n",
    "    print(f\"Liczba: {liczba}\")"
   ]
  },
  {
   "cell_type": "markdown",
   "id": "b6b2b9e5-38c8-4a76-8023-ac9b8c9e6740",
   "metadata": {},
   "source": [
    "Tutaj pętla for zakończy swoje działanie, gdy tylko natrafi na liczbę 5."
   ]
  },
  {
   "cell_type": "markdown",
   "id": "dbe4da83-ba55-43f0-ace0-1c581507ce01",
   "metadata": {},
   "source": [
    "### Klauzula 'else':\n",
    "   \n",
    "W Pythonie 'else' jest często używane w kontekście obsługi błędów, ale może być również użyteczne podczas pracy z pętlami do zapewnienia wykonania pewnego kodu po zakończeniu pętli."
   ]
  },
  {
   "cell_type": "code",
   "execution_count": 14,
   "id": "8275ac2d-4ad8-4897-b577-3922acff5f36",
   "metadata": {},
   "outputs": [
    {
     "name": "stdout",
     "output_type": "stream",
     "text": [
      "Liczba: 0\n",
      "Liczba: 1\n",
      "Liczba: 2\n",
      "Liczba: 3\n"
     ]
    }
   ],
   "source": [
    "\n",
    "for liczba in range(5):\n",
    "    print(f\"Liczba: {liczba}\")\n",
    "    if liczba == 3:\n",
    "        break\n",
    "else:\n",
    "    print(\"Pętla została zakończona.\")"
   ]
  },
  {
   "cell_type": "markdown",
   "id": "c2a068b4-a0e2-4dba-829e-4ad2a000789e",
   "metadata": {},
   "source": [
    "W powyższym przykładzie, niezależnie od tego, czy pętla zakończy się naturalnie, czy zostanie przerwana przez 'break', blok kodu w 'finally' zostanie wykonany.\n",
    "\n",
    "### Podsumowanie:\n",
    "Pętla for jest niezwykle wszechstronnym narzędziem w Pythonie, umożliwiającym efektywne i czytelne przetwarzanie kolekcji danych. Od podstawowego iterowania przez sekwencje, przez kontrolowanie przepływu pętli za pomocą 'continue' i 'break', aż po upewnienie się, że określone działania zostaną podjęte po zakończeniu pętli za pomocą 'finally', pętla for otwiera przed programistami szerokie możliwości. Zrozumienie jej zastosowań i zalet jest kluczowe dla tworzenia klarownego, optymalnego kodu, gotowego na różnorodne i złożone zadania programistyczne."
   ]
  },
  {
   "cell_type": "markdown",
   "id": "109a962c-3075-4c2f-b723-4ccfe00be656",
   "metadata": {},
   "source": [
    "## 📝 Ćwiczenie: prosta gra\n",
    "\n",
    "Napisz grę polegającą na poszukiwaniu skarbu na dwuwymiarowej\n",
    "planszy o rozmiarach 10 na 10. Użytkownik może wprowadzać\n",
    "komendy zmieniające położenie postaci. Po każdym ruchu\n",
    "użytkownik powinien otrzymywać informację o tym, czy zmierza\n",
    "dobrym kierunku. Wyjście poza planszę oznacza koniec gry. Po\n",
    "znalezieniu skarbu wypisz liczbę ruchów wykorzystanych przez\n",
    "użytkownika na dojście do celu.\n",
    "\n",
    "Przykładowa rozgrywka:\n",
    "\n",
    "    Twoja pozycja (3, 7)\n",
    "    \n",
    "    Podaj kierunek (g, d, l, p):  g\n",
    "    \n",
    "    Ciepło!\n",
    "    Twoja pozycja (3, 8)\n",
    "    \n",
    "    Podaj kierunek (g, d, l, p):  g\n",
    "    \n",
    "    Zimno!\n",
    "    Twoja pozycja (3, 9)\n",
    "    \n",
    "    Podaj kierunek (g, d, l, p):  d\n",
    "    \n",
    "    Ciepło!\n",
    "    Twoja pozycja (3, 8)\n",
    "    \n",
    "    Podaj kierunek (g, d, l, p):  l\n",
    "    \n",
    "    Zimno!\n",
    "    Twoja pozycja (2, 8)\n",
    "    \n",
    "    Podaj kierunek (g, d, l, p):  p\n",
    "    \n",
    "    Ciepło!\n",
    "    Twoja pozycja (3, 8)\n",
    "    \n",
    "    Podaj kierunek (g, d, l, p):  p\n",
    "    \n",
    "    Ciepło!\n",
    "    Twoja pozycja (4, 8)\n",
    "    \n",
    "    Podaj kierunek (g, d, l, p):  p\n",
    "    \n",
    "    Ciepło!\n",
    "    Twoja pozycja (5, 8)\n",
    "    \n",
    "    Podaj kierunek (g, d, l, p):  p\n",
    "    \n",
    "    Ciepło!\n",
    "    Twoja pozycja (6, 8)\n",
    "    \n",
    "    Podaj kierunek (g, d, l, p):  p\n",
    "    \n",
    "    Ciepło!\n",
    "    Twoja pozycja (7, 8)\n",
    "    \n",
    "    Podaj kierunek (g, d, l, p):  p\n",
    "    \n",
    "    Ciepło!\n",
    "    Twoja pozycja (8, 8)\n",
    "    \n",
    "    Podaj kierunek (g, d, l, p):  p\n",
    "    \n",
    "    Ciepło!\n",
    "    Twoja pozycja (9, 8)\n",
    "    \n",
    "    Podaj kierunek (g, d, l, p):  p\n",
    "    \n",
    "    Gratulacje! Znalazłeś skarb w 12 krokach!\n",
    "\n",
    "    \n",
    "Dodatkowo:\n",
    "\n",
    "* po wykonaniu większej liczby kroków niż minimalna wartość x 2, umieść skarb w nowym miejscu\n",
    "* z prawdopodobieństwem 1/5 nie podawaj graczowi wskazówki po wykonaniu kroku\n"
   ]
  },
  {
   "cell_type": "markdown",
   "id": "cf014c02-ed1f-4142-b896-281dc63100b6",
   "metadata": {},
   "source": [
    "### przykładowe rozwiązanie:"
   ]
  },
  {
   "cell_type": "code",
   "execution_count": 20,
   "id": "9f29e9f9-5620-4647-b858-96dc05c49871",
   "metadata": {},
   "outputs": [
    {
     "name": "stdout",
     "output_type": "stream",
     "text": [
      "Twoja pozycja to: 1, 5\n",
      "Skarb: 4, 3\n"
     ]
    },
    {
     "name": "stdin",
     "output_type": "stream",
     "text": [
      "Kierunek: WASD (q by zakończyć) w\n"
     ]
    },
    {
     "name": "stdout",
     "output_type": "stream",
     "text": [
      "Zimno\n",
      "Twoja pozycja to: 1, 6\n",
      "Skarb: 4, 3\n"
     ]
    },
    {
     "name": "stdin",
     "output_type": "stream",
     "text": [
      "Kierunek: WASD (q by zakończyć) w\n"
     ]
    },
    {
     "name": "stdout",
     "output_type": "stream",
     "text": [
      "Zimno\n",
      "Twoja pozycja to: 1, 7\n",
      "Skarb: 4, 3\n"
     ]
    },
    {
     "name": "stdin",
     "output_type": "stream",
     "text": [
      "Kierunek: WASD (q by zakończyć) w\n"
     ]
    },
    {
     "name": "stdout",
     "output_type": "stream",
     "text": [
      "Zimno\n",
      "Twoja pozycja to: 1, 8\n",
      "Skarb: 4, 3\n"
     ]
    },
    {
     "name": "stdin",
     "output_type": "stream",
     "text": [
      "Kierunek: WASD (q by zakończyć) w\n"
     ]
    },
    {
     "name": "stdout",
     "output_type": "stream",
     "text": [
      "Zimno\n",
      "Twoja pozycja to: 1, 9\n",
      "Skarb: 4, 3\n"
     ]
    },
    {
     "name": "stdin",
     "output_type": "stream",
     "text": [
      "Kierunek: WASD (q by zakończyć) w\n"
     ]
    },
    {
     "name": "stdout",
     "output_type": "stream",
     "text": [
      "Zimno\n",
      "Twoja pozycja to: 1, 10\n",
      "Skarb: 4, 3\n"
     ]
    },
    {
     "name": "stdin",
     "output_type": "stream",
     "text": [
      "Kierunek: WASD (q by zakończyć) w\n"
     ]
    },
    {
     "name": "stdout",
     "output_type": "stream",
     "text": [
      "Wypadłeś poza planszę. GAME OVER\n",
      "Zimno\n",
      "Twoja pozycja to: 1, 11\n",
      "Skarb: 4, 3\n"
     ]
    },
    {
     "name": "stdin",
     "output_type": "stream",
     "text": [
      "Kierunek: WASD (q by zakończyć) q\n"
     ]
    },
    {
     "name": "stdout",
     "output_type": "stream",
     "text": [
      "Poddajesz się\n"
     ]
    }
   ],
   "source": [
    "from random import randint\n",
    "\n",
    "DEBUG = True\n",
    "\n",
    "MAX_X = 10\n",
    "MAX_Y = 10\n",
    "\n",
    "# losujemy pozycje\n",
    "gracz_x = randint(0, MAX_X)\n",
    "gracz_y = randint(0, MAX_Y)\n",
    "\n",
    "while True:\n",
    "    skarb_x = randint(0, MAX_X)\n",
    "    skarb_y = randint(0, MAX_Y)\n",
    "    if gracz_x != skarb_x and gracz_y != skarb_y:\n",
    "        break\n",
    "\n",
    "minimalna_liczba_krokow_po_wylosowaniu = abs(skarb_x - gracz_x) + abs(skarb_y - gracz_y)\n",
    "\n",
    "liczba_krokow = 0\n",
    "\n",
    "while True:\n",
    "    minimalna_liczba_krokow_przed_ruchem = abs(skarb_x - gracz_x) + abs(skarb_y - gracz_y)\n",
    "    print(f\"Twoja pozycja to: {gracz_x}, {gracz_y}\")\n",
    "\n",
    "    if DEBUG:\n",
    "        print(f\"Skarb: {skarb_x}, {skarb_y}\")\n",
    "\n",
    "    kierunek = input(\"Kierunek: WASD (q by zakończyć)\")\n",
    "    if kierunek == \"q\":\n",
    "        print(\"Poddajesz się\")\n",
    "        break\n",
    "\n",
    "    match kierunek:\n",
    "        case 'w':\n",
    "            gracz_y += 1\n",
    "        case 's':\n",
    "            gracz_y -= 1\n",
    "        case 'a':\n",
    "            gracz_x -= 1\n",
    "        case 'd':\n",
    "            gracz_x += 1\n",
    "\n",
    "    if gracz_x == skarb_x and gracz_y == skarb_y:\n",
    "        print(\"Wygrałeś\")\n",
    "        break\n",
    "\n",
    "    if gracz_x > MAX_X or gracz_y > MAX_Y:\n",
    "        print(\"Wypadłeś poza planszę. GAME OVER\")\n",
    "        break\n",
    "        \n",
    "    minimalna_liczba_krokow_po_ruchu = abs(skarb_x - gracz_x) + abs(skarb_y - gracz_y)\n",
    "\n",
    "    if minimalna_liczba_krokow_przed_ruchem > minimalna_liczba_krokow_po_ruchu:\n",
    "        print(\"Ciepło\")\n",
    "    else:\n",
    "        print(\"Zimno\")"
   ]
  },
  {
   "cell_type": "markdown",
   "id": "2b6b7124-0129-4cf0-a50a-b6a913670c1d",
   "metadata": {},
   "source": [
    "## 📝 Ćwiczenie: dodawanie macierzy\n",
    "\n",
    "Napisz program, który doda do siebie dwie macierze.\n",
    "\n",
    "    [1, 2] + [2, 3] == [3, 5]\n",
    "    [[1, 2]] + [[2, 3]] == [[3, 5]]\n",
    "    [[1, 2, 3], [4, 5, 6]] + [[1, 1, 1], [2, 2, 2]] == [[2,3, 4], [6, 7, 8]]\n",
    "\n",
    "Wynikiem dodawania będzie macierz o takich samych wymiarach, gdzie poszczególne elementy są suma elementów z tych samych pozycji "
   ]
  },
  {
   "cell_type": "code",
   "execution_count": 31,
   "id": "f4f18684-79d6-40a2-8b4b-6088792b2521",
   "metadata": {},
   "outputs": [],
   "source": [
    "m1 = [\n",
    "    [1, 2],\n",
    "    [1, 2]\n",
    "]\n",
    "m2 = [\n",
    "    [2, 3],\n",
    "    [2, 3]\n",
    "] \n",
    "\n",
    "# m1 = [1, 2]\n",
    "# m2 = [2, 3]\n",
    "\n",
    "wektor = False\n",
    "if not isinstance(m1[0], list):\n",
    "    m1 = [m1]\n",
    "    m2 = [m2]\n",
    "    wektor = True\n",
    "\n",
    "result = []\n",
    "for i_row, row in enumerate(m1):\n",
    "    new_row = []\n",
    "    for i_col, col in enumerate(row):\n",
    "        new_row.append(col + m2[i_row][i_col])\n",
    "    result.append(new_row)\n",
    "\n",
    "if wektor:\n",
    "    result = result[0]\n",
    "\n",
    "\n",
    "assert result == [[3, 5], [3, 5]]"
   ]
  },
  {
   "cell_type": "code",
   "execution_count": 32,
   "id": "0ee9c401-9276-459c-935d-1bf6a3bc247f",
   "metadata": {},
   "outputs": [
    {
     "data": {
      "text/plain": [
       "([[1, 2], [1, 2]], [[2, 3], [2, 3]])"
      ]
     },
     "execution_count": 32,
     "metadata": {},
     "output_type": "execute_result"
    }
   ],
   "source": [
    "m1, m2"
   ]
  },
  {
   "cell_type": "code",
   "execution_count": 41,
   "id": "72320ebe-0921-453b-b61e-56b7962dea7b",
   "metadata": {},
   "outputs": [],
   "source": [
    "m1 = [1]\n",
    "m2 = [2, 3]\n",
    "m3 = [2, 3, 3]\n",
    "\n",
    "wektor = False\n",
    "if not isinstance(m1[0], list):\n",
    "    m1 = [m1]\n",
    "    m2 = [m2]\n",
    "    m3 = [m3]\n",
    "    wektor = True\n",
    "\n",
    "result = []\n",
    "for row1, row2, row3 in zip(m1, m2, m3):\n",
    "    wiersz = []\n",
    "    for col1, col2, col3 in zip(row1, row2, row3):\n",
    "        wiersz.append(col1 + col2 + col3 )\n",
    "    result.append(wiersz)\n",
    "\n",
    "\n",
    "if wektor:\n",
    "    result = result[0]\n",
    "\n",
    "# assert result == [[3, 5], [3, 5]]      \n",
    "assert result == [5]\n",
    "\n",
    "\n",
    "## zadanie domowe - dodać walidacje - tak by można było dodawać tylko macierze o tych samych wymiarach"
   ]
  },
  {
   "cell_type": "code",
   "execution_count": null,
   "id": "edf9fa62-dc15-4485-924a-6c01445b5f6e",
   "metadata": {},
   "outputs": [],
   "source": []
  }
 ],
 "metadata": {
  "kernelspec": {
   "display_name": "Python 3 (ipykernel)",
   "language": "python",
   "name": "python3"
  },
  "language_info": {
   "codemirror_mode": {
    "name": "ipython",
    "version": 3
   },
   "file_extension": ".py",
   "mimetype": "text/x-python",
   "name": "python",
   "nbconvert_exporter": "python",
   "pygments_lexer": "ipython3",
   "version": "3.11.5"
  }
 },
 "nbformat": 4,
 "nbformat_minor": 5
}
