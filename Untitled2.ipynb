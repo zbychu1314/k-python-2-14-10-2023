{
 "cells": [
  {
   "cell_type": "code",
   "execution_count": 1,
   "id": "6ce6867b-1b10-4966-8624-f55dda79ed82",
   "metadata": {},
   "outputs": [],
   "source": [
    "def generator():\n",
    "    yield 1\n",
    "    yield 2\n",
    "    yield 3\n",
    "\n"
   ]
  },
  {
   "cell_type": "code",
   "execution_count": 8,
   "id": "caab8874-53ed-4324-b83f-3a7a4dc040e3",
   "metadata": {},
   "outputs": [
    {
     "data": {
      "text/plain": [
       "1"
      ]
     },
     "execution_count": 8,
     "metadata": {},
     "output_type": "execute_result"
    }
   ],
   "source": [
    "next(generator())"
   ]
  },
  {
   "cell_type": "code",
   "execution_count": 11,
   "id": "ef5f9404-55f0-443b-8dc7-224a25eeb778",
   "metadata": {},
   "outputs": [],
   "source": [
    "x =generator()"
   ]
  },
  {
   "cell_type": "code",
   "execution_count": 15,
   "id": "1ef3d7c9-4f16-4229-bda2-052081d9b4fc",
   "metadata": {},
   "outputs": [
    {
     "ename": "StopIteration",
     "evalue": "",
     "output_type": "error",
     "traceback": [
      "\u001b[1;31m---------------------------------------------------------------------------\u001b[0m",
      "\u001b[1;31mStopIteration\u001b[0m                             Traceback (most recent call last)",
      "Cell \u001b[1;32mIn[15], line 1\u001b[0m\n\u001b[1;32m----> 1\u001b[0m \u001b[38;5;28;43mnext\u001b[39;49m\u001b[43m(\u001b[49m\u001b[43mx\u001b[49m\u001b[43m)\u001b[49m\n",
      "\u001b[1;31mStopIteration\u001b[0m: "
     ]
    }
   ],
   "source": [
    "next(x)"
   ]
  },
  {
   "cell_type": "code",
   "execution_count": null,
   "id": "3ea6f1dc-7c3e-489e-aaa3-106ddacb89fc",
   "metadata": {},
   "outputs": [],
   "source": []
  }
 ],
 "metadata": {
  "kernelspec": {
   "display_name": "Python 3 (ipykernel)",
   "language": "python",
   "name": "python3"
  },
  "language_info": {
   "codemirror_mode": {
    "name": "ipython",
    "version": 3
   },
   "file_extension": ".py",
   "mimetype": "text/x-python",
   "name": "python",
   "nbconvert_exporter": "python",
   "pygments_lexer": "ipython3",
   "version": "3.9.7"
  }
 },
 "nbformat": 4,
 "nbformat_minor": 5
}
