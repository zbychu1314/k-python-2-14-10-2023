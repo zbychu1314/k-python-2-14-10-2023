{
 "cells": [
  {
   "cell_type": "markdown",
   "id": "74fe0e66-7789-4dbc-9c92-0048fec5ead3",
   "metadata": {},
   "source": [
    "# Powtorka materialu z Pythona"
   ]
  },
  {
   "cell_type": "code",
   "execution_count": null,
   "id": "f6c8567e-f850-4fce-9ea9-c88ada771fdb",
   "metadata": {},
   "outputs": [],
   "source": []
  },
  {
   "cell_type": "code",
   "execution_count": 3,
   "id": "e3191ce7-a8f1-4ece-b7ec-797c10a75711",
   "metadata": {},
   "outputs": [
    {
     "data": {
      "text/plain": [
       "1"
      ]
     },
     "execution_count": 3,
     "metadata": {},
     "output_type": "execute_result"
    }
   ],
   "source": [
    "# komentarz\n",
    "x = 1\n",
    "x"
   ]
  },
  {
   "cell_type": "code",
   "execution_count": null,
   "id": "75912f16-9002-4604-a7a3-5007867de2b8",
   "metadata": {},
   "outputs": [],
   "source": []
  }
 ],
 "metadata": {
  "kernelspec": {
   "display_name": "Python 3 (ipykernel)",
   "language": "python",
   "name": "python3"
  },
  "language_info": {
   "codemirror_mode": {
    "name": "ipython",
    "version": 3
   },
   "file_extension": ".py",
   "mimetype": "text/x-python",
   "name": "python",
   "nbconvert_exporter": "python",
   "pygments_lexer": "ipython3",
   "version": "3.9.7"
  }
 },
 "nbformat": 4,
 "nbformat_minor": 5
}
