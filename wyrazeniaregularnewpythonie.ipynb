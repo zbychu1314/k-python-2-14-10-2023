{
 "cells": [
  {
   "cell_type": "code",
   "execution_count": 1,
   "id": "5d27edce-f2f2-42a4-a12c-a9a79e714a86",
   "metadata": {},
   "outputs": [],
   "source": [
    "import re"
   ]
  },
  {
   "cell_type": "code",
   "execution_count": 2,
   "id": "6d057015-6b9a-48b6-bcf3-e0fb32a0d492",
   "metadata": {},
   "outputs": [],
   "source": [
    "pattern = re.compile(\"\\d{2}-\\d{3}\")"
   ]
  },
  {
   "cell_type": "code",
   "execution_count": 3,
   "id": "30b15991-f170-4941-a79a-c20e3e2b0fcc",
   "metadata": {},
   "outputs": [],
   "source": [
    "text1 = \"17-120\"\n",
    "\n",
    "text2 = \"17-120 18-250 181-33\""
   ]
  },
  {
   "cell_type": "code",
   "execution_count": 4,
   "id": "414ed6d3-f519-4604-bd74-5c91cc569d2a",
   "metadata": {},
   "outputs": [
    {
     "data": {
      "text/plain": [
       "<re.Match object; span=(0, 6), match='17-120'>"
      ]
     },
     "execution_count": 4,
     "metadata": {},
     "output_type": "execute_result"
    }
   ],
   "source": [
    "pattern.match(text1)"
   ]
  },
  {
   "cell_type": "code",
   "execution_count": 5,
   "id": "bfd664fb-c4e4-406a-8bc7-fbf71badd588",
   "metadata": {},
   "outputs": [
    {
     "data": {
      "text/plain": [
       "<re.Match object; span=(0, 6), match='17-120'>"
      ]
     },
     "execution_count": 5,
     "metadata": {},
     "output_type": "execute_result"
    }
   ],
   "source": [
    "pattern.match(text2)"
   ]
  },
  {
   "cell_type": "code",
   "execution_count": 7,
   "id": "d579fdde-6d6a-4428-81b9-9c2b678dcbdf",
   "metadata": {},
   "outputs": [],
   "source": [
    "pattern.fullmatch(text2)"
   ]
  },
  {
   "cell_type": "code",
   "execution_count": 8,
   "id": "6188dc21-2630-4c15-9417-3393a3bfd6ce",
   "metadata": {},
   "outputs": [
    {
     "data": {
      "text/plain": [
       "<re.Match object; span=(0, 6), match='17-120'>"
      ]
     },
     "execution_count": 8,
     "metadata": {},
     "output_type": "execute_result"
    }
   ],
   "source": [
    "pattern.fullmatch(text1)"
   ]
  },
  {
   "cell_type": "code",
   "execution_count": 9,
   "id": "217f93b6-4fe0-47e5-aeaf-cc7113a480a0",
   "metadata": {},
   "outputs": [
    {
     "data": {
      "text/plain": [
       "['17-120', '18-250']"
      ]
     },
     "execution_count": 9,
     "metadata": {},
     "output_type": "execute_result"
    }
   ],
   "source": [
    "pattern.findall(text2)"
   ]
  },
  {
   "cell_type": "markdown",
   "id": "5668a1ed-1471-42cd-bbb3-28a0b7d6036b",
   "metadata": {},
   "source": [
    "https://regex101.com/"
   ]
  },
  {
   "cell_type": "code",
   "execution_count": null,
   "id": "ca90991e-ad46-4940-b375-7e7209de1872",
   "metadata": {},
   "outputs": [],
   "source": []
  }
 ],
 "metadata": {
  "kernelspec": {
   "display_name": "Python 3 (ipykernel)",
   "language": "python",
   "name": "python3"
  },
  "language_info": {
   "codemirror_mode": {
    "name": "ipython",
    "version": 3
   },
   "file_extension": ".py",
   "mimetype": "text/x-python",
   "name": "python",
   "nbconvert_exporter": "python",
   "pygments_lexer": "ipython3",
   "version": "3.11.5"
  }
 },
 "nbformat": 4,
 "nbformat_minor": 5
}
