{
 "cells": [
  {
   "cell_type": "markdown",
   "id": "81ebf9fa-e96f-4285-b4a8-74caa9da89e9",
   "metadata": {},
   "source": [
    "# Podstawy [link](01_interpreter_slowa_kluczowe_operatory.ipynb)\n",
    "# Wbudowane typy [link](02_wbudowane_kolekcje.ipynb)\n",
    "# Wbudowane kolekcje [link](03_wbudowane_kolekcje.ipynb)\n",
    "# Wyrażenia (Comprehensions) i Generatory w Pythonie [link](04_wyrazenia_i_generatory.ipynb)\n",
    "# Obsługa błędów [link](05_try_except_finally.ipynb)\n",
    "# Wyrażenia warunkowe [link](06_wyrazenie_warunkowe.ipynb)\n",
    "# `match case` [link](07_match_case.ipynb)\n",
    "# Pętle [link](08_pętle.ipynb)"
   ]
  },
  {
   "cell_type": "markdown",
   "id": "cf6ea1ff-ec69-4db6-b066-c3b441d57c93",
   "metadata": {},
   "source": [
    "# Zmienne w Pythonie: Referencje, Cykliczne Referencje, Zarządzanie Pamięcią i Zasady Nazewnictwa Zmiennych\n",
    "\n",
    "Jednym z kluczowych elementów Pythona są zmienne. W tej części zgłębimy bardziej szczegółowo zagadnienia związane z zmiennymi w Pythonie, omówimy, co to są referencje, jak działają cykliczne referencje, jak Python zarządza pamięcią, oraz zasady nazewnictwa zmiennych.\n",
    "\n",
    "## Co to jest referencja w Pythonie?\n",
    "\n",
    "W Pythonie zmienna jest związana z referencją do obiektu. Referencja to wskaźnik do konkretnego obszaru w pamięci, gdzie przechowywane są dane obiektu. Gdy przypisujesz wartość zmiennej, tak naprawdę tworzysz referencję do obiektu, który zawiera tę wartość.\n",
    "\n",
    "Przykład:\n",
    "```python\n",
    "x = 42\n",
    "y = x\n",
    "```\n",
    "\n",
    "W powyższym przykładzie `x` jest referencją do obiektu `42` przechowywanego w pamięci."
   ]
  },
  {
   "cell_type": "markdown",
   "id": "9eccd424",
   "metadata": {},
   "source": [
    "## Zasady Nazewnictwa Zmiennych\n",
    "\n",
    "W Pythonie istnieją pewne zasady dotyczące nazewnictwa zmiennych:\n",
    "\n",
    "- Nazwy zmiennych mogą składać się z liter (małych i wielkich), cyfr i znaku podkreślenia `_`.\n",
    "\n",
    "- Nazwy zmiennych muszą rozpoczynać się literą lub znakiem podkreślenia `_`.\n",
    "\n",
    "- Wielkość liter ma znaczenie, co oznacza, że `zmienna` i `Zmienna` są traktowane jako dwie różne zmienne.\n",
    "\n",
    "- Python ma zarezerwowane słowa kluczowe, takie jak `if`, `else`, `for`, które nie mogą być używane jako nazwy zmiennych.\n",
    "\n",
    "- Zalecane jest stosowanie nazw zmiennych zgodnie z konwencją nazewnictwa zwanej snake_case, gdzie słowa są oddzielane znakiem podkreślenia (np. `moja_zmienna`)."
   ]
  },
  {
   "cell_type": "markdown",
   "id": "d14246e3-c58e-4772-8ecd-129825fc43de",
   "metadata": {},
   "source": [
    "## Dynamiczne Tworzenie Zmiennych w Pythonie\n",
    "\n",
    "Dynamiczne tworzenie zmiennych to proces tworzenia zmiennych w trakcie działania programu, a nie na etapie kompilacji lub deklaracji. W tradycyjnych językach programowania, takich jak C++ czy Java, zmienne muszą być zadeklarowane przed użyciem. W Pythonie możemy jednak tworzyć zmienne w locie, co daje programistom większą elastyczność.\n",
    "\n",
    "### Dlaczego Dynamiczne Tworzenie Zmiennych Jest Przydatne?\n",
    "\n",
    "1. **Elastyczność**: Dynamiczne tworzenie zmiennych umożliwia tworzenie zmiennych o różnych nazwach i typach w zależności od potrzeb programu. To przydatne, gdy nie znamy z góry liczby zmiennych, jakie będą nam potrzebne.\n",
    "\n",
    "2. **Dostępność Danych**: Czasami dane, które chcemy przechować, pochodzą z zewnętrznych źródeł lub są generowane w trakcie działania programu. Dynamiczne tworzenie zmiennych pozwala na przechowywanie tych danych w sposób czytelny i efektywny.\n",
    "\n",
    "3. **Automatyzacja**: Możemy użyć dynamicznego tworzenia zmiennych do automatyzacji procesów. Na przykład, tworzenie zmiennych o nazwach opisujących dane może ułatwić ich późniejsze przetwarzanie.\n",
    "\n",
    "### Jak Tworzyć Zmienne Dynamicznie w Pythonie?\n",
    "\n",
    "W Pythonie istnieje kilka sposobów na dynamiczne tworzenie zmiennych. Oto kilka przykładów:"
   ]
  },
  {
   "cell_type": "markdown",
   "id": "b3b2d815-99eb-41b3-bc27-5f8cdc7b83d2",
   "metadata": {},
   "source": [
    "#### Użycie Słownika\n",
    "\n",
    "Najczęstszym sposobem jest użycie słownika, gdzie klucze to nazwy zmiennych, a wartości to ich zawartość. Na przykład:\n",
    "\n"
   ]
  },
  {
   "cell_type": "code",
   "execution_count": 11,
   "id": "3002c8d5-d08e-430c-b993-3d2d8f0f0cb9",
   "metadata": {},
   "outputs": [
    {
     "name": "stdout",
     "output_type": "stream",
     "text": [
      "42\n"
     ]
    }
   ],
   "source": [
    "dynamiczne_zmienne = {}\n",
    "nazwa_zmiennej = \"moja_zmienna\"\n",
    "wartosc_zmiennej = 42\n",
    "dynamiczne_zmienne[nazwa_zmiennej] = wartosc_zmiennej\n",
    "print(dynamiczne_zmienne[\"moja_zmienna\"])  # Wyświetli 42\n"
   ]
  },
  {
   "cell_type": "markdown",
   "id": "9b692037-377c-44a0-aa2d-f08a338708de",
   "metadata": {},
   "source": [
    "#### Użycie `globals()` lub `locals()`\n",
    "\n",
    "Możemy także użyć funkcji `globals()` lub `locals()` do tworzenia zmiennych na poziomie globalnym lub lokalnym. Na przykład:\n",
    "\n"
   ]
  },
  {
   "cell_type": "code",
   "execution_count": 12,
   "id": "761f981a-3b20-4960-96a8-cf3265a8be7d",
   "metadata": {},
   "outputs": [
    {
     "name": "stdout",
     "output_type": "stream",
     "text": [
      "123\n",
      "Hello\n"
     ]
    }
   ],
   "source": [
    "globals()[\"globalna_zmienna\"] = 123\n",
    "print(globalna_zmienna)  # Wyświetli 123\n",
    "\n",
    "def funkcja():\n",
    "    locals()[\"lokalna_zmienna\"] = \"Hello\"\n",
    "    # print(lokalna_zmienna)  To nie zadziała\n",
    "    print(locals()[\"lokalna_zmienna\"])\n",
    "\n",
    "    \n",
    "funkcja()"
   ]
  },
  {
   "cell_type": "markdown",
   "id": "606045b6-e569-448c-84d5-7c63f935cc55",
   "metadata": {},
   "source": [
    "#### Użycie funkcji `exec()`\n",
    "\n",
    "Funkcja `exec()` pozwala na wykonanie dowolnego kodu Pythona w trakcie działania programu, co umożliwia tworzenie zmiennych. Jednakże należy jej używać ostrożnie, ponieważ może być potencjalnie niebezpieczna, jeśli kod jest generowany dynamicznie z niezaufanych źródeł.\n",
    "\n",
    "```python\n",
    "nazwa_zmiennej = \"dynamiczna_zmienna\"\n",
    "wartosc_zmiennej = 77\n",
    "exec(f\"{nazwa_zmiennej} = {wartosc_zmiennej}\")\n",
    "print(dynamiczna_zmienna)  # Wyświetli 77\n",
    "```"
   ]
  },
  {
   "cell_type": "code",
   "execution_count": null,
   "id": "cca58444-55d0-4a5d-acd2-33b9641449d3",
   "metadata": {},
   "outputs": [],
   "source": []
  },
  {
   "cell_type": "markdown",
   "id": "502c4ecc-6d57-4224-a329-e3dcb0cf6d92",
   "metadata": {},
   "source": [
    "### Podsumowanie\n",
    "\n",
    "Dynamiczne tworzenie zmiennych w Pythonie to potężna funkcja, która może być używana w różnych kontekstach. Oferuje elastyczność i automatyzację, ale należy używać jej z umiarem, aby uniknąć zamieszania w kodzie i potencjalnych błędów. Zrozumienie tego mechanizmu jest kluczowe dla zaawansowanych programistów Pythona, którzy chcą wykorzystać pełen potencjał tego języka programowania."
   ]
  },
  {
   "cell_type": "markdown",
   "id": "9e310d6e",
   "metadata": {},
   "source": [
    "## Cykliczne Referencje w Pythonie\n",
    "\n",
    "Cykliczne referencje to sytuacje, w których obiekty w Pythonie tworzą zamknięte pętle referencji między sobą. To może prowadzić do problemów z zarządzaniem pamięcią, ponieważ normalnie mechanizmy zbierania śmieci Pythona nie są w stanie wykryć i usunąć takich cykli. W rezultacie obiekty w cyklicznych referencjach pozostają w pamięci, co może prowadzić do wycieków pamięci.\n",
    "\n",
    "### Przykład Cyklicznych Referencji\n",
    "\n",
    "```python\n",
    "class Node:\n",
    "    def __init__(self, value):\n",
    "        self.value = value\n",
    "        self.next = None\n",
    "\n",
    "# Tworzenie cyklicznej referencji\n",
    "node1 = Node(1)\n",
    "node2 = Node(2)\n",
    "node1.next = node2\n",
    "node2.next = node1\n",
    "```\n",
    "\n",
    "W tym przykładzie `node1` i `node2` tworzą cykliczną referencję, ponieważ `node1.next` wskazuje na `node2`, a `node2.next` wskazuje z powrotem na `node1`."
   ]
  },
  {
   "cell_type": "code",
   "execution_count": null,
   "id": "7154bcde",
   "metadata": {},
   "outputs": [],
   "source": []
  },
  {
   "cell_type": "markdown",
   "id": "77056a0d",
   "metadata": {},
   "source": [
    "## Jak Python Zarządza Pamięcią?\n",
    "\n",
    "Python używa mechanizmu zwartego licznika odwołań (reference counting) i zbierania śmieci (garbage collection), aby zarządzać pamięcią.\n",
    "\n",
    "- **Licznik odwołań**: Każdy obiekt w Pythonie ma związaną z nim liczbę odwołań. Kiedy tworzysz referencję do obiektu, licznik odwołań tego obiektu wzrasta o 1. Kiedy referencja do obiektu przestaje istnieć lub jest przypisywana do innego obiektu, licznik odwołań spada o 1. Gdy licznik osiągnie wartość 0, oznacza to, że obiekt nie jest już używany i może być zwolniony z pamięci.\n",
    "\n",
    "- **Zbieranie śmieci**: Python ma wbudowany mechanizm zbierania śmieci, który automatycznie usuwa obiekty, które nie są już dostępne. Ten mechanizm jest oparty na algorytmie śledzenia odwołań (reference tracking). Jednak w przypadku cyklicznych referencji, ten mechanizm może nie działać skutecznie, dlatego ważne jest, aby unikać tworzenia takich referencji.\n",
    "\n",
    "Python również dostarcza moduł `gc` (garbage collector), który pozwala ręcznie kontrolować zbieranie śmieci i usuwać obiekty, które są trudne do usunięcia w normalny sposób.\n",
    "\n",
    "## Podsumowanie\n",
    "\n",
    "Zrozumienie zmiennych, referencji, zarządzania pamięcią i zasad nazewnictwa zmiennych w Pythonie jest kluczowe dla tworzenia skutecznych i niezawodnych programów. Python oferuje mechanizmy licznika odwołań i zbierania śmieci, które ułatwiają zarządzanie pamięcią. Jednak należy unikać tworzenia cyklicznych referencji, które mogą prowadzić do wycieków pamięci. W miarę jak bardziej zaawansowani programiści Pythona mogą korzystać z modułu `gc`, aby bardziej precyzyjnie kontrolować zarządzanie pamięcią w swoich aplikacjach. Zasady nazewnictwa zmiennych pomagają utrzymać czytelny i zrozumiały kod źródłowy."
   ]
  },
  {
   "cell_type": "markdown",
   "id": "018e1361-3632-4877-9b6e-e6ad5779e0e9",
   "metadata": {},
   "source": [
    "# Przestrzeń `__builtins__`\n",
    "\n",
    "https://tushar.lol/post/builtins/"
   ]
  },
  {
   "cell_type": "code",
   "execution_count": null,
   "id": "d451ea27-6f6c-463b-a681-9e10c1fe7a2d",
   "metadata": {},
   "outputs": [],
   "source": []
  }
 ],
 "metadata": {
  "kernelspec": {
   "display_name": "Python 3 (ipykernel)",
   "language": "python",
   "name": "python3"
  },
  "language_info": {
   "codemirror_mode": {
    "name": "ipython",
    "version": 3
   },
   "file_extension": ".py",
   "mimetype": "text/x-python",
   "name": "python",
   "nbconvert_exporter": "python",
   "pygments_lexer": "ipython3",
   "version": "3.10.7"
  },
  "toc": {
   "base_numbering": 1,
   "nav_menu": {},
   "number_sections": true,
   "sideBar": true,
   "skip_h1_title": false,
   "title_cell": "Table of Contents",
   "title_sidebar": "Contents",
   "toc_cell": false,
   "toc_position": {},
   "toc_section_display": true,
   "toc_window_display": false
  }
 },
 "nbformat": 4,
 "nbformat_minor": 5
}
