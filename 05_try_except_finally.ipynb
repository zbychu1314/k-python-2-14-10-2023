{
 "cells": [
  {
   "cell_type": "markdown",
   "id": "d2295943-64f7-4201-9b8b-502041225a8e",
   "metadata": {},
   "source": [
    "# Podstawy [link](01_interpreter_slowa_kluczowe_operatory.ipynb)\n",
    "# Wbudowane typy [link](02_wbudowane_kolekcje.ipynb)\n",
    "# Wbudowane kolekcje [link](03_wbudowane_kolekcje.ipynb)\n",
    "# Wyrażenia (Comprehensions) i Generatory w Pythonie [link](04_wyrazenia_i_generatory.ipynb)"
   ]
  },
  {
   "cell_type": "markdown",
   "id": "2cc03bd2-0f26-4ab1-a8d3-abd79b7b7b61",
   "metadata": {},
   "source": [
    "# Obsługa błędów w Pythonie\n",
    "\n",
    "W programowaniu, nieuchronne jest występowanie błędów. Ważne jest jednak, jak sobie z nimi radzimy. W języku Python, bloki `try`, `except`, `finally` stanowią potężne narzędzia do obsługi wyjątków i błędów. W tym artykule przyjrzymy się tym konstruktom, omówimy dobre praktyki oraz typowe błędy, których należy unikać.\n",
    "\n",
    "## podstawy\n",
    "\n",
    "* \"try\" - Ten blok zawiera kod, który może spowodować błąd.\n",
    "* \"except\" - Tutaj umieszczamy kod, który zostanie wykonany, jeśli w bloku \"try\" wystąpi błąd.\n",
    "* \"finally\" - Kod w tym bloku zostanie wykonany bez względu na to, czy wystąpił błąd, czy nie.\n",
    "\n",
    "### przykład"
   ]
  },
  {
   "cell_type": "code",
   "execution_count": 2,
   "id": "e064dd17-d53c-4cea-962a-be88dfc9709a",
   "metadata": {},
   "outputs": [
    {
     "name": "stdin",
     "output_type": "stream",
     "text": [
      "Proszę wprowadzić liczbę:  k\n"
     ]
    },
    {
     "name": "stdout",
     "output_type": "stream",
     "text": [
      "Wprowadzono nieprawidłowe dane. Proszę upewnić się, że wprowadzona wartość jest liczbą.\n",
      "Szczegóły błędu: invalid literal for int() with base 10: 'k'\n",
      "Dziękujemy za skorzystanie z naszego programu.\n"
     ]
    }
   ],
   "source": [
    "try:\n",
    "    # Kod, który może spowodować błąd (rzucić wyjątek)\n",
    "    liczba = input(\"Proszę wprowadzić liczbę: \")\n",
    "    wynik = int(liczba)\n",
    "    print(f\"Wprowadzona liczba to: {wynik}\")\n",
    "\n",
    "except ValueError as e:\n",
    "    # Kod, który zostanie wykonany, jeśli w bloku 'try' zostanie rzucony wyjątek 'ValueError'\n",
    "    print(\"Wprowadzono nieprawidłowe dane. Proszę upewnić się, że wprowadzona wartość jest liczbą.\")\n",
    "    print(f\"Szczegóły błędu: {e}\")\n",
    "\n",
    "finally:\n",
    "    # Kod, który zostanie wykonany na końcu, niezależnie od tego, czy wystąpił wyjątek, czy nie\n",
    "    print(\"Dziękujemy za skorzystanie z naszego programu.\")"
   ]
  },
  {
   "cell_type": "markdown",
   "id": "d522293e-30f8-47ab-96e9-fd843251a1cb",
   "metadata": {},
   "source": [
    "### pomijanie except"
   ]
  },
  {
   "cell_type": "code",
   "execution_count": 4,
   "id": "dc40a582-5739-407d-91d6-1379344b6ebd",
   "metadata": {},
   "outputs": [
    {
     "name": "stdout",
     "output_type": "stream",
     "text": [
      "Koniec działania funkcji.\n"
     ]
    },
    {
     "ename": "FileNotFoundError",
     "evalue": "[Errno 2] No such file or directory: 'dane/dansdsdsde.txt'",
     "output_type": "error",
     "traceback": [
      "\u001b[1;31m---------------------------------------------------------------------------\u001b[0m",
      "\u001b[1;31mFileNotFoundError\u001b[0m                         Traceback (most recent call last)",
      "Cell \u001b[1;32mIn[4], line 16\u001b[0m\n\u001b[0;32m     13\u001b[0m         \u001b[38;5;28mprint\u001b[39m(\u001b[38;5;124m\"\u001b[39m\u001b[38;5;124mKoniec działania funkcji.\u001b[39m\u001b[38;5;124m\"\u001b[39m)\n\u001b[0;32m     15\u001b[0m \u001b[38;5;66;03m# Wywołanie funkcji\u001b[39;00m\n\u001b[1;32m---> 16\u001b[0m \u001b[43mprzykladowa_funkcja\u001b[49m\u001b[43m(\u001b[49m\u001b[43m)\u001b[49m\n",
      "Cell \u001b[1;32mIn[4], line 5\u001b[0m, in \u001b[0;36mprzykladowa_funkcja\u001b[1;34m()\u001b[0m\n\u001b[0;32m      2\u001b[0m otwarty_plik \u001b[38;5;241m=\u001b[39m \u001b[38;5;28;01mNone\u001b[39;00m\n\u001b[0;32m      3\u001b[0m \u001b[38;5;28;01mtry\u001b[39;00m:\n\u001b[0;32m      4\u001b[0m     \u001b[38;5;66;03m# Próba otwarcia i czytania pliku\u001b[39;00m\n\u001b[1;32m----> 5\u001b[0m     otwarty_plik \u001b[38;5;241m=\u001b[39m \u001b[38;5;28;43mopen\u001b[39;49m\u001b[43m(\u001b[49m\u001b[38;5;124;43m'\u001b[39;49m\u001b[38;5;124;43mdane/dansdsdsde.txt\u001b[39;49m\u001b[38;5;124;43m'\u001b[39;49m\u001b[43m,\u001b[49m\u001b[43m \u001b[49m\u001b[38;5;124;43m'\u001b[39;49m\u001b[38;5;124;43mr\u001b[39;49m\u001b[38;5;124;43m'\u001b[39;49m\u001b[43m)\u001b[49m\n\u001b[0;32m      6\u001b[0m     \u001b[38;5;28mprint\u001b[39m(otwarty_plik\u001b[38;5;241m.\u001b[39mread())\n\u001b[0;32m      8\u001b[0m \u001b[38;5;28;01mfinally\u001b[39;00m:\n\u001b[0;32m      9\u001b[0m     \u001b[38;5;66;03m# Kod w tym bloku zostanie wykonany niezależnie od tego, czy operacje w bloku 'try' się powiodły, czy nie\u001b[39;00m\n",
      "File \u001b[1;32m~\\AppData\\Local\\Programs\\Python\\Python311\\Lib\\site-packages\\IPython\\core\\interactiveshell.py:286\u001b[0m, in \u001b[0;36m_modified_open\u001b[1;34m(file, *args, **kwargs)\u001b[0m\n\u001b[0;32m    279\u001b[0m \u001b[38;5;28;01mif\u001b[39;00m file \u001b[38;5;129;01min\u001b[39;00m {\u001b[38;5;241m0\u001b[39m, \u001b[38;5;241m1\u001b[39m, \u001b[38;5;241m2\u001b[39m}:\n\u001b[0;32m    280\u001b[0m     \u001b[38;5;28;01mraise\u001b[39;00m \u001b[38;5;167;01mValueError\u001b[39;00m(\n\u001b[0;32m    281\u001b[0m         \u001b[38;5;124mf\u001b[39m\u001b[38;5;124m\"\u001b[39m\u001b[38;5;124mIPython won\u001b[39m\u001b[38;5;124m'\u001b[39m\u001b[38;5;124mt let you open fd=\u001b[39m\u001b[38;5;132;01m{\u001b[39;00mfile\u001b[38;5;132;01m}\u001b[39;00m\u001b[38;5;124m by default \u001b[39m\u001b[38;5;124m\"\u001b[39m\n\u001b[0;32m    282\u001b[0m         \u001b[38;5;124m\"\u001b[39m\u001b[38;5;124mas it is likely to crash IPython. If you know what you are doing, \u001b[39m\u001b[38;5;124m\"\u001b[39m\n\u001b[0;32m    283\u001b[0m         \u001b[38;5;124m\"\u001b[39m\u001b[38;5;124myou can use builtins\u001b[39m\u001b[38;5;124m'\u001b[39m\u001b[38;5;124m open.\u001b[39m\u001b[38;5;124m\"\u001b[39m\n\u001b[0;32m    284\u001b[0m     )\n\u001b[1;32m--> 286\u001b[0m \u001b[38;5;28;01mreturn\u001b[39;00m \u001b[43mio_open\u001b[49m\u001b[43m(\u001b[49m\u001b[43mfile\u001b[49m\u001b[43m,\u001b[49m\u001b[43m \u001b[49m\u001b[38;5;241;43m*\u001b[39;49m\u001b[43margs\u001b[49m\u001b[43m,\u001b[49m\u001b[43m \u001b[49m\u001b[38;5;241;43m*\u001b[39;49m\u001b[38;5;241;43m*\u001b[39;49m\u001b[43mkwargs\u001b[49m\u001b[43m)\u001b[49m\n",
      "\u001b[1;31mFileNotFoundError\u001b[0m: [Errno 2] No such file or directory: 'dane/dansdsdsde.txt'"
     ]
    }
   ],
   "source": [
    "def przykladowa_funkcja():\n",
    "    otwarty_plik = None\n",
    "    try:\n",
    "        # Próba otwarcia i czytania pliku\n",
    "        otwarty_plik = open('dane/dansdsdsde.txt', 'r')\n",
    "        print(otwarty_plik.read())\n",
    "        \n",
    "    finally:\n",
    "        # Kod w tym bloku zostanie wykonany niezależnie od tego, czy operacje w bloku 'try' się powiodły, czy nie\n",
    "        if otwarty_plik:\n",
    "            print(\"Zamykanie pliku.\")\n",
    "            otwarty_plik.close()\n",
    "        print(\"Koniec działania funkcji.\")\n",
    "\n",
    "# Wywołanie funkcji\n",
    "przykladowa_funkcja()"
   ]
  },
  {
   "cell_type": "markdown",
   "id": "5cea4641-ca22-45f6-89da-3fad8c500c34",
   "metadata": {},
   "source": [
    "### Wiele except\n"
   ]
  },
  {
   "cell_type": "code",
   "execution_count": 5,
   "id": "91c281bf-4c1c-4442-a958-7c46d4921812",
   "metadata": {},
   "outputs": [
    {
     "name": "stdout",
     "output_type": "stream",
     "text": [
      "Przechwycono błąd: division by zero\n",
      "Koniec działania programu.\n"
     ]
    }
   ],
   "source": [
    "try:\n",
    "    # Symulujemy operacje, które mogą spowodować różne błędy\n",
    "    wynik = 10 / 0                     # To spowoduje ZeroDivisionError\n",
    "    lista = [1, 2, 3]\n",
    "    wartosc = lista[10]                # To spowoduje IndexError, jeśli wykonanie dojdzie do tego miejsca\n",
    "\n",
    "except (ZeroDivisionError, IndexError) as e:\n",
    "    # Ten blok obsłuży dwa różne wyjątki: ZeroDivisionError i IndexError\n",
    "    print(f\"Przechwycono błąd: {e}\")\n",
    "\n",
    "except Exception as e:\n",
    "    # Ten blok przechwyci wszystkie inne wyjątki, które nie zostały obsłużone powyżej\n",
    "    print(f\"Wystąpił nieoczekiwany błąd: {e}\")\n",
    "\n",
    "finally:\n",
    "    # Ten blok zostanie wykonany na końcu, niezależnie od tego, co się wydarzyło w blokach 'try' i 'except'\n",
    "    print(\"Koniec działania programu.\")\n"
   ]
  },
  {
   "cell_type": "markdown",
   "id": "b227120f-fea1-4296-b8da-7c137938dfdb",
   "metadata": {},
   "source": [
    "## Dobre praktyki:\n",
    "\n",
    "   a) Stosuj Specyficzne Wyjątki:\n",
    "      Dobrą praktyką jest przechwytywanie konkretnych wyjątków, które mogą wystąpić, zamiast używania ogólnego wyjątku. Pozwala to na precyzyjniejsze i bardziej kontrolowane obsługiwanie błędów.\n",
    "\n",
    "   b) Unikaj Przechwytywania Pustych Wyjątków:\n",
    "      Używanie pustego bloku \"except\" jest uważane za złą praktykę, ponieważ przechwytuje on wszelkie wyjątki, w tym te spowodowane błędami programistycznymi, które mogłyby zostać inaczej wykryte.\n",
    "\n",
    "   c) Używaj \"finally\" dla Sprzątania:\n",
    "      Blok \"finally\" jest idealnym miejscem do umieszczenia kodu sprzątającego, takiego jak zamknięcie plików czy połączenia z bazą danych. Jest to szczególnie ważne w sytuacjach, gdy określone zasoby muszą być zwolnione bez względu na to, czy wystąpiły błędy, czy nie.\n",
    "\n",
    "## Złe praktyki:\n",
    "\n",
    "* Nadużywanie \"except\":\n",
    "\n",
    "Chociaż bloki \"except\" są przydatne, nadużywanie ich może prowadzić do sytuacji, w której prawdziwe problemy są ignorowane lub niezauważone do czasu, gdy spowodują poważniejsze kłopoty.\n",
    "\n",
    "* Wyjątki jako logika sterująca:\n",
    "\n",
    "Wyjątki są przeznaczone do obsługi nieoczekiwanych błędów, a nie jako część typowej logiki aplikacji. Używanie wyjątków do sterowania przepływem programu jest uważane za złą praktykę, ponieważ czyni kod trudnym do czytania i zrozumienia."
   ]
  },
  {
   "cell_type": "code",
   "execution_count": 6,
   "id": "cdbdf43e-5c14-4935-830c-dd0e3c2b4710",
   "metadata": {},
   "outputs": [
    {
     "name": "stdout",
     "output_type": "stream",
     "text": [
      "Element 7 nie znajduje się na liście.\n"
     ]
    }
   ],
   "source": [
    "def znajdz_indeks(element, lista):\n",
    "    try:\n",
    "        # Zamiast normalnie sprawdzić, czy element jest w liście, rzuca się wyjątek, aby sterować logiką.\n",
    "        indeks = lista.index(element)\n",
    "        return indeks\n",
    "    except ValueError:\n",
    "        # Rzucenie wyjątku używane jest jako 'normalna' ścieżka logiki programu.\n",
    "        return -1  # często używany konwencjonalny sposób wskazywania, że elementu nie znaleziono\n",
    "\n",
    "# Przykładowe użycie funkcji - to może wydawać się typową operacją, ale sposób implementacji jest problematyczny.\n",
    "lista = [1, 2, 3, 4, 5]\n",
    "element_do_znalezienia = 7\n",
    "\n",
    "if znajdz_indeks(element_do_znalezienia, lista) == -1:\n",
    "    print(f\"Element {element_do_znalezienia} nie znajduje się na liście.\")\n",
    "else:\n",
    "    print(f\"Element {element_do_znalezienia} został znaleziony na liście.\")"
   ]
  },
  {
   "cell_type": "markdown",
   "id": "484e3f99-6201-432b-b4b5-686ca4b828d1",
   "metadata": {},
   "source": [
    "W tym przykładzie widzimy następujące problemy związane ze złym użyciem wyjątków:\n",
    "\n",
    "1. **Nadużywanie wyjątków dla typowej logiki:** Kod próbuje znaleźć indeks elementu w liście, co jest absolutnie normalną operacją i nie powinno wymagać wyjątku. Zamiast tego, powinniśmy używać wyjątków tylko do obsługi rzeczywiście \"wyjątkowych\" warunków (np. błędów).\n",
    "\n",
    "2. **Utrudnione debugowanie:** Gdy wyjątki są częścią zwykłej logiki, stają się mniej \"wyjątkowe\". Jeśli prawdziwy błąd wystąpi w kodzie obsługi wyjątków, może być trudno szybko zidentyfikować i rozwiązać problem.\n",
    "\n",
    "3. **Czytelność i utrzymanie kodu:** Takie nadużywanie wyjątków sprawia, że kod jest trudniejszy do zrozumienia dla innych programistów. Zamiast tego, lepszą praktyką jest zastosowanie normalnych warunków sprawdzających, które są bardziej czytelne i intuicyjne.\n",
    "\n",
    "Dobra praktyka w tym przypadku mogłaby wyglądać następująco:"
   ]
  },
  {
   "cell_type": "code",
   "execution_count": null,
   "id": "7a09cc7c-a088-4d06-9e56-bad1f09fadda",
   "metadata": {},
   "outputs": [],
   "source": [
    "def znajdz_indeks(element, lista):\n",
    "    if element in lista:\n",
    "        return lista.index(element)\n",
    "    else:\n",
    "        return -1\n",
    "\n",
    "#Dalej taka sama logika użycia, ale funkcja 'znajdz_indeks' jest teraz bardziej czytelna i nie polega na wyjątkach."
   ]
  },
  {
   "cell_type": "markdown",
   "id": "ba3c6a3f-7e93-4e22-b0f7-0d96526dcd2d",
   "metadata": {},
   "source": [
    "W tym podejściu unikamy rzucania i łapania wyjątków tam, gdzie są one niepotrzebne, co czyni nasz kod znacznie czystszy i łatwiejszy do zrozumienia. \n",
    "\n",
    "   c) Ukrywanie błędów:\n",
    "      Ciche pochłanianie błędów w bloku \"except\" bez logowania informacji lub przekazywania ich dalej jest niebezpieczne, ponieważ uniemożliwia to zrozumienie, co poszło nie tak w przypadku problemów."
   ]
  },
  {
   "cell_type": "markdown",
   "id": "d357e206-481e-44ff-90f7-7270f3328428",
   "metadata": {},
   "source": [
    "Oczywiście, przedstawię przykład złej praktyki, jaką jest ukrywanie błędów, znane również jako \"ciche pochłanianie\" błędów. Jest to sytuacja, gdy blok `except` w Pythonie chwyta wyjątki, ale nie robi z nimi nic poza ich ignorowaniem.\n",
    "\n",
    "Przykład:"
   ]
  },
  {
   "cell_type": "code",
   "execution_count": 7,
   "id": "39a2a454-dd15-4fd9-8021-20e7ede4801e",
   "metadata": {},
   "outputs": [
    {
     "name": "stdout",
     "output_type": "stream",
     "text": [
      "Program kontynuuje działanie...\n"
     ]
    }
   ],
   "source": [
    "lista = [1, 2, 3]\n",
    "\n",
    "try:\n",
    "    # Próba dostępu do indeksu poza zakresem.\n",
    "    wartosc = lista[10]\n",
    "except IndexError:\n",
    "    # Blok 'except' całkowicie ignoruje błąd.\n",
    "    pass\n",
    "\n",
    "# Program kontynuuje działanie, jakby nigdy nic.\n",
    "print(\"Program kontynuuje działanie...\")\n"
   ]
  },
  {
   "cell_type": "markdown",
   "id": "f2d35857-5431-437c-9c72-ed3c054a8a36",
   "metadata": {},
   "source": [
    "W tym przykładzie użyliśmy instrukcji `pass` w bloku `except`, która efektywnie ignoruje przechwycony błąd (w tym przypadku próbę dostępu do elementu listy poza jej zakresem, co powoduje `IndexError`). Zamiast reagować na błąd, program po prostu kontynuuje działanie, co może powodować szereg problemów:\n",
    "\n",
    "1. **Brak świadomości problemu:** Nikt, kto pracuje z kodem (włączając w to maszyny, użytkowników i programistów), nie dowiaduje się o wystąpieniu błędu. Użytkownik może otrzymać nieoczekiwane wyniki, a diagnozowanie problemu bez znajomości wystąpienia błędu może być bardzo trudne.\n",
    "\n",
    "2. **Potencjalne większe błędy w przyszłości:** Choć ten konkretny błąd może wydawać się nieistotny, może on być symptomen większego problemu, który ujawni się później, potencjalnie w bardziej kosztowny sposób.\n",
    "\n",
    "3. **Trudności w debugowaniu i utrzymaniu:** Ukrywanie błędów czyni kod znacznie trudniejszym do zrozumienia i debugowania, ponieważ brakuje informacji kontekstowych o tym, co poszło nie tak oraz gdzie i dlaczego kod zawodzi.\n",
    "\n",
    "Dobra praktyka w takim przypadku to zalogowanie błędu lub podjęcie odpowiednich kroków do jego obsłużenia. Na przykład:"
   ]
  },
  {
   "cell_type": "code",
   "execution_count": 8,
   "id": "1559e8b1-bf3c-4266-984c-935c53d5ce40",
   "metadata": {},
   "outputs": [
    {
     "name": "stderr",
     "output_type": "stream",
     "text": [
      "ERROR:root:Wystąpił błąd: list index out of range\n"
     ]
    },
    {
     "name": "stdout",
     "output_type": "stream",
     "text": [
      "Program kontynuuje działanie...\n"
     ]
    }
   ],
   "source": [
    "import logging\n",
    "\n",
    "try:\n",
    "    # Próba dostępu do indeksu poza zakresem.\n",
    "    wartosc = lista[10]\n",
    "except IndexError as e:\n",
    "    # Zamiast ignorować, logujemy wyjątek.\n",
    "    logging.error(f\"Wystąpił błąd: {e}\")\n",
    "\n",
    "# Program kontynuuje działanie, ale błąd został odpowiednio zarejestrowany.\n",
    "print(\"Program kontynuuje działanie...\")"
   ]
  },
  {
   "cell_type": "markdown",
   "id": "ef47ae50-51ce-4c62-bf44-306816888a6b",
   "metadata": {},
   "source": [
    "W tym podejściu, kiedy wystąpi błąd, jest on rejestrowany, co pozwala programistom na późniejsze zrozumienie, co poszło nie tak w przypadku problemów. Może to również pomóc w przyszłej diagnozie i prewencji podobnych błędów."
   ]
  },
  {
   "cell_type": "markdown",
   "id": "cf233111-2ad6-486d-abc6-0d04d6824bdb",
   "metadata": {},
   "source": [
    "## Podsumowanie:\n",
    "\n",
    "Blok \"try\"-\"except\"-\"finally\" w Pythonie jest potężnym mechanizmem do obsługi błędów i wyjątków. Kluczem jest stosowanie tego narzędzia rozsądnie i zgodnie z dobrymi praktykami, aby zapewnić, że Twoje oprogramowanie jest odporne, łatwe do debugowania i utrzymania. Pamiętaj, aby unikać typowych pułapek, takich jak zbyt ogólne bloki \"except\" czy nadużywanie wyjątków w normalnym przepływie sterowania. Zamiast tego, skup się na jasnym, precyzyjnym kodzie, który odpowiednio reaguje na niespodziewane sytuacje, jednocześnie utrzymując klarowność i zrozumiałość Twojego projektu."
   ]
  },
  {
   "cell_type": "markdown",
   "id": "0ec8bdf2-2164-4954-80dc-20081f7a5dc9",
   "metadata": {},
   "source": [
    "## 📝 Ćwiczenie - bezpieczne dzielenie\n",
    "\n",
    "Celem tego ćwiczenia jest napisanie funkcji, która bezpiecznie podzieli dwie wartości wprowadzone przez użytkownika. Użytkownik powinien mieć możliwość wprowadzenia wartości, a program powinien obsłużyć potencjalne błędy, które mogą wystąpić podczas dzielenia.\n",
    "\n",
    "\n",
    "1. Napisz skrypt który w pętli przyjmuje dwa argumenty (liczby) od użytkownika (funkcja input).\n",
    "2. Funkcja powinna próbować podzielić pierwszą liczbę przez drugą i zwrócić wynik.\n",
    "3. Użyj bloku `try/except`, aby złapać błędy, które mogą wystąpić (na przykład dzielenie przez zero).\n",
    "4. Jeśli druga liczba jest zerem, skrypt powinien wypisać stosowny komunikat o błędzie \n",
    "5. Jeśli którykolwiek z wprowadzonych argumentów nie jest liczbą, skrypt powinien obsłużyć błąd, wyświetlić stosowny komunikat i poprosić użytkownika o ponowne wprowadzenie wartości.\n",
    "6. (Opcjonalnie) Dodaj obsługę wyjątków dla innych niespodziewanych błędów, wyświetlając ogólny komunikat o błędzie.\n",
    "7. Po zakończeniu, przetestuj skrypy, wprowadzając różne wartości, w tym błędne dane, aby upewnić się, że wszystkie scenariusze są prawidłowo obsługiwane.\n",
    "8. Dodaj możliwość zakończenia skryptu"
   ]
  },
  {
   "cell_type": "markdown",
   "id": "88aba744-04c6-4a03-a593-e66f2c5064d6",
   "metadata": {},
   "source": [
    "**Przykładowy kod:**"
   ]
  },
  {
   "cell_type": "markdown",
   "id": "d5daade2-97de-489f-825d-666e07005d07",
   "metadata": {},
   "source": [
    "**Podsumowanie:**\n",
    "To ćwiczenie uczy, jak korzystać z bloków `try/except` w celu obsługi różnych typów błędów w Pythonie. Pomaga to również zrozumieć, jak zapewnić, że program będzie kontynuował działanie nawet w obliczu błędów, poprzez informowanie użytkownika o problemach i umożliwienie wprowadzenia poprawnych danych."
   ]
  }
 ],
 "metadata": {
  "kernelspec": {
   "display_name": "Python 3 (ipykernel)",
   "language": "python",
   "name": "python3"
  },
  "language_info": {
   "codemirror_mode": {
    "name": "ipython",
    "version": 3
   },
   "file_extension": ".py",
   "mimetype": "text/x-python",
   "name": "python",
   "nbconvert_exporter": "python",
   "pygments_lexer": "ipython3",
   "version": "3.11.5"
  }
 },
 "nbformat": 4,
 "nbformat_minor": 5
}
